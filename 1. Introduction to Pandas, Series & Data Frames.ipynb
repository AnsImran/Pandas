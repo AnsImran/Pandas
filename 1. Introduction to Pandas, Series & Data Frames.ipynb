{
 "cells": [
  {
   "cell_type": "markdown",
   "id": "e885071b",
   "metadata": {},
   "source": [
    "- More optimized for handling different types of large data sets\n",
    "\n",
    "\n",
    "- Built-upon numpy\n",
    "\n",
    "\n",
    "- multiple datatypes in the same dataset, wee need a tool which can handle multi-dimensional data"
   ]
  },
  {
   "cell_type": "markdown",
   "id": "88062248",
   "metadata": {},
   "source": [
    "## Professor, professional vids valay k liye, deep learning and machine learning aik hi cheez hay!!!\n",
    "### Vo 2non words interchangeably use kray ga"
   ]
  },
  {
   "cell_type": "markdown",
   "id": "2ec132da",
   "metadata": {},
   "source": [
    "### 'Python for Data Analysis - 2nd ed'\n",
    "\n",
    "- ye kitaab zrooooOr parhni hay, sath sath"
   ]
  },
  {
   "cell_type": "markdown",
   "id": "bbd9b075",
   "metadata": {},
   "source": [
    "## Series in Pandas"
   ]
  },
  {
   "cell_type": "markdown",
   "id": "a8659f5a",
   "metadata": {},
   "source": [
    "<img src=\"Series-1.png\" width=400 height=400 />"
   ]
  },
  {
   "cell_type": "markdown",
   "id": "9ec43439",
   "metadata": {},
   "source": [
    "### Creating Series Using List"
   ]
  },
  {
   "cell_type": "code",
   "execution_count": 38,
   "id": "74861787",
   "metadata": {},
   "outputs": [
    {
     "name": "stdout",
     "output_type": "stream",
     "text": [
      "0    4\n",
      "1    7\n",
      "2   -5\n",
      "3    3\n",
      "dtype: int64\n"
     ]
    }
   ],
   "source": [
    "import pandas as pd\n",
    "\n",
    "obj = pd.Series([4, 7,-5, 3]) # note! [S]eries ka [S] capital hay!\n",
    "\n",
    "print(obj)\n"
   ]
  },
  {
   "cell_type": "markdown",
   "id": "6f07709f",
   "metadata": {},
   "source": [
    "#### Pandas Series has two things in one object\n",
    "- Values\n",
    "- Indices / Labels\n"
   ]
  },
  {
   "cell_type": "code",
   "execution_count": 39,
   "id": "a05f98ad",
   "metadata": {},
   "outputs": [
    {
     "name": "stdout",
     "output_type": "stream",
     "text": [
      "[100 200 100 400]\n"
     ]
    }
   ],
   "source": [
    "sales = pd.Series([100, 200, 100, 400])\n",
    "\n",
    "print(sales.values)\n",
    "\n",
    "# ab sirf values hi print huieen"
   ]
  },
  {
   "cell_type": "code",
   "execution_count": 8,
   "id": "1fa6b4a3",
   "metadata": {},
   "outputs": [
    {
     "name": "stdout",
     "output_type": "stream",
     "text": [
      "RangeIndex(start=0, stop=4, step=1)\n"
     ]
    }
   ],
   "source": [
    "print(sales.index)\n",
    "# values k ilava is k andar indices bhi mojood hain, jo start 0 say ho rahay hain\n",
    "# or end 4 par ho rahay hain, in steps of 1\n"
   ]
  },
  {
   "cell_type": "code",
   "execution_count": 1,
   "id": "05aa1565",
   "metadata": {},
   "outputs": [
    {
     "name": "stdout",
     "output_type": "stream",
     "text": [
      "Months\n",
      "Jan      100\n",
      "Feb      200\n",
      "March    100\n",
      "April    400\n",
      "dtype: int64\n"
     ]
    }
   ],
   "source": [
    "# integers hum apni mrzi say non-numeric bhi rakh sktay hain. E.g:\n",
    "import pandas as pd\n",
    "\n",
    "sales = pd.Series([100, 200, 100, 400], index = ['Jan', 'Feb', 'March', 'April'])\n",
    "\n",
    "sales.index.name = 'Months'\n",
    "\n",
    "\n",
    "\n",
    "print(sales)\n",
    "\n"
   ]
  },
  {
   "cell_type": "markdown",
   "id": "481d2e09",
   "metadata": {},
   "source": [
    "#### Jan, Feb etc ko labels bhi kehtay hain"
   ]
  },
  {
   "cell_type": "code",
   "execution_count": 9,
   "id": "d2a61b93",
   "metadata": {},
   "outputs": [
    {
     "name": "stdout",
     "output_type": "stream",
     "text": [
      "Index(['Jan', 'Feb', 'March', 'April'], dtype='object', name='Months')\n"
     ]
    }
   ],
   "source": [
    "print(sales.index)\n",
    "\n",
    "# note! dtype = object, agar panda ko koi data type complex lagta hay, osay lgta hay\n",
    "# k ye int nahi hay, tu vo osay aik complex dtype ka naam day deta hay, jisay hum\n",
    "# object kehtay hain. is k andar har qism ka data hum store kr sktay hain\n"
   ]
  },
  {
   "cell_type": "code",
   "execution_count": 43,
   "id": "5b7e34d7",
   "metadata": {},
   "outputs": [
    {
     "data": {
      "text/plain": [
       "Months\n",
       "Jan      100\n",
       "Feb      200\n",
       "March    100\n",
       "April    400\n",
       "dtype: int64"
      ]
     },
     "execution_count": 43,
     "metadata": {},
     "output_type": "execute_result"
    }
   ],
   "source": [
    "# kisi or series k indices kray huye ye new series bnai\n",
    "s2 = pd.Series([100, 200, 100, 400], index = sales.index)\n",
    "\n",
    "s2\n",
    "\n",
    "# khayal krna #-of-indices same hoon\n"
   ]
  },
  {
   "cell_type": "code",
   "execution_count": 46,
   "id": "f32720f2",
   "metadata": {},
   "outputs": [
    {
     "data": {
      "text/plain": [
       "Months\n",
       "Jan      100\n",
       "Feb      100\n",
       "March    100\n",
       "April    100\n",
       "dtype: int64"
      ]
     },
     "execution_count": 46,
     "metadata": {},
     "output_type": "execute_result"
    }
   ],
   "source": [
    "# broadcasting via indices\n",
    "s2 = pd.Series(100, index = sales.index)\n",
    "\n",
    "s2\n",
    "\n",
    "# hum nay sirf 100 dia tha, or indices kisi pr series say uthaye os nay tmaam indices k against\n",
    "# 100 ko broadcast kr dia\n"
   ]
  },
  {
   "cell_type": "code",
   "execution_count": 4,
   "id": "ca590e34-12f6-4c26-a437-eaba173ff187",
   "metadata": {},
   "outputs": [],
   "source": [
    "# import pandas as pd\n",
    "# s2 = pd.Series(100, index = sales.index)\n"
   ]
  },
  {
   "cell_type": "code",
   "execution_count": 7,
   "id": "d58e3277",
   "metadata": {},
   "outputs": [
    {
     "name": "stdout",
     "output_type": "stream",
     "text": [
      "Index(['Jan', 'Feb', 78, 'April'], dtype='object')\n",
      "\n",
      "\n",
      "Jan      100\n",
      "Feb      200\n",
      "78       100\n",
      "April    400\n",
      "dtype: int64\n"
     ]
    }
   ],
   "source": [
    "sales = pd.Series([100, 200, 100, 400], index = ['Jan', 'Feb', 78, 'April'])\n",
    "print(sales.index)\n",
    "print('\\n')\n",
    "print(sales)\n",
    "\n",
    "# each index e.g. Jan, feb etc, is also called a label\n"
   ]
  },
  {
   "cell_type": "markdown",
   "id": "7d78cbd3",
   "metadata": {},
   "source": [
    "#### dtype: int64  for values\n",
    "#### dtype: 'object' for indices"
   ]
  },
  {
   "cell_type": "markdown",
   "id": "bac10d39",
   "metadata": {},
   "source": [
    "#### Note: default index (0,1,2,3,..) bhi apni jaga mojood hain on k zariye bhi values access kr sktay hain "
   ]
  },
  {
   "cell_type": "code",
   "execution_count": 25,
   "id": "6d6c11f4",
   "metadata": {},
   "outputs": [
    {
     "name": "stdout",
     "output_type": "stream",
     "text": [
      "Jan      100\n",
      "Feb      200\n",
      "78       100\n",
      "April    400\n",
      "Name: 4 month sales, dtype: int64\n"
     ]
    }
   ],
   "source": [
    "sales = pd.Series([100, 200, 100, 400], index = ['Jan', 'Feb', 78, 'April'], name = '4 month sales')\n",
    "print(sales)\n",
    "# 'name' ko later column header k toor pr use krain gay, we'll see it later\n",
    "# I don't think k ye column header k toor pr use hua hay Data Frame main, 'name = [...]' jab DataFrame main as argument pas kro\n",
    "# tu error aata hay.\n",
    "# Han albatta columns k names rakh sktay hain DataFrame main, laikin os k liye d/f command use hti hay, see the DataFrame\n",
    "# section for more details\n",
    "\n"
   ]
  },
  {
   "cell_type": "markdown",
   "id": "f99554af",
   "metadata": {},
   "source": [
    "#### task: aik canteen sandwiches baichti hay, aap nay btana hay k aik haftay main os nay har rooz kitnay sandwiches baichay hain "
   ]
  },
  {
   "cell_type": "code",
   "execution_count": 12,
   "id": "41d7b10d",
   "metadata": {},
   "outputs": [
    {
     "name": "stdout",
     "output_type": "stream",
     "text": [
      "DAY\n",
      "mon     20\n",
      "tue     30\n",
      "wed     20\n",
      "thur    25\n",
      "fri     30\n",
      "sat     40\n",
      "sun      0\n",
      "Name: sandwich-sales, dtype: int64\n"
     ]
    }
   ],
   "source": [
    "sw = pd.Series([20, 30, 20, 25, 30, 40, 0], \n",
    "                          index = ['mon', 'tue', 'wed', 'thur', 'fri', 'sat', 'sun'], \n",
    "                          name = 'sandwich-sales')\n",
    "\n",
    "sw.index.name = 'DAY'\n",
    "\n",
    "print(sw)\n"
   ]
  },
  {
   "cell_type": "markdown",
   "id": "359f1055",
   "metadata": {},
   "source": [
    "### accessing elements"
   ]
  },
  {
   "cell_type": "code",
   "execution_count": 39,
   "id": "88d97c75",
   "metadata": {},
   "outputs": [
    {
     "name": "stdout",
     "output_type": "stream",
     "text": [
      "20 \n",
      "\n",
      "40 \n",
      "\n"
     ]
    }
   ],
   "source": [
    "#old way - numpy-style\n",
    "print(sw[0], '\\n')\n",
    "\n",
    "#new-way - pandas-way\n",
    "print(sw['sat'], '\\n')  # jab data ziada ho tu, yei index vala kaam aasaan reh jata hay\n",
    "\n",
    "# so, we can use both ways!\n",
    "\n"
   ]
  },
  {
   "cell_type": "code",
   "execution_count": 48,
   "id": "4d958589",
   "metadata": {},
   "outputs": [
    {
     "name": "stdout",
     "output_type": "stream",
     "text": [
      "thur    25\n",
      "sat     40\n",
      "Name: sandwich-sales, dtype: int64\n"
     ]
    }
   ],
   "source": [
    "# accessing multiple values\n",
    "\n",
    "print(sw[ [3,5] ]) \n",
    "# note multiple square brackets\n",
    "# one for sw\n",
    "# one for giving multiple values\n",
    "# so, we have to use array notation\n"
   ]
  },
  {
   "cell_type": "code",
   "execution_count": 49,
   "id": "782492e9",
   "metadata": {},
   "outputs": [
    {
     "name": "stdout",
     "output_type": "stream",
     "text": [
      "mon    20\n",
      "sun     0\n",
      "Name: sandwich-sales, dtype: int64\n"
     ]
    }
   ],
   "source": [
    "# can also use index\n",
    "print(sw[ ['mon','sun'] ]) \n",
    "\n"
   ]
  },
  {
   "cell_type": "markdown",
   "id": "ed672a82",
   "metadata": {},
   "source": [
    "### conditional selection\n"
   ]
  },
  {
   "cell_type": "markdown",
   "id": "02d9e253",
   "metadata": {},
   "source": [
    "#### for providing multiple index for selecting element in a pd series, use array notation\n"
   ]
  },
  {
   "cell_type": "code",
   "execution_count": 56,
   "id": "9242b99f",
   "metadata": {},
   "outputs": [
    {
     "name": "stdout",
     "output_type": "stream",
     "text": [
      "tue     30\n",
      "thur    25\n",
      "fri     30\n",
      "sat     40\n",
      "Name: sandwich-sales, dtype: int64\n"
     ]
    }
   ],
   "source": [
    "# sw ki vo sari values jo 20 say bari hain\n",
    "print(sw [ sw>20 ] )\n",
    "# fucking amazing! ye on k index bhi bta rha hay k sales flaan flaan din 20 say opar\n",
    "# rahi hay\n",
    "\n"
   ]
  },
  {
   "cell_type": "markdown",
   "id": "1c3a6a00",
   "metadata": {},
   "source": [
    "#### Arithematic Operations on Series"
   ]
  },
  {
   "cell_type": "code",
   "execution_count": 8,
   "id": "5314a1b3",
   "metadata": {},
   "outputs": [
    {
     "name": "stdout",
     "output_type": "stream",
     "text": [
      "fri     10\n",
      "mon      8\n",
      "sat     12\n",
      "sun      8\n",
      "thur     8\n",
      "tue      4\n",
      "wed      6\n",
      "dtype: int64\n"
     ]
    }
   ],
   "source": [
    "s1 = pd.Series([1, 2, 3, 4, 5, 6, 7], \n",
    "                          index = ['mon', 'tue', 'wed', 'thur', 'fri', 'sat', 'sun'], \n",
    "                          )\n",
    "\n",
    "s2 = pd.Series([1, 2, 3, 4, 5, 6, 7], \n",
    "                          index = ['sun', 'tue', 'wed', 'thur', 'fri', 'sat','mon'], \n",
    "                          )\n",
    "\n",
    "print(s1 + s2)\n",
    "\n",
    "# live recording 21 Jan, 2023, Nasir - 26:00. Note: resulting series ki sequence sir k logic vli nahi hay\n",
    " "
   ]
  },
  {
   "cell_type": "code",
   "execution_count": 9,
   "id": "fcbe6519",
   "metadata": {},
   "outputs": [
    {
     "name": "stdout",
     "output_type": "stream",
     "text": [
      "0     2.0\n",
      "1     4.0\n",
      "2     6.0\n",
      "3     8.0\n",
      "4    10.0\n",
      "5    12.0\n",
      "6    14.0\n",
      "7     NaN\n",
      "8     NaN\n",
      "9     NaN\n",
      "dtype: float64\n"
     ]
    }
   ],
   "source": [
    "s1 = pd.Series([1, 2, 3, 4, 5, 6, 7])\n",
    "\n",
    "s2 = pd.Series([1, 2, 3, 4, 5, 6, 7, 8, 9, 10])\n",
    "\n",
    "print(s1 + s2)\n",
    "\n",
    "# live recording 21 Jan, 2023, Nasir - 26:00. Note: resulting series ki sequence sir k logic vli nahi hay"
   ]
  },
  {
   "cell_type": "markdown",
   "id": "e7728d80",
   "metadata": {},
   "source": [
    "### Numpy ki arrays main aesa krtay tu, jb tk shapes same na hoteen tb tak kaam nahi hna tha.\n",
    "yahan:\n",
    "- Realignment bhi automatically ho jati hay\n",
    "- Different shapes ki series bhi add ho jti hain"
   ]
  },
  {
   "cell_type": "code",
   "execution_count": 57,
   "id": "c79ba19d",
   "metadata": {},
   "outputs": [
    {
     "data": {
      "text/plain": [
       "mon     40\n",
       "tue     60\n",
       "wed     40\n",
       "thur    50\n",
       "fri     60\n",
       "sat     80\n",
       "sun      0\n",
       "Name: sandwich-sales, dtype: int64"
      ]
     },
     "execution_count": 57,
     "metadata": {},
     "output_type": "execute_result"
    }
   ],
   "source": [
    "sw*2\n",
    "\n"
   ]
  },
  {
   "cell_type": "code",
   "execution_count": 59,
   "id": "34a001a7",
   "metadata": {},
   "outputs": [
    {
     "name": "stdout",
     "output_type": "stream",
     "text": [
      "mon     20\n",
      "tue     30\n",
      "wed     20\n",
      "thur    25\n",
      "fri     30\n",
      "sat     40\n",
      "sun      0\n",
      "Name: sandwich-sales, dtype: int64\n"
     ]
    }
   ],
   "source": [
    "print(sw)\n",
    "# so, 'sw' bazat-e-khud change nahi hua\n"
   ]
  },
  {
   "cell_type": "code",
   "execution_count": 61,
   "id": "28b8a06a",
   "metadata": {},
   "outputs": [
    {
     "data": {
      "text/plain": [
       "mon      80\n",
       "tue     120\n",
       "wed      80\n",
       "thur    100\n",
       "fri     120\n",
       "sat     160\n",
       "sun       0\n",
       "Name: sandwich-sales, dtype: int64"
      ]
     },
     "execution_count": 61,
     "metadata": {},
     "output_type": "execute_result"
    }
   ],
   "source": [
    "sw = sw*2\n",
    "sw\n"
   ]
  },
  {
   "cell_type": "code",
   "execution_count": 63,
   "id": "d902fd3e",
   "metadata": {
    "scrolled": true
   },
   "outputs": [
    {
     "data": {
      "text/plain": [
       "mon     20.0\n",
       "tue     30.0\n",
       "wed     20.0\n",
       "thur    25.0\n",
       "fri     30.0\n",
       "sat     40.0\n",
       "sun      0.0\n",
       "Name: sandwich-sales, dtype: float64"
      ]
     },
     "execution_count": 63,
     "metadata": {},
     "output_type": "execute_result"
    }
   ],
   "source": [
    "sw = sw/2\n",
    "sw\n",
    "\n",
    "# note, values hain tu vahi puranay valay hi, but ab dtype float ho gaya hay, ab\n",
    "# dtype = int nahi hay!\n"
   ]
  },
  {
   "cell_type": "markdown",
   "id": "09a2f7c6",
   "metadata": {},
   "source": [
    "#### checking whether a row/index exists in our series or not!"
   ]
  },
  {
   "cell_type": "code",
   "execution_count": 67,
   "id": "a1d14f57",
   "metadata": {},
   "outputs": [
    {
     "data": {
      "text/plain": [
       "True"
      ]
     },
     "execution_count": 67,
     "metadata": {},
     "output_type": "execute_result"
    }
   ],
   "source": [
    "'mon' in sw\n"
   ]
  },
  {
   "cell_type": "markdown",
   "id": "e2722cec",
   "metadata": {},
   "source": [
    "#### creating pandas series from numpy data/arrays\n",
    "\n"
   ]
  },
  {
   "cell_type": "code",
   "execution_count": 2,
   "id": "09d4135c",
   "metadata": {},
   "outputs": [
    {
     "name": "stdout",
     "output_type": "stream",
     "text": [
      "a    3\n",
      "b    2\n",
      "c    a\n",
      "d    5\n",
      "e    6\n",
      "dtype: object\n"
     ]
    }
   ],
   "source": [
    "import numpy as np\n",
    "import pandas as pd\n",
    "\n",
    "ar  = np.array([3,2,'a',5,6])\n",
    "ind = np.array(['a', 'b', 'c', 'd', 'e'])\n",
    "\n",
    "obj2 = pd.Series(ar, index = ind)\n",
    "\n",
    "\n",
    "print(obj2)\n"
   ]
  },
  {
   "cell_type": "code",
   "execution_count": 3,
   "id": "b8a8c4e1-fa14-43b8-a5b6-600052f89c61",
   "metadata": {},
   "outputs": [
    {
     "data": {
      "text/plain": [
       "array(['2', 'a', '5'], dtype='<U11')"
      ]
     },
     "execution_count": 3,
     "metadata": {},
     "output_type": "execute_result"
    }
   ],
   "source": [
    "ar[1:4]\n"
   ]
  },
  {
   "cell_type": "markdown",
   "id": "1d91e537",
   "metadata": {},
   "source": [
    "### Slicing\n"
   ]
  },
  {
   "cell_type": "markdown",
   "id": "ba2ba5c2",
   "metadata": {},
   "source": [
    "#### numpy way"
   ]
  },
  {
   "cell_type": "code",
   "execution_count": 4,
   "id": "81909e14",
   "metadata": {},
   "outputs": [
    {
     "data": {
      "text/plain": [
       "tue     30\n",
       "wed     20\n",
       "thur    25\n",
       "Name: sandwich-sales, dtype: int64"
      ]
     },
     "execution_count": 4,
     "metadata": {},
     "output_type": "execute_result"
    }
   ],
   "source": [
    "sw = pd.Series([20, 30, 20, 25, 30, 40, 0], \n",
    "                          index = ['mon', 'tue', 'wed', 'thur', 'fri', 'sat', 'sun'], \n",
    "                          name = 'sandwich-sales')\n",
    "sw[1:4]\n",
    "\n",
    "# Note the range is [a : b)\n"
   ]
  },
  {
   "cell_type": "markdown",
   "id": "33598b12",
   "metadata": {},
   "source": [
    "#### new way"
   ]
  },
  {
   "cell_type": "code",
   "execution_count": 5,
   "id": "fc0cd405",
   "metadata": {},
   "outputs": [
    {
     "data": {
      "text/plain": [
       "tue     30\n",
       "wed     20\n",
       "thur    25\n",
       "fri     30\n",
       "Name: sandwich-sales, dtype: int64"
      ]
     },
     "execution_count": 5,
     "metadata": {},
     "output_type": "execute_result"
    }
   ],
   "source": [
    "sw['tue':'fri']\n",
    "\n",
    "# Note the range is [a : b]\n"
   ]
  },
  {
   "cell_type": "code",
   "execution_count": 6,
   "id": "b64b868d",
   "metadata": {},
   "outputs": [
    {
     "data": {
      "text/plain": [
       "mon      1\n",
       "tue     30\n",
       "wed      2\n",
       "thur    25\n",
       "fri      3\n",
       "sat     40\n",
       "sun      0\n",
       "Name: sandwich-sales, dtype: int64"
      ]
     },
     "execution_count": 6,
     "metadata": {},
     "output_type": "execute_result"
    }
   ],
   "source": [
    "# updating values\n",
    "\n",
    "\n",
    "sw['mon':'sat':2] = [1,2,3]\n",
    "sw\n"
   ]
  },
  {
   "cell_type": "code",
   "execution_count": 80,
   "id": "33f63ef5",
   "metadata": {},
   "outputs": [
    {
     "name": "stdout",
     "output_type": "stream",
     "text": [
      "Sindh          35000\n",
      "Punjab          4500\n",
      "KPK             3000\n",
      "Balochistan     2000\n",
      "dtype: int64\n"
     ]
    }
   ],
   "source": [
    "sdata = {\"Sindh\": 35000,\n",
    "        'Punjab': 4500,\n",
    "        'KPK': 3000,\n",
    "        'Balochistan': 2000}\n",
    "\n",
    "tax_by_state = pd.Series(sdata)\n",
    "print(tax_by_state)\n",
    "\n",
    "# vao! ye tu simply directly dictionary pass krnay say hi kaam ho gaya \n"
   ]
  },
  {
   "cell_type": "markdown",
   "id": "128483c2",
   "metadata": {},
   "source": [
    "#### changing order of rows/indices\n"
   ]
  },
  {
   "cell_type": "code",
   "execution_count": 7,
   "id": "4465d681",
   "metadata": {},
   "outputs": [
    {
     "name": "stdout",
     "output_type": "stream",
     "text": [
      "Punjab         45000\n",
      "Sindh          35000\n",
      "KPK            30000\n",
      "Balochistan    20000\n",
      "dtype: int64\n"
     ]
    }
   ],
   "source": [
    "sdata = {\"Sindh\": 35000,\n",
    "        'Punjab': 45000,\n",
    "        'KPK': 30000,\n",
    "        'Balochistan': 20000}\n",
    "\n",
    "tax_by_state = pd.Series(sdata, index = ['Punjab',\"Sindh\",'KPK','Balochistan'])\n",
    "\n",
    "# note! indices k andar hum nay punjab or sindh ki positions exchange kr deen,\n",
    "# panda nay new positions hi store keen,\n",
    "\n",
    "# note values ki positions bhi os nay indices k sath hi displace kr deen!!!\n",
    "\n",
    "print(tax_by_state)\n",
    "\n"
   ]
  },
  {
   "cell_type": "markdown",
   "id": "25e1dc18",
   "metadata": {},
   "source": [
    "**Sources for series data**\n",
    "- direct data in the series method\n",
    "- from numpy array/arrays\n",
    "- from list\n",
    "- from dictionary\n",
    "\n"
   ]
  },
  {
   "cell_type": "markdown",
   "id": "1af01463",
   "metadata": {},
   "source": [
    "#### identifying null/missing values in the data. Null zero k brabar nahi hta. ye simply absence of a value hay. the value simply does not exists."
   ]
  },
  {
   "cell_type": "code",
   "execution_count": 9,
   "id": "49dc35b4",
   "metadata": {},
   "outputs": [
    {
     "name": "stdout",
     "output_type": "stream",
     "text": [
      "Punjab         45000.0\n",
      "Sindh          35000.0\n",
      "KPK            30000.0\n",
      "Balochistan    20000.0\n",
      "GB                 NaN\n",
      "dtype: float64\n"
     ]
    }
   ],
   "source": [
    "tax_by_state = pd.Series(sdata, index = ['Punjab',\"Sindh\",'KPK','Balochistan',\n",
    "                                         'GB'])\n",
    "print(tax_by_state)\n",
    "# Note 'Nan' in the value against GB\n"
   ]
  },
  {
   "cell_type": "code",
   "execution_count": 89,
   "id": "d20d0a7b",
   "metadata": {},
   "outputs": [
    {
     "name": "stdout",
     "output_type": "stream",
     "text": [
      "Punjab         False\n",
      "Sindh          False\n",
      "KPK            False\n",
      "Balochistan    False\n",
      "GB              True\n",
      "dtype: bool\n"
     ]
    }
   ],
   "source": [
    "# ye aik function hay\n",
    "\n",
    "print( pd.isnull( tax_by_state ) )\n",
    "# ye dikha raha hay k knsay index par aik null value pri hui hay\n",
    "\n"
   ]
  },
  {
   "cell_type": "code",
   "execution_count": 91,
   "id": "a2d9162b",
   "metadata": {},
   "outputs": [
    {
     "data": {
      "text/plain": [
       "Punjab         False\n",
       "Sindh          False\n",
       "KPK            False\n",
       "Balochistan    False\n",
       "GB              True\n",
       "dtype: bool"
      ]
     },
     "execution_count": 91,
     "metadata": {},
     "output_type": "execute_result"
    }
   ],
   "source": [
    "# ye aik method hay\n",
    "tax_by_state.isnull()\n"
   ]
  },
  {
   "cell_type": "markdown",
   "id": "135b6cfc",
   "metadata": {},
   "source": [
    "#### Name for Values Vs Name for indices\n"
   ]
  },
  {
   "cell_type": "code",
   "execution_count": 95,
   "id": "0c5ee4ae",
   "metadata": {},
   "outputs": [
    {
     "name": "stdout",
     "output_type": "stream",
     "text": [
      "States Name\n",
      "Punjab         45000.0\n",
      "Sindh          35000.0\n",
      "KPK            30000.0\n",
      "Balochistan    20000.0\n",
      "GB                 NaN\n",
      "Name: State tax paying capacity, dtype: float64\n",
      "\n",
      "\n",
      "\n",
      "\n",
      "Index(['Punjab', 'Sindh', 'KPK', 'Balochistan', 'GB'], dtype='object', name='States Name')\n"
     ]
    }
   ],
   "source": [
    "# name for values, I am not sure k ye name values k liye hi hay ya phir, series ka naam hay ye, see book, maybe\n",
    "# u can find details there\n",
    "\n",
    "tax_by_state.name = 'State tax paying capacity'\n",
    "\n",
    "# name for indices\n",
    "tax_by_state.index.name = 'States Name'\n",
    "\n",
    "print(tax_by_state)\n",
    "print('\\n\\n\\n')\n",
    "print(tax_by_state.index)\n"
   ]
  },
  {
   "cell_type": "markdown",
   "id": "52901071",
   "metadata": {},
   "source": [
    "### changing names of indices in a series\n"
   ]
  },
  {
   "cell_type": "code",
   "execution_count": 102,
   "id": "33a164ea",
   "metadata": {},
   "outputs": [
    {
     "data": {
      "text/plain": [
       "mon     20\n",
       "tue     30\n",
       "wed     20\n",
       "thur    25\n",
       "fri     30\n",
       "sat     40\n",
       "sun      0\n",
       "Name: sandwich-sales, dtype: int64"
      ]
     },
     "execution_count": 102,
     "metadata": {},
     "output_type": "execute_result"
    }
   ],
   "source": [
    "sw\n"
   ]
  },
  {
   "cell_type": "code",
   "execution_count": 17,
   "id": "e58f01e5",
   "metadata": {},
   "outputs": [
    {
     "name": "stdout",
     "output_type": "stream",
     "text": [
      "m    20\n",
      "t    30\n",
      "w    20\n",
      "t    25\n",
      "f    30\n",
      "s    40\n",
      "s     0\n",
      "Name: sandwich-sales, dtype: int64\n"
     ]
    }
   ],
   "source": [
    "sw.index = ['m', 't', 'w', 't', 'f', 's', 's']\n",
    "print(sw)\n",
    "# is trah say names sirf change hi htay hain, agar interchange krnay hoon tu pichlay vala tareeka use krna pray ga.\n"
   ]
  },
  {
   "cell_type": "code",
   "execution_count": 62,
   "id": "729acc42",
   "metadata": {
    "scrolled": true
   },
   "outputs": [
    {
     "data": {
      "text/plain": [
       "0      1.0\n",
       "1      1.5\n",
       "2      2.0\n",
       "3      2.5\n",
       "4      3.0\n",
       "5      3.5\n",
       "6      4.0\n",
       "7      4.5\n",
       "8      5.0\n",
       "9      5.5\n",
       "10     6.0\n",
       "11     6.5\n",
       "12     7.0\n",
       "13     7.5\n",
       "14     8.0\n",
       "15     8.5\n",
       "16     9.0\n",
       "17     9.5\n",
       "18    10.0\n",
       "dtype: float64"
      ]
     },
     "execution_count": 62,
     "metadata": {},
     "output_type": "execute_result"
    }
   ],
   "source": [
    "s6 = pd.Series( np.linspace(1, 10, 19) )\n",
    "\n",
    "s6\n",
    "# linspace = linear spacing\n"
   ]
  },
  {
   "cell_type": "code",
   "execution_count": 64,
   "id": "02386a66",
   "metadata": {},
   "outputs": [
    {
     "data": {
      "text/plain": [
       "19"
      ]
     },
     "execution_count": 64,
     "metadata": {},
     "output_type": "execute_result"
    }
   ],
   "source": [
    "s6.count()\n"
   ]
  },
  {
   "cell_type": "code",
   "execution_count": 67,
   "id": "56784e35",
   "metadata": {},
   "outputs": [
    {
     "data": {
      "text/plain": [
       "1.0     1\n",
       "6.0     1\n",
       "9.5     1\n",
       "9.0     1\n",
       "8.5     1\n",
       "8.0     1\n",
       "7.5     1\n",
       "7.0     1\n",
       "6.5     1\n",
       "5.5     1\n",
       "1.5     1\n",
       "5.0     1\n",
       "4.5     1\n",
       "4.0     1\n",
       "3.5     1\n",
       "3.0     1\n",
       "2.5     1\n",
       "2.0     1\n",
       "10.0    1\n",
       "dtype: int64"
      ]
     },
     "execution_count": 67,
     "metadata": {},
     "output_type": "execute_result"
    }
   ],
   "source": [
    "s6.value_counts()\n",
    "# bht important function hay, ye bta rha hay k, kn kn si value kitni baar aai hay\n",
    "\n"
   ]
  },
  {
   "cell_type": "code",
   "execution_count": 11,
   "id": "98152479",
   "metadata": {},
   "outputs": [
    {
     "data": {
      "text/plain": [
       "Pass    3\n",
       "Fail    3\n",
       "Name: count, dtype: int64"
      ]
     },
     "execution_count": 11,
     "metadata": {},
     "output_type": "execute_result"
    }
   ],
   "source": [
    "new = pd.Series([99, 100, 89, 50, 45, 30], index = ['Ahmed', 'Ali', 'Faisal', 'Hassan', 'Aqsa', 'Waji'])\n",
    "\n",
    "new = new.apply(lambda x: np.where(x>50, 'Pass', 'Fail'))\n",
    "\n",
    "new.value_counts()\n",
    "\n",
    "# vow!\n",
    "\n",
    "# we can use to check, male kitnay hain, female kitni hain\n",
    "# meray column k andar jitni categories hoon gi, on categories ka count btao\n",
    "# \n"
   ]
  },
  {
   "cell_type": "code",
   "execution_count": 73,
   "id": "e52c315e",
   "metadata": {},
   "outputs": [
    {
     "data": {
      "text/plain": [
       "Ali       Pass\n",
       "Faisal    Pass\n",
       "Hassan    Fail\n",
       "Aqsa      Fail\n",
       "Waji      Fail\n",
       "dtype: object"
      ]
     },
     "execution_count": 73,
     "metadata": {},
     "output_type": "execute_result"
    }
   ],
   "source": [
    "new.head()\n",
    "\n",
    "new.tail()\n",
    "\n",
    "# .tail() aakhri ki 5 values show krti hay"
   ]
  },
  {
   "cell_type": "code",
   "execution_count": 75,
   "id": "34018745",
   "metadata": {},
   "outputs": [
    {
     "data": {
      "text/plain": [
       "Ahmed    Pass\n",
       "Ali      Pass\n",
       "dtype: object"
      ]
     },
     "execution_count": 75,
     "metadata": {},
     "output_type": "execute_result"
    }
   ],
   "source": [
    "new[ ['Ahmed', 'Ali'] ]\n",
    "\n",
    "# Aik say ziada labels ka data get krnay lgay hain\n"
   ]
  },
  {
   "cell_type": "code",
   "execution_count": 76,
   "id": "2d7df4ad",
   "metadata": {},
   "outputs": [],
   "source": [
    "# loc iloc bhi series main kr sktay hian,\n",
    "# but isay aagay data frame main daikhain gay\n"
   ]
  },
  {
   "cell_type": "code",
   "execution_count": 77,
   "id": "6f34ce77",
   "metadata": {
    "scrolled": true
   },
   "outputs": [
    {
     "data": {
      "text/plain": [
       "0    1.0\n",
       "1    2.0\n",
       "2    3.0\n",
       "3    NaN\n",
       "4    NaN\n",
       "dtype: float64"
      ]
     },
     "execution_count": 77,
     "metadata": {},
     "output_type": "execute_result"
    }
   ],
   "source": [
    "# series main Nan value dalni ho kaheen tu kesay krna hay?\n",
    "\n",
    "s7 = pd.Series( [1, 2, 3, np.nan, np.nan] )\n",
    "s7\n"
   ]
  },
  {
   "cell_type": "code",
   "execution_count": null,
   "id": "4df98c7c",
   "metadata": {},
   "outputs": [],
   "source": [
    "# Sir ki book: Learning pandas by Michael Heydt vli book bhi pri hui hay, sir Nasir\n",
    "# k data valay folder main\n",
    "\n",
    "# Boolean selection daikh lena >, <, less than greater than etc, ye daikh lena book say\n",
    "# most probably main nay numpy ki book main 9s par kaam kia hoga\n",
    "\n",
    "\n"
   ]
  },
  {
   "cell_type": "code",
   "execution_count": 12,
   "id": "c4365ce0",
   "metadata": {},
   "outputs": [
    {
     "name": "stdout",
     "output_type": "stream",
     "text": [
      "0    0.469112\n",
      "1   -0.282863\n",
      "2   -1.509059\n",
      "dtype: float64\n",
      "\n",
      "0   -1.135632\n",
      "1    1.212112\n",
      "2   -0.173215\n",
      "dtype: float64\n"
     ]
    }
   ],
   "source": [
    "# concat copies index values verbatim,\n",
    "# potentially making duplicates\n",
    "\n",
    "import numpy  as np\n",
    "import pandas as pd\n",
    "\n",
    "np.random.seed(123456)  # series random numbers ko fix kr day ga, jitni bar bhi chalayin gya same ahi answer aye ga\n",
    "\n",
    "s1 = pd.Series( np.random.randn(3) )\n",
    "s2 = pd.Series( np.random.randn(3) )\n",
    "\n",
    "print(s1)\n",
    "print()\n",
    "print(s2)\n"
   ]
  },
  {
   "cell_type": "code",
   "execution_count": 18,
   "id": "7d27a9f6",
   "metadata": {},
   "outputs": [
    {
     "data": {
      "text/plain": [
       "0    0.469112\n",
       "1   -0.282863\n",
       "2   -1.509059\n",
       "0   -1.135632\n",
       "1    1.212112\n",
       "2   -0.173215\n",
       "dtype: float64"
      ]
     },
     "execution_count": 18,
     "metadata": {},
     "output_type": "execute_result"
    }
   ],
   "source": [
    "combined = pd.concat(  [s1, s2]  )\n",
    "combined\n",
    " # ye add ni hua hay, ye CONCATENATE hua hay"
   ]
  },
  {
   "cell_type": "code",
   "execution_count": 88,
   "id": "b4a8cd45",
   "metadata": {},
   "outputs": [
    {
     "data": {
      "text/plain": [
       "0    0.469112\n",
       "0   -1.135632\n",
       "dtype: float64"
      ]
     },
     "execution_count": 88,
     "metadata": {},
     "output_type": "execute_result"
    }
   ],
   "source": [
    "combined[0]\n",
    "# lolz 2 zero hain is concatenated series main\n"
   ]
  },
  {
   "cell_type": "code",
   "execution_count": 89,
   "id": "0534ee21",
   "metadata": {},
   "outputs": [
    {
     "data": {
      "text/plain": [
       "0    0.469112\n",
       "1   -0.282863\n",
       "2   -1.509059\n",
       "3   -1.135632\n",
       "4    1.212112\n",
       "5   -0.173215\n",
       "dtype: float64"
      ]
     },
     "execution_count": 89,
     "metadata": {},
     "output_type": "execute_result"
    }
   ],
   "source": [
    "# To fix this, the following creates a new index for the concatenated result which has \n",
    "# sequential and distinct values.\n",
    "\n",
    "# reset the index\n",
    "\n",
    "combined.index = np.arange(0, len(combined))\n",
    "combined\n",
    "    "
   ]
  },
  {
   "cell_type": "code",
   "execution_count": 93,
   "id": "880450d1",
   "metadata": {},
   "outputs": [
    {
     "data": {
      "text/plain": [
       "0    0.469112\n",
       "1   -0.282863\n",
       "2   -1.509059\n",
       "3   -1.135632\n",
       "4    1.212112\n",
       "5   -0.173215\n",
       "6         NaN\n",
       "dtype: float64"
      ]
     },
     "execution_count": 93,
     "metadata": {},
     "output_type": "execute_result"
    }
   ],
   "source": [
    "# you can also use\n",
    "# create the series again, before running this cell\n",
    "\n",
    "combined.reindex( [0, 1, 2, 3, 4, 5, 6] )\n"
   ]
  },
  {
   "cell_type": "code",
   "execution_count": 97,
   "id": "e7a44f59",
   "metadata": {},
   "outputs": [
    {
     "data": {
      "text/html": [
       "<div>\n",
       "<style scoped>\n",
       "    .dataframe tbody tr th:only-of-type {\n",
       "        vertical-align: middle;\n",
       "    }\n",
       "\n",
       "    .dataframe tbody tr th {\n",
       "        vertical-align: top;\n",
       "    }\n",
       "\n",
       "    .dataframe thead th {\n",
       "        text-align: right;\n",
       "    }\n",
       "</style>\n",
       "<table border=\"1\" class=\"dataframe\">\n",
       "  <thead>\n",
       "    <tr style=\"text-align: right;\">\n",
       "      <th></th>\n",
       "      <th>index</th>\n",
       "      <th>0</th>\n",
       "    </tr>\n",
       "  </thead>\n",
       "  <tbody>\n",
       "    <tr>\n",
       "      <th>0</th>\n",
       "      <td>0</td>\n",
       "      <td>0.469112</td>\n",
       "    </tr>\n",
       "    <tr>\n",
       "      <th>1</th>\n",
       "      <td>1</td>\n",
       "      <td>-0.282863</td>\n",
       "    </tr>\n",
       "    <tr>\n",
       "      <th>2</th>\n",
       "      <td>2</td>\n",
       "      <td>-1.509059</td>\n",
       "    </tr>\n",
       "    <tr>\n",
       "      <th>3</th>\n",
       "      <td>0</td>\n",
       "      <td>-1.135632</td>\n",
       "    </tr>\n",
       "    <tr>\n",
       "      <th>4</th>\n",
       "      <td>1</td>\n",
       "      <td>1.212112</td>\n",
       "    </tr>\n",
       "    <tr>\n",
       "      <th>5</th>\n",
       "      <td>2</td>\n",
       "      <td>-0.173215</td>\n",
       "    </tr>\n",
       "  </tbody>\n",
       "</table>\n",
       "</div>"
      ],
      "text/plain": [
       "   index         0\n",
       "0      0  0.469112\n",
       "1      1 -0.282863\n",
       "2      2 -1.509059\n",
       "3      0 -1.135632\n",
       "4      1  1.212112\n",
       "5      2 -0.173215"
      ]
     },
     "execution_count": 97,
     "metadata": {},
     "output_type": "execute_result"
    }
   ],
   "source": [
    "# you can also use\n",
    "# create the series again, before running this cell\n",
    "\n",
    "combined.reset_index()\n"
   ]
  },
  {
   "cell_type": "code",
   "execution_count": 19,
   "id": "f7595866",
   "metadata": {},
   "outputs": [
    {
     "data": {
      "text/plain": [
       "0    0.469112\n",
       "1   -0.282863\n",
       "2   -1.509059\n",
       "3   -1.135632\n",
       "4    1.212112\n",
       "5   -0.173215\n",
       "dtype: float64"
      ]
     },
     "execution_count": 19,
     "metadata": {},
     "output_type": "execute_result"
    }
   ],
   "source": [
    "combined.reset_index(  drop = True, inplace = True ) # inplace = True: ab 'combined' bazat e khud update bhi ho jaye gi\n",
    "# ab 2ble indices vli problem khtmm\n",
    "combined\n"
   ]
  },
  {
   "cell_type": "code",
   "execution_count": 20,
   "id": "95bb98e2",
   "metadata": {
    "scrolled": true
   },
   "outputs": [
    {
     "data": {
      "text/plain": [
       "0       0.469112\n",
       "1      -0.282863\n",
       "2      -1.509059\n",
       "3      -1.135632\n",
       "4    2345.000000\n",
       "5      -0.173215\n",
       "dtype: float64"
      ]
     },
     "execution_count": 20,
     "metadata": {},
     "output_type": "execute_result"
    }
   ],
   "source": [
    "combined[4] = 2345\n",
    "\n",
    "combined\n"
   ]
  },
  {
   "cell_type": "code",
   "execution_count": 21,
   "id": "1ec6ebd4",
   "metadata": {},
   "outputs": [
    {
     "ename": "InvalidIndexError",
     "evalue": "slice(1, 4, None)",
     "output_type": "error",
     "traceback": [
      "\u001b[1;31m---------------------------------------------------------------------------\u001b[0m",
      "\u001b[1;31mInvalidIndexError\u001b[0m                         Traceback (most recent call last)",
      "Input \u001b[1;32mIn [21]\u001b[0m, in \u001b[0;36m<cell line: 1>\u001b[1;34m()\u001b[0m\n\u001b[1;32m----> 1\u001b[0m \u001b[38;5;28;01mdel\u001b[39;00m combined[\u001b[38;5;241m1\u001b[39m:\u001b[38;5;241m4\u001b[39m]\n\u001b[0;32m      3\u001b[0m combined\n",
      "File \u001b[1;32m~\\AppData\\Local\\Programs\\Python\\Python310\\lib\\site-packages\\pandas\\core\\generic.py:4243\u001b[0m, in \u001b[0;36mNDFrame.__delitem__\u001b[1;34m(self, key)\u001b[0m\n\u001b[0;32m   4238\u001b[0m             deleted \u001b[38;5;241m=\u001b[39m \u001b[38;5;28;01mTrue\u001b[39;00m\n\u001b[0;32m   4239\u001b[0m \u001b[38;5;28;01mif\u001b[39;00m \u001b[38;5;129;01mnot\u001b[39;00m deleted:\n\u001b[0;32m   4240\u001b[0m     \u001b[38;5;66;03m# If the above loop ran and didn't delete anything because\u001b[39;00m\n\u001b[0;32m   4241\u001b[0m     \u001b[38;5;66;03m# there was no match, this call should raise the appropriate\u001b[39;00m\n\u001b[0;32m   4242\u001b[0m     \u001b[38;5;66;03m# exception:\u001b[39;00m\n\u001b[1;32m-> 4243\u001b[0m     loc \u001b[38;5;241m=\u001b[39m \u001b[38;5;28;43mself\u001b[39;49m\u001b[38;5;241;43m.\u001b[39;49m\u001b[43maxes\u001b[49m\u001b[43m[\u001b[49m\u001b[38;5;241;43m-\u001b[39;49m\u001b[38;5;241;43m1\u001b[39;49m\u001b[43m]\u001b[49m\u001b[38;5;241;43m.\u001b[39;49m\u001b[43mget_loc\u001b[49m\u001b[43m(\u001b[49m\u001b[43mkey\u001b[49m\u001b[43m)\u001b[49m\n\u001b[0;32m   4244\u001b[0m     \u001b[38;5;28mself\u001b[39m\u001b[38;5;241m.\u001b[39m_mgr \u001b[38;5;241m=\u001b[39m \u001b[38;5;28mself\u001b[39m\u001b[38;5;241m.\u001b[39m_mgr\u001b[38;5;241m.\u001b[39midelete(loc)\n\u001b[0;32m   4246\u001b[0m \u001b[38;5;66;03m# delete from the caches\u001b[39;00m\n",
      "File \u001b[1;32m~\\AppData\\Local\\Programs\\Python\\Python310\\lib\\site-packages\\pandas\\core\\indexes\\range.py:394\u001b[0m, in \u001b[0;36mRangeIndex.get_loc\u001b[1;34m(self, key, method, tolerance)\u001b[0m\n\u001b[0;32m    392\u001b[0m         \u001b[38;5;28;01mexcept\u001b[39;00m \u001b[38;5;167;01mValueError\u001b[39;00m \u001b[38;5;28;01mas\u001b[39;00m err:\n\u001b[0;32m    393\u001b[0m             \u001b[38;5;28;01mraise\u001b[39;00m \u001b[38;5;167;01mKeyError\u001b[39;00m(key) \u001b[38;5;28;01mfrom\u001b[39;00m \u001b[38;5;21;01merr\u001b[39;00m\n\u001b[1;32m--> 394\u001b[0m     \u001b[38;5;28;43mself\u001b[39;49m\u001b[38;5;241;43m.\u001b[39;49m\u001b[43m_check_indexing_error\u001b[49m\u001b[43m(\u001b[49m\u001b[43mkey\u001b[49m\u001b[43m)\u001b[49m\n\u001b[0;32m    395\u001b[0m     \u001b[38;5;28;01mraise\u001b[39;00m \u001b[38;5;167;01mKeyError\u001b[39;00m(key)\n\u001b[0;32m    396\u001b[0m \u001b[38;5;28;01mreturn\u001b[39;00m \u001b[38;5;28msuper\u001b[39m()\u001b[38;5;241m.\u001b[39mget_loc(key, method\u001b[38;5;241m=\u001b[39mmethod, tolerance\u001b[38;5;241m=\u001b[39mtolerance)\n",
      "File \u001b[1;32m~\\AppData\\Local\\Programs\\Python\\Python310\\lib\\site-packages\\pandas\\core\\indexes\\base.py:5925\u001b[0m, in \u001b[0;36mIndex._check_indexing_error\u001b[1;34m(self, key)\u001b[0m\n\u001b[0;32m   5921\u001b[0m \u001b[38;5;28;01mdef\u001b[39;00m \u001b[38;5;21m_check_indexing_error\u001b[39m(\u001b[38;5;28mself\u001b[39m, key):\n\u001b[0;32m   5922\u001b[0m     \u001b[38;5;28;01mif\u001b[39;00m \u001b[38;5;129;01mnot\u001b[39;00m is_scalar(key):\n\u001b[0;32m   5923\u001b[0m         \u001b[38;5;66;03m# if key is not a scalar, directly raise an error (the code below\u001b[39;00m\n\u001b[0;32m   5924\u001b[0m         \u001b[38;5;66;03m# would convert to numpy arrays and raise later any way) - GH29926\u001b[39;00m\n\u001b[1;32m-> 5925\u001b[0m         \u001b[38;5;28;01mraise\u001b[39;00m InvalidIndexError(key)\n",
      "\u001b[1;31mInvalidIndexError\u001b[0m: slice(1, 4, None)"
     ]
    }
   ],
   "source": [
    "# error expected\n",
    "# is trah say del ni kr sktay\n",
    "\n",
    "\n",
    "del combined[1:4]\n",
    "\n",
    "combined\n"
   ]
  },
  {
   "cell_type": "code",
   "execution_count": 24,
   "id": "ece1e6aa",
   "metadata": {},
   "outputs": [
    {
     "ename": "InvalidIndexError",
     "evalue": "[1, 3, 4]",
     "output_type": "error",
     "traceback": [
      "\u001b[1;31m---------------------------------------------------------------------------\u001b[0m",
      "\u001b[1;31mInvalidIndexError\u001b[0m                         Traceback (most recent call last)",
      "Input \u001b[1;32mIn [24]\u001b[0m, in \u001b[0;36m<cell line: 3>\u001b[1;34m()\u001b[0m\n\u001b[0;32m      1\u001b[0m \u001b[38;5;66;03m# again error expected, ye slices delete ni krta na lists ki form main, is trah say one by one hi kaam krna pray ga aap ko\u001b[39;00m\n\u001b[1;32m----> 3\u001b[0m \u001b[38;5;28;01mdel\u001b[39;00m combined[ [\u001b[38;5;241m1\u001b[39m,\u001b[38;5;241m3\u001b[39m,\u001b[38;5;241m4\u001b[39m] ]\n\u001b[0;32m      5\u001b[0m combined\n",
      "File \u001b[1;32m~\\AppData\\Local\\Programs\\Python\\Python310\\lib\\site-packages\\pandas\\core\\generic.py:4243\u001b[0m, in \u001b[0;36mNDFrame.__delitem__\u001b[1;34m(self, key)\u001b[0m\n\u001b[0;32m   4238\u001b[0m             deleted \u001b[38;5;241m=\u001b[39m \u001b[38;5;28;01mTrue\u001b[39;00m\n\u001b[0;32m   4239\u001b[0m \u001b[38;5;28;01mif\u001b[39;00m \u001b[38;5;129;01mnot\u001b[39;00m deleted:\n\u001b[0;32m   4240\u001b[0m     \u001b[38;5;66;03m# If the above loop ran and didn't delete anything because\u001b[39;00m\n\u001b[0;32m   4241\u001b[0m     \u001b[38;5;66;03m# there was no match, this call should raise the appropriate\u001b[39;00m\n\u001b[0;32m   4242\u001b[0m     \u001b[38;5;66;03m# exception:\u001b[39;00m\n\u001b[1;32m-> 4243\u001b[0m     loc \u001b[38;5;241m=\u001b[39m \u001b[38;5;28;43mself\u001b[39;49m\u001b[38;5;241;43m.\u001b[39;49m\u001b[43maxes\u001b[49m\u001b[43m[\u001b[49m\u001b[38;5;241;43m-\u001b[39;49m\u001b[38;5;241;43m1\u001b[39;49m\u001b[43m]\u001b[49m\u001b[38;5;241;43m.\u001b[39;49m\u001b[43mget_loc\u001b[49m\u001b[43m(\u001b[49m\u001b[43mkey\u001b[49m\u001b[43m)\u001b[49m\n\u001b[0;32m   4244\u001b[0m     \u001b[38;5;28mself\u001b[39m\u001b[38;5;241m.\u001b[39m_mgr \u001b[38;5;241m=\u001b[39m \u001b[38;5;28mself\u001b[39m\u001b[38;5;241m.\u001b[39m_mgr\u001b[38;5;241m.\u001b[39midelete(loc)\n\u001b[0;32m   4246\u001b[0m \u001b[38;5;66;03m# delete from the caches\u001b[39;00m\n",
      "File \u001b[1;32m~\\AppData\\Local\\Programs\\Python\\Python310\\lib\\site-packages\\pandas\\core\\indexes\\range.py:394\u001b[0m, in \u001b[0;36mRangeIndex.get_loc\u001b[1;34m(self, key, method, tolerance)\u001b[0m\n\u001b[0;32m    392\u001b[0m         \u001b[38;5;28;01mexcept\u001b[39;00m \u001b[38;5;167;01mValueError\u001b[39;00m \u001b[38;5;28;01mas\u001b[39;00m err:\n\u001b[0;32m    393\u001b[0m             \u001b[38;5;28;01mraise\u001b[39;00m \u001b[38;5;167;01mKeyError\u001b[39;00m(key) \u001b[38;5;28;01mfrom\u001b[39;00m \u001b[38;5;21;01merr\u001b[39;00m\n\u001b[1;32m--> 394\u001b[0m     \u001b[38;5;28;43mself\u001b[39;49m\u001b[38;5;241;43m.\u001b[39;49m\u001b[43m_check_indexing_error\u001b[49m\u001b[43m(\u001b[49m\u001b[43mkey\u001b[49m\u001b[43m)\u001b[49m\n\u001b[0;32m    395\u001b[0m     \u001b[38;5;28;01mraise\u001b[39;00m \u001b[38;5;167;01mKeyError\u001b[39;00m(key)\n\u001b[0;32m    396\u001b[0m \u001b[38;5;28;01mreturn\u001b[39;00m \u001b[38;5;28msuper\u001b[39m()\u001b[38;5;241m.\u001b[39mget_loc(key, method\u001b[38;5;241m=\u001b[39mmethod, tolerance\u001b[38;5;241m=\u001b[39mtolerance)\n",
      "File \u001b[1;32m~\\AppData\\Local\\Programs\\Python\\Python310\\lib\\site-packages\\pandas\\core\\indexes\\base.py:5925\u001b[0m, in \u001b[0;36mIndex._check_indexing_error\u001b[1;34m(self, key)\u001b[0m\n\u001b[0;32m   5921\u001b[0m \u001b[38;5;28;01mdef\u001b[39;00m \u001b[38;5;21m_check_indexing_error\u001b[39m(\u001b[38;5;28mself\u001b[39m, key):\n\u001b[0;32m   5922\u001b[0m     \u001b[38;5;28;01mif\u001b[39;00m \u001b[38;5;129;01mnot\u001b[39;00m is_scalar(key):\n\u001b[0;32m   5923\u001b[0m         \u001b[38;5;66;03m# if key is not a scalar, directly raise an error (the code below\u001b[39;00m\n\u001b[0;32m   5924\u001b[0m         \u001b[38;5;66;03m# would convert to numpy arrays and raise later any way) - GH29926\u001b[39;00m\n\u001b[1;32m-> 5925\u001b[0m         \u001b[38;5;28;01mraise\u001b[39;00m InvalidIndexError(key)\n",
      "\u001b[1;31mInvalidIndexError\u001b[0m: [1, 3, 4]"
     ]
    }
   ],
   "source": [
    "# again error expected, ye slices delete ni krta na lists ki form main, is trah say one by one hi kaam krna pray ga aap ko\n",
    "\n",
    "del combined[ [1,3,4] ]\n",
    "\n",
    "combined\n"
   ]
  },
  {
   "cell_type": "code",
   "execution_count": 25,
   "id": "9404e53a",
   "metadata": {},
   "outputs": [
    {
     "name": "stdout",
     "output_type": "stream",
     "text": [
      "0       0.469112\n",
      "1      -0.282863\n",
      "2      -1.509059\n",
      "3      -1.135632\n",
      "4    2345.000000\n",
      "5      -0.173215\n",
      "dtype: float64\n"
     ]
    },
    {
     "data": {
      "text/plain": [
       "0    0.469112\n",
       "1   -0.282863\n",
       "2   -1.509059\n",
       "3   -1.135632\n",
       "5   -0.173215\n",
       "dtype: float64"
      ]
     },
     "execution_count": 25,
     "metadata": {},
     "output_type": "execute_result"
    }
   ],
   "source": [
    "print(combined)\n",
    "\n",
    "del combined[4]\n",
    "\n",
    "combined\n",
    "\n",
    "#Note frame k andar hum slices bhi del kr sktay hain, but series k andar sirf aik-aik kr k hi cheezain del hoon gi, jesay is cel main kia hay main nay\n"
   ]
  },
  {
   "cell_type": "code",
   "execution_count": 27,
   "id": "3dd0a4c0",
   "metadata": {},
   "outputs": [
    {
     "data": {
      "text/plain": [
       "0    100.0\n",
       "1    100.0\n",
       "2    100.0\n",
       "3    100.0\n",
       "5    100.0\n",
       "dtype: float64"
      ]
     },
     "execution_count": 27,
     "metadata": {},
     "output_type": "execute_result"
    }
   ],
   "source": [
    "# replace kr sktay hain slices! but del ni kr sktay e.g:\n",
    "\n",
    "combined[0:5] = 100\n",
    "\n",
    "combined\n",
    "\n",
    "# note 4th index mojood ni tha, phir bhi error ni aaya\n"
   ]
  },
  {
   "cell_type": "code",
   "execution_count": 29,
   "id": "fa1067db",
   "metadata": {},
   "outputs": [
    {
     "data": {
      "text/plain": [
       "0    100.0\n",
       "1    100.0\n",
       "2    100.0\n",
       "3    100.0\n",
       "5    100.0\n",
       "dtype: float64"
      ]
     },
     "execution_count": 29,
     "metadata": {},
     "output_type": "execute_result"
    }
   ],
   "source": [
    "newCom  = combined.copy()\n",
    "\n",
    "newCom\n",
    "\n",
    "# ye vli copy, jesa k hum nay python main bhi parha tha, yahan by-value copy hoga, by-reference copy ni hoga\n",
    "# by-reference: oldCom = newCom\n"
   ]
  },
  {
   "cell_type": "code",
   "execution_count": 38,
   "id": "5ec727d5",
   "metadata": {},
   "outputs": [
    {
     "data": {
      "text/plain": [
       "0    100.0\n",
       "1    100.0\n",
       "2    100.0\n",
       "3    100.0\n",
       "5    100.0\n",
       "dtype: float64"
      ]
     },
     "execution_count": 38,
     "metadata": {},
     "output_type": "execute_result"
    }
   ],
   "source": [
    "oldCom = newCom\n",
    "\n",
    "oldCom"
   ]
  },
  {
   "cell_type": "code",
   "execution_count": 39,
   "id": "6fc8dd52",
   "metadata": {},
   "outputs": [
    {
     "data": {
      "text/plain": [
       "0    200.0\n",
       "1    200.0\n",
       "2    200.0\n",
       "3    200.0\n",
       "5    200.0\n",
       "dtype: float64"
      ]
     },
     "execution_count": 39,
     "metadata": {},
     "output_type": "execute_result"
    }
   ],
   "source": [
    "newCom[:] = 200\n",
    "\n",
    "newCom\n"
   ]
  },
  {
   "cell_type": "code",
   "execution_count": 40,
   "id": "8907b0d8",
   "metadata": {},
   "outputs": [
    {
     "data": {
      "text/plain": [
       "0    200.0\n",
       "1    200.0\n",
       "2    200.0\n",
       "3    200.0\n",
       "5    200.0\n",
       "dtype: float64"
      ]
     },
     "execution_count": 40,
     "metadata": {},
     "output_type": "execute_result"
    }
   ],
   "source": [
    "oldCom\n"
   ]
  },
  {
   "cell_type": "code",
   "execution_count": 36,
   "id": "fa1d03f7",
   "metadata": {},
   "outputs": [],
   "source": [
    "# copy by-reference"
   ]
  },
  {
   "cell_type": "code",
   "execution_count": 30,
   "id": "f914bcf9",
   "metadata": {},
   "outputs": [],
   "source": [
    "a = [1,2,3,4,5]\n"
   ]
  },
  {
   "cell_type": "code",
   "execution_count": 31,
   "id": "5b62b0a7",
   "metadata": {},
   "outputs": [],
   "source": [
    "b = a\n"
   ]
  },
  {
   "cell_type": "code",
   "execution_count": 32,
   "id": "b132d417",
   "metadata": {},
   "outputs": [
    {
     "data": {
      "text/plain": [
       "[1, 2, 3, 4, 5]"
      ]
     },
     "execution_count": 32,
     "metadata": {},
     "output_type": "execute_result"
    }
   ],
   "source": [
    "b"
   ]
  },
  {
   "cell_type": "code",
   "execution_count": 33,
   "id": "a8413ab8",
   "metadata": {},
   "outputs": [],
   "source": [
    "a = [5,4,3,2,1]\n"
   ]
  },
  {
   "cell_type": "code",
   "execution_count": 34,
   "id": "5688b1a0",
   "metadata": {},
   "outputs": [
    {
     "data": {
      "text/plain": [
       "[5, 4, 3, 2, 1]"
      ]
     },
     "execution_count": 34,
     "metadata": {},
     "output_type": "execute_result"
    }
   ],
   "source": [
    "a"
   ]
  },
  {
   "cell_type": "code",
   "execution_count": 35,
   "id": "0e443f9d",
   "metadata": {},
   "outputs": [
    {
     "data": {
      "text/plain": [
       "[1, 2, 3, 4, 5]"
      ]
     },
     "execution_count": 35,
     "metadata": {},
     "output_type": "execute_result"
    }
   ],
   "source": [
    "b"
   ]
  },
  {
   "cell_type": "code",
   "execution_count": 41,
   "id": "c0188309",
   "metadata": {},
   "outputs": [],
   "source": [
    "# prof k logic k mutabiq, q k 'b' by-reference create hua tha, so, 'a' k change hnay say 'b' bhi chnage hoga, but aesa yahan nahi hua\n",
    "# maybe jab jupyter notebook par code run ni krain gay, jab , kaheen or code run hoga, tu aesa hi hoga? jesay sir nay kaha hay\n",
    "\n",
    "# ye cheez list k liye kaam ni krti but, series k case main professor ka logic kaam krta hay!!!\n",
    "    "
   ]
  },
  {
   "cell_type": "code",
   "execution_count": null,
   "id": "c43543b2",
   "metadata": {},
   "outputs": [],
   "source": []
  },
  {
   "cell_type": "code",
   "execution_count": null,
   "id": "33ecb626",
   "metadata": {},
   "outputs": [],
   "source": []
  },
  {
   "cell_type": "code",
   "execution_count": null,
   "id": "6d4b77c2",
   "metadata": {},
   "outputs": [],
   "source": []
  },
  {
   "cell_type": "code",
   "execution_count": null,
   "id": "1dd1ed3f",
   "metadata": {},
   "outputs": [],
   "source": []
  },
  {
   "cell_type": "code",
   "execution_count": null,
   "id": "3e62e269",
   "metadata": {},
   "outputs": [],
   "source": []
  },
  {
   "cell_type": "code",
   "execution_count": null,
   "id": "1000512f",
   "metadata": {},
   "outputs": [],
   "source": []
  },
  {
   "cell_type": "code",
   "execution_count": null,
   "id": "90f59fa1",
   "metadata": {},
   "outputs": [],
   "source": []
  },
  {
   "cell_type": "code",
   "execution_count": null,
   "id": "f83a13fd",
   "metadata": {},
   "outputs": [],
   "source": []
  },
  {
   "cell_type": "code",
   "execution_count": null,
   "id": "8df3c0b2",
   "metadata": {},
   "outputs": [],
   "source": []
  },
  {
   "cell_type": "code",
   "execution_count": null,
   "id": "4f26336a",
   "metadata": {},
   "outputs": [],
   "source": []
  },
  {
   "cell_type": "code",
   "execution_count": null,
   "id": "ccac97e5",
   "metadata": {},
   "outputs": [],
   "source": []
  },
  {
   "cell_type": "code",
   "execution_count": null,
   "id": "c2cd1613",
   "metadata": {},
   "outputs": [],
   "source": []
  },
  {
   "cell_type": "code",
   "execution_count": null,
   "id": "68eba910",
   "metadata": {},
   "outputs": [],
   "source": []
  },
  {
   "cell_type": "code",
   "execution_count": null,
   "id": "1c54924e",
   "metadata": {},
   "outputs": [],
   "source": []
  },
  {
   "cell_type": "code",
   "execution_count": null,
   "id": "847c0fe2",
   "metadata": {},
   "outputs": [],
   "source": []
  },
  {
   "cell_type": "code",
   "execution_count": null,
   "id": "52ef4e4d",
   "metadata": {},
   "outputs": [],
   "source": []
  },
  {
   "cell_type": "code",
   "execution_count": null,
   "id": "f104efed",
   "metadata": {},
   "outputs": [],
   "source": []
  },
  {
   "cell_type": "markdown",
   "id": "00b9e4b7",
   "metadata": {},
   "source": [
    "# Data Frame"
   ]
  },
  {
   "cell_type": "markdown",
   "id": "9b2b0a3c",
   "metadata": {},
   "source": [
    "#### pehlay aik column tha, ab multiple columns hoon gay. multiple column ko hum naam bhi day sktay hain. index-of-column, bhi mojood hoga. index-of-column numeric bhi ho skta hay, non-numeric bhi ho skta hay.\n",
    "\n",
    "- column ko access krna hua tu naam-name/index(0,1,2,..)  2non k zariye say access kr sktay hain\n",
    "- row ko access krna hua tu naam-label/index(0,1,2,..)  2non k zariye say access kr sktay hain \n",
    "\n"
   ]
  },
  {
   "cell_type": "markdown",
   "id": "6cd96f56",
   "metadata": {},
   "source": [
    "#### Examples:\n",
    "\n",
    "<img src=\"DataFrame1.png\" width=400 height=400 />"
   ]
  },
  {
   "cell_type": "markdown",
   "id": "7f5ce9fe",
   "metadata": {},
   "source": [
    "<img src=\"DataFrame2.png\" width=400 height=400 />"
   ]
  },
  {
   "cell_type": "markdown",
   "id": "de2052f9",
   "metadata": {},
   "source": [
    "### merging series to make a data frame"
   ]
  },
  {
   "cell_type": "markdown",
   "id": "1834d9b5",
   "metadata": {},
   "source": [
    "#### jab 2 say 2 say ziada series ko aap merge kr rahay hotay ho tb, indices same hni chahiyeain, agar same na huieen tu data merge nahi hoga.\n",
    "\n",
    "<img src=\"series-merge.png\" width=400 height=400 />"
   ]
  },
  {
   "cell_type": "markdown",
   "id": "5a85891e",
   "metadata": {},
   "source": [
    "#### Creating a DataFrame from Dictionary of Series"
   ]
  },
  {
   "cell_type": "code",
   "execution_count": 1,
   "id": "c5ba5835",
   "metadata": {},
   "outputs": [
    {
     "name": "stdout",
     "output_type": "stream",
     "text": [
      "mon    3\n",
      "tue    2\n",
      "wed    0\n",
      "thu    1\n",
      "fri    4\n",
      "sat    9\n",
      "sun    6\n",
      "dtype: int64 \n",
      "\n",
      "\n",
      "mon    3\n",
      "tue    2\n",
      "wed    0\n",
      "thu    1\n",
      "fri    4\n",
      "sat    9\n",
      "sun    6\n",
      "dtype: int64\n",
      "\n",
      "\n",
      "      Apples  Oranges\n",
      "mon       3        3\n",
      "tue       2        2\n",
      "wed       0        0\n",
      "thu       1        1\n",
      "fri       4        4\n",
      "sat       9        9\n",
      "sun       6        6\n"
     ]
    }
   ],
   "source": [
    "import pandas as pd\n",
    "\n",
    "# creating two series\n",
    "apples  = pd.Series( [3,2,0,1,4,9,6], index = ['mon', 'tue', 'wed', 'thu', 'fri', 'sat', 'sun'] )\n",
    "oranges = pd.Series( [3,2,0,1,4,9,6], index = ['mon', 'tue', 'wed', 'thu', 'fri', 'sat', 'sun'] )\n",
    "\n",
    "\n",
    "# printing two series separately\n",
    "print(apples, '\\n\\n')\n",
    "print(oranges)\n",
    "\n",
    "\n",
    "# creating a dictionary\n",
    "# dictionary say directly series bhi bana sktay hain\n",
    "# dictionary say directly Data Frame bhi bana sktay hain\n",
    "\n",
    "data = {'Apples': apples,\n",
    "       'Oranges': oranges}\n",
    "# 'Apples', 'Oranges ye hamaray columns k naam hoon gay'\n",
    "\n",
    "\n",
    "\n",
    "# creating a DataFrame\n",
    "fruits_df = pd.DataFrame(data)\n",
    "\n",
    "print('\\n\\n', fruits_df)\n",
    "\n",
    "\n"
   ]
  },
  {
   "cell_type": "markdown",
   "id": "c5f234aa",
   "metadata": {},
   "source": [
    "#### Merging series with d/f indices\n",
    "\n",
    "#### jo jo indices d/f hoon gay, vo 2non hi newly-created dat-frame main aa jayain gay, BUTTT oppposite-series valay column mn on ki values Nan hhon gi, E.G: see 'm' vs 'mon' in the following series "
   ]
  },
  {
   "cell_type": "code",
   "execution_count": 2,
   "id": "1b7891bf",
   "metadata": {},
   "outputs": [
    {
     "name": "stdout",
     "output_type": "stream",
     "text": [
      "m      3\n",
      "tue    2\n",
      "wed    0\n",
      "thu    1\n",
      "fri    4\n",
      "sat    9\n",
      "sun    6\n",
      "dtype: int64 \n",
      "\n",
      "\n",
      "mon    3\n",
      "tue    2\n",
      "wed    0\n",
      "thu    1\n",
      "fri    4\n",
      "sat    9\n",
      "sun    6\n",
      "dtype: int64\n",
      "\n",
      "\n",
      "      Apples  Oranges\n",
      "fri     4.0      4.0\n",
      "m       3.0      NaN\n",
      "mon     NaN      3.0\n",
      "sat     9.0      9.0\n",
      "sun     6.0      6.0\n",
      "thu     1.0      1.0\n",
      "tue     2.0      2.0\n",
      "wed     0.0      0.0\n"
     ]
    }
   ],
   "source": [
    "import pandas as pd\n",
    "\n",
    "# creating two series\n",
    "apples  = pd.Series( [3,2,0,1,4,9,6], index = ['m', 'tue', 'wed', 'thu', 'fri', 'sat', 'sun'] )\n",
    "oranges = pd.Series( [3,2,0,1,4,9,6], index = ['mon', 'tue', 'wed', 'thu', 'fri', 'sat', 'sun'] )\n",
    "\n",
    "\n",
    "# printing two series separately\n",
    "print(apples, '\\n\\n')\n",
    "print(oranges)\n",
    "\n",
    "\n",
    "# creating a dictionary\n",
    "# dictionary say directly series bhi bana sktay hain\n",
    "# dictionary say directly Data Frame bhi bana sktay hain\n",
    "\n",
    "data = {'Apples': apples,\n",
    "       'Oranges': oranges}\n",
    "# 'Apples', 'Oranges ye hamaray columns k naam hoon gay'\n",
    "\n",
    "\n",
    "\n",
    "# creating a DataFrame\n",
    "fruits_df = pd.DataFrame(data)\n",
    "\n",
    "print('\\n\\n', fruits_df)\n",
    "\n",
    "\n"
   ]
  },
  {
   "cell_type": "code",
   "execution_count": 3,
   "id": "b6252ea0",
   "metadata": {},
   "outputs": [
    {
     "name": "stdout",
     "output_type": "stream",
     "text": [
      "         Apples  Oranges\n",
      "indices                 \n",
      "mon           3        3\n",
      "tue           2        2\n",
      "wed           0        0\n",
      "thu           1        1\n",
      "fri           4        4\n",
      "sat           9        9\n",
      "sun           6        6\n"
     ]
    }
   ],
   "source": [
    "# note previously hum pd.Series() ko \"Dictionary of key-value pairs\" send krtay thay, or hamain, aik series output milti thi\n",
    "# jis ki indices dict-keys hti theen or jis ki values dict-value hti theen\n",
    "\n",
    "# Ab hum pd.DataFrame() ko \"Dictionary-of-Series\" pass kr rahay hain, or dict-keys ko as column-names lay rha hay, or\n",
    "# Dict-Values ko as column-values lay rha hain + index names bhi onhi series say lay rha hain.\n",
    "\n",
    "fruits_df.index.name = 'indices'\n",
    "\n",
    "print(fruits_df)x\n",
    "# vao is nay index k naam ko vaziha toor pr columns k naamon say d/f kr k likha hay\n",
    "\n"
   ]
  },
  {
   "cell_type": "markdown",
   "id": "28413ba5",
   "metadata": {},
   "source": [
    "#### Creating a DataFrame from Dictionary of Lists\n"
   ]
  },
  {
   "cell_type": "code",
   "execution_count": 4,
   "id": "f6efe221",
   "metadata": {},
   "outputs": [
    {
     "name": "stdout",
     "output_type": "stream",
     "text": [
      "    state  year  pop\n",
      "0    Ohio  2000  1.5\n",
      "1    Ohio  2001  1.7\n",
      "2    Ohio  2002  3.6\n",
      "3  Nevada  2001  2.4\n",
      "4  Nevada  2002  2.9\n",
      "5  Nevada  2003  3.2\n"
     ]
    }
   ],
   "source": [
    "state = ['Ohio', 'Ohio', 'Ohio', 'Nevada', 'Nevada', 'Nevada']\n",
    "\n",
    "data = {'state': state,\n",
    " 'year': [2000, 2001, 2002, 2001, 2002, 2003],\n",
    " 'pop': [1.5, 1.7, 3.6, 2.4, 2.9, 3.2]}\n",
    "\n",
    "\n",
    "frame = pd.DataFrame(data)\n",
    "print(frame)\n",
    "# ab indices automatically aaye\n",
    "# is bar Dictionary-of-series hum nay pass NAHI ki thi, still, dict-keys ko os nay as column names hi use kia\n"
   ]
  },
  {
   "cell_type": "markdown",
   "id": "d525cbae",
   "metadata": {},
   "source": [
    "#### Passing indices directly inside DataFrame()"
   ]
  },
  {
   "cell_type": "code",
   "execution_count": 1,
   "id": "aaff8e8c",
   "metadata": {},
   "outputs": [
    {
     "name": "stdout",
     "output_type": "stream",
     "text": [
      "      state  year  pop\n",
      "1st    Ohio  2000  1.5\n",
      "2nd    Ohio  2001  1.7\n",
      "2rd    Ohio  2002  3.6\n",
      "4th  Nevada  2001  2.4\n",
      "5th  Nevada  2002  2.9\n",
      "6th  Nevada  2003  3.2\n"
     ]
    }
   ],
   "source": [
    "import pandas as pd\n",
    "\n",
    "# chahay tu index day do koi, chahay tu na do\n",
    "state = ['Ohio', 'Ohio', 'Ohio', 'Nevada', 'Nevada', 'Nevada']\n",
    "\n",
    "data = {'state': state,\n",
    " 'year': [2000, 2001, 2002, 2001, 2002, 2003],\n",
    " 'pop': [1.5, 1.7, 3.6, 2.4, 2.9, 3.2]}\n",
    "\n",
    "\n",
    "frame = pd.DataFrame(data, index = ['1st', '2nd', '2rd', '4th', '5th', '6th'])\n",
    "print(frame)\n"
   ]
  },
  {
   "cell_type": "code",
   "execution_count": 5,
   "id": "004e4280",
   "metadata": {},
   "outputs": [
    {
     "ename": "ValueError",
     "evalue": "Length of values (6) does not match length of index (5)",
     "output_type": "error",
     "traceback": [
      "\u001b[1;31m---------------------------------------------------------------------------\u001b[0m",
      "\u001b[1;31mValueError\u001b[0m                                Traceback (most recent call last)",
      "Cell \u001b[1;32mIn[5], line 8\u001b[0m\n\u001b[0;32m      1\u001b[0m \u001b[38;5;66;03m# error expected\u001b[39;00m\n\u001b[0;32m      2\u001b[0m \u001b[38;5;66;03m# #-of index thoray pass kiye thay\u001b[39;00m\n\u001b[0;32m      3\u001b[0m \u001b[38;5;66;03m# ziada pass krnay say bhi error aaye ga\u001b[39;00m\n\u001b[1;32m----> 8\u001b[0m frame \u001b[38;5;241m=\u001b[39m \u001b[43mpd\u001b[49m\u001b[38;5;241;43m.\u001b[39;49m\u001b[43mDataFrame\u001b[49m\u001b[43m(\u001b[49m\u001b[43mdata\u001b[49m\u001b[43m,\u001b[49m\u001b[43m \u001b[49m\u001b[43mindex\u001b[49m\u001b[43m \u001b[49m\u001b[38;5;241;43m=\u001b[39;49m\u001b[43m \u001b[49m\u001b[43m[\u001b[49m\u001b[38;5;124;43m'\u001b[39;49m\u001b[38;5;124;43m1st\u001b[39;49m\u001b[38;5;124;43m'\u001b[39;49m\u001b[43m,\u001b[49m\u001b[43m \u001b[49m\u001b[38;5;124;43m'\u001b[39;49m\u001b[38;5;124;43m2nd\u001b[39;49m\u001b[38;5;124;43m'\u001b[39;49m\u001b[43m,\u001b[49m\u001b[43m \u001b[49m\u001b[38;5;124;43m'\u001b[39;49m\u001b[38;5;124;43m2rd\u001b[39;49m\u001b[38;5;124;43m'\u001b[39;49m\u001b[43m,\u001b[49m\u001b[43m \u001b[49m\u001b[38;5;124;43m'\u001b[39;49m\u001b[38;5;124;43m4th\u001b[39;49m\u001b[38;5;124;43m'\u001b[39;49m\u001b[43m,\u001b[49m\u001b[43m \u001b[49m\u001b[38;5;124;43m'\u001b[39;49m\u001b[38;5;124;43m5th\u001b[39;49m\u001b[38;5;124;43m'\u001b[39;49m\u001b[43m]\u001b[49m\u001b[43m)\u001b[49m\n\u001b[0;32m      9\u001b[0m \u001b[38;5;28mprint\u001b[39m(frame)\n",
      "File \u001b[1;32m~\\AppData\\Local\\Programs\\Python\\Python310\\lib\\site-packages\\pandas\\core\\frame.py:709\u001b[0m, in \u001b[0;36mDataFrame.__init__\u001b[1;34m(self, data, index, columns, dtype, copy)\u001b[0m\n\u001b[0;32m    703\u001b[0m     mgr \u001b[38;5;241m=\u001b[39m \u001b[38;5;28mself\u001b[39m\u001b[38;5;241m.\u001b[39m_init_mgr(\n\u001b[0;32m    704\u001b[0m         data, axes\u001b[38;5;241m=\u001b[39m{\u001b[38;5;124m\"\u001b[39m\u001b[38;5;124mindex\u001b[39m\u001b[38;5;124m\"\u001b[39m: index, \u001b[38;5;124m\"\u001b[39m\u001b[38;5;124mcolumns\u001b[39m\u001b[38;5;124m\"\u001b[39m: columns}, dtype\u001b[38;5;241m=\u001b[39mdtype, copy\u001b[38;5;241m=\u001b[39mcopy\n\u001b[0;32m    705\u001b[0m     )\n\u001b[0;32m    707\u001b[0m \u001b[38;5;28;01melif\u001b[39;00m \u001b[38;5;28misinstance\u001b[39m(data, \u001b[38;5;28mdict\u001b[39m):\n\u001b[0;32m    708\u001b[0m     \u001b[38;5;66;03m# GH#38939 de facto copy defaults to False only in non-dict cases\u001b[39;00m\n\u001b[1;32m--> 709\u001b[0m     mgr \u001b[38;5;241m=\u001b[39m \u001b[43mdict_to_mgr\u001b[49m\u001b[43m(\u001b[49m\u001b[43mdata\u001b[49m\u001b[43m,\u001b[49m\u001b[43m \u001b[49m\u001b[43mindex\u001b[49m\u001b[43m,\u001b[49m\u001b[43m \u001b[49m\u001b[43mcolumns\u001b[49m\u001b[43m,\u001b[49m\u001b[43m \u001b[49m\u001b[43mdtype\u001b[49m\u001b[38;5;241;43m=\u001b[39;49m\u001b[43mdtype\u001b[49m\u001b[43m,\u001b[49m\u001b[43m \u001b[49m\u001b[43mcopy\u001b[49m\u001b[38;5;241;43m=\u001b[39;49m\u001b[43mcopy\u001b[49m\u001b[43m,\u001b[49m\u001b[43m \u001b[49m\u001b[43mtyp\u001b[49m\u001b[38;5;241;43m=\u001b[39;49m\u001b[43mmanager\u001b[49m\u001b[43m)\u001b[49m\n\u001b[0;32m    710\u001b[0m \u001b[38;5;28;01melif\u001b[39;00m \u001b[38;5;28misinstance\u001b[39m(data, ma\u001b[38;5;241m.\u001b[39mMaskedArray):\n\u001b[0;32m    711\u001b[0m     \u001b[38;5;28;01mfrom\u001b[39;00m \u001b[38;5;21;01mnumpy\u001b[39;00m\u001b[38;5;21;01m.\u001b[39;00m\u001b[38;5;21;01mma\u001b[39;00m \u001b[38;5;28;01mimport\u001b[39;00m mrecords\n",
      "File \u001b[1;32m~\\AppData\\Local\\Programs\\Python\\Python310\\lib\\site-packages\\pandas\\core\\internals\\construction.py:481\u001b[0m, in \u001b[0;36mdict_to_mgr\u001b[1;34m(data, index, columns, dtype, typ, copy)\u001b[0m\n\u001b[0;32m    477\u001b[0m     \u001b[38;5;28;01melse\u001b[39;00m:\n\u001b[0;32m    478\u001b[0m         \u001b[38;5;66;03m# dtype check to exclude e.g. range objects, scalars\u001b[39;00m\n\u001b[0;32m    479\u001b[0m         arrays \u001b[38;5;241m=\u001b[39m [x\u001b[38;5;241m.\u001b[39mcopy() \u001b[38;5;28;01mif\u001b[39;00m \u001b[38;5;28mhasattr\u001b[39m(x, \u001b[38;5;124m\"\u001b[39m\u001b[38;5;124mdtype\u001b[39m\u001b[38;5;124m\"\u001b[39m) \u001b[38;5;28;01melse\u001b[39;00m x \u001b[38;5;28;01mfor\u001b[39;00m x \u001b[38;5;129;01min\u001b[39;00m arrays]\n\u001b[1;32m--> 481\u001b[0m \u001b[38;5;28;01mreturn\u001b[39;00m \u001b[43marrays_to_mgr\u001b[49m\u001b[43m(\u001b[49m\u001b[43marrays\u001b[49m\u001b[43m,\u001b[49m\u001b[43m \u001b[49m\u001b[43mcolumns\u001b[49m\u001b[43m,\u001b[49m\u001b[43m \u001b[49m\u001b[43mindex\u001b[49m\u001b[43m,\u001b[49m\u001b[43m \u001b[49m\u001b[43mdtype\u001b[49m\u001b[38;5;241;43m=\u001b[39;49m\u001b[43mdtype\u001b[49m\u001b[43m,\u001b[49m\u001b[43m \u001b[49m\u001b[43mtyp\u001b[49m\u001b[38;5;241;43m=\u001b[39;49m\u001b[43mtyp\u001b[49m\u001b[43m,\u001b[49m\u001b[43m \u001b[49m\u001b[43mconsolidate\u001b[49m\u001b[38;5;241;43m=\u001b[39;49m\u001b[43mcopy\u001b[49m\u001b[43m)\u001b[49m\n",
      "File \u001b[1;32m~\\AppData\\Local\\Programs\\Python\\Python310\\lib\\site-packages\\pandas\\core\\internals\\construction.py:120\u001b[0m, in \u001b[0;36marrays_to_mgr\u001b[1;34m(arrays, columns, index, dtype, verify_integrity, typ, consolidate)\u001b[0m\n\u001b[0;32m    117\u001b[0m         index \u001b[38;5;241m=\u001b[39m ensure_index(index)\n\u001b[0;32m    119\u001b[0m     \u001b[38;5;66;03m# don't force copy because getting jammed in an ndarray anyway\u001b[39;00m\n\u001b[1;32m--> 120\u001b[0m     arrays, refs \u001b[38;5;241m=\u001b[39m \u001b[43m_homogenize\u001b[49m\u001b[43m(\u001b[49m\u001b[43marrays\u001b[49m\u001b[43m,\u001b[49m\u001b[43m \u001b[49m\u001b[43mindex\u001b[49m\u001b[43m,\u001b[49m\u001b[43m \u001b[49m\u001b[43mdtype\u001b[49m\u001b[43m)\u001b[49m\n\u001b[0;32m    121\u001b[0m     \u001b[38;5;66;03m# _homogenize ensures\u001b[39;00m\n\u001b[0;32m    122\u001b[0m     \u001b[38;5;66;03m#  - all(len(x) == len(index) for x in arrays)\u001b[39;00m\n\u001b[0;32m    123\u001b[0m     \u001b[38;5;66;03m#  - all(x.ndim == 1 for x in arrays)\u001b[39;00m\n\u001b[1;32m   (...)\u001b[0m\n\u001b[0;32m    126\u001b[0m \n\u001b[0;32m    127\u001b[0m \u001b[38;5;28;01melse\u001b[39;00m:\n\u001b[0;32m    128\u001b[0m     index \u001b[38;5;241m=\u001b[39m ensure_index(index)\n",
      "File \u001b[1;32m~\\AppData\\Local\\Programs\\Python\\Python310\\lib\\site-packages\\pandas\\core\\internals\\construction.py:608\u001b[0m, in \u001b[0;36m_homogenize\u001b[1;34m(data, index, dtype)\u001b[0m\n\u001b[0;32m    605\u001b[0m         val \u001b[38;5;241m=\u001b[39m lib\u001b[38;5;241m.\u001b[39mfast_multiget(val, oindex\u001b[38;5;241m.\u001b[39m_values, default\u001b[38;5;241m=\u001b[39mnp\u001b[38;5;241m.\u001b[39mnan)\n\u001b[0;32m    607\u001b[0m     val \u001b[38;5;241m=\u001b[39m sanitize_array(val, index, dtype\u001b[38;5;241m=\u001b[39mdtype, copy\u001b[38;5;241m=\u001b[39m\u001b[38;5;28;01mFalse\u001b[39;00m)\n\u001b[1;32m--> 608\u001b[0m     \u001b[43mcom\u001b[49m\u001b[38;5;241;43m.\u001b[39;49m\u001b[43mrequire_length_match\u001b[49m\u001b[43m(\u001b[49m\u001b[43mval\u001b[49m\u001b[43m,\u001b[49m\u001b[43m \u001b[49m\u001b[43mindex\u001b[49m\u001b[43m)\u001b[49m\n\u001b[0;32m    609\u001b[0m     refs\u001b[38;5;241m.\u001b[39mappend(\u001b[38;5;28;01mNone\u001b[39;00m)\n\u001b[0;32m    611\u001b[0m homogenized\u001b[38;5;241m.\u001b[39mappend(val)\n",
      "File \u001b[1;32m~\\AppData\\Local\\Programs\\Python\\Python310\\lib\\site-packages\\pandas\\core\\common.py:576\u001b[0m, in \u001b[0;36mrequire_length_match\u001b[1;34m(data, index)\u001b[0m\n\u001b[0;32m    572\u001b[0m \u001b[38;5;250m\u001b[39m\u001b[38;5;124;03m\"\"\"\u001b[39;00m\n\u001b[0;32m    573\u001b[0m \u001b[38;5;124;03mCheck the length of data matches the length of the index.\u001b[39;00m\n\u001b[0;32m    574\u001b[0m \u001b[38;5;124;03m\"\"\"\u001b[39;00m\n\u001b[0;32m    575\u001b[0m \u001b[38;5;28;01mif\u001b[39;00m \u001b[38;5;28mlen\u001b[39m(data) \u001b[38;5;241m!=\u001b[39m \u001b[38;5;28mlen\u001b[39m(index):\n\u001b[1;32m--> 576\u001b[0m     \u001b[38;5;28;01mraise\u001b[39;00m \u001b[38;5;167;01mValueError\u001b[39;00m(\n\u001b[0;32m    577\u001b[0m         \u001b[38;5;124m\"\u001b[39m\u001b[38;5;124mLength of values \u001b[39m\u001b[38;5;124m\"\u001b[39m\n\u001b[0;32m    578\u001b[0m         \u001b[38;5;124mf\u001b[39m\u001b[38;5;124m\"\u001b[39m\u001b[38;5;124m(\u001b[39m\u001b[38;5;132;01m{\u001b[39;00m\u001b[38;5;28mlen\u001b[39m(data)\u001b[38;5;132;01m}\u001b[39;00m\u001b[38;5;124m) \u001b[39m\u001b[38;5;124m\"\u001b[39m\n\u001b[0;32m    579\u001b[0m         \u001b[38;5;124m\"\u001b[39m\u001b[38;5;124mdoes not match length of index \u001b[39m\u001b[38;5;124m\"\u001b[39m\n\u001b[0;32m    580\u001b[0m         \u001b[38;5;124mf\u001b[39m\u001b[38;5;124m\"\u001b[39m\u001b[38;5;124m(\u001b[39m\u001b[38;5;132;01m{\u001b[39;00m\u001b[38;5;28mlen\u001b[39m(index)\u001b[38;5;132;01m}\u001b[39;00m\u001b[38;5;124m)\u001b[39m\u001b[38;5;124m\"\u001b[39m\n\u001b[0;32m    581\u001b[0m     )\n",
      "\u001b[1;31mValueError\u001b[0m: Length of values (6) does not match length of index (5)"
     ]
    }
   ],
   "source": [
    "# error expected\n",
    "# #-of index thoray pass kiye thay\n",
    "# ziada pass krnay say bhi error aaye ga\n",
    "\n",
    "\n",
    "\n",
    "\n",
    "frame = pd.DataFrame(data, index = ['1st', '2nd', '2rd', '4th', '5th'])\n",
    "print(frame)\n"
   ]
  },
  {
   "cell_type": "markdown",
   "id": "47bc7b0d",
   "metadata": {},
   "source": [
    "#### can write data-frame on multiple lines\n"
   ]
  },
  {
   "cell_type": "code",
   "execution_count": 28,
   "id": "b108d638",
   "metadata": {},
   "outputs": [
    {
     "name": "stdout",
     "output_type": "stream",
     "text": [
      "      state  year  pop\n",
      "1st    Ohio  2000  1.5\n",
      "2nd    Ohio  2001  1.7\n",
      "2rd    Ohio  2002  3.6\n",
      "4th  Nevada  2001  2.4\n",
      "5th  Nevada  2002  2.9\n",
      "6th  Nevada  2003  3.2\n"
     ]
    }
   ],
   "source": [
    "state_pop_df = pd.DataFrame(data, index = ['1st', '2nd',\n",
    "                                    '3rd', '4th',\n",
    "                                    '5th', '6th'])\n",
    "print(state_pop_df)\n",
    "\n",
    "# commas, brackets etc ka khayal rakhna\n"
   ]
  },
  {
   "cell_type": "markdown",
   "id": "3d027323",
   "metadata": {},
   "source": [
    "### ------.head()\n",
    "#### agar data-set bohot bara ho tu isay use kr sktay hain, ye top 5 ko hi bas print kray ga\n",
    "\n",
    "Some good practices:\n",
    "- Jab bhi koi data-frame aap banao, tu os k naam k aakhir main   **_df** zroor lgao, isay aap ko yaad rahay ga k ye aik data-frame-object hay\n",
    "\n",
    "\n",
    "- data-frame object ka naam hmaisha, os k andar jo data hoga, os data k characteristics say mutabqat rkhta ho. e.g agar state ki population ka data hay, tu data-frame object ka naam **state_pop_df** rakh lo\n",
    "\n",
    "\n",
    "- jab baray baray programs bnao gay, tab koshish kro k har variable ka naam, bara or meaningful ho, tb aap ko kaam main aasaani hogi."
   ]
  },
  {
   "cell_type": "code",
   "execution_count": 29,
   "id": "59647d84",
   "metadata": {},
   "outputs": [
    {
     "data": {
      "text/html": [
       "<div>\n",
       "<style scoped>\n",
       "    .dataframe tbody tr th:only-of-type {\n",
       "        vertical-align: middle;\n",
       "    }\n",
       "\n",
       "    .dataframe tbody tr th {\n",
       "        vertical-align: top;\n",
       "    }\n",
       "\n",
       "    .dataframe thead th {\n",
       "        text-align: right;\n",
       "    }\n",
       "</style>\n",
       "<table border=\"1\" class=\"dataframe\">\n",
       "  <thead>\n",
       "    <tr style=\"text-align: right;\">\n",
       "      <th></th>\n",
       "      <th>state</th>\n",
       "      <th>year</th>\n",
       "      <th>pop</th>\n",
       "    </tr>\n",
       "  </thead>\n",
       "  <tbody>\n",
       "    <tr>\n",
       "      <th>1st</th>\n",
       "      <td>Ohio</td>\n",
       "      <td>2000</td>\n",
       "      <td>1.5</td>\n",
       "    </tr>\n",
       "    <tr>\n",
       "      <th>2nd</th>\n",
       "      <td>Ohio</td>\n",
       "      <td>2001</td>\n",
       "      <td>1.7</td>\n",
       "    </tr>\n",
       "    <tr>\n",
       "      <th>2rd</th>\n",
       "      <td>Ohio</td>\n",
       "      <td>2002</td>\n",
       "      <td>3.6</td>\n",
       "    </tr>\n",
       "    <tr>\n",
       "      <th>4th</th>\n",
       "      <td>Nevada</td>\n",
       "      <td>2001</td>\n",
       "      <td>2.4</td>\n",
       "    </tr>\n",
       "    <tr>\n",
       "      <th>5th</th>\n",
       "      <td>Nevada</td>\n",
       "      <td>2002</td>\n",
       "      <td>2.9</td>\n",
       "    </tr>\n",
       "  </tbody>\n",
       "</table>\n",
       "</div>"
      ],
      "text/plain": [
       "      state  year  pop\n",
       "1st    Ohio  2000  1.5\n",
       "2nd    Ohio  2001  1.7\n",
       "2rd    Ohio  2002  3.6\n",
       "4th  Nevada  2001  2.4\n",
       "5th  Nevada  2002  2.9"
      ]
     },
     "execution_count": 29,
     "metadata": {},
     "output_type": "execute_result"
    }
   ],
   "source": [
    "state_pop_df.head()\n"
   ]
  },
  {
   "cell_type": "markdown",
   "id": "39b7714e",
   "metadata": {},
   "source": [
    "### changing the positions/arrangement of columns\n",
    "\n",
    "Jis trah Series k case main, hum indices ki positions change kr detay thay.\n",
    "Original data set vli positions use nahi krtay thay, apni mrzi ki positions use krtay thay.\n",
    "Or ye kaam, Series create krtay vaqt hi ho skta tha (most-probably)\n",
    "\n",
    "\n",
    "Osi trah, voi kaam, Data frame main, columns k sath bhi kr sktay hain.\n"
   ]
  },
  {
   "cell_type": "code",
   "execution_count": 6,
   "id": "11f8dbe9",
   "metadata": {},
   "outputs": [
    {
     "data": {
      "text/html": [
       "<div>\n",
       "<style scoped>\n",
       "    .dataframe tbody tr th:only-of-type {\n",
       "        vertical-align: middle;\n",
       "    }\n",
       "\n",
       "    .dataframe tbody tr th {\n",
       "        vertical-align: top;\n",
       "    }\n",
       "\n",
       "    .dataframe thead th {\n",
       "        text-align: right;\n",
       "    }\n",
       "</style>\n",
       "<table border=\"1\" class=\"dataframe\">\n",
       "  <thead>\n",
       "    <tr style=\"text-align: right;\">\n",
       "      <th></th>\n",
       "      <th>year</th>\n",
       "      <th>state</th>\n",
       "      <th>pop</th>\n",
       "    </tr>\n",
       "  </thead>\n",
       "  <tbody>\n",
       "    <tr>\n",
       "      <th>0</th>\n",
       "      <td>2000</td>\n",
       "      <td>Ohio</td>\n",
       "      <td>1.5</td>\n",
       "    </tr>\n",
       "    <tr>\n",
       "      <th>1</th>\n",
       "      <td>2001</td>\n",
       "      <td>Ohio</td>\n",
       "      <td>1.7</td>\n",
       "    </tr>\n",
       "    <tr>\n",
       "      <th>2</th>\n",
       "      <td>2002</td>\n",
       "      <td>Ohio</td>\n",
       "      <td>3.6</td>\n",
       "    </tr>\n",
       "    <tr>\n",
       "      <th>3</th>\n",
       "      <td>2001</td>\n",
       "      <td>Nevada</td>\n",
       "      <td>2.4</td>\n",
       "    </tr>\n",
       "    <tr>\n",
       "      <th>4</th>\n",
       "      <td>2002</td>\n",
       "      <td>Nevada</td>\n",
       "      <td>2.9</td>\n",
       "    </tr>\n",
       "  </tbody>\n",
       "</table>\n",
       "</div>"
      ],
      "text/plain": [
       "   year   state  pop\n",
       "0  2000    Ohio  1.5\n",
       "1  2001    Ohio  1.7\n",
       "2  2002    Ohio  3.6\n",
       "3  2001  Nevada  2.4\n",
       "4  2002  Nevada  2.9"
      ]
     },
     "execution_count": 6,
     "metadata": {},
     "output_type": "execute_result"
    }
   ],
   "source": [
    "# chahay tu index day do koi, chahay tu na do\n",
    "data = {'state': ['Ohio', 'Ohio', 'Ohio', 'Nevada', 'Nevada', 'Nevada'],\n",
    " 'year': [2000, 2001, 2002, 2001, 2002, 2003],\n",
    " 'pop': [1.5, 1.7, 3.6, 2.4, 2.9, 3.2]}\n",
    "\n",
    "\n",
    "state_popu_df = pd.DataFrame(data, columns = ['year', 'state', 'pop'])\n",
    "state_popu_df.head()\n",
    "\n"
   ]
  },
  {
   "cell_type": "markdown",
   "id": "3b7922fb",
   "metadata": {},
   "source": [
    "Agar kisi column ka naam d/f pass kr diya - d/f as-compared-to original data-set, tu os column ki tamaam values main **'Nan'** aa jaye ga\n",
    "\n",
    "Asal main, pandas ab isay aik new column ki trah treat kr raha hay, see 2nd cell"
   ]
  },
  {
   "cell_type": "code",
   "execution_count": 34,
   "id": "b74ffa22",
   "metadata": {},
   "outputs": [
    {
     "data": {
      "text/html": [
       "<div>\n",
       "<style scoped>\n",
       "    .dataframe tbody tr th:only-of-type {\n",
       "        vertical-align: middle;\n",
       "    }\n",
       "\n",
       "    .dataframe tbody tr th {\n",
       "        vertical-align: top;\n",
       "    }\n",
       "\n",
       "    .dataframe thead th {\n",
       "        text-align: right;\n",
       "    }\n",
       "</style>\n",
       "<table border=\"1\" class=\"dataframe\">\n",
       "  <thead>\n",
       "    <tr style=\"text-align: right;\">\n",
       "      <th></th>\n",
       "      <th>year</th>\n",
       "      <th>state</th>\n",
       "      <th>popu</th>\n",
       "    </tr>\n",
       "  </thead>\n",
       "  <tbody>\n",
       "    <tr>\n",
       "      <th>0</th>\n",
       "      <td>2000</td>\n",
       "      <td>Ohio</td>\n",
       "      <td>NaN</td>\n",
       "    </tr>\n",
       "    <tr>\n",
       "      <th>1</th>\n",
       "      <td>2001</td>\n",
       "      <td>Ohio</td>\n",
       "      <td>NaN</td>\n",
       "    </tr>\n",
       "    <tr>\n",
       "      <th>2</th>\n",
       "      <td>2002</td>\n",
       "      <td>Ohio</td>\n",
       "      <td>NaN</td>\n",
       "    </tr>\n",
       "    <tr>\n",
       "      <th>3</th>\n",
       "      <td>2001</td>\n",
       "      <td>Nevada</td>\n",
       "      <td>NaN</td>\n",
       "    </tr>\n",
       "    <tr>\n",
       "      <th>4</th>\n",
       "      <td>2002</td>\n",
       "      <td>Nevada</td>\n",
       "      <td>NaN</td>\n",
       "    </tr>\n",
       "  </tbody>\n",
       "</table>\n",
       "</div>"
      ],
      "text/plain": [
       "   year   state popu\n",
       "0  2000    Ohio  NaN\n",
       "1  2001    Ohio  NaN\n",
       "2  2002    Ohio  NaN\n",
       "3  2001  Nevada  NaN\n",
       "4  2002  Nevada  NaN"
      ]
     },
     "execution_count": 34,
     "metadata": {},
     "output_type": "execute_result"
    }
   ],
   "source": [
    "# 'Nan' expected\n",
    "state_popu_df = pd.DataFrame(data, columns = ['year', 'state', 'popu'])\n",
    "state_popu_df.head()\n",
    "\n",
    "\n"
   ]
  },
  {
   "cell_type": "markdown",
   "id": "664b90fe",
   "metadata": {},
   "source": [
    "### Inserting an extra column by mistake\n",
    "\n",
    "we can fill this extra column later"
   ]
  },
  {
   "cell_type": "code",
   "execution_count": 36,
   "id": "0cda776d",
   "metadata": {},
   "outputs": [
    {
     "data": {
      "text/html": [
       "<div>\n",
       "<style scoped>\n",
       "    .dataframe tbody tr th:only-of-type {\n",
       "        vertical-align: middle;\n",
       "    }\n",
       "\n",
       "    .dataframe tbody tr th {\n",
       "        vertical-align: top;\n",
       "    }\n",
       "\n",
       "    .dataframe thead th {\n",
       "        text-align: right;\n",
       "    }\n",
       "</style>\n",
       "<table border=\"1\" class=\"dataframe\">\n",
       "  <thead>\n",
       "    <tr style=\"text-align: right;\">\n",
       "      <th></th>\n",
       "      <th>year</th>\n",
       "      <th>state</th>\n",
       "      <th>pop</th>\n",
       "      <th>debt</th>\n",
       "    </tr>\n",
       "  </thead>\n",
       "  <tbody>\n",
       "    <tr>\n",
       "      <th>0</th>\n",
       "      <td>2000</td>\n",
       "      <td>Ohio</td>\n",
       "      <td>1.5</td>\n",
       "      <td>NaN</td>\n",
       "    </tr>\n",
       "    <tr>\n",
       "      <th>1</th>\n",
       "      <td>2001</td>\n",
       "      <td>Ohio</td>\n",
       "      <td>1.7</td>\n",
       "      <td>NaN</td>\n",
       "    </tr>\n",
       "    <tr>\n",
       "      <th>2</th>\n",
       "      <td>2002</td>\n",
       "      <td>Ohio</td>\n",
       "      <td>3.6</td>\n",
       "      <td>NaN</td>\n",
       "    </tr>\n",
       "    <tr>\n",
       "      <th>3</th>\n",
       "      <td>2001</td>\n",
       "      <td>Nevada</td>\n",
       "      <td>2.4</td>\n",
       "      <td>NaN</td>\n",
       "    </tr>\n",
       "    <tr>\n",
       "      <th>4</th>\n",
       "      <td>2002</td>\n",
       "      <td>Nevada</td>\n",
       "      <td>2.9</td>\n",
       "      <td>NaN</td>\n",
       "    </tr>\n",
       "  </tbody>\n",
       "</table>\n",
       "</div>"
      ],
      "text/plain": [
       "   year   state  pop debt\n",
       "0  2000    Ohio  1.5  NaN\n",
       "1  2001    Ohio  1.7  NaN\n",
       "2  2002    Ohio  3.6  NaN\n",
       "3  2001  Nevada  2.4  NaN\n",
       "4  2002  Nevada  2.9  NaN"
      ]
     },
     "execution_count": 36,
     "metadata": {},
     "output_type": "execute_result"
    }
   ],
   "source": [
    "# 'Nan' expected\n",
    "state_popu_df = pd.DataFrame(data, columns = ['year', 'state', 'pop', 'debt'])\n",
    "state_popu_df.head()\n",
    "\n"
   ]
  },
  {
   "cell_type": "markdown",
   "id": "d33bdd04",
   "metadata": {},
   "source": [
    "### Passing both labels/indices AND columns/names\n"
   ]
  },
  {
   "cell_type": "code",
   "execution_count": 11,
   "id": "303e21d9",
   "metadata": {},
   "outputs": [
    {
     "data": {
      "text/html": [
       "<div>\n",
       "<style scoped>\n",
       "    .dataframe tbody tr th:only-of-type {\n",
       "        vertical-align: middle;\n",
       "    }\n",
       "\n",
       "    .dataframe tbody tr th {\n",
       "        vertical-align: top;\n",
       "    }\n",
       "\n",
       "    .dataframe thead th {\n",
       "        text-align: right;\n",
       "    }\n",
       "</style>\n",
       "<table border=\"1\" class=\"dataframe\">\n",
       "  <thead>\n",
       "    <tr style=\"text-align: right;\">\n",
       "      <th></th>\n",
       "      <th>year</th>\n",
       "      <th>state</th>\n",
       "      <th>pop</th>\n",
       "    </tr>\n",
       "  </thead>\n",
       "  <tbody>\n",
       "    <tr>\n",
       "      <th>one</th>\n",
       "      <td>2000</td>\n",
       "      <td>Ohio</td>\n",
       "      <td>1.5</td>\n",
       "    </tr>\n",
       "    <tr>\n",
       "      <th>two</th>\n",
       "      <td>2001</td>\n",
       "      <td>Ohio</td>\n",
       "      <td>1.7</td>\n",
       "    </tr>\n",
       "    <tr>\n",
       "      <th>three</th>\n",
       "      <td>2002</td>\n",
       "      <td>Ohio</td>\n",
       "      <td>3.6</td>\n",
       "    </tr>\n",
       "    <tr>\n",
       "      <th>four</th>\n",
       "      <td>2001</td>\n",
       "      <td>Nevada</td>\n",
       "      <td>2.4</td>\n",
       "    </tr>\n",
       "    <tr>\n",
       "      <th>five</th>\n",
       "      <td>2002</td>\n",
       "      <td>Nevada</td>\n",
       "      <td>2.9</td>\n",
       "    </tr>\n",
       "  </tbody>\n",
       "</table>\n",
       "</div>"
      ],
      "text/plain": [
       "       year   state  pop\n",
       "one    2000    Ohio  1.5\n",
       "two    2001    Ohio  1.7\n",
       "three  2002    Ohio  3.6\n",
       "four   2001  Nevada  2.4\n",
       "five   2002  Nevada  2.9"
      ]
     },
     "execution_count": 11,
     "metadata": {},
     "output_type": "execute_result"
    }
   ],
   "source": [
    "state_popu_df = pd.DataFrame(data, columns = ['year', 'state', 'pop'],\n",
    "                             index = ['one', 'two', 'three', 'four',\n",
    "                                      'five', 'six'])\n",
    "\n",
    "state_popu_df.head()\n",
    "\n"
   ]
  },
  {
   "cell_type": "markdown",
   "id": "4ec70571",
   "metadata": {},
   "source": [
    "### Printing columns of a Data-Frame"
   ]
  },
  {
   "cell_type": "code",
   "execution_count": 46,
   "id": "83703da7",
   "metadata": {},
   "outputs": [
    {
     "name": "stdout",
     "output_type": "stream",
     "text": [
      "Index(['year', 'state', 'pop'], dtype='object') \n",
      "\n",
      "\n",
      "Index(['one', 'two', 'three', 'four', 'five', 'six'], dtype='object')\n"
     ]
    }
   ],
   "source": [
    "print(state_popu_df.columns, '\\n\\n')\n",
    "print(state_popu_df.index)  # ye rows/labels k naam hain\n",
    "\n",
    "# Output main, 2non lines k shuru main 'index' likha hua hay, laikin hum nay\n",
    "# Pehli line main columns maangay thay, or 2sri line main indices/labels maangay thay\n",
    "\n",
    "# agar aesay likho gay tu confusion ni hogi print('Columns', state_popu_df.columns)\n",
    "# and so on...\n"
   ]
  },
  {
   "cell_type": "markdown",
   "id": "fa380b8e",
   "metadata": {},
   "source": [
    "# Accessing data in Data Frame"
   ]
  },
  {
   "cell_type": "markdown",
   "id": "bc94d663",
   "metadata": {},
   "source": [
    "## A column in a DataFrame can be retrieved as a Series either by dict-like notation or by attribute\n",
    "\n",
    "Jab dictionary-like notation main retrieve kro gay, tu os k bad, os k elements ko dictionary ki trah treat kr sktay hain, dictionary ki trah access kr sktay hain."
   ]
  },
  {
   "cell_type": "markdown",
   "id": "5a33a20c",
   "metadata": {},
   "source": [
    "#### Dictionary-Like Notation"
   ]
  },
  {
   "cell_type": "code",
   "execution_count": 47,
   "id": "dfd83553",
   "metadata": {},
   "outputs": [
    {
     "data": {
      "text/plain": [
       "one      2000\n",
       "two      2001\n",
       "three    2002\n",
       "four     2001\n",
       "five     2002\n",
       "six      2003\n",
       "Name: year, dtype: int64"
      ]
     },
     "execution_count": 47,
     "metadata": {},
     "output_type": "execute_result"
    }
   ],
   "source": [
    "# E.g:\n",
    "\n",
    "state_popu_df['year'] \n",
    "# this is the dictionary-like notation\n",
    "\n",
    "# ye ab as aik series \n"
   ]
  },
  {
   "cell_type": "markdown",
   "id": "f06ed87d",
   "metadata": {},
   "source": [
    "### Attribute Style"
   ]
  },
  {
   "cell_type": "markdown",
   "id": "afae3f92",
   "metadata": {},
   "source": [
    "#### Extracting Columns - Attribute Style"
   ]
  },
  {
   "cell_type": "code",
   "execution_count": 48,
   "id": "c0ee041d",
   "metadata": {},
   "outputs": [
    {
     "data": {
      "text/plain": [
       "one      2000\n",
       "two      2001\n",
       "three    2002\n",
       "four     2001\n",
       "five     2002\n",
       "six      2003\n",
       "Name: year, dtype: int64"
      ]
     },
     "execution_count": 48,
     "metadata": {},
     "output_type": "execute_result"
    }
   ],
   "source": [
    "state_popu_df.year\n"
   ]
  },
  {
   "cell_type": "markdown",
   "id": "8db47bb6",
   "metadata": {},
   "source": [
    "#### Extracting Rows/labels - Attribute Style"
   ]
  },
  {
   "cell_type": "code",
   "execution_count": 14,
   "id": "575f7c61",
   "metadata": {},
   "outputs": [
    {
     "data": {
      "text/plain": [
       "year     2000\n",
       "state    Ohio\n",
       "pop       1.5\n",
       "Name: one, dtype: object"
      ]
     },
     "execution_count": 14,
     "metadata": {},
     "output_type": "execute_result"
    }
   ],
   "source": [
    "state_popu_df.loc['one']\n",
    "# ye poray ki pori row, along the names of each columns extract ho gai!\n"
   ]
  },
  {
   "cell_type": "markdown",
   "id": "1269d2ba",
   "metadata": {},
   "source": [
    "#### extracting multiple rows"
   ]
  },
  {
   "cell_type": "code",
   "execution_count": 18,
   "id": "2896502b",
   "metadata": {
    "scrolled": true
   },
   "outputs": [
    {
     "data": {
      "text/html": [
       "<div>\n",
       "<style scoped>\n",
       "    .dataframe tbody tr th:only-of-type {\n",
       "        vertical-align: middle;\n",
       "    }\n",
       "\n",
       "    .dataframe tbody tr th {\n",
       "        vertical-align: top;\n",
       "    }\n",
       "\n",
       "    .dataframe thead th {\n",
       "        text-align: right;\n",
       "    }\n",
       "</style>\n",
       "<table border=\"1\" class=\"dataframe\">\n",
       "  <thead>\n",
       "    <tr style=\"text-align: right;\">\n",
       "      <th></th>\n",
       "      <th>year</th>\n",
       "      <th>state</th>\n",
       "      <th>pop</th>\n",
       "    </tr>\n",
       "  </thead>\n",
       "  <tbody>\n",
       "    <tr>\n",
       "      <th>one</th>\n",
       "      <td>2000</td>\n",
       "      <td>Ohio</td>\n",
       "      <td>1.5</td>\n",
       "    </tr>\n",
       "    <tr>\n",
       "      <th>two</th>\n",
       "      <td>2001</td>\n",
       "      <td>Ohio</td>\n",
       "      <td>1.7</td>\n",
       "    </tr>\n",
       "  </tbody>\n",
       "</table>\n",
       "</div>"
      ],
      "text/plain": [
       "     year state  pop\n",
       "one  2000  Ohio  1.5\n",
       "two  2001  Ohio  1.7"
      ]
     },
     "execution_count": 18,
     "metadata": {},
     "output_type": "execute_result"
    }
   ],
   "source": [
    "state_popu_df.loc[ ['one', 'two'] ]\n",
    "# ab list of row-names pass ki hay isay\n",
    "\n"
   ]
  },
  {
   "cell_type": "code",
   "execution_count": null,
   "id": "96b1604a",
   "metadata": {},
   "outputs": [],
   "source": []
  },
  {
   "cell_type": "code",
   "execution_count": null,
   "id": "b28ba045",
   "metadata": {},
   "outputs": [],
   "source": []
  },
  {
   "cell_type": "code",
   "execution_count": null,
   "id": "02385a4f",
   "metadata": {},
   "outputs": [],
   "source": []
  },
  {
   "cell_type": "code",
   "execution_count": null,
   "id": "60765bc1",
   "metadata": {},
   "outputs": [],
   "source": []
  },
  {
   "cell_type": "code",
   "execution_count": null,
   "id": "834c8caa",
   "metadata": {},
   "outputs": [],
   "source": []
  },
  {
   "cell_type": "markdown",
   "id": "a47b9724",
   "metadata": {},
   "source": [
    "## Function Application and Mapping"
   ]
  },
  {
   "cell_type": "markdown",
   "id": "f38e0f2a",
   "metadata": {},
   "source": [
    "## Lambda Functions : Anonymous Functions (IIF)\n",
    "\n",
    "live recording: 21 Jan, 2023 - Nasir - 47:00 ..."
   ]
  },
  {
   "cell_type": "code",
   "execution_count": 30,
   "id": "86aecd10",
   "metadata": {},
   "outputs": [],
   "source": [
    "new = pd.Series([99, 100, 89, 50, 45, 30], index = ['Ahmed', 'Ali', 'Faisal', 'Hassan', 'Aqsa', 'Waji'])\n"
   ]
  },
  {
   "cell_type": "code",
   "execution_count": 28,
   "id": "a0bc127f",
   "metadata": {},
   "outputs": [],
   "source": [
    "#### old way"
   ]
  },
  {
   "cell_type": "code",
   "execution_count": 26,
   "id": "9451f063",
   "metadata": {},
   "outputs": [],
   "source": [
    "def myfunc(marks): # isay marks dain gay, ye marks ki percentage return kray ga\n",
    "    return marks/100"
   ]
  },
  {
   "cell_type": "code",
   "execution_count": 27,
   "id": "ded33b98",
   "metadata": {},
   "outputs": [
    {
     "data": {
      "text/plain": [
       "Ahmed     0.99\n",
       "Ali       1.00\n",
       "Faisal    0.89\n",
       "Hassan    0.50\n",
       "Aqsa      0.45\n",
       "Waji      0.30\n",
       "dtype: float64"
      ]
     },
     "execution_count": 27,
     "metadata": {},
     "output_type": "execute_result"
    }
   ],
   "source": [
    "new.apply(myfunc)\n"
   ]
  },
  {
   "cell_type": "code",
   "execution_count": 31,
   "id": "8a116a85",
   "metadata": {},
   "outputs": [
    {
     "data": {
      "text/plain": [
       "Ahmed     0.99\n",
       "Ali       1.00\n",
       "Faisal    0.89\n",
       "Hassan    0.50\n",
       "Aqsa      0.45\n",
       "Waji      0.30\n",
       "dtype: float64"
      ]
     },
     "execution_count": 31,
     "metadata": {},
     "output_type": "execute_result"
    }
   ],
   "source": [
    "#### new way\n",
    "# hum koi aesa function bna rahay hain, jo hum nay baar baar use nahi krna, tu hum function ko\n",
    "# define ni krain gay, bal k, jahan hmain function say kaam lena hay, voheen aik unknown function\n",
    "# bna dain gay, jis ka naam lambda hoga\n",
    "# E.G:\n",
    "\n",
    "new.apply(lambda x:x/100 ) # jo jo value x aaye, osay 100 say divide kr do\n",
    "\n",
    "# ye aesay hi hua hay jesay function ko poori array pass ki ho or os nay array ki har\n",
    "# va;ue par vo function perform kr dia ho\n",
    "\n",
    "# Note hum new/100 bhi kr sktay thay but yahan bas baat smjhanay k liye ye kia hay\n",
    "\n",
    "# Note 'new' bazat e khud update ni hoga\n"
   ]
  },
  {
   "cell_type": "code",
   "execution_count": 37,
   "id": "39b59cd6",
   "metadata": {},
   "outputs": [
    {
     "data": {
      "text/plain": [
       "Ahmed     Pass\n",
       "Ali       Pass\n",
       "Faisal    Pass\n",
       "Hassan    Fail\n",
       "Aqsa      Fail\n",
       "Waji      Fail\n",
       "dtype: object"
      ]
     },
     "execution_count": 37,
     "metadata": {},
     "output_type": "execute_result"
    }
   ],
   "source": [
    "import numpy as np\n",
    "\n",
    "new.apply(lambda x: np.where(x>50, 'Pass', 'Fail'))\n",
    "\n",
    "# see it's damn simple\n",
    "# note jab logic bra ho, kaam lamba ho tu new function define kr lo, voi behtar hay\n",
    "\n",
    "# np nay is par kaam kia cuz series numpy par hi bhuilt hoi hui hay?\n"
   ]
  },
  {
   "cell_type": "code",
   "execution_count": 4,
   "id": "91153d93",
   "metadata": {},
   "outputs": [],
   "source": [
    "# ye code snippet baad main use hoga\n",
    "\n",
    "# ye function ko define krnay k aik different tareeka hay\n",
    "\n",
    "f = lambda x: x.max() - x.min()\n",
    "\n",
    "# ye result ko ,'x' k andar store bhi kr day ga\n",
    "\n",
    "\n",
    "\n"
   ]
  },
  {
   "cell_type": "code",
   "execution_count": 6,
   "id": "8b8a34c4",
   "metadata": {},
   "outputs": [
    {
     "name": "stdout",
     "output_type": "stream",
     "text": [
      "               b         d         e\n",
      "Utah   -1.266901  0.519005  1.429332\n",
      "Ohio   -1.357711 -0.403858  1.464044\n",
      "Texas  -0.316651 -0.313866 -0.508066\n",
      "Oregon  0.044108  1.924702 -1.732134\n"
     ]
    }
   ],
   "source": [
    "import numpy as np\n",
    "import pandas as pd\n",
    "\n",
    "frame = pd.DataFrame(np.random.randn(4,3),   # (4,3) size ka random Matrix\n",
    "                     columns = list('bde'),  # list('bde') = ['b', 'd', 'e']\n",
    "                    index = ['Utah', 'Ohio', 'Texas', 'Oregon'])\n",
    "print(frame)\n",
    "# vaah boss!\n",
    "\n"
   ]
  },
  {
   "cell_type": "code",
   "execution_count": 6,
   "id": "f1b4003a",
   "metadata": {},
   "outputs": [
    {
     "name": "stdout",
     "output_type": "stream",
     "text": [
      "               b         d         e\n",
      "Utah    1.160060  1.152072  0.252899\n",
      "Ohio    1.784152  0.860456  1.233537\n",
      "Texas   0.134173  1.075179  1.086600\n",
      "Oregon  0.477938  1.462274  0.637470\n"
     ]
    }
   ],
   "source": [
    "print(abs(frame))\n",
    "# abs() poray k poray matrix par bhi kaam krta hay!\n"
   ]
  },
  {
   "cell_type": "markdown",
   "id": "9ec603f9",
   "metadata": {},
   "source": [
    "#### column-'d' ki max value!"
   ]
  },
  {
   "cell_type": "code",
   "execution_count": 7,
   "id": "0ccca89f",
   "metadata": {},
   "outputs": [
    {
     "data": {
      "text/plain": [
       "1.462273575226708"
      ]
     },
     "execution_count": 7,
     "metadata": {},
     "output_type": "execute_result"
    }
   ],
   "source": [
    "frame['d'].max()\n",
    "# column-'d' ki max value!\n"
   ]
  },
  {
   "cell_type": "markdown",
   "id": "929bb0dc",
   "metadata": {},
   "source": [
    "#### column-'d' ki min value!"
   ]
  },
  {
   "cell_type": "code",
   "execution_count": 8,
   "id": "2ca13594",
   "metadata": {},
   "outputs": [
    {
     "data": {
      "text/plain": [
       "-1.15207236017258"
      ]
     },
     "execution_count": 8,
     "metadata": {},
     "output_type": "execute_result"
    }
   ],
   "source": [
    "frame['d'].min()\n"
   ]
  },
  {
   "cell_type": "code",
   "execution_count": 9,
   "id": "0aeb23e4",
   "metadata": {},
   "outputs": [
    {
     "data": {
      "text/plain": [
       "2.614345935399288"
      ]
     },
     "execution_count": 9,
     "metadata": {},
     "output_type": "execute_result"
    }
   ],
   "source": [
    "frame['d'].max() - frame['d'].min()\n",
    "\n",
    "# note: aik logical si baat hay k jab kisi baray number main say chota number\n",
    "# minus kro gay tu answer +ive hi aaye ga.\n"
   ]
  },
  {
   "cell_type": "markdown",
   "id": "3c3db8b3",
   "metadata": {},
   "source": [
    "### Applying self-created functions on Columns\n",
    "\n",
    "#### axis = 0"
   ]
  },
  {
   "cell_type": "code",
   "execution_count": 10,
   "id": "c2e8f553",
   "metadata": {},
   "outputs": [
    {
     "name": "stdout",
     "output_type": "stream",
     "text": [
      "b    1.918325\n",
      "d    2.614346\n",
      "e    1.871007\n",
      "dtype: float64 <class 'pandas.core.series.Series'>\n"
     ]
    }
   ],
   "source": [
    "f  = lambda x: x.max() - x.min()\n",
    "\n",
    "df = frame.apply(f, axis = 0)  # is line k zariye function 'f' ko apply kia 'frame' k opar\n",
    "# 'df' aik series hay\n",
    "\n",
    "print(df, type(df))\n",
    "\n",
    "# ye har aik aik column ki max value main say min value subtract kr k return kr raha hay\n"
   ]
  },
  {
   "cell_type": "markdown",
   "id": "9e8d9b38",
   "metadata": {},
   "source": [
    "#### old way of doing the same"
   ]
  },
  {
   "cell_type": "code",
   "execution_count": 11,
   "id": "7e27a1b6",
   "metadata": {},
   "outputs": [
    {
     "name": "stdout",
     "output_type": "stream",
     "text": [
      "b    1.918325\n",
      "d    2.614346\n",
      "e    1.871007\n",
      "dtype: float64 <class 'pandas.core.series.Series'>\n"
     ]
    }
   ],
   "source": [
    "def f2(x):\n",
    "    a = x.max() - x.min()\n",
    "    return a\n",
    "\n",
    "df = frame.apply(f, axis = 0)\n",
    "\n",
    "print(df, type(df))\n"
   ]
  },
  {
   "cell_type": "markdown",
   "id": "51ac0786",
   "metadata": {},
   "source": [
    "### Applying  self-created/custom-build  functions on Rows\n",
    "\n",
    "#### axis = 1"
   ]
  },
  {
   "cell_type": "code",
   "execution_count": 12,
   "id": "2ddc4090",
   "metadata": {},
   "outputs": [
    {
     "name": "stdout",
     "output_type": "stream",
     "text": [
      "Utah      2.312132\n",
      "Ohio      0.923696\n",
      "Texas     2.161779\n",
      "Oregon    2.099743\n",
      "dtype: float64 <class 'pandas.core.series.Series'>\n"
     ]
    }
   ],
   "source": [
    "df = frame.apply(f, axis = 1)\n",
    "\n",
    "print(df, type(df))\n"
   ]
  },
  {
   "cell_type": "code",
   "execution_count": null,
   "id": "0128d3ce",
   "metadata": {},
   "outputs": [],
   "source": []
  },
  {
   "cell_type": "code",
   "execution_count": null,
   "id": "6da49ec2",
   "metadata": {},
   "outputs": [],
   "source": []
  },
  {
   "cell_type": "markdown",
   "id": "3983c834",
   "metadata": {},
   "source": [
    "#### some clarity"
   ]
  },
  {
   "cell_type": "code",
   "execution_count": 13,
   "id": "72ff79ca",
   "metadata": {},
   "outputs": [
    {
     "data": {
      "text/plain": [
       "b   -0.134173\n",
       "d   -1.152072\n",
       "e   -0.637470\n",
       "dtype: float64"
      ]
     },
     "execution_count": 13,
     "metadata": {},
     "output_type": "execute_result"
    }
   ],
   "source": [
    "frame.min()\n",
    "# ye given DataFrame k har aik aik column ki min-vale return kr raha hay\n"
   ]
  },
  {
   "cell_type": "code",
   "execution_count": 14,
   "id": "d50b13a4",
   "metadata": {},
   "outputs": [
    {
     "name": "stdout",
     "output_type": "stream",
     "text": [
      "b    1.784152\n",
      "d    1.462274\n",
      "e    1.233537\n",
      "dtype: float64 \n",
      "\n",
      "\n"
     ]
    },
    {
     "data": {
      "text/plain": [
       "1.2335367726542876"
      ]
     },
     "execution_count": 14,
     "metadata": {},
     "output_type": "execute_result"
    }
   ],
   "source": [
    "print(frame.max(), '\\n\\n')\n",
    "\n",
    "# note, ye Dictionary ki trah behave kr rahi hay\n",
    "frame.max()['e']\n",
    "\n"
   ]
  },
  {
   "cell_type": "code",
   "execution_count": 7,
   "id": "e06aedc0",
   "metadata": {},
   "outputs": [
    {
     "data": {
      "text/html": [
       "<div>\n",
       "<style scoped>\n",
       "    .dataframe tbody tr th:only-of-type {\n",
       "        vertical-align: middle;\n",
       "    }\n",
       "\n",
       "    .dataframe tbody tr th {\n",
       "        vertical-align: top;\n",
       "    }\n",
       "\n",
       "    .dataframe thead th {\n",
       "        text-align: right;\n",
       "    }\n",
       "</style>\n",
       "<table border=\"1\" class=\"dataframe\">\n",
       "  <thead>\n",
       "    <tr style=\"text-align: right;\">\n",
       "      <th></th>\n",
       "      <th>b</th>\n",
       "      <th>d</th>\n",
       "      <th>e</th>\n",
       "    </tr>\n",
       "  </thead>\n",
       "  <tbody>\n",
       "    <tr>\n",
       "      <th>min</th>\n",
       "      <td>0.044108</td>\n",
       "      <td>1.924702</td>\n",
       "      <td>1.464044</td>\n",
       "    </tr>\n",
       "    <tr>\n",
       "      <th>max</th>\n",
       "      <td>-1.357711</td>\n",
       "      <td>-0.403858</td>\n",
       "      <td>-1.732134</td>\n",
       "    </tr>\n",
       "  </tbody>\n",
       "</table>\n",
       "</div>"
      ],
      "text/plain": [
       "            b         d         e\n",
       "min  0.044108  1.924702  1.464044\n",
       "max -1.357711 -0.403858 -1.732134"
      ]
     },
     "execution_count": 7,
     "metadata": {},
     "output_type": "execute_result"
    }
   ],
   "source": [
    "def f3(x):\n",
    "    minimum = x.min()\n",
    "    maximum = x.max()\n",
    "    \n",
    "    a = pd.DataFrame([maximum, minimum], index = ['min', 'max'])   # voi numpy ki array say milti julti hi,\n",
    "                                                                   # data ki arrangement ho ri hay\n",
    "    \n",
    "    return a\n",
    "\n",
    "f3(frame)"
   ]
  },
  {
   "cell_type": "markdown",
   "id": "f4a76b43",
   "metadata": {},
   "source": [
    "#### Prof's way Using Series"
   ]
  },
  {
   "cell_type": "code",
   "execution_count": 9,
   "id": "b790a438",
   "metadata": {},
   "outputs": [
    {
     "name": "stdout",
     "output_type": "stream",
     "text": [
      "            b         d         e\n",
      "min  0.044108  1.924702  1.464044\n",
      "max -1.357711 -0.403858 -1.732134\n"
     ]
    },
    {
     "data": {
      "text/plain": [
       "pandas.core.frame.DataFrame"
      ]
     },
     "execution_count": 9,
     "metadata": {},
     "output_type": "execute_result"
    }
   ],
   "source": [
    "def f3(x):\n",
    "    minimum = x.min()\n",
    "    maximum = x.max()\n",
    "    \n",
    "    a = pd.Series([maximum, minimum], index = ['min', 'max'])\n",
    "    \n",
    "    return a\n",
    "\n",
    " \n",
    "print(frame.apply(f3))\n",
    "\n",
    "type(frame.apply(f3))\n"
   ]
  },
  {
   "cell_type": "code",
   "execution_count": 51,
   "id": "476d732b",
   "metadata": {},
   "outputs": [
    {
     "name": "stdout",
     "output_type": "stream",
     "text": [
      "w[0]: \n",
      " b   -0.269753\n",
      "d    2.450580\n",
      "e    1.926812\n",
      "dtype: float64\n",
      "\n",
      "\n",
      "w[1]: \n",
      " b   -1.928800\n",
      "d   -0.196427\n",
      "e   -1.170830\n",
      "dtype: float64\n",
      "\n",
      "\n",
      "q[min]: \n",
      " b   -0.269753\n",
      "d    2.450580\n",
      "e    1.926812\n",
      "dtype: float64\n",
      "\n",
      "\n",
      "q[1]: \n",
      " b   -1.928800\n",
      "d   -0.196427\n",
      "e   -1.170830\n",
      "dtype: float64\n",
      "\n",
      "\n"
     ]
    }
   ],
   "source": [
    "def f3(x):\n",
    "    minimum = x.min()\n",
    "    maximum = x.max()\n",
    "    \n",
    "    a = pd.Series([maximum, minimum], index = ['min', 'max'])\n",
    "    \n",
    "    b = [maximum, minimum]\n",
    "    \n",
    "    return a, b\n",
    "\n",
    "# note professor 'a' ko DataFrame hi keh raha hay\n",
    "\n",
    "\n",
    "q, w = f3(frame)\n",
    "\n",
    "print('w[0]: \\n', w[0])\n",
    "print('\\n')\n",
    "      \n",
    "print('w[1]: \\n', w[1])\n",
    "print('\\n')\n",
    "      \n",
    "print('q[min]: \\n', q['min'])\n",
    "print('\\n')\n",
    "      \n",
    "print('q[1]: \\n', q[1])\n",
    "print('\\n')\n",
    "\n",
    "# w & q 2non hi list of dictionaries ki trah behave kr rahi hain\n",
    "# q list of dicts ki trah behave kr rahi hay\n",
    "# is ka matlab hay k ye function k andar is method say jo jum nay series bnai thi\n",
    "# vo series as a list-of-dictionaries behave kr rahi hay\n",
    "\n",
    "# Note q vs w:\n",
    "# 'q' ko hum as series bhi treat kr sktay hain, then 'min' & 'max' is k indices\n",
    "# hoon gay\n",
    "\n"
   ]
  },
  {
   "cell_type": "code",
   "execution_count": null,
   "id": "a9f50193",
   "metadata": {},
   "outputs": [],
   "source": []
  },
  {
   "cell_type": "code",
   "execution_count": null,
   "id": "a0d17a63",
   "metadata": {},
   "outputs": [],
   "source": []
  },
  {
   "cell_type": "code",
   "execution_count": null,
   "id": "e80616d8",
   "metadata": {},
   "outputs": [],
   "source": []
  },
  {
   "cell_type": "markdown",
   "id": "555b0b1f",
   "metadata": {},
   "source": [
    "## Sorting and Ranking"
   ]
  },
  {
   "cell_type": "markdown",
   "id": "b8b5c943",
   "metadata": {},
   "source": [
    "### Sorting w.r.t row and column names"
   ]
  },
  {
   "cell_type": "code",
   "execution_count": 1,
   "id": "aadb3802",
   "metadata": {},
   "outputs": [
    {
     "name": "stdout",
     "output_type": "stream",
     "text": [
      "       d  a   b   c\n",
      "three  0  1   2   3\n",
      "one    4  5   6   7\n",
      "two    8  9  10  11\n",
      "\n"
     ]
    }
   ],
   "source": [
    "import numpy as np\n",
    "import pandas as pd\n",
    "\n",
    "frame = pd.DataFrame(np.arange(12).reshape((3,4)),\n",
    "                    index = ['three', 'one', 'two'],\n",
    "                    columns = ['d', 'a', 'b', 'c'])\n",
    "\n",
    "print(frame)\n",
    "print()\n"
   ]
  },
  {
   "cell_type": "markdown",
   "id": "e1621d36",
   "metadata": {},
   "source": [
    "### sorting w.r.t column names\n",
    "#### axis = 1\n",
    "#### by-default: axis = 0, ascending = True"
   ]
  },
  {
   "cell_type": "code",
   "execution_count": 25,
   "id": "61037467",
   "metadata": {},
   "outputs": [
    {
     "data": {
      "text/html": [
       "<div>\n",
       "<style scoped>\n",
       "    .dataframe tbody tr th:only-of-type {\n",
       "        vertical-align: middle;\n",
       "    }\n",
       "\n",
       "    .dataframe tbody tr th {\n",
       "        vertical-align: top;\n",
       "    }\n",
       "\n",
       "    .dataframe thead th {\n",
       "        text-align: right;\n",
       "    }\n",
       "</style>\n",
       "<table border=\"1\" class=\"dataframe\">\n",
       "  <thead>\n",
       "    <tr style=\"text-align: right;\">\n",
       "      <th></th>\n",
       "      <th>a</th>\n",
       "      <th>b</th>\n",
       "      <th>c</th>\n",
       "      <th>d</th>\n",
       "    </tr>\n",
       "  </thead>\n",
       "  <tbody>\n",
       "    <tr>\n",
       "      <th>three</th>\n",
       "      <td>1</td>\n",
       "      <td>2</td>\n",
       "      <td>3</td>\n",
       "      <td>0</td>\n",
       "    </tr>\n",
       "    <tr>\n",
       "      <th>one</th>\n",
       "      <td>5</td>\n",
       "      <td>6</td>\n",
       "      <td>7</td>\n",
       "      <td>4</td>\n",
       "    </tr>\n",
       "    <tr>\n",
       "      <th>two</th>\n",
       "      <td>9</td>\n",
       "      <td>10</td>\n",
       "      <td>11</td>\n",
       "      <td>8</td>\n",
       "    </tr>\n",
       "  </tbody>\n",
       "</table>\n",
       "</div>"
      ],
      "text/plain": [
       "       a   b   c  d\n",
       "three  1   2   3  0\n",
       "one    5   6   7  4\n",
       "two    9  10  11  8"
      ]
     },
     "execution_count": 25,
     "metadata": {},
     "output_type": "execute_result"
    }
   ],
   "source": [
    "# .sort_index() tb tab hi use hoga jab columns k naamon ka rows k naamon k hisaab\n",
    "# say sorting krna chah rahay hoon gay hum\n",
    "\n",
    "frame.sort_index(axis = 1)\n"
   ]
  },
  {
   "cell_type": "code",
   "execution_count": 26,
   "id": "7427b441",
   "metadata": {},
   "outputs": [
    {
     "data": {
      "text/html": [
       "<div>\n",
       "<style scoped>\n",
       "    .dataframe tbody tr th:only-of-type {\n",
       "        vertical-align: middle;\n",
       "    }\n",
       "\n",
       "    .dataframe tbody tr th {\n",
       "        vertical-align: top;\n",
       "    }\n",
       "\n",
       "    .dataframe thead th {\n",
       "        text-align: right;\n",
       "    }\n",
       "</style>\n",
       "<table border=\"1\" class=\"dataframe\">\n",
       "  <thead>\n",
       "    <tr style=\"text-align: right;\">\n",
       "      <th></th>\n",
       "      <th>d</th>\n",
       "      <th>c</th>\n",
       "      <th>b</th>\n",
       "      <th>a</th>\n",
       "    </tr>\n",
       "  </thead>\n",
       "  <tbody>\n",
       "    <tr>\n",
       "      <th>three</th>\n",
       "      <td>0</td>\n",
       "      <td>3</td>\n",
       "      <td>2</td>\n",
       "      <td>1</td>\n",
       "    </tr>\n",
       "    <tr>\n",
       "      <th>one</th>\n",
       "      <td>4</td>\n",
       "      <td>7</td>\n",
       "      <td>6</td>\n",
       "      <td>5</td>\n",
       "    </tr>\n",
       "    <tr>\n",
       "      <th>two</th>\n",
       "      <td>8</td>\n",
       "      <td>11</td>\n",
       "      <td>10</td>\n",
       "      <td>9</td>\n",
       "    </tr>\n",
       "  </tbody>\n",
       "</table>\n",
       "</div>"
      ],
      "text/plain": [
       "       d   c   b  a\n",
       "three  0   3   2  1\n",
       "one    4   7   6  5\n",
       "two    8  11  10  9"
      ]
     },
     "execution_count": 26,
     "metadata": {},
     "output_type": "execute_result"
    }
   ],
   "source": [
    "frame.sort_index(axis = 1, ascending = False)\n",
    "\n",
    "# ascending = False : lower-higher = False : higher-lower = True\n"
   ]
  },
  {
   "cell_type": "markdown",
   "id": "8373e9f6",
   "metadata": {},
   "source": [
    "### sorting w.r.t  row names\n",
    "#### axis = 0"
   ]
  },
  {
   "cell_type": "code",
   "execution_count": 27,
   "id": "6e363fcf",
   "metadata": {},
   "outputs": [
    {
     "data": {
      "text/html": [
       "<div>\n",
       "<style scoped>\n",
       "    .dataframe tbody tr th:only-of-type {\n",
       "        vertical-align: middle;\n",
       "    }\n",
       "\n",
       "    .dataframe tbody tr th {\n",
       "        vertical-align: top;\n",
       "    }\n",
       "\n",
       "    .dataframe thead th {\n",
       "        text-align: right;\n",
       "    }\n",
       "</style>\n",
       "<table border=\"1\" class=\"dataframe\">\n",
       "  <thead>\n",
       "    <tr style=\"text-align: right;\">\n",
       "      <th></th>\n",
       "      <th>d</th>\n",
       "      <th>a</th>\n",
       "      <th>b</th>\n",
       "      <th>c</th>\n",
       "    </tr>\n",
       "  </thead>\n",
       "  <tbody>\n",
       "    <tr>\n",
       "      <th>one</th>\n",
       "      <td>4</td>\n",
       "      <td>5</td>\n",
       "      <td>6</td>\n",
       "      <td>7</td>\n",
       "    </tr>\n",
       "    <tr>\n",
       "      <th>three</th>\n",
       "      <td>0</td>\n",
       "      <td>1</td>\n",
       "      <td>2</td>\n",
       "      <td>3</td>\n",
       "    </tr>\n",
       "    <tr>\n",
       "      <th>two</th>\n",
       "      <td>8</td>\n",
       "      <td>9</td>\n",
       "      <td>10</td>\n",
       "      <td>11</td>\n",
       "    </tr>\n",
       "  </tbody>\n",
       "</table>\n",
       "</div>"
      ],
      "text/plain": [
       "       d  a   b   c\n",
       "one    4  5   6   7\n",
       "three  0  1   2   3\n",
       "two    8  9  10  11"
      ]
     },
     "execution_count": 27,
     "metadata": {},
     "output_type": "execute_result"
    }
   ],
   "source": [
    "frame.sort_index()\n",
    "# I think ye jis trah, folders w.r.t names automatically sort htay hain windows main, ye osi trah say sort kr rha hay\n",
    "\n",
    "# sab say pehlay 'o' ata hay, so, 'o' on top\n",
    "# phir 't' aata hay, so 't' on 2nd -> then 'three' & 'two' main, muqaabla 'h' vs 'w' hay. 'h' t say pehlay aata hay \n"
   ]
  },
  {
   "cell_type": "code",
   "execution_count": 28,
   "id": "4db487e0",
   "metadata": {},
   "outputs": [
    {
     "data": {
      "text/html": [
       "<div>\n",
       "<style scoped>\n",
       "    .dataframe tbody tr th:only-of-type {\n",
       "        vertical-align: middle;\n",
       "    }\n",
       "\n",
       "    .dataframe tbody tr th {\n",
       "        vertical-align: top;\n",
       "    }\n",
       "\n",
       "    .dataframe thead th {\n",
       "        text-align: right;\n",
       "    }\n",
       "</style>\n",
       "<table border=\"1\" class=\"dataframe\">\n",
       "  <thead>\n",
       "    <tr style=\"text-align: right;\">\n",
       "      <th></th>\n",
       "      <th>d</th>\n",
       "      <th>a</th>\n",
       "      <th>b</th>\n",
       "      <th>c</th>\n",
       "    </tr>\n",
       "  </thead>\n",
       "  <tbody>\n",
       "    <tr>\n",
       "      <th>two</th>\n",
       "      <td>8</td>\n",
       "      <td>9</td>\n",
       "      <td>10</td>\n",
       "      <td>11</td>\n",
       "    </tr>\n",
       "    <tr>\n",
       "      <th>three</th>\n",
       "      <td>0</td>\n",
       "      <td>1</td>\n",
       "      <td>2</td>\n",
       "      <td>3</td>\n",
       "    </tr>\n",
       "    <tr>\n",
       "      <th>one</th>\n",
       "      <td>4</td>\n",
       "      <td>5</td>\n",
       "      <td>6</td>\n",
       "      <td>7</td>\n",
       "    </tr>\n",
       "  </tbody>\n",
       "</table>\n",
       "</div>"
      ],
      "text/plain": [
       "       d  a   b   c\n",
       "two    8  9  10  11\n",
       "three  0  1   2   3\n",
       "one    4  5   6   7"
      ]
     },
     "execution_count": 28,
     "metadata": {},
     "output_type": "execute_result"
    }
   ],
   "source": [
    "frame.sort_index(axis = 0, ascending = False)\n"
   ]
  },
  {
   "cell_type": "code",
   "execution_count": null,
   "id": "3b0bc7b0",
   "metadata": {},
   "outputs": [],
   "source": []
  },
  {
   "cell_type": "markdown",
   "id": "4d80efad",
   "metadata": {},
   "source": [
    "### Sorting w.r.t values"
   ]
  },
  {
   "cell_type": "code",
   "execution_count": 29,
   "id": "26ac528d",
   "metadata": {},
   "outputs": [
    {
     "data": {
      "text/html": [
       "<div>\n",
       "<style scoped>\n",
       "    .dataframe tbody tr th:only-of-type {\n",
       "        vertical-align: middle;\n",
       "    }\n",
       "\n",
       "    .dataframe tbody tr th {\n",
       "        vertical-align: top;\n",
       "    }\n",
       "\n",
       "    .dataframe thead th {\n",
       "        text-align: right;\n",
       "    }\n",
       "</style>\n",
       "<table border=\"1\" class=\"dataframe\">\n",
       "  <thead>\n",
       "    <tr style=\"text-align: right;\">\n",
       "      <th></th>\n",
       "      <th>d</th>\n",
       "      <th>a</th>\n",
       "      <th>b</th>\n",
       "      <th>c</th>\n",
       "    </tr>\n",
       "  </thead>\n",
       "  <tbody>\n",
       "    <tr>\n",
       "      <th>three</th>\n",
       "      <td>0</td>\n",
       "      <td>1</td>\n",
       "      <td>2</td>\n",
       "      <td>3</td>\n",
       "    </tr>\n",
       "    <tr>\n",
       "      <th>one</th>\n",
       "      <td>4</td>\n",
       "      <td>5</td>\n",
       "      <td>6</td>\n",
       "      <td>7</td>\n",
       "    </tr>\n",
       "    <tr>\n",
       "      <th>two</th>\n",
       "      <td>8</td>\n",
       "      <td>9</td>\n",
       "      <td>10</td>\n",
       "      <td>11</td>\n",
       "    </tr>\n",
       "  </tbody>\n",
       "</table>\n",
       "</div>"
      ],
      "text/plain": [
       "       d  a   b   c\n",
       "three  0  1   2   3\n",
       "one    4  5   6   7\n",
       "two    8  9  10  11"
      ]
     },
     "execution_count": 29,
     "metadata": {},
     "output_type": "execute_result"
    }
   ],
   "source": [
    "frame\n"
   ]
  },
  {
   "cell_type": "code",
   "execution_count": 32,
   "id": "b67c98b8",
   "metadata": {},
   "outputs": [
    {
     "data": {
      "text/html": [
       "<div>\n",
       "<style scoped>\n",
       "    .dataframe tbody tr th:only-of-type {\n",
       "        vertical-align: middle;\n",
       "    }\n",
       "\n",
       "    .dataframe tbody tr th {\n",
       "        vertical-align: top;\n",
       "    }\n",
       "\n",
       "    .dataframe thead th {\n",
       "        text-align: right;\n",
       "    }\n",
       "</style>\n",
       "<table border=\"1\" class=\"dataframe\">\n",
       "  <thead>\n",
       "    <tr style=\"text-align: right;\">\n",
       "      <th></th>\n",
       "      <th>d</th>\n",
       "      <th>a</th>\n",
       "      <th>b</th>\n",
       "      <th>c</th>\n",
       "    </tr>\n",
       "  </thead>\n",
       "  <tbody>\n",
       "    <tr>\n",
       "      <th>two</th>\n",
       "      <td>8</td>\n",
       "      <td>9</td>\n",
       "      <td>10</td>\n",
       "      <td>11</td>\n",
       "    </tr>\n",
       "    <tr>\n",
       "      <th>one</th>\n",
       "      <td>4</td>\n",
       "      <td>5</td>\n",
       "      <td>6</td>\n",
       "      <td>7</td>\n",
       "    </tr>\n",
       "    <tr>\n",
       "      <th>three</th>\n",
       "      <td>0</td>\n",
       "      <td>1</td>\n",
       "      <td>2</td>\n",
       "      <td>3</td>\n",
       "    </tr>\n",
       "  </tbody>\n",
       "</table>\n",
       "</div>"
      ],
      "text/plain": [
       "       d  a   b   c\n",
       "two    8  9  10  11\n",
       "one    4  5   6   7\n",
       "three  0  1   2   3"
      ]
     },
     "execution_count": 32,
     "metadata": {},
     "output_type": "execute_result"
    }
   ],
   "source": [
    "frame.sort_values(by = 'b', ascending = False)\n",
    "\n",
    "# . 'b' ki highest 10 thi\n",
    "# . row-'two' main pri thi\n",
    "# . row-'two' ,  3sray number par thi\n",
    "# . row-'two' , pehlay number par aa gai (is vja say d, a, c ki values bhi move huieen)\n",
    "# . etc etc...\n"
   ]
  },
  {
   "cell_type": "markdown",
   "id": "2feb3804",
   "metadata": {},
   "source": [
    "### Ranking\n",
    "\n",
    "#### Ranking: knsa data pelay aaye ga, knsa data baad main aaye ga etc etc..."
   ]
  },
  {
   "cell_type": "code",
   "execution_count": 36,
   "id": "ae429509",
   "metadata": {},
   "outputs": [
    {
     "data": {
      "text/html": [
       "<div>\n",
       "<style scoped>\n",
       "    .dataframe tbody tr th:only-of-type {\n",
       "        vertical-align: middle;\n",
       "    }\n",
       "\n",
       "    .dataframe tbody tr th {\n",
       "        vertical-align: top;\n",
       "    }\n",
       "\n",
       "    .dataframe thead th {\n",
       "        text-align: right;\n",
       "    }\n",
       "</style>\n",
       "<table border=\"1\" class=\"dataframe\">\n",
       "  <thead>\n",
       "    <tr style=\"text-align: right;\">\n",
       "      <th></th>\n",
       "      <th>d</th>\n",
       "      <th>a</th>\n",
       "      <th>b</th>\n",
       "      <th>c</th>\n",
       "    </tr>\n",
       "  </thead>\n",
       "  <tbody>\n",
       "    <tr>\n",
       "      <th>three</th>\n",
       "      <td>0</td>\n",
       "      <td>1</td>\n",
       "      <td>2</td>\n",
       "      <td>3</td>\n",
       "    </tr>\n",
       "    <tr>\n",
       "      <th>one</th>\n",
       "      <td>4</td>\n",
       "      <td>5</td>\n",
       "      <td>6</td>\n",
       "      <td>7</td>\n",
       "    </tr>\n",
       "    <tr>\n",
       "      <th>two</th>\n",
       "      <td>8</td>\n",
       "      <td>9</td>\n",
       "      <td>10</td>\n",
       "      <td>11</td>\n",
       "    </tr>\n",
       "  </tbody>\n",
       "</table>\n",
       "</div>"
      ],
      "text/plain": [
       "       d  a   b   c\n",
       "three  0  1   2   3\n",
       "one    4  5   6   7\n",
       "two    8  9  10  11"
      ]
     },
     "execution_count": 36,
     "metadata": {},
     "output_type": "execute_result"
    }
   ],
   "source": [
    "frame\n"
   ]
  },
  {
   "cell_type": "code",
   "execution_count": 37,
   "id": "cea869f3",
   "metadata": {},
   "outputs": [
    {
     "data": {
      "text/html": [
       "<div>\n",
       "<style scoped>\n",
       "    .dataframe tbody tr th:only-of-type {\n",
       "        vertical-align: middle;\n",
       "    }\n",
       "\n",
       "    .dataframe tbody tr th {\n",
       "        vertical-align: top;\n",
       "    }\n",
       "\n",
       "    .dataframe thead th {\n",
       "        text-align: right;\n",
       "    }\n",
       "</style>\n",
       "<table border=\"1\" class=\"dataframe\">\n",
       "  <thead>\n",
       "    <tr style=\"text-align: right;\">\n",
       "      <th></th>\n",
       "      <th>d</th>\n",
       "      <th>a</th>\n",
       "      <th>b</th>\n",
       "      <th>c</th>\n",
       "    </tr>\n",
       "  </thead>\n",
       "  <tbody>\n",
       "    <tr>\n",
       "      <th>three</th>\n",
       "      <td>1.0</td>\n",
       "      <td>1.0</td>\n",
       "      <td>1.0</td>\n",
       "      <td>1.0</td>\n",
       "    </tr>\n",
       "    <tr>\n",
       "      <th>one</th>\n",
       "      <td>2.0</td>\n",
       "      <td>2.0</td>\n",
       "      <td>2.0</td>\n",
       "      <td>2.0</td>\n",
       "    </tr>\n",
       "    <tr>\n",
       "      <th>two</th>\n",
       "      <td>3.0</td>\n",
       "      <td>3.0</td>\n",
       "      <td>3.0</td>\n",
       "      <td>3.0</td>\n",
       "    </tr>\n",
       "  </tbody>\n",
       "</table>\n",
       "</div>"
      ],
      "text/plain": [
       "         d    a    b    c\n",
       "three  1.0  1.0  1.0  1.0\n",
       "one    2.0  2.0  2.0  2.0\n",
       "two    3.0  3.0  3.0  3.0"
      ]
     },
     "execution_count": 37,
     "metadata": {},
     "output_type": "execute_result"
    }
   ],
   "source": [
    "frame.rank(ascending = True, method = 'max')\n",
    "\n",
    "# . ye har aik aik column par jaye ga\n",
    "# . e.g. pehlay column d par gaya -> data ko sort kia lower-higher -> phir daikha k index-'three' par '0' pra hay -> '0' sab ...\n",
    "# . say choota hay, so, sab say pehla number isay do -> so isay rank-1 day dia & so on...\n",
    "\n"
   ]
  },
  {
   "cell_type": "code",
   "execution_count": 30,
   "id": "1ac792b5",
   "metadata": {},
   "outputs": [
    {
     "data": {
      "text/html": [
       "<div>\n",
       "<style scoped>\n",
       "    .dataframe tbody tr th:only-of-type {\n",
       "        vertical-align: middle;\n",
       "    }\n",
       "\n",
       "    .dataframe tbody tr th {\n",
       "        vertical-align: top;\n",
       "    }\n",
       "\n",
       "    .dataframe thead th {\n",
       "        text-align: right;\n",
       "    }\n",
       "</style>\n",
       "<table border=\"1\" class=\"dataframe\">\n",
       "  <thead>\n",
       "    <tr style=\"text-align: right;\">\n",
       "      <th></th>\n",
       "      <th>b</th>\n",
       "      <th>a</th>\n",
       "      <th>c</th>\n",
       "    </tr>\n",
       "  </thead>\n",
       "  <tbody>\n",
       "    <tr>\n",
       "      <th>0</th>\n",
       "      <td>4.3</td>\n",
       "      <td>0</td>\n",
       "      <td>-2.0</td>\n",
       "    </tr>\n",
       "    <tr>\n",
       "      <th>1</th>\n",
       "      <td>7.0</td>\n",
       "      <td>1</td>\n",
       "      <td>5.0</td>\n",
       "    </tr>\n",
       "    <tr>\n",
       "      <th>2</th>\n",
       "      <td>-3.0</td>\n",
       "      <td>0</td>\n",
       "      <td>8.0</td>\n",
       "    </tr>\n",
       "    <tr>\n",
       "      <th>3</th>\n",
       "      <td>2.0</td>\n",
       "      <td>1</td>\n",
       "      <td>-2.5</td>\n",
       "    </tr>\n",
       "  </tbody>\n",
       "</table>\n",
       "</div>"
      ],
      "text/plain": [
       "     b  a    c\n",
       "0  4.3  0 -2.0\n",
       "1  7.0  1  5.0\n",
       "2 -3.0  0  8.0\n",
       "3  2.0  1 -2.5"
      ]
     },
     "execution_count": 30,
     "metadata": {},
     "output_type": "execute_result"
    }
   ],
   "source": [
    "# Another Example\n",
    "frame = pd.DataFrame({'b': [4.3, 7, -3, 2], 'a': [0, 1, 0, 1], 'c': [-2, 5, 8, -2.5]})\n",
    "frame\n"
   ]
  },
  {
   "cell_type": "code",
   "execution_count": 43,
   "id": "182ff2b6",
   "metadata": {},
   "outputs": [
    {
     "data": {
      "text/html": [
       "<div>\n",
       "<style scoped>\n",
       "    .dataframe tbody tr th:only-of-type {\n",
       "        vertical-align: middle;\n",
       "    }\n",
       "\n",
       "    .dataframe tbody tr th {\n",
       "        vertical-align: top;\n",
       "    }\n",
       "\n",
       "    .dataframe thead th {\n",
       "        text-align: right;\n",
       "    }\n",
       "</style>\n",
       "<table border=\"1\" class=\"dataframe\">\n",
       "  <thead>\n",
       "    <tr style=\"text-align: right;\">\n",
       "      <th></th>\n",
       "      <th>b</th>\n",
       "      <th>a</th>\n",
       "      <th>c</th>\n",
       "    </tr>\n",
       "  </thead>\n",
       "  <tbody>\n",
       "    <tr>\n",
       "      <th>0</th>\n",
       "      <td>3.0</td>\n",
       "      <td>2.0</td>\n",
       "      <td>2.0</td>\n",
       "    </tr>\n",
       "    <tr>\n",
       "      <th>1</th>\n",
       "      <td>4.0</td>\n",
       "      <td>4.0</td>\n",
       "      <td>3.0</td>\n",
       "    </tr>\n",
       "    <tr>\n",
       "      <th>2</th>\n",
       "      <td>1.0</td>\n",
       "      <td>2.0</td>\n",
       "      <td>4.0</td>\n",
       "    </tr>\n",
       "    <tr>\n",
       "      <th>3</th>\n",
       "      <td>2.0</td>\n",
       "      <td>4.0</td>\n",
       "      <td>1.0</td>\n",
       "    </tr>\n",
       "  </tbody>\n",
       "</table>\n",
       "</div>"
      ],
      "text/plain": [
       "     b    a    c\n",
       "0  3.0  2.0  2.0\n",
       "1  4.0  4.0  3.0\n",
       "2  1.0  2.0  4.0\n",
       "3  2.0  4.0  1.0"
      ]
     },
     "execution_count": 43,
     "metadata": {},
     "output_type": "execute_result"
    }
   ],
   "source": [
    "frame.rank(ascending = True, method = 'max')\n",
    "\n",
    "# . ye har aik aik column par jaye ga\n",
    "# . e.g. pehlay column 'b' par gaya -> data ko sort kia lower-higher -> phir daikha k index-'0' par '4.3' pra hay -> '4.3' ...\n",
    "# . ka sorted list main 3sra number banta hay, so, isay 3sra numer do-> so isay rank-3 day dia & so on...\n",
    "\n",
    "\n",
    "# Note:\n",
    "\n",
    "    \n",
    "#     See book pg = 155 & 166:\n",
    "#         . if original data = [7, -5, 7, 4, 2, 0, 4]\n",
    "#         . Apparently ye data ko sort kray ga   [7, 7, 4, 4, 2, 0, -5]\n",
    "#                                                [1, 2, 3, 4, 5, 6,  7]\n",
    "#         . phir jo number aik say ziada baar aaye hoon gay, on numbers ko jo last rank assign hua hoga, ye onhain, output main,\n",
    "#         . har jagah, vohi rank assign kray ga\n",
    "\n"
   ]
  },
  {
   "cell_type": "code",
   "execution_count": 45,
   "id": "44e8c249",
   "metadata": {},
   "outputs": [
    {
     "data": {
      "text/html": [
       "<div>\n",
       "<style scoped>\n",
       "    .dataframe tbody tr th:only-of-type {\n",
       "        vertical-align: middle;\n",
       "    }\n",
       "\n",
       "    .dataframe tbody tr th {\n",
       "        vertical-align: top;\n",
       "    }\n",
       "\n",
       "    .dataframe thead th {\n",
       "        text-align: right;\n",
       "    }\n",
       "</style>\n",
       "<table border=\"1\" class=\"dataframe\">\n",
       "  <thead>\n",
       "    <tr style=\"text-align: right;\">\n",
       "      <th></th>\n",
       "      <th>b</th>\n",
       "      <th>a</th>\n",
       "      <th>c</th>\n",
       "    </tr>\n",
       "  </thead>\n",
       "  <tbody>\n",
       "    <tr>\n",
       "      <th>0</th>\n",
       "      <td>2.0</td>\n",
       "      <td>4.0</td>\n",
       "      <td>3.0</td>\n",
       "    </tr>\n",
       "    <tr>\n",
       "      <th>1</th>\n",
       "      <td>1.0</td>\n",
       "      <td>2.0</td>\n",
       "      <td>2.0</td>\n",
       "    </tr>\n",
       "    <tr>\n",
       "      <th>2</th>\n",
       "      <td>4.0</td>\n",
       "      <td>4.0</td>\n",
       "      <td>1.0</td>\n",
       "    </tr>\n",
       "    <tr>\n",
       "      <th>3</th>\n",
       "      <td>3.0</td>\n",
       "      <td>2.0</td>\n",
       "      <td>4.0</td>\n",
       "    </tr>\n",
       "  </tbody>\n",
       "</table>\n",
       "</div>"
      ],
      "text/plain": [
       "     b    a    c\n",
       "0  2.0  4.0  3.0\n",
       "1  1.0  2.0  2.0\n",
       "2  4.0  4.0  1.0\n",
       "3  3.0  2.0  4.0"
      ]
     },
     "execution_count": 45,
     "metadata": {},
     "output_type": "execute_result"
    }
   ],
   "source": [
    "frame.rank(ascending = False, method = ' max')\n",
    "\n",
    "# same kaam hi kr rahi hay bas data ko lower-higher? sort kr k phir rank kr rahi hay\n"
   ]
  },
  {
   "cell_type": "code",
   "execution_count": 48,
   "id": "ddc990bb",
   "metadata": {},
   "outputs": [],
   "source": [
    "# baaqi or bhi cheezain is say related hain, see professional vids: '30_1 Function Appli...' 4:50.  book pg = 156\n"
   ]
  },
  {
   "cell_type": "markdown",
   "id": "d9a18253",
   "metadata": {},
   "source": [
    "## Summarizing and Computing Descriptive Statistics"
   ]
  },
  {
   "cell_type": "markdown",
   "id": "4f743dd7",
   "metadata": {},
   "source": [
    "#### .sum() on values/data\n",
    "\n",
    "See pg = 158 for lots and lots of other useful functions"
   ]
  },
  {
   "cell_type": "code",
   "execution_count": 7,
   "id": "54c5eb92",
   "metadata": {},
   "outputs": [
    {
     "name": "stdout",
     "output_type": "stream",
     "text": [
      "    one  two\n",
      "a  1.40  NaN\n",
      "b  7.10 -4.5\n",
      "c   NaN  NaN\n",
      "d  0.75 -1.3\n",
      "\n",
      "The sum is: \n",
      " one    9.25\n",
      "two   -5.80\n",
      "dtype: float64\n",
      "\n",
      "a    1.40\n",
      "b    2.60\n",
      "c    0.00\n",
      "d   -0.55\n",
      "dtype: float64\n"
     ]
    }
   ],
   "source": [
    "import numpy as np\n",
    "import pandas as pd\n",
    "\n",
    "df = pd.DataFrame([\n",
    "                    [1.4, np.nan],    [7.1 , -4.5],\n",
    "                    [np.nan, np.nan], [0.75, -1.3]],\n",
    "                    index = ['a', 'b', 'c', 'd'], columns = ['one', 'two'])\n",
    "\n",
    "print(df)\n",
    "print()\n",
    "print('The sum is: \\n',df.sum()) # by-default rows sum kray ga\n",
    "\n",
    "print()\n",
    "print(df.sum(axis = 'columns'))  # columns sum kray ga\n"
   ]
  },
  {
   "cell_type": "markdown",
   "id": "9d1646c8",
   "metadata": {},
   "source": [
    "#### .mean() on values/data"
   ]
  },
  {
   "cell_type": "code",
   "execution_count": 10,
   "id": "32460b49",
   "metadata": {},
   "outputs": [
    {
     "name": "stdout",
     "output_type": "stream",
     "text": [
      "    one  two\n",
      "a  1.40  NaN\n",
      "b  7.10 -4.5\n",
      "c   NaN  NaN\n",
      "d  0.75 -1.3\n",
      "\n",
      "one    3.083333\n",
      "two   -2.900000\n",
      "dtype: float64\n",
      "\n",
      "a      NaN\n",
      "b    1.300\n",
      "c      NaN\n",
      "d   -0.275\n",
      "dtype: float64\n"
     ]
    }
   ],
   "source": [
    "print(df)\n",
    "print()\n",
    "print(df.mean()) # by default successive-rows ki, same column vli values ka mean nikalay ga\n",
    "                # note is nay Nan ko siray say mean nikalnay k liye use hi ni kia\n",
    "                # it means by default skipna = True hta hay\n",
    "                # (1.4 + 7.1 + 0.75)/3 = 3.08333\n",
    "\n",
    "print()\n",
    "print(df.mean(axis = 'columns', skipna = False)) # jis row main aik bar bhi Nan aaya tha, vo pori row hi Nan ho gai! \n",
    "                                                 # cuz of 'skipna' = False\n",
    "                                                 # is nay (1.4 + Nan)/2 = Nan kia\n"
   ]
  },
  {
   "cell_type": "code",
   "execution_count": 68,
   "id": "aaffe46b",
   "metadata": {},
   "outputs": [
    {
     "name": "stdout",
     "output_type": "stream",
     "text": [
      "a    1.400\n",
      "b    1.300\n",
      "c      NaN\n",
      "d   -0.275\n",
      "dtype: float64\n"
     ]
    }
   ],
   "source": [
    "print(df.mean(axis = 'columns', skipna = True)) # ab is nay jahan jahan Nan aaya, vo pori value skip kr di\n",
    "                                                # 1.4/2 nahi kia, bal kay, 1.4/1 kia\n",
    "    "
   ]
  },
  {
   "cell_type": "markdown",
   "id": "668aa44a",
   "metadata": {},
   "source": [
    "### Unique Values\n",
    "#### .unique()\n",
    "\n",
    "Aik value agar aik say ziada baar aai hui hay kisi column main , tu ye osay aik bar hi print kray ga, ak bar say ziada bar osay\n",
    "Show nahi krvaye ga"
   ]
  },
  {
   "cell_type": "code",
   "execution_count": 14,
   "id": "f79b8441",
   "metadata": {},
   "outputs": [
    {
     "name": "stdout",
     "output_type": "stream",
     "text": [
      "    one  two  three  four\n",
      "a  1.40  1.4    1.5   NaN\n",
      "b  7.10 -4.5    1.5   1.4\n",
      "c  1.40  NaN    0.5   NaN\n",
      "d  0.75 -1.3    1.3   NaN\n",
      "\n",
      "[1.4  7.1  0.75] [ 1.4 -4.5  nan -1.3]\n"
     ]
    },
    {
     "data": {
      "text/plain": [
       "one\n",
       "1.40    2\n",
       "7.10    1\n",
       "0.75    1\n",
       "Name: count, dtype: int64"
      ]
     },
     "execution_count": 14,
     "metadata": {},
     "output_type": "execute_result"
    }
   ],
   "source": [
    "import numpy as np\n",
    "import pandas as pd\n",
    "\n",
    "\n",
    "df = pd.DataFrame([\n",
    "                    [1.4, 1.4,    1.5, np.nan],    [7.1,  -4.5, 1.5, 1.4],\n",
    "                    [1.4, np.nan, 0.5, np.nan],    [0.75, -1.3, 1.3, np.nan]\n",
    "                   ],\n",
    "                    index = ['a', 'b', 'c', 'd'], columns = ['one', 'two', 'three', 'four'] )\n",
    "\n",
    "print(df)\n",
    "print()\n",
    "\n",
    "print( df['one'].unique(), df['two'].unique() )\n",
    "\n",
    "# Amazing! ye saray counts bta raha hay k, kon kon si value kitni kitni bar aai, kisi column main\n",
    "# Note:\n",
    "#     isay pori table par apply nai kr sktay, column wise hi apply kr sktay hain\n",
    "\n",
    "df['one'].value_counts()\n"
   ]
  },
  {
   "cell_type": "markdown",
   "id": "d41017ee",
   "metadata": {},
   "source": [
    "# Indexing and Slicing in DataFrames"
   ]
  },
  {
   "cell_type": "code",
   "execution_count": 18,
   "id": "d4b7999b",
   "metadata": {},
   "outputs": [
    {
     "name": "stdout",
     "output_type": "stream",
     "text": [
      "          one  two  three  four\n",
      "Ohio        0    1      2     3\n",
      "Colorado    4    5      6     7\n",
      "Utah        8    9     10    11\n",
      "New York   12   13     14    15 \n",
      "\n",
      "One row - with 2 columns selected \n",
      " two      5\n",
      "three    6\n",
      "Name: Colorado, dtype: int32\n",
      "\n",
      "Two rows - with 2 columns selected \n",
      "           two  three\n",
      "Colorado    5      6\n",
      "Ohio        1      2\n",
      "\n",
      "\n",
      "\n",
      "four    11\n",
      "one      8\n",
      "two      9\n",
      "Name: Utah, dtype: int32\n",
      "\n",
      "\n",
      " All rows\n",
      "          one  two  three  four\n",
      "Ohio        0    1      2     3\n",
      "Colorado    4    5      6     7\n",
      "Utah        8    9     10    11\n",
      "New York   12   13     14    15\n",
      "\n",
      "\n",
      " All rows but 0,1,2 columns\n",
      "          one  two  three\n",
      "Ohio        0    1      2\n",
      "Colorado    4    5      6\n",
      "Utah        8    9     10\n",
      "New York   12   13     14\n",
      "\n",
      "\n",
      " \n",
      "          one  two  three  four\n",
      "Ohio        0    1      2     3\n",
      "Colorado    4    5      6     7\n"
     ]
    }
   ],
   "source": [
    "import numpy as np\n",
    "import pandas as pd\n",
    "\n",
    "data_df = pd.DataFrame(np.arange(16).reshape((4,4)),\n",
    "                      index   = ['Ohio', 'Colorado', 'Utah', 'New York'],\n",
    "                      columns = ['one', 'two', 'three', 'four']\n",
    "                      )\n",
    "print(data_df, '\\n')\n",
    "\n",
    "# in the loc method specify row label\n",
    "# then specify column names\n",
    "# remember! multiple column names require array notation\n",
    "\n",
    "print('One row - with 2 columns selected \\n',data_df.loc['Colorado', ['two', 'three'] ] )            # Colorado vli row main ['two' , 'three'] columns vli values return keen\n",
    "print()\n",
    "print('Two rows - with 2 columns selected \\n', data_df.loc[ ['Colorado', 'Ohio'], ['two', 'three'] ] ) # multiple rows, multiple columns\n",
    "\n",
    "print('\\n\\n')\n",
    "print( data_df.iloc[2, [3, 0, 1] ] )  # same-to-same .loc[] vala kaam hi hay, but yahan hum numbers day sktay hain\n",
    "\n",
    "\n",
    "print('\\n\\n All rows')\n",
    "print(data_df.iloc[:] )         # voi numpy vli fancy indexing vala scene hay\n",
    "\n",
    "print('\\n\\n All rows but 0,1,2 columns')\n",
    "print(data_df.iloc[:, :3 ] )    # yahan tu exactly fancy indexing vala scene hay\n",
    "\n",
    "print('\\n\\n ')\n",
    "print(data_df.iloc[:2,] )       # exactly voi fancy indexing vala chakkar hay# [data_df.three > 5]\n"
   ]
  },
  {
   "cell_type": "markdown",
   "id": "b90a3b82",
   "metadata": {},
   "source": [
    "# Arithmetic & Data Alignment\n"
   ]
  },
  {
   "cell_type": "code",
   "execution_count": 19,
   "id": "561de613",
   "metadata": {},
   "outputs": [
    {
     "name": "stdout",
     "output_type": "stream",
     "text": [
      "          b  c  d\n",
      "Ohio      0  1  2\n",
      "Texas     3  4  5\n",
      "Colorado  6  7  8\n",
      "\n",
      "        b   d   e\n",
      "Utah    0   1   2\n",
      "Ohio    3   4   5\n",
      "Texas   6   7   8\n",
      "Oregon  9  10  11\n",
      "\n",
      "            b   c     d   e\n",
      "Colorado  NaN NaN   NaN NaN\n",
      "Ohio      3.0 NaN   6.0 NaN\n",
      "Oregon    NaN NaN   NaN NaN\n",
      "Texas     9.0 NaN  12.0 NaN\n",
      "Utah      NaN NaN   NaN NaN\n"
     ]
    }
   ],
   "source": [
    "df1 = pd.DataFrame(np.arange(9).reshape((3,3)),\n",
    "                  columns = list('bcd'),\n",
    "                  index = ['Ohio', 'Texas', 'Colorado'])\n",
    "\n",
    "df2 = pd.DataFrame(np.arange(12).reshape((4,3)),\n",
    "                  columns = list('bde'),\n",
    "                  index = ['Utah', 'Ohio', 'Texas', 'Oregon'])\n",
    "\n",
    "print(df1)\n",
    "print()\n",
    "print(df2)\n",
    "print()\n",
    "\n",
    "# Applying plus operation b/w two data frames\n",
    "\n",
    "df3 = df1 + df2\n",
    "\n",
    "print(df3)\n",
    "\n",
    "# Rows ka union bhi aaya\n",
    "# Columns ka union bhi aaya\n",
    "#                             # + Nan = Nan\n"
   ]
  },
  {
   "cell_type": "markdown",
   "id": "89ae13d9",
   "metadata": {},
   "source": [
    "# Arithmetic Method with Fill Values\n"
   ]
  },
  {
   "cell_type": "markdown",
   "id": "4df4d881",
   "metadata": {},
   "source": [
    "#### Filling Nan Values"
   ]
  },
  {
   "cell_type": "code",
   "execution_count": 20,
   "id": "700c1bed",
   "metadata": {},
   "outputs": [
    {
     "name": "stdout",
     "output_type": "stream",
     "text": [
      "   a  b   c   d\n",
      "0  0  1   2   3\n",
      "1  4  5   6   7\n",
      "2  8  9  10  11\n",
      "\n",
      "    a   b   c   d   e\n",
      "0   0   1   2   3   4\n",
      "1   5   6   7   8   9\n",
      "2  10  11  12  13  14\n",
      "3  15  16  17  18  19\n"
     ]
    }
   ],
   "source": [
    "# creating data frames without any Nan values\n",
    "\n",
    "import pandas as pd\n",
    "import numpy as np\n",
    "\n",
    "\n",
    "df1 = pd.DataFrame(np.arange(12).reshape((3,4)),\n",
    "                   columns = list('abcd'))\n",
    "\n",
    "df2 = pd.DataFrame(np.arange(20).reshape((4,5)),\n",
    "                   columns = list('abcde'))\n",
    "\n",
    "print(df1)\n",
    "print()\n",
    "print(df2)\n"
   ]
  },
  {
   "cell_type": "code",
   "execution_count": 21,
   "id": "5037753b",
   "metadata": {},
   "outputs": [
    {
     "name": "stdout",
     "output_type": "stream",
     "text": [
      "    a     b   c   d   e\n",
      "0   0   1.0   2   3   4\n",
      "1   5   NaN   7   8   9\n",
      "2  10  11.0  12  13  14\n",
      "3  15  16.0  17  18  19\n"
     ]
    }
   ],
   "source": [
    "# putting Nan at a specific entry\n",
    "\n",
    "df2.loc[1, 'b'] = np.nan\n",
    "\n",
    "print(df2)"
   ]
  },
  {
   "cell_type": "code",
   "execution_count": 4,
   "id": "bc6cfd7c",
   "metadata": {},
   "outputs": [
    {
     "data": {
      "text/html": [
       "<div>\n",
       "<style scoped>\n",
       "    .dataframe tbody tr th:only-of-type {\n",
       "        vertical-align: middle;\n",
       "    }\n",
       "\n",
       "    .dataframe tbody tr th {\n",
       "        vertical-align: top;\n",
       "    }\n",
       "\n",
       "    .dataframe thead th {\n",
       "        text-align: right;\n",
       "    }\n",
       "</style>\n",
       "<table border=\"1\" class=\"dataframe\">\n",
       "  <thead>\n",
       "    <tr style=\"text-align: right;\">\n",
       "      <th></th>\n",
       "      <th>a</th>\n",
       "      <th>b</th>\n",
       "      <th>c</th>\n",
       "      <th>d</th>\n",
       "      <th>e</th>\n",
       "    </tr>\n",
       "  </thead>\n",
       "  <tbody>\n",
       "    <tr>\n",
       "      <th>0</th>\n",
       "      <td>0.0</td>\n",
       "      <td>2.0</td>\n",
       "      <td>4.0</td>\n",
       "      <td>6.0</td>\n",
       "      <td>NaN</td>\n",
       "    </tr>\n",
       "    <tr>\n",
       "      <th>1</th>\n",
       "      <td>9.0</td>\n",
       "      <td>NaN</td>\n",
       "      <td>13.0</td>\n",
       "      <td>15.0</td>\n",
       "      <td>NaN</td>\n",
       "    </tr>\n",
       "    <tr>\n",
       "      <th>2</th>\n",
       "      <td>18.0</td>\n",
       "      <td>20.0</td>\n",
       "      <td>22.0</td>\n",
       "      <td>24.0</td>\n",
       "      <td>NaN</td>\n",
       "    </tr>\n",
       "    <tr>\n",
       "      <th>3</th>\n",
       "      <td>NaN</td>\n",
       "      <td>NaN</td>\n",
       "      <td>NaN</td>\n",
       "      <td>NaN</td>\n",
       "      <td>NaN</td>\n",
       "    </tr>\n",
       "  </tbody>\n",
       "</table>\n",
       "</div>"
      ],
      "text/plain": [
       "      a     b     c     d   e\n",
       "0   0.0   2.0   4.0   6.0 NaN\n",
       "1   9.0   NaN  13.0  15.0 NaN\n",
       "2  18.0  20.0  22.0  24.0 NaN\n",
       "3   NaN   NaN   NaN   NaN NaN"
      ]
     },
     "execution_count": 4,
     "metadata": {},
     "output_type": "execute_result"
    }
   ],
   "source": [
    "#  Direct Doing Summation without fill_value\n",
    "df3 = df1 + df2\n",
    "df3\n",
    "# daikha  ' any_# + Nan = Nan '\n"
   ]
  },
  {
   "cell_type": "code",
   "execution_count": 5,
   "id": "3f3e463b",
   "metadata": {},
   "outputs": [
    {
     "name": "stdout",
     "output_type": "stream",
     "text": [
      "      a     b     c     d     e\n",
      "0   0.0   2.0   4.0   6.0   4.0\n",
      "1   9.0   5.0  13.0  15.0   9.0\n",
      "2  18.0  20.0  22.0  24.0  14.0\n",
      "3  15.0  16.0  17.0  18.0  19.0\n"
     ]
    }
   ],
   "source": [
    "# Summation with fill_value\n",
    "\n",
    "df3 = df1.add(df2, fill_value = 0)\n",
    "print(df3)\n"
   ]
  },
  {
   "cell_type": "markdown",
   "id": "c310ad3e",
   "metadata": {},
   "source": [
    "#### similarly hum multiply main bhi yei kaam kar sktay hain.\n",
    "\n",
    "See Book for more details"
   ]
  },
  {
   "cell_type": "markdown",
   "id": "752412da",
   "metadata": {},
   "source": [
    "## Operations b/w DataFrame & Series"
   ]
  },
  {
   "cell_type": "code",
   "execution_count": 1,
   "id": "197b1390",
   "metadata": {},
   "outputs": [
    {
     "data": {
      "text/html": [
       "<div>\n",
       "<style scoped>\n",
       "    .dataframe tbody tr th:only-of-type {\n",
       "        vertical-align: middle;\n",
       "    }\n",
       "\n",
       "    .dataframe tbody tr th {\n",
       "        vertical-align: top;\n",
       "    }\n",
       "\n",
       "    .dataframe thead th {\n",
       "        text-align: right;\n",
       "    }\n",
       "</style>\n",
       "<table border=\"1\" class=\"dataframe\">\n",
       "  <thead>\n",
       "    <tr style=\"text-align: right;\">\n",
       "      <th></th>\n",
       "      <th>b</th>\n",
       "      <th>d</th>\n",
       "      <th>e</th>\n",
       "    </tr>\n",
       "  </thead>\n",
       "  <tbody>\n",
       "    <tr>\n",
       "      <th>Utah</th>\n",
       "      <td>0</td>\n",
       "      <td>1</td>\n",
       "      <td>2</td>\n",
       "    </tr>\n",
       "    <tr>\n",
       "      <th>Ohio</th>\n",
       "      <td>3</td>\n",
       "      <td>4</td>\n",
       "      <td>5</td>\n",
       "    </tr>\n",
       "    <tr>\n",
       "      <th>Texas</th>\n",
       "      <td>6</td>\n",
       "      <td>7</td>\n",
       "      <td>8</td>\n",
       "    </tr>\n",
       "    <tr>\n",
       "      <th>Oregon</th>\n",
       "      <td>9</td>\n",
       "      <td>10</td>\n",
       "      <td>11</td>\n",
       "    </tr>\n",
       "  </tbody>\n",
       "</table>\n",
       "</div>"
      ],
      "text/plain": [
       "        b   d   e\n",
       "Utah    0   1   2\n",
       "Ohio    3   4   5\n",
       "Texas   6   7   8\n",
       "Oregon  9  10  11"
      ]
     },
     "execution_count": 1,
     "metadata": {},
     "output_type": "execute_result"
    }
   ],
   "source": [
    "import numpy as np\n",
    "import pandas as pd\n",
    "\n",
    "frame = pd.DataFrame(np.arange(12).reshape((4,3)),\n",
    "                    columns = list('bde'),\n",
    "                    index = ['Utah', 'Ohio', 'Texas', 'Oregon'])\n",
    "\n",
    "frame\n"
   ]
  },
  {
   "cell_type": "code",
   "execution_count": 2,
   "id": "622d1b8d",
   "metadata": {},
   "outputs": [
    {
     "name": "stdout",
     "output_type": "stream",
     "text": [
      "b    0\n",
      "d    1\n",
      "e    2\n",
      "Name: Utah, dtype: int32\n",
      "\n",
      "[0 1 2]\n",
      "\n",
      "Index(['b', 'd', 'e'], dtype='object')\n",
      "\n"
     ]
    }
   ],
   "source": [
    "# iloc syntax\n",
    "# iloc[start_row_pos : end_row_pos, start_column_pos : end_column_pos]\n",
    "series = frame.iloc[0]\n",
    "\n",
    "print(series)\n",
    "print()\n",
    "\n",
    "print(series.values)\n",
    "print()\n",
    "\n",
    "print(series.index)\n",
    "print()\n"
   ]
  },
  {
   "cell_type": "code",
   "execution_count": 8,
   "id": "7292fe69",
   "metadata": {},
   "outputs": [
    {
     "data": {
      "text/html": [
       "<div>\n",
       "<style scoped>\n",
       "    .dataframe tbody tr th:only-of-type {\n",
       "        vertical-align: middle;\n",
       "    }\n",
       "\n",
       "    .dataframe tbody tr th {\n",
       "        vertical-align: top;\n",
       "    }\n",
       "\n",
       "    .dataframe thead th {\n",
       "        text-align: right;\n",
       "    }\n",
       "</style>\n",
       "<table border=\"1\" class=\"dataframe\">\n",
       "  <thead>\n",
       "    <tr style=\"text-align: right;\">\n",
       "      <th></th>\n",
       "      <th>b</th>\n",
       "      <th>d</th>\n",
       "      <th>e</th>\n",
       "    </tr>\n",
       "  </thead>\n",
       "  <tbody>\n",
       "    <tr>\n",
       "      <th>Utah</th>\n",
       "      <td>0</td>\n",
       "      <td>0</td>\n",
       "      <td>0</td>\n",
       "    </tr>\n",
       "    <tr>\n",
       "      <th>Ohio</th>\n",
       "      <td>3</td>\n",
       "      <td>3</td>\n",
       "      <td>3</td>\n",
       "    </tr>\n",
       "    <tr>\n",
       "      <th>Texas</th>\n",
       "      <td>6</td>\n",
       "      <td>6</td>\n",
       "      <td>6</td>\n",
       "    </tr>\n",
       "    <tr>\n",
       "      <th>Oregon</th>\n",
       "      <td>9</td>\n",
       "      <td>9</td>\n",
       "      <td>9</td>\n",
       "    </tr>\n",
       "  </tbody>\n",
       "</table>\n",
       "</div>"
      ],
      "text/plain": [
       "        b  d  e\n",
       "Utah    0  0  0\n",
       "Ohio    3  3  3\n",
       "Texas   6  6  6\n",
       "Oregon  9  9  9"
      ]
     },
     "execution_count": 8,
     "metadata": {},
     "output_type": "execute_result"
    }
   ],
   "source": [
    "frame - series\n",
    "\n",
    "# frame - series\n",
    "\n",
    "#   0 - 0=0     1 - 1=0   2 - 2=0\n",
    "#   3 - 0=3     4 - 1=3   5 - 2=3\n",
    "#   6 - 0=6     7 - 1=6   8 - 2=6\n",
    "#     .         .       .\n",
    "\n",
    "# Series aik row ki trah behave kray gi, series-row ki har aik aik entry\n",
    "# DataFrame-rows ki corresponding entries '-' hoon gi\n"
   ]
  },
  {
   "cell_type": "markdown",
   "id": "25480bff",
   "metadata": {},
   "source": [
    "## Filling Missing Values in Columns"
   ]
  },
  {
   "cell_type": "code",
   "execution_count": 3,
   "id": "044930ef",
   "metadata": {},
   "outputs": [
    {
     "name": "stdout",
     "output_type": "stream",
     "text": [
      "   year   state  pop debt\n",
      "0  2000    Ohio  1.5  NaN\n",
      "1  2001    Ohio  1.7  NaN\n",
      "2  2002    Ohio  3.6  NaN\n",
      "3  2001  Nevada  2.4  NaN\n",
      "4  2002  Nevada  2.9  NaN\n",
      "5  2003  Nevada  3.2  NaN\n",
      "\n",
      "\n",
      "    year   state  pop  debt\n",
      "0  2000    Ohio  1.5     0\n",
      "1  2001    Ohio  1.7     1\n",
      "2  2002    Ohio  3.6     2\n",
      "3  2001  Nevada  2.4     3\n",
      "4  2002  Nevada  2.9     4\n",
      "5  2003  Nevada  3.2     5\n"
     ]
    }
   ],
   "source": [
    "# Creating a DataFrame\n",
    "data = {'state': ['Ohio', 'Ohio', 'Ohio', 'Nevada', 'Nevada', 'Nevada'],\n",
    " 'year': [2000, 2001, 2002, 2001, 2002, 2003],\n",
    " 'pop': [1.5, 1.7, 3.6, 2.4, 2.9, 3.2]}\n",
    "\n",
    "\n",
    "state_popu_df = pd.DataFrame(data, columns = ['year', 'state', 'pop', 'debt'])\n",
    "print(state_popu_df)\n",
    "\n",
    "\n",
    "# Filling the Missing Values\n",
    "a = len(state_popu_df['debt'])\n",
    "\n",
    "state_popu_df['debt'] = np.arange( a )\n",
    "\n",
    "print('\\n\\n', state_popu_df)\n"
   ]
  },
  {
   "cell_type": "code",
   "execution_count": 24,
   "id": "f2a97b69",
   "metadata": {},
   "outputs": [
    {
     "name": "stdout",
     "output_type": "stream",
     "text": [
      "   pop  debt\n",
      "0  0.0     1\n",
      "1  2.0     3\n"
     ]
    }
   ],
   "source": [
    "# similarly 'Indexing and Slicing in DataFrames' section main aap daikh sktay ho k d/f arrangements ko kesay select krna hay\n",
    "\n",
    "\n",
    "state_popu_df.loc[ [0, 1], ['pop','debt'] ] = np.arange(4).reshape((2,2))\n",
    "\n",
    "print(state_popu_df.loc[ [0, 1], ['pop','debt'] ])\n"
   ]
  },
  {
   "cell_type": "code",
   "execution_count": 25,
   "id": "f794922e",
   "metadata": {},
   "outputs": [
    {
     "name": "stdout",
     "output_type": "stream",
     "text": [
      "   pop  debt\n",
      "0  0.0     0\n",
      "1  0.0     0\n"
     ]
    }
   ],
   "source": [
    "# Another Possibility - Filling with a single value\n",
    "\n",
    "state_popu_df.loc[ [0, 1], ['pop','debt'] ] = 0\n",
    "\n",
    "print(state_popu_df.loc[ [0, 1], ['pop','debt'] ])\n"
   ]
  },
  {
   "cell_type": "code",
   "execution_count": 36,
   "id": "3f31e446",
   "metadata": {},
   "outputs": [
    {
     "name": "stdout",
     "output_type": "stream",
     "text": [
      "   year   state  pop  debt\n",
      "0  2000    Ohio  0.0     2\n",
      "1  2001    Ohio  0.0     3\n",
      "2  2002    Ohio  3.6     4\n",
      "3  2001  Nevada  2.4     5\n",
      "4  2002  Nevada  2.9     6\n",
      "5  2003  Nevada  3.2     1\n"
     ]
    }
   ],
   "source": [
    "# Filling with a Series\n",
    "\n",
    "# Series k index and DataFrame k index aapas main match honay chahiyain\n",
    "\n",
    "val = pd.Series( [1, 2, 3, 4, 5, 6], index = [5, 0, 1, 2, 3, 4] )\n",
    "\n",
    "state_popu_df['debt'] = val\n",
    "\n",
    "print(state_popu_df)\n",
    "\n",
    "# series k 5th index pr 1 pra hua tha, ye automatically 1 ko DataFrame ki corresponding\n",
    "# 5th index pr lay gaya\n"
   ]
  },
  {
   "cell_type": "markdown",
   "id": "ce43a4db",
   "metadata": {},
   "source": [
    "#### index length must be equal to length of values, otherwise do not provide indices\n"
   ]
  },
  {
   "cell_type": "markdown",
   "id": "8f9ca615",
   "metadata": {},
   "source": [
    "### Dropping Data\n"
   ]
  },
  {
   "cell_type": "code",
   "execution_count": 42,
   "id": "324e751e",
   "metadata": {},
   "outputs": [
    {
     "name": "stdout",
     "output_type": "stream",
     "text": [
      "Original Data: \n",
      "           one  two  three  four\n",
      "Ohio        0    1      2     3\n",
      "Colorado    4    5      6     7\n",
      "Utah        8    9     10    11\n",
      "New York   12   13     14    15\n",
      "\n",
      "\n",
      "\n",
      "Data without column (two): \n",
      "           one  three  four\n",
      "Ohio        0      2     3\n",
      "Colorado    4      6     7\n",
      "Utah        8     10    11\n",
      "New York   12     14    15\n"
     ]
    }
   ],
   "source": [
    "import numpy as np\n",
    "import pandas as pd\n",
    "\n",
    "data_df = pd.DataFrame(np.arange(16).reshape((4,4)),\n",
    "                      index = ['Ohio', 'Colorado', 'Utah', 'New York'],\n",
    "                      columns = ['one', 'two', 'three', 'four'])\n",
    "\n",
    "# dataframe.drop method would return a new-dataframe, the old-dataframe will remain\n",
    "# unchanged, but the new-dataframe will have the specified rows/columns deleted\n",
    "\n",
    "data_2_df = data_df.drop('two', axis = 1) # can also use axis = 'columns'\n",
    "\n",
    "print('Original Data: \\n', data_df)\n",
    "print('\\n\\n')\n",
    "\n",
    "print('Data without column (two): \\n', data_2_df)\n"
   ]
  },
  {
   "cell_type": "code",
   "execution_count": 44,
   "id": "e5a4aed8",
   "metadata": {},
   "outputs": [
    {
     "name": "stdout",
     "output_type": "stream",
     "text": [
      "Original Data: \n",
      "           one  two  three  four\n",
      "Ohio        0    1      2     3\n",
      "Colorado    4    5      6     7\n",
      "Utah        8    9     10    11\n",
      "New York   12   13     14    15\n",
      "\n",
      "\n",
      "\n",
      "Data without row (Ohio): \n",
      "           one  two  three  four\n",
      "Colorado    4    5      6     7\n",
      "Utah        8    9     10    11\n",
      "New York   12   13     14    15\n"
     ]
    }
   ],
   "source": [
    "data_2_df = data_df.drop('Ohio', axis = 0) # can also use axis = 'rows'\n",
    "\n",
    "print('Original Data: \\n', data_df)\n",
    "print('\\n\\n')\n",
    "\n",
    "print('Data without row (Ohio): \\n', data_2_df)\n"
   ]
  },
  {
   "cell_type": "code",
   "execution_count": 46,
   "id": "76a71619",
   "metadata": {},
   "outputs": [
    {
     "name": "stdout",
     "output_type": "stream",
     "text": [
      "Updated dataframe is: \n",
      "           one  two  three  four\n",
      "Colorado    4    5      6     7\n",
      "Utah        8    9     10    11\n",
      "New York   12   13     14    15\n"
     ]
    }
   ],
   "source": [
    "# If you don't want to crete a new-dataframe but instead want to use the old-dataframe,\n",
    "# use:\n",
    "\n",
    "# data_df = data_df.drop('Ohio', axis = 0)\n",
    "# print('Updated dataframe is: \\n', data_df)\n",
    "\n",
    "# Or use:\n",
    "data_df.drop('Ohio', axis = 0, inplace = True) #Note: inplace = True\n",
    "\n",
    "print('Updated dataframe is: \\n', data_df)\n"
   ]
  },
  {
   "cell_type": "markdown",
   "id": "dfa632c7",
   "metadata": {},
   "source": [
    "## Indexing, Selection & Filtering\n",
    "\n",
    "ye kitaab ka hi aik topic hay"
   ]
  },
  {
   "cell_type": "code",
   "execution_count": 62,
   "id": "e8b0cd58",
   "metadata": {},
   "outputs": [
    {
     "name": "stdout",
     "output_type": "stream",
     "text": [
      "The origina data is: \n",
      "           One  Two  Three  Four\n",
      "Ohio        0    1      2     3\n",
      "Colorado    4    5      6     7\n",
      "Utah        8    9     10    11\n",
      "New York   12   13     14    15\n",
      "\n",
      "\n",
      "data_df[ [one, three] ] gives: \n",
      "            One  Three\n",
      "Ohio        0      2\n",
      "Colorado    4      6\n",
      "Utah        8     10\n",
      "New York   12     14\n",
      "\n",
      "\n",
      "data_df[2:] gives: \n",
      "            One  Two  Three  Four\n",
      "Utah        8    9     10    11\n",
      "New York   12   13     14    15\n"
     ]
    }
   ],
   "source": [
    "import numpy as np\n",
    "import pandas as pd\n",
    "\n",
    "data_df = pd.DataFrame(np.arange(16).reshape((4,4)),\n",
    "                      index = ['Ohio', 'Colorado', 'Utah', 'New York'],\n",
    "                      columns = ['One', 'Two', 'Three', 'Four'])\n",
    "\n",
    "print('The origina data is: \\n', data_df)\n",
    "\n",
    "print('\\n\\ndata_df[ [one, three] ] gives: \\n ',  data_df[ [\"One\", \"Three\"] ] )\n",
    "\n",
    "# can use numpy style as well\n",
    "\n",
    "print('\\n\\ndata_df[2:] gives: \\n ',  data_df[2: ] ) # pehli 2 rows, tamaam columns\n",
    "\n"
   ]
  },
  {
   "cell_type": "markdown",
   "id": "e848e079",
   "metadata": {},
   "source": [
    "See book for further details"
   ]
  },
  {
   "cell_type": "code",
   "execution_count": 63,
   "id": "a11dd9b7",
   "metadata": {},
   "outputs": [],
   "source": [
    "# Mind Teaser !!\n",
    "\n",
    "# Assigning a column that already exists will ________ and\n",
    "# assigning a column that does'nt already exists will _________.\n"
   ]
  },
  {
   "cell_type": "markdown",
   "id": "604c187b",
   "metadata": {},
   "source": [
    "## Reindexing & use of 'ffill' value of parameter = 'method'"
   ]
  },
  {
   "cell_type": "code",
   "execution_count": 77,
   "id": "85fe9661",
   "metadata": {},
   "outputs": [
    {
     "name": "stdout",
     "output_type": "stream",
     "text": [
      "0      blue\n",
      "3    purple\n",
      "6    yellow\n",
      "dtype: object\n",
      "\n",
      "\n",
      "Without ffill we get:\n",
      "0      blue\n",
      "1       NaN\n",
      "2       NaN\n",
      "3    purple\n",
      "4       NaN\n",
      "5       NaN\n",
      "6    yellow\n",
      "7       NaN\n",
      "8       NaN\n",
      "dtype: object\n",
      "\n",
      "\n",
      "With ffill we get:\n",
      "0      blue\n",
      "1      blue\n",
      "2      blue\n",
      "3    purple\n",
      "4    purple\n",
      "5    purple\n",
      "6    yellow\n",
      "7    yellow\n",
      "8    yellow\n",
      "dtype: object\n"
     ]
    }
   ],
   "source": [
    "import pandas as pd\n",
    "\n",
    "obj3 = pd.Series(['blue', 'purple', 'yellow'],\n",
    "                index = [0, 3, 6])\n",
    "print(obj3)\n",
    "\n",
    "\n",
    "# hum indices/rows barha rahay hain\n",
    "\n",
    "obj3 = obj3.reindex(range(9))\n",
    "print('\\n\\nWithout ffill we get:')\n",
    "print(obj3)\n",
    "\n",
    "\n",
    "\n",
    "obj3 = pd.Series(['blue', 'purple', 'yellow'],\n",
    "                index = [0, 3, 6])\n",
    "obj3 = obj3.reindex(range(9), method = 'ffill')\n",
    "print('\\n\\nWith ffill we get:')\n",
    "print(obj3)\n"
   ]
  },
  {
   "cell_type": "code",
   "execution_count": 84,
   "id": "a21ae694",
   "metadata": {},
   "outputs": [
    {
     "name": "stdout",
     "output_type": "stream",
     "text": [
      "0      blue\n",
      "3    purple\n",
      "6    yellow\n",
      "dtype: object\n",
      "\n",
      "\n",
      "Without ffill we get:\n",
      "3    purple\n",
      "4       NaN\n",
      "5       NaN\n",
      "dtype: object\n",
      "\n",
      "\n",
      "With ffill we get:\n",
      "2       blue\n",
      "3     purple\n",
      "4     purple\n",
      "5     purple\n",
      "6     yellow\n",
      "7     yellow\n",
      "8     yellow\n",
      "9     yellow\n",
      "10    yellow\n",
      "dtype: object\n"
     ]
    }
   ],
   "source": [
    "obj3 = pd.Series(['blue', 'purple', 'yellow'],\n",
    "                index = [0, 3, 6])\n",
    "print(obj3)\n",
    "\n",
    "obj3 = obj3.reindex(range(3,6))\n",
    "print('\\n\\nWithout ffill we get:')\n",
    "print(obj3)\n",
    "\n",
    "# index-3 original series main mojood tha, os k corresponding aik value mojood thi,\n",
    "# so, reindexing mn os k corresponding voi value aa gai\n",
    "# index-4 & index-5 original series main mojood nahi thay, so after reidexing,\n",
    "# in k corresponding 'Nan' aaya\n",
    "\n",
    "obj3 = pd.Series(['blue', 'purple', 'yellow'],\n",
    "                index = [0, 3, 6])\n",
    "\n",
    "obj3 = obj3.reindex(range(2,11), method = 'ffill')\n",
    "print('\\n\\nWith ffill we get:')\n",
    "print(obj3)\n",
    "\n",
    "# hua ye k index-2 par ffill ki vja say index-0 vali value aa gai\n",
    "# index-3 par originally purple tha, so index-3 say onward purple hi aaya\n",
    "# index-6 par originally yellow tha, so yahan say onward, jb tak index khatam\n",
    "# nahi hua, yellow hi continue hua\n"
   ]
  },
  {
   "cell_type": "code",
   "execution_count": null,
   "id": "7c3b48a6-8df1-4370-b3f1-fa6bb37ee75d",
   "metadata": {},
   "outputs": [],
   "source": []
  },
  {
   "cell_type": "code",
   "execution_count": null,
   "id": "baa59871-4df8-4666-aeef-7fe85cd5cafc",
   "metadata": {},
   "outputs": [],
   "source": []
  },
  {
   "cell_type": "code",
   "execution_count": null,
   "id": "fb0c5c16-2b54-4529-bd1b-6e46605eda55",
   "metadata": {},
   "outputs": [],
   "source": []
  },
  {
   "cell_type": "code",
   "execution_count": null,
   "id": "84c57e7b-a72b-4255-9b86-e4a789f6a2cd",
   "metadata": {},
   "outputs": [],
   "source": []
  },
  {
   "cell_type": "code",
   "execution_count": null,
   "id": "075b7ec0-ca79-4506-bec9-73c031aeb9f8",
   "metadata": {},
   "outputs": [],
   "source": []
  },
  {
   "cell_type": "code",
   "execution_count": null,
   "id": "1af562f5-e5b7-478b-853a-c9ca0534de94",
   "metadata": {},
   "outputs": [],
   "source": []
  },
  {
   "cell_type": "markdown",
   "id": "53522121",
   "metadata": {},
   "source": [
    "# Live Recordings\n",
    "\n",
    "sir Nasir k data main Learning pandas by Michael Heydt vli book bhi pri hui hay, vo book bhi achi hay"
   ]
  },
  {
   "cell_type": "markdown",
   "id": "f189fb4b",
   "metadata": {},
   "source": [
    "# Pandas\n",
    "- Data Analysis Library\n",
    "- Two Structures in Pamdas\n",
    "    - Series:    Single Dimensional\n",
    "    - Dataframe: Multidimensional"
   ]
  },
  {
   "cell_type": "markdown",
   "id": "4fde0025",
   "metadata": {},
   "source": [
    "# For Series See studio recording session"
   ]
  },
  {
   "cell_type": "markdown",
   "id": "a21362b9",
   "metadata": {},
   "source": [
    "# Data Frames"
   ]
  },
  {
   "cell_type": "code",
   "execution_count": null,
   "id": "21703d53",
   "metadata": {},
   "outputs": [],
   "source": [
    "### Different ways to create a DataFrame\n"
   ]
  },
  {
   "cell_type": "code",
   "execution_count": 42,
   "id": "7a3e4290",
   "metadata": {},
   "outputs": [],
   "source": [
    "#### Using Dictionaries"
   ]
  },
  {
   "cell_type": "code",
   "execution_count": 48,
   "id": "6f3be5de",
   "metadata": {},
   "outputs": [],
   "source": [
    "students = {\n",
    "    'rolls'  : [1,2,3,4,5,6],\n",
    "    'names'  : ['Ali', 'Amjad', 'Saima', 'Qaiser', 'Hamid', 'Nasir'],\n",
    "    'courses': ['Python', 'Pandas', 'Numpy', 'Pandas', 'Numpy'],            # tmaam columns k no. of indices equal hnay chahiyain jab ap Data Frame bna rahay ho tb\n",
    "    'mode'   : ['Online', 'Onsite', 'Online', 'Onsite', 'Online', 'Onsite']\n",
    "            }\n"
   ]
  },
  {
   "cell_type": "code",
   "execution_count": 49,
   "id": "c04b14b2",
   "metadata": {},
   "outputs": [
    {
     "ename": "ValueError",
     "evalue": "All arrays must be of the same length",
     "output_type": "error",
     "traceback": [
      "\u001b[1;31m---------------------------------------------------------------------------\u001b[0m",
      "\u001b[1;31mValueError\u001b[0m                                Traceback (most recent call last)",
      "Input \u001b[1;32mIn [49]\u001b[0m, in \u001b[0;36m<cell line: 2>\u001b[1;34m()\u001b[0m\n\u001b[0;32m      1\u001b[0m \u001b[38;5;66;03m# eror expected\u001b[39;00m\n\u001b[1;32m----> 2\u001b[0m df \u001b[38;5;241m=\u001b[39m \u001b[43mpd\u001b[49m\u001b[38;5;241;43m.\u001b[39;49m\u001b[43mDataFrame\u001b[49m\u001b[43m(\u001b[49m\u001b[43m \u001b[49m\u001b[43mstudents\u001b[49m\u001b[43m \u001b[49m\u001b[43m)\u001b[49m\n",
      "File \u001b[1;32m~\\AppData\\Local\\Programs\\Python\\Python310\\lib\\site-packages\\pandas\\core\\frame.py:664\u001b[0m, in \u001b[0;36mDataFrame.__init__\u001b[1;34m(self, data, index, columns, dtype, copy)\u001b[0m\n\u001b[0;32m    658\u001b[0m     mgr \u001b[38;5;241m=\u001b[39m \u001b[38;5;28mself\u001b[39m\u001b[38;5;241m.\u001b[39m_init_mgr(\n\u001b[0;32m    659\u001b[0m         data, axes\u001b[38;5;241m=\u001b[39m{\u001b[38;5;124m\"\u001b[39m\u001b[38;5;124mindex\u001b[39m\u001b[38;5;124m\"\u001b[39m: index, \u001b[38;5;124m\"\u001b[39m\u001b[38;5;124mcolumns\u001b[39m\u001b[38;5;124m\"\u001b[39m: columns}, dtype\u001b[38;5;241m=\u001b[39mdtype, copy\u001b[38;5;241m=\u001b[39mcopy\n\u001b[0;32m    660\u001b[0m     )\n\u001b[0;32m    662\u001b[0m \u001b[38;5;28;01melif\u001b[39;00m \u001b[38;5;28misinstance\u001b[39m(data, \u001b[38;5;28mdict\u001b[39m):\n\u001b[0;32m    663\u001b[0m     \u001b[38;5;66;03m# GH#38939 de facto copy defaults to False only in non-dict cases\u001b[39;00m\n\u001b[1;32m--> 664\u001b[0m     mgr \u001b[38;5;241m=\u001b[39m \u001b[43mdict_to_mgr\u001b[49m\u001b[43m(\u001b[49m\u001b[43mdata\u001b[49m\u001b[43m,\u001b[49m\u001b[43m \u001b[49m\u001b[43mindex\u001b[49m\u001b[43m,\u001b[49m\u001b[43m \u001b[49m\u001b[43mcolumns\u001b[49m\u001b[43m,\u001b[49m\u001b[43m \u001b[49m\u001b[43mdtype\u001b[49m\u001b[38;5;241;43m=\u001b[39;49m\u001b[43mdtype\u001b[49m\u001b[43m,\u001b[49m\u001b[43m \u001b[49m\u001b[43mcopy\u001b[49m\u001b[38;5;241;43m=\u001b[39;49m\u001b[43mcopy\u001b[49m\u001b[43m,\u001b[49m\u001b[43m \u001b[49m\u001b[43mtyp\u001b[49m\u001b[38;5;241;43m=\u001b[39;49m\u001b[43mmanager\u001b[49m\u001b[43m)\u001b[49m\n\u001b[0;32m    665\u001b[0m \u001b[38;5;28;01melif\u001b[39;00m \u001b[38;5;28misinstance\u001b[39m(data, ma\u001b[38;5;241m.\u001b[39mMaskedArray):\n\u001b[0;32m    666\u001b[0m     \u001b[38;5;28;01mimport\u001b[39;00m \u001b[38;5;21;01mnumpy\u001b[39;00m\u001b[38;5;21;01m.\u001b[39;00m\u001b[38;5;21;01mma\u001b[39;00m\u001b[38;5;21;01m.\u001b[39;00m\u001b[38;5;21;01mmrecords\u001b[39;00m \u001b[38;5;28;01mas\u001b[39;00m \u001b[38;5;21;01mmrecords\u001b[39;00m\n",
      "File \u001b[1;32m~\\AppData\\Local\\Programs\\Python\\Python310\\lib\\site-packages\\pandas\\core\\internals\\construction.py:493\u001b[0m, in \u001b[0;36mdict_to_mgr\u001b[1;34m(data, index, columns, dtype, typ, copy)\u001b[0m\n\u001b[0;32m    489\u001b[0m     \u001b[38;5;28;01melse\u001b[39;00m:\n\u001b[0;32m    490\u001b[0m         \u001b[38;5;66;03m# dtype check to exclude e.g. range objects, scalars\u001b[39;00m\n\u001b[0;32m    491\u001b[0m         arrays \u001b[38;5;241m=\u001b[39m [x\u001b[38;5;241m.\u001b[39mcopy() \u001b[38;5;28;01mif\u001b[39;00m \u001b[38;5;28mhasattr\u001b[39m(x, \u001b[38;5;124m\"\u001b[39m\u001b[38;5;124mdtype\u001b[39m\u001b[38;5;124m\"\u001b[39m) \u001b[38;5;28;01melse\u001b[39;00m x \u001b[38;5;28;01mfor\u001b[39;00m x \u001b[38;5;129;01min\u001b[39;00m arrays]\n\u001b[1;32m--> 493\u001b[0m \u001b[38;5;28;01mreturn\u001b[39;00m \u001b[43marrays_to_mgr\u001b[49m\u001b[43m(\u001b[49m\u001b[43marrays\u001b[49m\u001b[43m,\u001b[49m\u001b[43m \u001b[49m\u001b[43mcolumns\u001b[49m\u001b[43m,\u001b[49m\u001b[43m \u001b[49m\u001b[43mindex\u001b[49m\u001b[43m,\u001b[49m\u001b[43m \u001b[49m\u001b[43mdtype\u001b[49m\u001b[38;5;241;43m=\u001b[39;49m\u001b[43mdtype\u001b[49m\u001b[43m,\u001b[49m\u001b[43m \u001b[49m\u001b[43mtyp\u001b[49m\u001b[38;5;241;43m=\u001b[39;49m\u001b[43mtyp\u001b[49m\u001b[43m,\u001b[49m\u001b[43m \u001b[49m\u001b[43mconsolidate\u001b[49m\u001b[38;5;241;43m=\u001b[39;49m\u001b[43mcopy\u001b[49m\u001b[43m)\u001b[49m\n",
      "File \u001b[1;32m~\\AppData\\Local\\Programs\\Python\\Python310\\lib\\site-packages\\pandas\\core\\internals\\construction.py:118\u001b[0m, in \u001b[0;36marrays_to_mgr\u001b[1;34m(arrays, columns, index, dtype, verify_integrity, typ, consolidate)\u001b[0m\n\u001b[0;32m    115\u001b[0m \u001b[38;5;28;01mif\u001b[39;00m verify_integrity:\n\u001b[0;32m    116\u001b[0m     \u001b[38;5;66;03m# figure out the index, if necessary\u001b[39;00m\n\u001b[0;32m    117\u001b[0m     \u001b[38;5;28;01mif\u001b[39;00m index \u001b[38;5;129;01mis\u001b[39;00m \u001b[38;5;28;01mNone\u001b[39;00m:\n\u001b[1;32m--> 118\u001b[0m         index \u001b[38;5;241m=\u001b[39m \u001b[43m_extract_index\u001b[49m\u001b[43m(\u001b[49m\u001b[43marrays\u001b[49m\u001b[43m)\u001b[49m\n\u001b[0;32m    119\u001b[0m     \u001b[38;5;28;01melse\u001b[39;00m:\n\u001b[0;32m    120\u001b[0m         index \u001b[38;5;241m=\u001b[39m ensure_index(index)\n",
      "File \u001b[1;32m~\\AppData\\Local\\Programs\\Python\\Python310\\lib\\site-packages\\pandas\\core\\internals\\construction.py:666\u001b[0m, in \u001b[0;36m_extract_index\u001b[1;34m(data)\u001b[0m\n\u001b[0;32m    664\u001b[0m lengths \u001b[38;5;241m=\u001b[39m \u001b[38;5;28mlist\u001b[39m(\u001b[38;5;28mset\u001b[39m(raw_lengths))\n\u001b[0;32m    665\u001b[0m \u001b[38;5;28;01mif\u001b[39;00m \u001b[38;5;28mlen\u001b[39m(lengths) \u001b[38;5;241m>\u001b[39m \u001b[38;5;241m1\u001b[39m:\n\u001b[1;32m--> 666\u001b[0m     \u001b[38;5;28;01mraise\u001b[39;00m \u001b[38;5;167;01mValueError\u001b[39;00m(\u001b[38;5;124m\"\u001b[39m\u001b[38;5;124mAll arrays must be of the same length\u001b[39m\u001b[38;5;124m\"\u001b[39m)\n\u001b[0;32m    668\u001b[0m \u001b[38;5;28;01mif\u001b[39;00m have_dicts:\n\u001b[0;32m    669\u001b[0m     \u001b[38;5;28;01mraise\u001b[39;00m \u001b[38;5;167;01mValueError\u001b[39;00m(\n\u001b[0;32m    670\u001b[0m         \u001b[38;5;124m\"\u001b[39m\u001b[38;5;124mMixing dicts with non-Series may lead to ambiguous ordering.\u001b[39m\u001b[38;5;124m\"\u001b[39m\n\u001b[0;32m    671\u001b[0m     )\n",
      "\u001b[1;31mValueError\u001b[0m: All arrays must be of the same length"
     ]
    }
   ],
   "source": [
    "# eror expected\n",
    "df = pd.DataFrame( students )\n"
   ]
  },
  {
   "cell_type": "code",
   "execution_count": 51,
   "id": "e4821018",
   "metadata": {},
   "outputs": [],
   "source": [
    "students = {\n",
    "    'rolls'  : [1,2,3,4,5,6],\n",
    "    'names'  : ['Ali', 'Amjad', 'Saima', 'Qaiser', 'Hamid', 'Nasir'],\n",
    "    'courses': ['Python', 'Pandas', 'Numpy', 'Pandas', 'Numpy', 'Python'],\n",
    "    'mode'   : ['Online', 'Onsite', 'Online', 'Onsite', 'Online', 'Onsite']\n",
    "            }\n"
   ]
  },
  {
   "cell_type": "code",
   "execution_count": 52,
   "id": "0189cbe4",
   "metadata": {},
   "outputs": [
    {
     "data": {
      "text/html": [
       "<div>\n",
       "<style scoped>\n",
       "    .dataframe tbody tr th:only-of-type {\n",
       "        vertical-align: middle;\n",
       "    }\n",
       "\n",
       "    .dataframe tbody tr th {\n",
       "        vertical-align: top;\n",
       "    }\n",
       "\n",
       "    .dataframe thead th {\n",
       "        text-align: right;\n",
       "    }\n",
       "</style>\n",
       "<table border=\"1\" class=\"dataframe\">\n",
       "  <thead>\n",
       "    <tr style=\"text-align: right;\">\n",
       "      <th></th>\n",
       "      <th>rolls</th>\n",
       "      <th>names</th>\n",
       "      <th>courses</th>\n",
       "      <th>mode</th>\n",
       "    </tr>\n",
       "  </thead>\n",
       "  <tbody>\n",
       "    <tr>\n",
       "      <th>0</th>\n",
       "      <td>1</td>\n",
       "      <td>Ali</td>\n",
       "      <td>Python</td>\n",
       "      <td>Online</td>\n",
       "    </tr>\n",
       "    <tr>\n",
       "      <th>1</th>\n",
       "      <td>2</td>\n",
       "      <td>Amjad</td>\n",
       "      <td>Pandas</td>\n",
       "      <td>Onsite</td>\n",
       "    </tr>\n",
       "    <tr>\n",
       "      <th>2</th>\n",
       "      <td>3</td>\n",
       "      <td>Saima</td>\n",
       "      <td>Numpy</td>\n",
       "      <td>Online</td>\n",
       "    </tr>\n",
       "    <tr>\n",
       "      <th>3</th>\n",
       "      <td>4</td>\n",
       "      <td>Qaiser</td>\n",
       "      <td>Pandas</td>\n",
       "      <td>Onsite</td>\n",
       "    </tr>\n",
       "    <tr>\n",
       "      <th>4</th>\n",
       "      <td>5</td>\n",
       "      <td>Hamid</td>\n",
       "      <td>Numpy</td>\n",
       "      <td>Online</td>\n",
       "    </tr>\n",
       "    <tr>\n",
       "      <th>5</th>\n",
       "      <td>6</td>\n",
       "      <td>Nasir</td>\n",
       "      <td>Python</td>\n",
       "      <td>Onsite</td>\n",
       "    </tr>\n",
       "  </tbody>\n",
       "</table>\n",
       "</div>"
      ],
      "text/plain": [
       "   rolls   names courses    mode\n",
       "0      1     Ali  Python  Online\n",
       "1      2   Amjad  Pandas  Onsite\n",
       "2      3   Saima   Numpy  Online\n",
       "3      4  Qaiser  Pandas  Onsite\n",
       "4      5   Hamid   Numpy  Online\n",
       "5      6   Nasir  Python  Onsite"
      ]
     },
     "execution_count": 52,
     "metadata": {},
     "output_type": "execute_result"
    }
   ],
   "source": [
    "df = pd.DataFrame( students )\n",
    "df\n"
   ]
  },
  {
   "cell_type": "code",
   "execution_count": 54,
   "id": "b96c21d0",
   "metadata": {},
   "outputs": [
    {
     "data": {
      "text/plain": [
       "pandas.core.series.Series"
      ]
     },
     "execution_count": 54,
     "metadata": {},
     "output_type": "execute_result"
    }
   ],
   "source": [
    "type( df[ 'rolls' ] )\n"
   ]
  },
  {
   "cell_type": "code",
   "execution_count": 55,
   "id": "ddbec75f",
   "metadata": {},
   "outputs": [
    {
     "data": {
      "text/plain": [
       "pandas.core.frame.DataFrame"
      ]
     },
     "execution_count": 55,
     "metadata": {},
     "output_type": "execute_result"
    }
   ],
   "source": [
    "type( df[ ['rolls'] ] )\n"
   ]
  },
  {
   "cell_type": "code",
   "execution_count": 56,
   "id": "aea76506",
   "metadata": {},
   "outputs": [
    {
     "data": {
      "text/plain": [
       "pandas.core.frame.DataFrame"
      ]
     },
     "execution_count": 56,
     "metadata": {},
     "output_type": "execute_result"
    }
   ],
   "source": [
    "type( df[ ['rolls', 'names'] ] )\n"
   ]
  },
  {
   "cell_type": "code",
   "execution_count": 58,
   "id": "a44e9a75",
   "metadata": {},
   "outputs": [],
   "source": [
    "a = np.array(9)\n"
   ]
  },
  {
   "cell_type": "code",
   "execution_count": 59,
   "id": "ea182e2f",
   "metadata": {},
   "outputs": [
    {
     "data": {
      "text/plain": [
       "numpy.ndarray"
      ]
     },
     "execution_count": 59,
     "metadata": {},
     "output_type": "execute_result"
    }
   ],
   "source": [
    "type( a )\n"
   ]
  },
  {
   "cell_type": "code",
   "execution_count": 61,
   "id": "11dbd8b5",
   "metadata": {},
   "outputs": [
    {
     "data": {
      "text/plain": [
       "0"
      ]
     },
     "execution_count": 61,
     "metadata": {},
     "output_type": "execute_result"
    }
   ],
   "source": [
    "a.ndim\n"
   ]
  },
  {
   "cell_type": "code",
   "execution_count": 74,
   "id": "140f01b4",
   "metadata": {},
   "outputs": [],
   "source": [
    "a = np.array([9])\n"
   ]
  },
  {
   "cell_type": "code",
   "execution_count": 75,
   "id": "88f07489",
   "metadata": {},
   "outputs": [
    {
     "data": {
      "text/plain": [
       "numpy.ndarray"
      ]
     },
     "execution_count": 75,
     "metadata": {},
     "output_type": "execute_result"
    }
   ],
   "source": [
    "type( a )\n"
   ]
  },
  {
   "cell_type": "code",
   "execution_count": 76,
   "id": "a96d80df",
   "metadata": {},
   "outputs": [
    {
     "data": {
      "text/plain": [
       "1"
      ]
     },
     "execution_count": 76,
     "metadata": {},
     "output_type": "execute_result"
    }
   ],
   "source": [
    "a.ndim\n"
   ]
  },
  {
   "cell_type": "code",
   "execution_count": 77,
   "id": "97ba0e74",
   "metadata": {},
   "outputs": [],
   "source": [
    "a = np.array([[9]])\n"
   ]
  },
  {
   "cell_type": "code",
   "execution_count": 78,
   "id": "67b23305",
   "metadata": {},
   "outputs": [
    {
     "data": {
      "text/plain": [
       "numpy.ndarray"
      ]
     },
     "execution_count": 78,
     "metadata": {},
     "output_type": "execute_result"
    }
   ],
   "source": [
    "type( a )\n"
   ]
  },
  {
   "cell_type": "code",
   "execution_count": 79,
   "id": "b41fa0e5",
   "metadata": {},
   "outputs": [
    {
     "data": {
      "text/plain": [
       "2"
      ]
     },
     "execution_count": 79,
     "metadata": {},
     "output_type": "execute_result"
    }
   ],
   "source": [
    "a.ndim\n"
   ]
  },
  {
   "cell_type": "code",
   "execution_count": null,
   "id": "59780126",
   "metadata": {},
   "outputs": [],
   "source": []
  },
  {
   "cell_type": "code",
   "execution_count": null,
   "id": "d9030dc2",
   "metadata": {},
   "outputs": [],
   "source": []
  },
  {
   "cell_type": "code",
   "execution_count": null,
   "id": "e861580c",
   "metadata": {},
   "outputs": [],
   "source": []
  },
  {
   "cell_type": "code",
   "execution_count": null,
   "id": "4a1ed953",
   "metadata": {},
   "outputs": [],
   "source": []
  },
  {
   "cell_type": "code",
   "execution_count": null,
   "id": "fad2e12a",
   "metadata": {},
   "outputs": [],
   "source": []
  },
  {
   "cell_type": "code",
   "execution_count": null,
   "id": "f2eb5cdd",
   "metadata": {},
   "outputs": [],
   "source": []
  },
  {
   "cell_type": "code",
   "execution_count": null,
   "id": "c839154d",
   "metadata": {},
   "outputs": [],
   "source": []
  },
  {
   "cell_type": "code",
   "execution_count": null,
   "id": "d90c110b",
   "metadata": {},
   "outputs": [],
   "source": []
  },
  {
   "cell_type": "code",
   "execution_count": null,
   "id": "a21bc6d9",
   "metadata": {},
   "outputs": [],
   "source": []
  },
  {
   "cell_type": "code",
   "execution_count": 80,
   "id": "e751a6c5",
   "metadata": {},
   "outputs": [],
   "source": [
    "### Using Lists"
   ]
  },
  {
   "cell_type": "code",
   "execution_count": 92,
   "id": "475e56a0",
   "metadata": {},
   "outputs": [],
   "source": [
    "# using 1d list and broadcasting(automatic)\n",
    "lst = [55, 66, 77]\n"
   ]
  },
  {
   "cell_type": "code",
   "execution_count": 93,
   "id": "4332f623",
   "metadata": {},
   "outputs": [
    {
     "name": "stdout",
     "output_type": "stream",
     "text": [
      "    a   b   c\n",
      "1  55  66  77\n",
      "2  55  66  77\n",
      "3  55  66  77\n"
     ]
    }
   ],
   "source": [
    "a = pd.DataFrame( [lst], index = [1,2,3], columns = ['a', 'b', 'c'] )   # note ''[]'' around 'lst'\n",
    "\n",
    "print( a )\n"
   ]
  },
  {
   "cell_type": "code",
   "execution_count": 96,
   "id": "120a43c2",
   "metadata": {},
   "outputs": [],
   "source": [
    "# using 2d list\n",
    "\n",
    "lst = [ [55, 66, 77], [2,4,5], [4,5,6] ]\n",
    "\n",
    "# yani is trah ki list-of-lists aik 2d list hti hay\n"
   ]
  },
  {
   "cell_type": "code",
   "execution_count": 97,
   "id": "eb67e428",
   "metadata": {},
   "outputs": [
    {
     "name": "stdout",
     "output_type": "stream",
     "text": [
      "    a   b   c\n",
      "1  55  66  77\n",
      "2   2   4   5\n",
      "3   4   5   6\n"
     ]
    }
   ],
   "source": [
    "a = pd.DataFrame( lst, index = [1,2,3], columns = ['a', 'b', 'c'] )\n",
    "\n",
    "print( a )\n"
   ]
  },
  {
   "cell_type": "code",
   "execution_count": null,
   "id": "55e7be72",
   "metadata": {},
   "outputs": [],
   "source": []
  },
  {
   "cell_type": "code",
   "execution_count": null,
   "id": "fe2553c7",
   "metadata": {},
   "outputs": [],
   "source": []
  },
  {
   "cell_type": "markdown",
   "id": "785b7338",
   "metadata": {},
   "source": [
    "## Accessing the Data"
   ]
  },
  {
   "cell_type": "code",
   "execution_count": 171,
   "id": "8f95f498",
   "metadata": {
    "scrolled": true
   },
   "outputs": [
    {
     "data": {
      "text/html": [
       "<div>\n",
       "<style scoped>\n",
       "    .dataframe tbody tr th:only-of-type {\n",
       "        vertical-align: middle;\n",
       "    }\n",
       "\n",
       "    .dataframe tbody tr th {\n",
       "        vertical-align: top;\n",
       "    }\n",
       "\n",
       "    .dataframe thead th {\n",
       "        text-align: right;\n",
       "    }\n",
       "</style>\n",
       "<table border=\"1\" class=\"dataframe\">\n",
       "  <thead>\n",
       "    <tr style=\"text-align: right;\">\n",
       "      <th></th>\n",
       "      <th>rolls</th>\n",
       "      <th>names</th>\n",
       "      <th>courses</th>\n",
       "      <th>mode</th>\n",
       "    </tr>\n",
       "  </thead>\n",
       "  <tbody>\n",
       "    <tr>\n",
       "      <th>0</th>\n",
       "      <td>1</td>\n",
       "      <td>Ali</td>\n",
       "      <td>Python</td>\n",
       "      <td>Online</td>\n",
       "    </tr>\n",
       "    <tr>\n",
       "      <th>1</th>\n",
       "      <td>2</td>\n",
       "      <td>Amjad</td>\n",
       "      <td>Pandas</td>\n",
       "      <td>Onsite</td>\n",
       "    </tr>\n",
       "    <tr>\n",
       "      <th>2</th>\n",
       "      <td>3</td>\n",
       "      <td>Saima</td>\n",
       "      <td>Numpy</td>\n",
       "      <td>Online</td>\n",
       "    </tr>\n",
       "    <tr>\n",
       "      <th>3</th>\n",
       "      <td>4</td>\n",
       "      <td>Qaiser</td>\n",
       "      <td>Pandas</td>\n",
       "      <td>Onsite</td>\n",
       "    </tr>\n",
       "    <tr>\n",
       "      <th>4</th>\n",
       "      <td>5</td>\n",
       "      <td>Hamid</td>\n",
       "      <td>Numpy</td>\n",
       "      <td>Online</td>\n",
       "    </tr>\n",
       "    <tr>\n",
       "      <th>5</th>\n",
       "      <td>6</td>\n",
       "      <td>Nasir</td>\n",
       "      <td>Python</td>\n",
       "      <td>Onsite</td>\n",
       "    </tr>\n",
       "  </tbody>\n",
       "</table>\n",
       "</div>"
      ],
      "text/plain": [
       "   rolls   names courses    mode\n",
       "0      1     Ali  Python  Online\n",
       "1      2   Amjad  Pandas  Onsite\n",
       "2      3   Saima   Numpy  Online\n",
       "3      4  Qaiser  Pandas  Onsite\n",
       "4      5   Hamid   Numpy  Online\n",
       "5      6   Nasir  Python  Onsite"
      ]
     },
     "execution_count": 171,
     "metadata": {},
     "output_type": "execute_result"
    }
   ],
   "source": [
    "import pandas as pd\n",
    "import numpy  as np\n",
    "\n",
    "\n",
    "students = {\n",
    "    'rolls'  : [1,2,3,4,5,6],\n",
    "    'names'  : ['Ali', 'Amjad', 'Saima', 'Qaiser', 'Hamid', 'Nasir'],\n",
    "    'courses': ['Python', 'Pandas', 'Numpy', 'Pandas', 'Numpy', 'Python'],\n",
    "    'mode'   : ['Online', 'Onsite', 'Online', 'Onsite', 'Online', 'Onsite']\n",
    "            }\n",
    "\n",
    "\n",
    "df = pd.DataFrame( students )\n",
    "\n",
    "df\n"
   ]
  },
  {
   "cell_type": "markdown",
   "id": "a7323599",
   "metadata": {},
   "source": [
    "### Acessing columns"
   ]
  },
  {
   "cell_type": "code",
   "execution_count": 108,
   "id": "4186ebe3",
   "metadata": {},
   "outputs": [
    {
     "data": {
      "text/plain": [
       "0    Python\n",
       "1    Pandas\n",
       "2     Numpy\n",
       "3    Pandas\n",
       "4     Numpy\n",
       "5    Python\n",
       "Name: courses, dtype: object"
      ]
     },
     "execution_count": 108,
     "metadata": {},
     "output_type": "execute_result"
    }
   ],
   "source": [
    "\n",
    "\n",
    "df['courses']\n"
   ]
  },
  {
   "cell_type": "code",
   "execution_count": 114,
   "id": "cc60de41",
   "metadata": {},
   "outputs": [
    {
     "data": {
      "text/plain": [
       "0    Python\n",
       "2     Numpy\n",
       "4     Numpy\n",
       "Name: courses, dtype: object"
      ]
     },
     "execution_count": 114,
     "metadata": {},
     "output_type": "execute_result"
    }
   ],
   "source": [
    "df['courses'][::2]\n"
   ]
  },
  {
   "cell_type": "code",
   "execution_count": 117,
   "id": "18506fcd",
   "metadata": {},
   "outputs": [
    {
     "data": {
      "text/html": [
       "<div>\n",
       "<style scoped>\n",
       "    .dataframe tbody tr th:only-of-type {\n",
       "        vertical-align: middle;\n",
       "    }\n",
       "\n",
       "    .dataframe tbody tr th {\n",
       "        vertical-align: top;\n",
       "    }\n",
       "\n",
       "    .dataframe thead th {\n",
       "        text-align: right;\n",
       "    }\n",
       "</style>\n",
       "<table border=\"1\" class=\"dataframe\">\n",
       "  <thead>\n",
       "    <tr style=\"text-align: right;\">\n",
       "      <th></th>\n",
       "      <th>courses</th>\n",
       "      <th>names</th>\n",
       "    </tr>\n",
       "  </thead>\n",
       "  <tbody>\n",
       "    <tr>\n",
       "      <th>0</th>\n",
       "      <td>Python</td>\n",
       "      <td>Ali</td>\n",
       "    </tr>\n",
       "    <tr>\n",
       "      <th>1</th>\n",
       "      <td>Pandas</td>\n",
       "      <td>Amjad</td>\n",
       "    </tr>\n",
       "    <tr>\n",
       "      <th>2</th>\n",
       "      <td>Numpy</td>\n",
       "      <td>Saima</td>\n",
       "    </tr>\n",
       "    <tr>\n",
       "      <th>3</th>\n",
       "      <td>Pandas</td>\n",
       "      <td>Qaiser</td>\n",
       "    </tr>\n",
       "    <tr>\n",
       "      <th>4</th>\n",
       "      <td>Numpy</td>\n",
       "      <td>Hamid</td>\n",
       "    </tr>\n",
       "    <tr>\n",
       "      <th>5</th>\n",
       "      <td>Python</td>\n",
       "      <td>Nasir</td>\n",
       "    </tr>\n",
       "  </tbody>\n",
       "</table>\n",
       "</div>"
      ],
      "text/plain": [
       "  courses   names\n",
       "0  Python     Ali\n",
       "1  Pandas   Amjad\n",
       "2   Numpy   Saima\n",
       "3  Pandas  Qaiser\n",
       "4   Numpy   Hamid\n",
       "5  Python   Nasir"
      ]
     },
     "execution_count": 117,
     "metadata": {},
     "output_type": "execute_result"
    }
   ],
   "source": [
    "# multiple columns\n",
    "df[ ['courses', 'names'] ][:]\n"
   ]
  },
  {
   "cell_type": "code",
   "execution_count": null,
   "id": "b1f4ef3d",
   "metadata": {},
   "outputs": [],
   "source": [
    "# modifying data"
   ]
  },
  {
   "cell_type": "code",
   "execution_count": 172,
   "id": "371c55a3",
   "metadata": {},
   "outputs": [
    {
     "data": {
      "text/html": [
       "<div>\n",
       "<style scoped>\n",
       "    .dataframe tbody tr th:only-of-type {\n",
       "        vertical-align: middle;\n",
       "    }\n",
       "\n",
       "    .dataframe tbody tr th {\n",
       "        vertical-align: top;\n",
       "    }\n",
       "\n",
       "    .dataframe thead th {\n",
       "        text-align: right;\n",
       "    }\n",
       "</style>\n",
       "<table border=\"1\" class=\"dataframe\">\n",
       "  <thead>\n",
       "    <tr style=\"text-align: right;\">\n",
       "      <th></th>\n",
       "      <th>rolls</th>\n",
       "      <th>names</th>\n",
       "      <th>courses</th>\n",
       "      <th>mode</th>\n",
       "    </tr>\n",
       "  </thead>\n",
       "  <tbody>\n",
       "    <tr>\n",
       "      <th>0</th>\n",
       "      <td>1</td>\n",
       "      <td>Ali</td>\n",
       "      <td>Python</td>\n",
       "      <td>Online</td>\n",
       "    </tr>\n",
       "    <tr>\n",
       "      <th>1</th>\n",
       "      <td>2</td>\n",
       "      <td>Amjad</td>\n",
       "      <td>Python</td>\n",
       "      <td>Onsite</td>\n",
       "    </tr>\n",
       "    <tr>\n",
       "      <th>2</th>\n",
       "      <td>3</td>\n",
       "      <td>Saima</td>\n",
       "      <td>Python</td>\n",
       "      <td>Online</td>\n",
       "    </tr>\n",
       "    <tr>\n",
       "      <th>3</th>\n",
       "      <td>4</td>\n",
       "      <td>Qaiser</td>\n",
       "      <td>Python</td>\n",
       "      <td>Onsite</td>\n",
       "    </tr>\n",
       "    <tr>\n",
       "      <th>4</th>\n",
       "      <td>5</td>\n",
       "      <td>Hamid</td>\n",
       "      <td>Python</td>\n",
       "      <td>Online</td>\n",
       "    </tr>\n",
       "    <tr>\n",
       "      <th>5</th>\n",
       "      <td>6</td>\n",
       "      <td>Nasir</td>\n",
       "      <td>Python</td>\n",
       "      <td>Onsite</td>\n",
       "    </tr>\n",
       "  </tbody>\n",
       "</table>\n",
       "</div>"
      ],
      "text/plain": [
       "   rolls   names courses    mode\n",
       "0      1     Ali  Python  Online\n",
       "1      2   Amjad  Python  Onsite\n",
       "2      3   Saima  Python  Online\n",
       "3      4  Qaiser  Python  Onsite\n",
       "4      5   Hamid  Python  Online\n",
       "5      6   Nasir  Python  Onsite"
      ]
     },
     "execution_count": 172,
     "metadata": {},
     "output_type": "execute_result"
    }
   ],
   "source": [
    "df['courses'] = 'Python'\n",
    "df\n"
   ]
  },
  {
   "cell_type": "code",
   "execution_count": 173,
   "id": "5fe6fa84",
   "metadata": {},
   "outputs": [
    {
     "data": {
      "text/html": [
       "<div>\n",
       "<style scoped>\n",
       "    .dataframe tbody tr th:only-of-type {\n",
       "        vertical-align: middle;\n",
       "    }\n",
       "\n",
       "    .dataframe tbody tr th {\n",
       "        vertical-align: top;\n",
       "    }\n",
       "\n",
       "    .dataframe thead th {\n",
       "        text-align: right;\n",
       "    }\n",
       "</style>\n",
       "<table border=\"1\" class=\"dataframe\">\n",
       "  <thead>\n",
       "    <tr style=\"text-align: right;\">\n",
       "      <th></th>\n",
       "      <th>rolls</th>\n",
       "      <th>names</th>\n",
       "      <th>courses</th>\n",
       "      <th>mode</th>\n",
       "      <th>Country</th>\n",
       "    </tr>\n",
       "  </thead>\n",
       "  <tbody>\n",
       "    <tr>\n",
       "      <th>0</th>\n",
       "      <td>1</td>\n",
       "      <td>Ali</td>\n",
       "      <td>Python</td>\n",
       "      <td>Online</td>\n",
       "      <td>Pakistan</td>\n",
       "    </tr>\n",
       "    <tr>\n",
       "      <th>1</th>\n",
       "      <td>2</td>\n",
       "      <td>Amjad</td>\n",
       "      <td>Python</td>\n",
       "      <td>Onsite</td>\n",
       "      <td>Pakistan</td>\n",
       "    </tr>\n",
       "    <tr>\n",
       "      <th>2</th>\n",
       "      <td>3</td>\n",
       "      <td>Saima</td>\n",
       "      <td>Python</td>\n",
       "      <td>Online</td>\n",
       "      <td>Pakistan</td>\n",
       "    </tr>\n",
       "    <tr>\n",
       "      <th>3</th>\n",
       "      <td>4</td>\n",
       "      <td>Qaiser</td>\n",
       "      <td>Python</td>\n",
       "      <td>Onsite</td>\n",
       "      <td>Pakistan</td>\n",
       "    </tr>\n",
       "    <tr>\n",
       "      <th>4</th>\n",
       "      <td>5</td>\n",
       "      <td>Hamid</td>\n",
       "      <td>Python</td>\n",
       "      <td>Online</td>\n",
       "      <td>Pakistan</td>\n",
       "    </tr>\n",
       "    <tr>\n",
       "      <th>5</th>\n",
       "      <td>6</td>\n",
       "      <td>Nasir</td>\n",
       "      <td>Python</td>\n",
       "      <td>Onsite</td>\n",
       "      <td>Pakistan</td>\n",
       "    </tr>\n",
       "  </tbody>\n",
       "</table>\n",
       "</div>"
      ],
      "text/plain": [
       "   rolls   names courses    mode   Country\n",
       "0      1     Ali  Python  Online  Pakistan\n",
       "1      2   Amjad  Python  Onsite  Pakistan\n",
       "2      3   Saima  Python  Online  Pakistan\n",
       "3      4  Qaiser  Python  Onsite  Pakistan\n",
       "4      5   Hamid  Python  Online  Pakistan\n",
       "5      6   Nasir  Python  Onsite  Pakistan"
      ]
     },
     "execution_count": 173,
     "metadata": {},
     "output_type": "execute_result"
    }
   ],
   "source": [
    "# adding a new column\n",
    "df['Country'] = 'Pakistan'\n",
    "df\n"
   ]
  },
  {
   "cell_type": "code",
   "execution_count": 122,
   "id": "ee648e59",
   "metadata": {},
   "outputs": [
    {
     "data": {
      "text/html": [
       "<div>\n",
       "<style scoped>\n",
       "    .dataframe tbody tr th:only-of-type {\n",
       "        vertical-align: middle;\n",
       "    }\n",
       "\n",
       "    .dataframe tbody tr th {\n",
       "        vertical-align: top;\n",
       "    }\n",
       "\n",
       "    .dataframe thead th {\n",
       "        text-align: right;\n",
       "    }\n",
       "</style>\n",
       "<table border=\"1\" class=\"dataframe\">\n",
       "  <thead>\n",
       "    <tr style=\"text-align: right;\">\n",
       "      <th></th>\n",
       "      <th>rolls</th>\n",
       "      <th>names</th>\n",
       "      <th>courses</th>\n",
       "      <th>mode</th>\n",
       "      <th>Country</th>\n",
       "    </tr>\n",
       "  </thead>\n",
       "  <tbody>\n",
       "    <tr>\n",
       "      <th>0</th>\n",
       "      <td>1</td>\n",
       "      <td>Ali</td>\n",
       "      <td>Python</td>\n",
       "      <td>Online</td>\n",
       "      <td>NaN</td>\n",
       "    </tr>\n",
       "    <tr>\n",
       "      <th>1</th>\n",
       "      <td>2</td>\n",
       "      <td>Amjad</td>\n",
       "      <td>Pandas</td>\n",
       "      <td>Onsite</td>\n",
       "      <td>NaN</td>\n",
       "    </tr>\n",
       "    <tr>\n",
       "      <th>2</th>\n",
       "      <td>3</td>\n",
       "      <td>Saima</td>\n",
       "      <td>Numpy</td>\n",
       "      <td>Online</td>\n",
       "      <td>NaN</td>\n",
       "    </tr>\n",
       "    <tr>\n",
       "      <th>3</th>\n",
       "      <td>4</td>\n",
       "      <td>Qaiser</td>\n",
       "      <td>Pandas</td>\n",
       "      <td>Onsite</td>\n",
       "      <td>NaN</td>\n",
       "    </tr>\n",
       "    <tr>\n",
       "      <th>4</th>\n",
       "      <td>5</td>\n",
       "      <td>Hamid</td>\n",
       "      <td>Numpy</td>\n",
       "      <td>Online</td>\n",
       "      <td>NaN</td>\n",
       "    </tr>\n",
       "    <tr>\n",
       "      <th>5</th>\n",
       "      <td>6</td>\n",
       "      <td>Nasir</td>\n",
       "      <td>Python</td>\n",
       "      <td>Onsite</td>\n",
       "      <td>NaN</td>\n",
       "    </tr>\n",
       "  </tbody>\n",
       "</table>\n",
       "</div>"
      ],
      "text/plain": [
       "   rolls   names courses    mode  Country\n",
       "0      1     Ali  Python  Online      NaN\n",
       "1      2   Amjad  Pandas  Onsite      NaN\n",
       "2      3   Saima   Numpy  Online      NaN\n",
       "3      4  Qaiser  Pandas  Onsite      NaN\n",
       "4      5   Hamid   Numpy  Online      NaN\n",
       "5      6   Nasir  Python  Onsite      NaN"
      ]
     },
     "execution_count": 122,
     "metadata": {},
     "output_type": "execute_result"
    }
   ],
   "source": [
    "df['Country'] = np.nan\n",
    "df\n"
   ]
  },
  {
   "cell_type": "code",
   "execution_count": 123,
   "id": "846dcf47",
   "metadata": {},
   "outputs": [
    {
     "name": "stderr",
     "output_type": "stream",
     "text": [
      "C:\\Users\\Ans Imran\\AppData\\Local\\Temp\\ipykernel_3184\\2714327960.py:1: SettingWithCopyWarning: \n",
      "A value is trying to be set on a copy of a slice from a DataFrame\n",
      "\n",
      "See the caveats in the documentation: https://pandas.pydata.org/pandas-docs/stable/user_guide/indexing.html#returning-a-view-versus-a-copy\n",
      "  df['Country'][1:4] = 'Pakistan'\n"
     ]
    },
    {
     "data": {
      "text/html": [
       "<div>\n",
       "<style scoped>\n",
       "    .dataframe tbody tr th:only-of-type {\n",
       "        vertical-align: middle;\n",
       "    }\n",
       "\n",
       "    .dataframe tbody tr th {\n",
       "        vertical-align: top;\n",
       "    }\n",
       "\n",
       "    .dataframe thead th {\n",
       "        text-align: right;\n",
       "    }\n",
       "</style>\n",
       "<table border=\"1\" class=\"dataframe\">\n",
       "  <thead>\n",
       "    <tr style=\"text-align: right;\">\n",
       "      <th></th>\n",
       "      <th>rolls</th>\n",
       "      <th>names</th>\n",
       "      <th>courses</th>\n",
       "      <th>mode</th>\n",
       "      <th>Country</th>\n",
       "    </tr>\n",
       "  </thead>\n",
       "  <tbody>\n",
       "    <tr>\n",
       "      <th>0</th>\n",
       "      <td>1</td>\n",
       "      <td>Ali</td>\n",
       "      <td>Python</td>\n",
       "      <td>Online</td>\n",
       "      <td>NaN</td>\n",
       "    </tr>\n",
       "    <tr>\n",
       "      <th>1</th>\n",
       "      <td>2</td>\n",
       "      <td>Amjad</td>\n",
       "      <td>Pandas</td>\n",
       "      <td>Onsite</td>\n",
       "      <td>Pakistan</td>\n",
       "    </tr>\n",
       "    <tr>\n",
       "      <th>2</th>\n",
       "      <td>3</td>\n",
       "      <td>Saima</td>\n",
       "      <td>Numpy</td>\n",
       "      <td>Online</td>\n",
       "      <td>Pakistan</td>\n",
       "    </tr>\n",
       "    <tr>\n",
       "      <th>3</th>\n",
       "      <td>4</td>\n",
       "      <td>Qaiser</td>\n",
       "      <td>Pandas</td>\n",
       "      <td>Onsite</td>\n",
       "      <td>Pakistan</td>\n",
       "    </tr>\n",
       "    <tr>\n",
       "      <th>4</th>\n",
       "      <td>5</td>\n",
       "      <td>Hamid</td>\n",
       "      <td>Numpy</td>\n",
       "      <td>Online</td>\n",
       "      <td>NaN</td>\n",
       "    </tr>\n",
       "    <tr>\n",
       "      <th>5</th>\n",
       "      <td>6</td>\n",
       "      <td>Nasir</td>\n",
       "      <td>Python</td>\n",
       "      <td>Onsite</td>\n",
       "      <td>NaN</td>\n",
       "    </tr>\n",
       "  </tbody>\n",
       "</table>\n",
       "</div>"
      ],
      "text/plain": [
       "   rolls   names courses    mode   Country\n",
       "0      1     Ali  Python  Online       NaN\n",
       "1      2   Amjad  Pandas  Onsite  Pakistan\n",
       "2      3   Saima   Numpy  Online  Pakistan\n",
       "3      4  Qaiser  Pandas  Onsite  Pakistan\n",
       "4      5   Hamid   Numpy  Online       NaN\n",
       "5      6   Nasir  Python  Onsite       NaN"
      ]
     },
     "execution_count": 123,
     "metadata": {},
     "output_type": "execute_result"
    }
   ],
   "source": [
    "df['Country'][1:4] = 'Pakistan'\n",
    "df\n"
   ]
  },
  {
   "cell_type": "code",
   "execution_count": 126,
   "id": "450ddcd6",
   "metadata": {},
   "outputs": [
    {
     "data": {
      "text/html": [
       "<div>\n",
       "<style scoped>\n",
       "    .dataframe tbody tr th:only-of-type {\n",
       "        vertical-align: middle;\n",
       "    }\n",
       "\n",
       "    .dataframe tbody tr th {\n",
       "        vertical-align: top;\n",
       "    }\n",
       "\n",
       "    .dataframe thead th {\n",
       "        text-align: right;\n",
       "    }\n",
       "</style>\n",
       "<table border=\"1\" class=\"dataframe\">\n",
       "  <thead>\n",
       "    <tr style=\"text-align: right;\">\n",
       "      <th></th>\n",
       "      <th>rolls</th>\n",
       "      <th>names</th>\n",
       "      <th>courses</th>\n",
       "      <th>mode</th>\n",
       "      <th>Country</th>\n",
       "    </tr>\n",
       "  </thead>\n",
       "  <tbody>\n",
       "    <tr>\n",
       "      <th>0</th>\n",
       "      <td>1</td>\n",
       "      <td>Ali</td>\n",
       "      <td>Python</td>\n",
       "      <td>Online</td>\n",
       "      <td>Pakistan</td>\n",
       "    </tr>\n",
       "    <tr>\n",
       "      <th>1</th>\n",
       "      <td>2</td>\n",
       "      <td>Amjad</td>\n",
       "      <td>Pandas</td>\n",
       "      <td>Onsite</td>\n",
       "      <td>Pakistan</td>\n",
       "    </tr>\n",
       "    <tr>\n",
       "      <th>2</th>\n",
       "      <td>3</td>\n",
       "      <td>Saima</td>\n",
       "      <td>Numpy</td>\n",
       "      <td>Online</td>\n",
       "      <td>Pakistan</td>\n",
       "    </tr>\n",
       "    <tr>\n",
       "      <th>3</th>\n",
       "      <td>4</td>\n",
       "      <td>Qaiser</td>\n",
       "      <td>Pandas</td>\n",
       "      <td>Onsite</td>\n",
       "      <td>Pakistan</td>\n",
       "    </tr>\n",
       "    <tr>\n",
       "      <th>4</th>\n",
       "      <td>5</td>\n",
       "      <td>Hamid</td>\n",
       "      <td>Numpy</td>\n",
       "      <td>Online</td>\n",
       "      <td>Pakistan</td>\n",
       "    </tr>\n",
       "    <tr>\n",
       "      <th>5</th>\n",
       "      <td>6</td>\n",
       "      <td>Nasir</td>\n",
       "      <td>Python</td>\n",
       "      <td>Onsite</td>\n",
       "      <td>Pakistan</td>\n",
       "    </tr>\n",
       "  </tbody>\n",
       "</table>\n",
       "</div>"
      ],
      "text/plain": [
       "   rolls   names courses    mode   Country\n",
       "0      1     Ali  Python  Online  Pakistan\n",
       "1      2   Amjad  Pandas  Onsite  Pakistan\n",
       "2      3   Saima   Numpy  Online  Pakistan\n",
       "3      4  Qaiser  Pandas  Onsite  Pakistan\n",
       "4      5   Hamid   Numpy  Online  Pakistan\n",
       "5      6   Nasir  Python  Onsite  Pakistan"
      ]
     },
     "execution_count": 126,
     "metadata": {},
     "output_type": "execute_result"
    }
   ],
   "source": [
    "df['Country'] = 'Pakistan'\n",
    "df\n"
   ]
  },
  {
   "cell_type": "code",
   "execution_count": 174,
   "id": "df4e82d5",
   "metadata": {},
   "outputs": [
    {
     "data": {
      "text/html": [
       "<div>\n",
       "<style scoped>\n",
       "    .dataframe tbody tr th:only-of-type {\n",
       "        vertical-align: middle;\n",
       "    }\n",
       "\n",
       "    .dataframe tbody tr th {\n",
       "        vertical-align: top;\n",
       "    }\n",
       "\n",
       "    .dataframe thead th {\n",
       "        text-align: right;\n",
       "    }\n",
       "</style>\n",
       "<table border=\"1\" class=\"dataframe\">\n",
       "  <thead>\n",
       "    <tr style=\"text-align: right;\">\n",
       "      <th></th>\n",
       "      <th>rolls</th>\n",
       "      <th>names</th>\n",
       "      <th>courses</th>\n",
       "      <th>mode</th>\n",
       "      <th>Country</th>\n",
       "      <th>Ages</th>\n",
       "    </tr>\n",
       "  </thead>\n",
       "  <tbody>\n",
       "    <tr>\n",
       "      <th>0</th>\n",
       "      <td>1</td>\n",
       "      <td>Ali</td>\n",
       "      <td>Python</td>\n",
       "      <td>Online</td>\n",
       "      <td>Pakistan</td>\n",
       "      <td>23</td>\n",
       "    </tr>\n",
       "    <tr>\n",
       "      <th>1</th>\n",
       "      <td>2</td>\n",
       "      <td>Amjad</td>\n",
       "      <td>Python</td>\n",
       "      <td>Onsite</td>\n",
       "      <td>Pakistan</td>\n",
       "      <td>34</td>\n",
       "    </tr>\n",
       "    <tr>\n",
       "      <th>2</th>\n",
       "      <td>3</td>\n",
       "      <td>Saima</td>\n",
       "      <td>Python</td>\n",
       "      <td>Online</td>\n",
       "      <td>Pakistan</td>\n",
       "      <td>23</td>\n",
       "    </tr>\n",
       "    <tr>\n",
       "      <th>3</th>\n",
       "      <td>4</td>\n",
       "      <td>Qaiser</td>\n",
       "      <td>Python</td>\n",
       "      <td>Onsite</td>\n",
       "      <td>Pakistan</td>\n",
       "      <td>21</td>\n",
       "    </tr>\n",
       "    <tr>\n",
       "      <th>4</th>\n",
       "      <td>5</td>\n",
       "      <td>Hamid</td>\n",
       "      <td>Python</td>\n",
       "      <td>Online</td>\n",
       "      <td>Pakistan</td>\n",
       "      <td>20</td>\n",
       "    </tr>\n",
       "    <tr>\n",
       "      <th>5</th>\n",
       "      <td>6</td>\n",
       "      <td>Nasir</td>\n",
       "      <td>Python</td>\n",
       "      <td>Onsite</td>\n",
       "      <td>Pakistan</td>\n",
       "      <td>19</td>\n",
       "    </tr>\n",
       "  </tbody>\n",
       "</table>\n",
       "</div>"
      ],
      "text/plain": [
       "   rolls   names courses    mode   Country  Ages\n",
       "0      1     Ali  Python  Online  Pakistan    23\n",
       "1      2   Amjad  Python  Onsite  Pakistan    34\n",
       "2      3   Saima  Python  Online  Pakistan    23\n",
       "3      4  Qaiser  Python  Onsite  Pakistan    21\n",
       "4      5   Hamid  Python  Online  Pakistan    20\n",
       "5      6   Nasir  Python  Onsite  Pakistan    19"
      ]
     },
     "execution_count": 174,
     "metadata": {},
     "output_type": "execute_result"
    }
   ],
   "source": [
    "df['Ages'] = [23, 34, 23, 21, 20, 19]\n",
    "df\n"
   ]
  },
  {
   "cell_type": "code",
   "execution_count": 175,
   "id": "8e9970db",
   "metadata": {},
   "outputs": [],
   "source": [
    "dic = {\n",
    "    'Ali'   : 34,\n",
    "    'Amjad' : 45,\n",
    "    'Saima' : 23,\n",
    "    'Qaiser': 45,\n",
    "    'Nasir' : 20,\n",
    "    'Hamid' : 34\n",
    "    }\n",
    "\n",
    "# Note ages df valay order main nahi hain\n",
    "\n",
    "# hum chahtay hain k ages df main add krain, but vo automatically corresponding names ko ja k assign ho jayain\n",
    "# humain ab mapping use krni pray gi, abhi professor is task ko hold kr rahay hain, baad main krvayain gay\n"
   ]
  },
  {
   "cell_type": "code",
   "execution_count": 178,
   "id": "ab450611",
   "metadata": {},
   "outputs": [
    {
     "data": {
      "text/html": [
       "<div>\n",
       "<style scoped>\n",
       "    .dataframe tbody tr th:only-of-type {\n",
       "        vertical-align: middle;\n",
       "    }\n",
       "\n",
       "    .dataframe tbody tr th {\n",
       "        vertical-align: top;\n",
       "    }\n",
       "\n",
       "    .dataframe thead th {\n",
       "        text-align: right;\n",
       "    }\n",
       "</style>\n",
       "<table border=\"1\" class=\"dataframe\">\n",
       "  <thead>\n",
       "    <tr style=\"text-align: right;\">\n",
       "      <th></th>\n",
       "      <th>rolls</th>\n",
       "      <th>names</th>\n",
       "      <th>courses</th>\n",
       "      <th>mode</th>\n",
       "      <th>Country</th>\n",
       "      <th>Ages</th>\n",
       "      <th>newAges</th>\n",
       "    </tr>\n",
       "  </thead>\n",
       "  <tbody>\n",
       "    <tr>\n",
       "      <th>0</th>\n",
       "      <td>1</td>\n",
       "      <td>Ali</td>\n",
       "      <td>Python</td>\n",
       "      <td>Online</td>\n",
       "      <td>Pakistan</td>\n",
       "      <td>23</td>\n",
       "      <td>34</td>\n",
       "    </tr>\n",
       "    <tr>\n",
       "      <th>1</th>\n",
       "      <td>2</td>\n",
       "      <td>Amjad</td>\n",
       "      <td>Python</td>\n",
       "      <td>Onsite</td>\n",
       "      <td>Pakistan</td>\n",
       "      <td>34</td>\n",
       "      <td>45</td>\n",
       "    </tr>\n",
       "    <tr>\n",
       "      <th>2</th>\n",
       "      <td>3</td>\n",
       "      <td>Saima</td>\n",
       "      <td>Python</td>\n",
       "      <td>Online</td>\n",
       "      <td>Pakistan</td>\n",
       "      <td>23</td>\n",
       "      <td>23</td>\n",
       "    </tr>\n",
       "    <tr>\n",
       "      <th>3</th>\n",
       "      <td>4</td>\n",
       "      <td>Qaiser</td>\n",
       "      <td>Python</td>\n",
       "      <td>Onsite</td>\n",
       "      <td>Pakistan</td>\n",
       "      <td>21</td>\n",
       "      <td>45</td>\n",
       "    </tr>\n",
       "    <tr>\n",
       "      <th>4</th>\n",
       "      <td>5</td>\n",
       "      <td>Hamid</td>\n",
       "      <td>Python</td>\n",
       "      <td>Online</td>\n",
       "      <td>Pakistan</td>\n",
       "      <td>20</td>\n",
       "      <td>34</td>\n",
       "    </tr>\n",
       "    <tr>\n",
       "      <th>5</th>\n",
       "      <td>6</td>\n",
       "      <td>Nasir</td>\n",
       "      <td>Python</td>\n",
       "      <td>Onsite</td>\n",
       "      <td>Pakistan</td>\n",
       "      <td>19</td>\n",
       "      <td>20</td>\n",
       "    </tr>\n",
       "  </tbody>\n",
       "</table>\n",
       "</div>"
      ],
      "text/plain": [
       "   rolls   names courses    mode   Country  Ages  newAges\n",
       "0      1     Ali  Python  Online  Pakistan    23       34\n",
       "1      2   Amjad  Python  Onsite  Pakistan    34       45\n",
       "2      3   Saima  Python  Online  Pakistan    23       23\n",
       "3      4  Qaiser  Python  Onsite  Pakistan    21       45\n",
       "4      5   Hamid  Python  Online  Pakistan    20       34\n",
       "5      6   Nasir  Python  Onsite  Pakistan    19       20"
      ]
     },
     "execution_count": 178,
     "metadata": {},
     "output_type": "execute_result"
    }
   ],
   "source": [
    "df['newAges'] = df.names.map(dic)\n",
    "df\n",
    "# kia baat hay 'name' k opar map kr dia\n"
   ]
  },
  {
   "cell_type": "code",
   "execution_count": 137,
   "id": "bb48bef4",
   "metadata": {},
   "outputs": [
    {
     "data": {
      "text/html": [
       "<div>\n",
       "<style scoped>\n",
       "    .dataframe tbody tr th:only-of-type {\n",
       "        vertical-align: middle;\n",
       "    }\n",
       "\n",
       "    .dataframe tbody tr th {\n",
       "        vertical-align: top;\n",
       "    }\n",
       "\n",
       "    .dataframe thead th {\n",
       "        text-align: right;\n",
       "    }\n",
       "</style>\n",
       "<table border=\"1\" class=\"dataframe\">\n",
       "  <thead>\n",
       "    <tr style=\"text-align: right;\">\n",
       "      <th></th>\n",
       "      <th>rolls</th>\n",
       "      <th>names</th>\n",
       "      <th>courses</th>\n",
       "      <th>mode</th>\n",
       "      <th>Country</th>\n",
       "      <th>Ages</th>\n",
       "      <th>Status</th>\n",
       "    </tr>\n",
       "  </thead>\n",
       "  <tbody>\n",
       "    <tr>\n",
       "      <th>0</th>\n",
       "      <td>1</td>\n",
       "      <td>Ali</td>\n",
       "      <td>Python</td>\n",
       "      <td>Online</td>\n",
       "      <td>Pakistan</td>\n",
       "      <td>23</td>\n",
       "      <td>Fail</td>\n",
       "    </tr>\n",
       "    <tr>\n",
       "      <th>1</th>\n",
       "      <td>2</td>\n",
       "      <td>Amjad</td>\n",
       "      <td>Pandas</td>\n",
       "      <td>Onsite</td>\n",
       "      <td>Pakistan</td>\n",
       "      <td>34</td>\n",
       "      <td>Pass</td>\n",
       "    </tr>\n",
       "    <tr>\n",
       "      <th>2</th>\n",
       "      <td>3</td>\n",
       "      <td>Saima</td>\n",
       "      <td>Numpy</td>\n",
       "      <td>Online</td>\n",
       "      <td>Pakistan</td>\n",
       "      <td>23</td>\n",
       "      <td>Fail</td>\n",
       "    </tr>\n",
       "    <tr>\n",
       "      <th>3</th>\n",
       "      <td>4</td>\n",
       "      <td>Qaiser</td>\n",
       "      <td>Pandas</td>\n",
       "      <td>Onsite</td>\n",
       "      <td>Pakistan</td>\n",
       "      <td>21</td>\n",
       "      <td>Fail</td>\n",
       "    </tr>\n",
       "    <tr>\n",
       "      <th>4</th>\n",
       "      <td>5</td>\n",
       "      <td>Hamid</td>\n",
       "      <td>Numpy</td>\n",
       "      <td>Online</td>\n",
       "      <td>Pakistan</td>\n",
       "      <td>20</td>\n",
       "      <td>Fail</td>\n",
       "    </tr>\n",
       "    <tr>\n",
       "      <th>5</th>\n",
       "      <td>6</td>\n",
       "      <td>Nasir</td>\n",
       "      <td>Python</td>\n",
       "      <td>Onsite</td>\n",
       "      <td>Pakistan</td>\n",
       "      <td>19</td>\n",
       "      <td>Fail</td>\n",
       "    </tr>\n",
       "  </tbody>\n",
       "</table>\n",
       "</div>"
      ],
      "text/plain": [
       "   rolls   names courses    mode   Country  Ages Status\n",
       "0      1     Ali  Python  Online  Pakistan    23   Fail\n",
       "1      2   Amjad  Pandas  Onsite  Pakistan    34   Pass\n",
       "2      3   Saima   Numpy  Online  Pakistan    23   Fail\n",
       "3      4  Qaiser  Pandas  Onsite  Pakistan    21   Fail\n",
       "4      5   Hamid   Numpy  Online  Pakistan    20   Fail\n",
       "5      6   Nasir  Python  Onsite  Pakistan    19   Fail"
      ]
     },
     "execution_count": 137,
     "metadata": {},
     "output_type": "execute_result"
    }
   ],
   "source": [
    "# condition-based data addition\n",
    "# list comprehension \n",
    "\n",
    "df[ 'Status' ] = [ 'Pass' if i > 25 else 'Fail' for i in df['Ages'] ] # isay list comprehension kehtay hain\n",
    "df\n"
   ]
  },
  {
   "cell_type": "code",
   "execution_count": 142,
   "id": "b6c1fb86",
   "metadata": {},
   "outputs": [
    {
     "data": {
      "text/html": [
       "<div>\n",
       "<style scoped>\n",
       "    .dataframe tbody tr th:only-of-type {\n",
       "        vertical-align: middle;\n",
       "    }\n",
       "\n",
       "    .dataframe tbody tr th {\n",
       "        vertical-align: top;\n",
       "    }\n",
       "\n",
       "    .dataframe thead th {\n",
       "        text-align: right;\n",
       "    }\n",
       "</style>\n",
       "<table border=\"1\" class=\"dataframe\">\n",
       "  <thead>\n",
       "    <tr style=\"text-align: right;\">\n",
       "      <th></th>\n",
       "      <th>rolls</th>\n",
       "      <th>names</th>\n",
       "      <th>courses</th>\n",
       "      <th>mode</th>\n",
       "      <th>Country</th>\n",
       "      <th>Ages</th>\n",
       "      <th>Status</th>\n",
       "      <th>City</th>\n",
       "    </tr>\n",
       "  </thead>\n",
       "  <tbody>\n",
       "    <tr>\n",
       "      <th>0</th>\n",
       "      <td>1</td>\n",
       "      <td>Ali</td>\n",
       "      <td>Python</td>\n",
       "      <td>Online</td>\n",
       "      <td>Pakistan</td>\n",
       "      <td>23</td>\n",
       "      <td>Fail</td>\n",
       "      <td>OutofKhi</td>\n",
       "    </tr>\n",
       "    <tr>\n",
       "      <th>1</th>\n",
       "      <td>2</td>\n",
       "      <td>Amjad</td>\n",
       "      <td>Pandas</td>\n",
       "      <td>Onsite</td>\n",
       "      <td>Pakistan</td>\n",
       "      <td>34</td>\n",
       "      <td>Pass</td>\n",
       "      <td>Karachi</td>\n",
       "    </tr>\n",
       "    <tr>\n",
       "      <th>2</th>\n",
       "      <td>3</td>\n",
       "      <td>Saima</td>\n",
       "      <td>Numpy</td>\n",
       "      <td>Online</td>\n",
       "      <td>Pakistan</td>\n",
       "      <td>23</td>\n",
       "      <td>Fail</td>\n",
       "      <td>OutofKhi</td>\n",
       "    </tr>\n",
       "    <tr>\n",
       "      <th>3</th>\n",
       "      <td>4</td>\n",
       "      <td>Qaiser</td>\n",
       "      <td>Pandas</td>\n",
       "      <td>Onsite</td>\n",
       "      <td>Pakistan</td>\n",
       "      <td>21</td>\n",
       "      <td>Fail</td>\n",
       "      <td>Karachi</td>\n",
       "    </tr>\n",
       "    <tr>\n",
       "      <th>4</th>\n",
       "      <td>5</td>\n",
       "      <td>Hamid</td>\n",
       "      <td>Numpy</td>\n",
       "      <td>Online</td>\n",
       "      <td>Pakistan</td>\n",
       "      <td>20</td>\n",
       "      <td>Fail</td>\n",
       "      <td>OutofKhi</td>\n",
       "    </tr>\n",
       "    <tr>\n",
       "      <th>5</th>\n",
       "      <td>6</td>\n",
       "      <td>Nasir</td>\n",
       "      <td>Python</td>\n",
       "      <td>Onsite</td>\n",
       "      <td>Pakistan</td>\n",
       "      <td>19</td>\n",
       "      <td>Fail</td>\n",
       "      <td>Karachi</td>\n",
       "    </tr>\n",
       "  </tbody>\n",
       "</table>\n",
       "</div>"
      ],
      "text/plain": [
       "   rolls   names courses    mode   Country  Ages Status      City\n",
       "0      1     Ali  Python  Online  Pakistan    23   Fail  OutofKhi\n",
       "1      2   Amjad  Pandas  Onsite  Pakistan    34   Pass   Karachi\n",
       "2      3   Saima   Numpy  Online  Pakistan    23   Fail  OutofKhi\n",
       "3      4  Qaiser  Pandas  Onsite  Pakistan    21   Fail   Karachi\n",
       "4      5   Hamid   Numpy  Online  Pakistan    20   Fail  OutofKhi\n",
       "5      6   Nasir  Python  Onsite  Pakistan    19   Fail   Karachi"
      ]
     },
     "execution_count": 142,
     "metadata": {},
     "output_type": "execute_result"
    }
   ],
   "source": [
    "# using lambda function\n",
    "\n",
    "df[ 'City' ] = df['mode'].apply(lambda x: 'Karachi' if x == 'Onsite' else 'OutofKhi')\n",
    "df\n"
   ]
  },
  {
   "cell_type": "code",
   "execution_count": 143,
   "id": "2aedb92a",
   "metadata": {},
   "outputs": [
    {
     "data": {
      "text/html": [
       "<div>\n",
       "<style scoped>\n",
       "    .dataframe tbody tr th:only-of-type {\n",
       "        vertical-align: middle;\n",
       "    }\n",
       "\n",
       "    .dataframe tbody tr th {\n",
       "        vertical-align: top;\n",
       "    }\n",
       "\n",
       "    .dataframe thead th {\n",
       "        text-align: right;\n",
       "    }\n",
       "</style>\n",
       "<table border=\"1\" class=\"dataframe\">\n",
       "  <thead>\n",
       "    <tr style=\"text-align: right;\">\n",
       "      <th></th>\n",
       "      <th>rolls</th>\n",
       "      <th>names</th>\n",
       "      <th>courses</th>\n",
       "      <th>mode</th>\n",
       "      <th>Country</th>\n",
       "      <th>Ages</th>\n",
       "      <th>Status</th>\n",
       "      <th>City</th>\n",
       "    </tr>\n",
       "  </thead>\n",
       "  <tbody>\n",
       "    <tr>\n",
       "      <th>0</th>\n",
       "      <td>1</td>\n",
       "      <td>Ali</td>\n",
       "      <td>Python</td>\n",
       "      <td>Online</td>\n",
       "      <td>Pakistan</td>\n",
       "      <td>23</td>\n",
       "      <td>Fail</td>\n",
       "      <td>Karachi</td>\n",
       "    </tr>\n",
       "    <tr>\n",
       "      <th>1</th>\n",
       "      <td>2</td>\n",
       "      <td>Amjad</td>\n",
       "      <td>Pandas</td>\n",
       "      <td>Onsite</td>\n",
       "      <td>Pakistan</td>\n",
       "      <td>34</td>\n",
       "      <td>Pass</td>\n",
       "      <td>OutofKhi</td>\n",
       "    </tr>\n",
       "    <tr>\n",
       "      <th>2</th>\n",
       "      <td>3</td>\n",
       "      <td>Saima</td>\n",
       "      <td>Numpy</td>\n",
       "      <td>Online</td>\n",
       "      <td>Pakistan</td>\n",
       "      <td>23</td>\n",
       "      <td>Fail</td>\n",
       "      <td>Karachi</td>\n",
       "    </tr>\n",
       "    <tr>\n",
       "      <th>3</th>\n",
       "      <td>4</td>\n",
       "      <td>Qaiser</td>\n",
       "      <td>Pandas</td>\n",
       "      <td>Onsite</td>\n",
       "      <td>Pakistan</td>\n",
       "      <td>21</td>\n",
       "      <td>Fail</td>\n",
       "      <td>OutofKhi</td>\n",
       "    </tr>\n",
       "    <tr>\n",
       "      <th>4</th>\n",
       "      <td>5</td>\n",
       "      <td>Hamid</td>\n",
       "      <td>Numpy</td>\n",
       "      <td>Online</td>\n",
       "      <td>Pakistan</td>\n",
       "      <td>20</td>\n",
       "      <td>Fail</td>\n",
       "      <td>Karachi</td>\n",
       "    </tr>\n",
       "    <tr>\n",
       "      <th>5</th>\n",
       "      <td>6</td>\n",
       "      <td>Nasir</td>\n",
       "      <td>Python</td>\n",
       "      <td>Onsite</td>\n",
       "      <td>Pakistan</td>\n",
       "      <td>19</td>\n",
       "      <td>Fail</td>\n",
       "      <td>OutofKhi</td>\n",
       "    </tr>\n",
       "  </tbody>\n",
       "</table>\n",
       "</div>"
      ],
      "text/plain": [
       "   rolls   names courses    mode   Country  Ages Status      City\n",
       "0      1     Ali  Python  Online  Pakistan    23   Fail   Karachi\n",
       "1      2   Amjad  Pandas  Onsite  Pakistan    34   Pass  OutofKhi\n",
       "2      3   Saima   Numpy  Online  Pakistan    23   Fail   Karachi\n",
       "3      4  Qaiser  Pandas  Onsite  Pakistan    21   Fail  OutofKhi\n",
       "4      5   Hamid   Numpy  Online  Pakistan    20   Fail   Karachi\n",
       "5      6   Nasir  Python  Onsite  Pakistan    19   Fail  OutofKhi"
      ]
     },
     "execution_count": 143,
     "metadata": {},
     "output_type": "execute_result"
    }
   ],
   "source": [
    "# using np.where in lambda\n",
    "\n",
    "df[ 'City' ] = df['mode'].apply(lambda x: np.where(x == 'Online', 'Karachi', 'OutofKhi'))\n",
    "df\n",
    "\n"
   ]
  },
  {
   "cell_type": "code",
   "execution_count": 152,
   "id": "7d938ced",
   "metadata": {},
   "outputs": [],
   "source": [
    "# traditional way\n",
    "def generationAssign(age):\n",
    "    if age < 20:\n",
    "        return 'Teen Ager'\n",
    "    elif age < 40:\n",
    "        return 'Young'\n",
    "    elif age < 60:\n",
    "        return 'Matured'\n",
    "    else:\n",
    "        return 'Seniors'\n"
   ]
  },
  {
   "cell_type": "code",
   "execution_count": 154,
   "id": "ab76d6ec",
   "metadata": {},
   "outputs": [
    {
     "data": {
      "text/html": [
       "<div>\n",
       "<style scoped>\n",
       "    .dataframe tbody tr th:only-of-type {\n",
       "        vertical-align: middle;\n",
       "    }\n",
       "\n",
       "    .dataframe tbody tr th {\n",
       "        vertical-align: top;\n",
       "    }\n",
       "\n",
       "    .dataframe thead th {\n",
       "        text-align: right;\n",
       "    }\n",
       "</style>\n",
       "<table border=\"1\" class=\"dataframe\">\n",
       "  <thead>\n",
       "    <tr style=\"text-align: right;\">\n",
       "      <th></th>\n",
       "      <th>rolls</th>\n",
       "      <th>names</th>\n",
       "      <th>courses</th>\n",
       "      <th>mode</th>\n",
       "      <th>Country</th>\n",
       "      <th>Ages</th>\n",
       "      <th>Status</th>\n",
       "      <th>City</th>\n",
       "      <th>Generation</th>\n",
       "    </tr>\n",
       "  </thead>\n",
       "  <tbody>\n",
       "    <tr>\n",
       "      <th>0</th>\n",
       "      <td>1</td>\n",
       "      <td>Ali</td>\n",
       "      <td>Python</td>\n",
       "      <td>Online</td>\n",
       "      <td>Pakistan</td>\n",
       "      <td>23</td>\n",
       "      <td>Fail</td>\n",
       "      <td>Karachi</td>\n",
       "      <td>Young</td>\n",
       "    </tr>\n",
       "    <tr>\n",
       "      <th>1</th>\n",
       "      <td>2</td>\n",
       "      <td>Amjad</td>\n",
       "      <td>Pandas</td>\n",
       "      <td>Onsite</td>\n",
       "      <td>Pakistan</td>\n",
       "      <td>34</td>\n",
       "      <td>Pass</td>\n",
       "      <td>OutofKhi</td>\n",
       "      <td>Young</td>\n",
       "    </tr>\n",
       "    <tr>\n",
       "      <th>2</th>\n",
       "      <td>3</td>\n",
       "      <td>Saima</td>\n",
       "      <td>Numpy</td>\n",
       "      <td>Online</td>\n",
       "      <td>Pakistan</td>\n",
       "      <td>23</td>\n",
       "      <td>Fail</td>\n",
       "      <td>Karachi</td>\n",
       "      <td>Young</td>\n",
       "    </tr>\n",
       "    <tr>\n",
       "      <th>3</th>\n",
       "      <td>4</td>\n",
       "      <td>Qaiser</td>\n",
       "      <td>Pandas</td>\n",
       "      <td>Onsite</td>\n",
       "      <td>Pakistan</td>\n",
       "      <td>21</td>\n",
       "      <td>Fail</td>\n",
       "      <td>OutofKhi</td>\n",
       "      <td>Young</td>\n",
       "    </tr>\n",
       "    <tr>\n",
       "      <th>4</th>\n",
       "      <td>5</td>\n",
       "      <td>Hamid</td>\n",
       "      <td>Numpy</td>\n",
       "      <td>Online</td>\n",
       "      <td>Pakistan</td>\n",
       "      <td>20</td>\n",
       "      <td>Fail</td>\n",
       "      <td>Karachi</td>\n",
       "      <td>Young</td>\n",
       "    </tr>\n",
       "    <tr>\n",
       "      <th>5</th>\n",
       "      <td>6</td>\n",
       "      <td>Nasir</td>\n",
       "      <td>Python</td>\n",
       "      <td>Onsite</td>\n",
       "      <td>Pakistan</td>\n",
       "      <td>19</td>\n",
       "      <td>Fail</td>\n",
       "      <td>OutofKhi</td>\n",
       "      <td>Teen Ager</td>\n",
       "    </tr>\n",
       "  </tbody>\n",
       "</table>\n",
       "</div>"
      ],
      "text/plain": [
       "   rolls   names courses    mode   Country  Ages Status      City Generation\n",
       "0      1     Ali  Python  Online  Pakistan    23   Fail   Karachi      Young\n",
       "1      2   Amjad  Pandas  Onsite  Pakistan    34   Pass  OutofKhi      Young\n",
       "2      3   Saima   Numpy  Online  Pakistan    23   Fail   Karachi      Young\n",
       "3      4  Qaiser  Pandas  Onsite  Pakistan    21   Fail  OutofKhi      Young\n",
       "4      5   Hamid   Numpy  Online  Pakistan    20   Fail   Karachi      Young\n",
       "5      6   Nasir  Python  Onsite  Pakistan    19   Fail  OutofKhi  Teen Ager"
      ]
     },
     "execution_count": 154,
     "metadata": {},
     "output_type": "execute_result"
    }
   ],
   "source": [
    "df[ 'Generation' ] = df['Ages'].apply( generationAssign ) # Note hum nay 'generationAssign()' nahi likha bal k 'generationAssign' likha\n",
    "df\n"
   ]
  },
  {
   "cell_type": "code",
   "execution_count": 170,
   "id": "2ea0f4be",
   "metadata": {},
   "outputs": [
    {
     "ename": "ModuleNotFoundError",
     "evalue": "No module named 'openpyxl'",
     "output_type": "error",
     "traceback": [
      "\u001b[1;31m---------------------------------------------------------------------------\u001b[0m",
      "\u001b[1;31mModuleNotFoundError\u001b[0m                       Traceback (most recent call last)",
      "Input \u001b[1;32mIn [170]\u001b[0m, in \u001b[0;36m<cell line: 3>\u001b[1;34m()\u001b[0m\n\u001b[0;32m      1\u001b[0m \u001b[38;5;66;03m# exporting data as xlsx file \u001b[39;00m\n\u001b[1;32m----> 3\u001b[0m \u001b[43mdf\u001b[49m\u001b[38;5;241;43m.\u001b[39;49m\u001b[43mto_excel\u001b[49m\u001b[43m(\u001b[49m\u001b[38;5;124;43m\"\u001b[39;49m\u001b[38;5;124;43mstudents.xlsx\u001b[39;49m\u001b[38;5;124;43m\"\u001b[39;49m\u001b[43m)\u001b[49m\n",
      "File \u001b[1;32m~\\AppData\\Local\\Programs\\Python\\Python310\\lib\\site-packages\\pandas\\util\\_decorators.py:211\u001b[0m, in \u001b[0;36mdeprecate_kwarg.<locals>._deprecate_kwarg.<locals>.wrapper\u001b[1;34m(*args, **kwargs)\u001b[0m\n\u001b[0;32m    209\u001b[0m     \u001b[38;5;28;01melse\u001b[39;00m:\n\u001b[0;32m    210\u001b[0m         kwargs[new_arg_name] \u001b[38;5;241m=\u001b[39m new_arg_value\n\u001b[1;32m--> 211\u001b[0m \u001b[38;5;28;01mreturn\u001b[39;00m func(\u001b[38;5;241m*\u001b[39margs, \u001b[38;5;241m*\u001b[39m\u001b[38;5;241m*\u001b[39mkwargs)\n",
      "File \u001b[1;32m~\\AppData\\Local\\Programs\\Python\\Python310\\lib\\site-packages\\pandas\\util\\_decorators.py:211\u001b[0m, in \u001b[0;36mdeprecate_kwarg.<locals>._deprecate_kwarg.<locals>.wrapper\u001b[1;34m(*args, **kwargs)\u001b[0m\n\u001b[0;32m    209\u001b[0m     \u001b[38;5;28;01melse\u001b[39;00m:\n\u001b[0;32m    210\u001b[0m         kwargs[new_arg_name] \u001b[38;5;241m=\u001b[39m new_arg_value\n\u001b[1;32m--> 211\u001b[0m \u001b[38;5;28;01mreturn\u001b[39;00m func(\u001b[38;5;241m*\u001b[39margs, \u001b[38;5;241m*\u001b[39m\u001b[38;5;241m*\u001b[39mkwargs)\n",
      "File \u001b[1;32m~\\AppData\\Local\\Programs\\Python\\Python310\\lib\\site-packages\\pandas\\core\\generic.py:2374\u001b[0m, in \u001b[0;36mNDFrame.to_excel\u001b[1;34m(self, excel_writer, sheet_name, na_rep, float_format, columns, header, index, index_label, startrow, startcol, engine, merge_cells, encoding, inf_rep, verbose, freeze_panes, storage_options)\u001b[0m\n\u001b[0;32m   2361\u001b[0m \u001b[38;5;28;01mfrom\u001b[39;00m \u001b[38;5;21;01mpandas\u001b[39;00m\u001b[38;5;21;01m.\u001b[39;00m\u001b[38;5;21;01mio\u001b[39;00m\u001b[38;5;21;01m.\u001b[39;00m\u001b[38;5;21;01mformats\u001b[39;00m\u001b[38;5;21;01m.\u001b[39;00m\u001b[38;5;21;01mexcel\u001b[39;00m \u001b[38;5;28;01mimport\u001b[39;00m ExcelFormatter\n\u001b[0;32m   2363\u001b[0m formatter \u001b[38;5;241m=\u001b[39m ExcelFormatter(\n\u001b[0;32m   2364\u001b[0m     df,\n\u001b[0;32m   2365\u001b[0m     na_rep\u001b[38;5;241m=\u001b[39mna_rep,\n\u001b[1;32m   (...)\u001b[0m\n\u001b[0;32m   2372\u001b[0m     inf_rep\u001b[38;5;241m=\u001b[39minf_rep,\n\u001b[0;32m   2373\u001b[0m )\n\u001b[1;32m-> 2374\u001b[0m \u001b[43mformatter\u001b[49m\u001b[38;5;241;43m.\u001b[39;49m\u001b[43mwrite\u001b[49m\u001b[43m(\u001b[49m\n\u001b[0;32m   2375\u001b[0m \u001b[43m    \u001b[49m\u001b[43mexcel_writer\u001b[49m\u001b[43m,\u001b[49m\n\u001b[0;32m   2376\u001b[0m \u001b[43m    \u001b[49m\u001b[43msheet_name\u001b[49m\u001b[38;5;241;43m=\u001b[39;49m\u001b[43msheet_name\u001b[49m\u001b[43m,\u001b[49m\n\u001b[0;32m   2377\u001b[0m \u001b[43m    \u001b[49m\u001b[43mstartrow\u001b[49m\u001b[38;5;241;43m=\u001b[39;49m\u001b[43mstartrow\u001b[49m\u001b[43m,\u001b[49m\n\u001b[0;32m   2378\u001b[0m \u001b[43m    \u001b[49m\u001b[43mstartcol\u001b[49m\u001b[38;5;241;43m=\u001b[39;49m\u001b[43mstartcol\u001b[49m\u001b[43m,\u001b[49m\n\u001b[0;32m   2379\u001b[0m \u001b[43m    \u001b[49m\u001b[43mfreeze_panes\u001b[49m\u001b[38;5;241;43m=\u001b[39;49m\u001b[43mfreeze_panes\u001b[49m\u001b[43m,\u001b[49m\n\u001b[0;32m   2380\u001b[0m \u001b[43m    \u001b[49m\u001b[43mengine\u001b[49m\u001b[38;5;241;43m=\u001b[39;49m\u001b[43mengine\u001b[49m\u001b[43m,\u001b[49m\n\u001b[0;32m   2381\u001b[0m \u001b[43m    \u001b[49m\u001b[43mstorage_options\u001b[49m\u001b[38;5;241;43m=\u001b[39;49m\u001b[43mstorage_options\u001b[49m\u001b[43m,\u001b[49m\n\u001b[0;32m   2382\u001b[0m \u001b[43m\u001b[49m\u001b[43m)\u001b[49m\n",
      "File \u001b[1;32m~\\AppData\\Local\\Programs\\Python\\Python310\\lib\\site-packages\\pandas\\io\\formats\\excel.py:944\u001b[0m, in \u001b[0;36mExcelFormatter.write\u001b[1;34m(self, writer, sheet_name, startrow, startcol, freeze_panes, engine, storage_options)\u001b[0m\n\u001b[0;32m    940\u001b[0m     need_save \u001b[38;5;241m=\u001b[39m \u001b[38;5;28;01mFalse\u001b[39;00m\n\u001b[0;32m    941\u001b[0m \u001b[38;5;28;01melse\u001b[39;00m:\n\u001b[0;32m    942\u001b[0m     \u001b[38;5;66;03m# error: Cannot instantiate abstract class 'ExcelWriter' with abstract\u001b[39;00m\n\u001b[0;32m    943\u001b[0m     \u001b[38;5;66;03m# attributes 'engine', 'save', 'supported_extensions' and 'write_cells'\u001b[39;00m\n\u001b[1;32m--> 944\u001b[0m     writer \u001b[38;5;241m=\u001b[39m \u001b[43mExcelWriter\u001b[49m\u001b[43m(\u001b[49m\u001b[43m  \u001b[49m\u001b[38;5;66;43;03m# type: ignore[abstract]\u001b[39;49;00m\n\u001b[0;32m    945\u001b[0m \u001b[43m        \u001b[49m\u001b[43mwriter\u001b[49m\u001b[43m,\u001b[49m\u001b[43m \u001b[49m\u001b[43mengine\u001b[49m\u001b[38;5;241;43m=\u001b[39;49m\u001b[43mengine\u001b[49m\u001b[43m,\u001b[49m\u001b[43m \u001b[49m\u001b[43mstorage_options\u001b[49m\u001b[38;5;241;43m=\u001b[39;49m\u001b[43mstorage_options\u001b[49m\n\u001b[0;32m    946\u001b[0m \u001b[43m    \u001b[49m\u001b[43m)\u001b[49m\n\u001b[0;32m    947\u001b[0m     need_save \u001b[38;5;241m=\u001b[39m \u001b[38;5;28;01mTrue\u001b[39;00m\n\u001b[0;32m    949\u001b[0m \u001b[38;5;28;01mtry\u001b[39;00m:\n",
      "File \u001b[1;32m~\\AppData\\Local\\Programs\\Python\\Python310\\lib\\site-packages\\pandas\\io\\excel\\_openpyxl.py:56\u001b[0m, in \u001b[0;36mOpenpyxlWriter.__init__\u001b[1;34m(self, path, engine, date_format, datetime_format, mode, storage_options, if_sheet_exists, engine_kwargs, **kwargs)\u001b[0m\n\u001b[0;32m     43\u001b[0m \u001b[38;5;28;01mdef\u001b[39;00m \u001b[38;5;21m__init__\u001b[39m(\n\u001b[0;32m     44\u001b[0m     \u001b[38;5;28mself\u001b[39m,\n\u001b[0;32m     45\u001b[0m     path: FilePath \u001b[38;5;241m|\u001b[39m WriteExcelBuffer \u001b[38;5;241m|\u001b[39m ExcelWriter,\n\u001b[1;32m   (...)\u001b[0m\n\u001b[0;32m     54\u001b[0m ) \u001b[38;5;241m-\u001b[39m\u001b[38;5;241m>\u001b[39m \u001b[38;5;28;01mNone\u001b[39;00m:\n\u001b[0;32m     55\u001b[0m     \u001b[38;5;66;03m# Use the openpyxl module as the Excel writer.\u001b[39;00m\n\u001b[1;32m---> 56\u001b[0m     \u001b[38;5;28;01mfrom\u001b[39;00m \u001b[38;5;21;01mopenpyxl\u001b[39;00m\u001b[38;5;21;01m.\u001b[39;00m\u001b[38;5;21;01mworkbook\u001b[39;00m \u001b[38;5;28;01mimport\u001b[39;00m Workbook\n\u001b[0;32m     58\u001b[0m     engine_kwargs \u001b[38;5;241m=\u001b[39m combine_kwargs(engine_kwargs, kwargs)\n\u001b[0;32m     60\u001b[0m     \u001b[38;5;28msuper\u001b[39m()\u001b[38;5;241m.\u001b[39m\u001b[38;5;21m__init__\u001b[39m(\n\u001b[0;32m     61\u001b[0m         path,\n\u001b[0;32m     62\u001b[0m         mode\u001b[38;5;241m=\u001b[39mmode,\n\u001b[1;32m   (...)\u001b[0m\n\u001b[0;32m     65\u001b[0m         engine_kwargs\u001b[38;5;241m=\u001b[39mengine_kwargs,\n\u001b[0;32m     66\u001b[0m     )\n",
      "\u001b[1;31mModuleNotFoundError\u001b[0m: No module named 'openpyxl'"
     ]
    }
   ],
   "source": [
    "# exporting data as xlsx file \n",
    "\n",
    "df.to_excel(\"students.xlsx\")\n",
    "\n",
    "# sir ka tu ye chal rha tha, pta ni mera q nahi chl raha\n"
   ]
  },
  {
   "cell_type": "code",
   "execution_count": null,
   "id": "56c4a972",
   "metadata": {},
   "outputs": [],
   "source": [
    "# Data Loading"
   ]
  },
  {
   "cell_type": "code",
   "execution_count": 179,
   "id": "cd966753",
   "metadata": {},
   "outputs": [],
   "source": [
    "data = pd.read_csv('astronauts.csv')\n",
    "\n",
    "# wite 'pd.read' press 'Tab' u'll see all the formats from which we can read the data\n",
    "# pd.read\n",
    "\n"
   ]
  },
  {
   "cell_type": "code",
   "execution_count": 180,
   "id": "bb0a0df8",
   "metadata": {},
   "outputs": [
    {
     "data": {
      "text/html": [
       "<div>\n",
       "<style scoped>\n",
       "    .dataframe tbody tr th:only-of-type {\n",
       "        vertical-align: middle;\n",
       "    }\n",
       "\n",
       "    .dataframe tbody tr th {\n",
       "        vertical-align: top;\n",
       "    }\n",
       "\n",
       "    .dataframe thead th {\n",
       "        text-align: right;\n",
       "    }\n",
       "</style>\n",
       "<table border=\"1\" class=\"dataframe\">\n",
       "  <thead>\n",
       "    <tr style=\"text-align: right;\">\n",
       "      <th></th>\n",
       "      <th>Name</th>\n",
       "      <th>Year</th>\n",
       "      <th>Group</th>\n",
       "      <th>Status</th>\n",
       "      <th>Birth Date</th>\n",
       "      <th>Birth Place</th>\n",
       "      <th>Gender</th>\n",
       "      <th>Alma Mater</th>\n",
       "      <th>Undergraduate Major</th>\n",
       "      <th>Graduate Major</th>\n",
       "      <th>Military Rank</th>\n",
       "      <th>Military Branch</th>\n",
       "      <th>Space Flights</th>\n",
       "      <th>Space Flight (hr)</th>\n",
       "      <th>Space Walks</th>\n",
       "      <th>Space Walks (hr)</th>\n",
       "      <th>Missions</th>\n",
       "      <th>Death Date</th>\n",
       "      <th>Death Mission</th>\n",
       "    </tr>\n",
       "  </thead>\n",
       "  <tbody>\n",
       "    <tr>\n",
       "      <th>0</th>\n",
       "      <td>Joseph M. Acaba</td>\n",
       "      <td>2004.0</td>\n",
       "      <td>19.0</td>\n",
       "      <td>Active</td>\n",
       "      <td>5/17/1967</td>\n",
       "      <td>Inglewood, CA</td>\n",
       "      <td>Male</td>\n",
       "      <td>University of California-Santa Barbara; Univer...</td>\n",
       "      <td>Geology</td>\n",
       "      <td>Geology</td>\n",
       "      <td>NaN</td>\n",
       "      <td>NaN</td>\n",
       "      <td>2</td>\n",
       "      <td>3307</td>\n",
       "      <td>2</td>\n",
       "      <td>13.0</td>\n",
       "      <td>STS-119 (Discovery), ISS-31/32 (Soyuz)</td>\n",
       "      <td>NaN</td>\n",
       "      <td>NaN</td>\n",
       "    </tr>\n",
       "    <tr>\n",
       "      <th>1</th>\n",
       "      <td>Loren W. Acton</td>\n",
       "      <td>NaN</td>\n",
       "      <td>NaN</td>\n",
       "      <td>Retired</td>\n",
       "      <td>3/7/1936</td>\n",
       "      <td>Lewiston, MT</td>\n",
       "      <td>Male</td>\n",
       "      <td>Montana State University; University of Colorado</td>\n",
       "      <td>Engineering Physics</td>\n",
       "      <td>Solar Physics</td>\n",
       "      <td>NaN</td>\n",
       "      <td>NaN</td>\n",
       "      <td>1</td>\n",
       "      <td>190</td>\n",
       "      <td>0</td>\n",
       "      <td>0.0</td>\n",
       "      <td>STS 51-F (Challenger)</td>\n",
       "      <td>NaN</td>\n",
       "      <td>NaN</td>\n",
       "    </tr>\n",
       "    <tr>\n",
       "      <th>2</th>\n",
       "      <td>James C. Adamson</td>\n",
       "      <td>1984.0</td>\n",
       "      <td>10.0</td>\n",
       "      <td>Retired</td>\n",
       "      <td>3/3/1946</td>\n",
       "      <td>Warsaw, NY</td>\n",
       "      <td>Male</td>\n",
       "      <td>US Military Academy; Princeton University</td>\n",
       "      <td>Engineering</td>\n",
       "      <td>Aerospace Engineering</td>\n",
       "      <td>Colonel</td>\n",
       "      <td>US Army (Retired)</td>\n",
       "      <td>2</td>\n",
       "      <td>334</td>\n",
       "      <td>0</td>\n",
       "      <td>0.0</td>\n",
       "      <td>STS-28 (Columbia), STS-43 (Atlantis)</td>\n",
       "      <td>NaN</td>\n",
       "      <td>NaN</td>\n",
       "    </tr>\n",
       "    <tr>\n",
       "      <th>3</th>\n",
       "      <td>Thomas D. Akers</td>\n",
       "      <td>1987.0</td>\n",
       "      <td>12.0</td>\n",
       "      <td>Retired</td>\n",
       "      <td>5/20/1951</td>\n",
       "      <td>St. Louis, MO</td>\n",
       "      <td>Male</td>\n",
       "      <td>University of Missouri-Rolla</td>\n",
       "      <td>Applied Mathematics</td>\n",
       "      <td>Applied Mathematics</td>\n",
       "      <td>Colonel</td>\n",
       "      <td>US Air Force (Retired)</td>\n",
       "      <td>4</td>\n",
       "      <td>814</td>\n",
       "      <td>4</td>\n",
       "      <td>29.0</td>\n",
       "      <td>STS-41 (Discovery), STS-49 (Endeavor), STS-61 ...</td>\n",
       "      <td>NaN</td>\n",
       "      <td>NaN</td>\n",
       "    </tr>\n",
       "    <tr>\n",
       "      <th>4</th>\n",
       "      <td>Buzz Aldrin</td>\n",
       "      <td>1963.0</td>\n",
       "      <td>3.0</td>\n",
       "      <td>Retired</td>\n",
       "      <td>1/20/1930</td>\n",
       "      <td>Montclair, NJ</td>\n",
       "      <td>Male</td>\n",
       "      <td>US Military Academy; MIT</td>\n",
       "      <td>Mechanical Engineering</td>\n",
       "      <td>Astronautics</td>\n",
       "      <td>Colonel</td>\n",
       "      <td>US Air Force (Retired)</td>\n",
       "      <td>2</td>\n",
       "      <td>289</td>\n",
       "      <td>2</td>\n",
       "      <td>8.0</td>\n",
       "      <td>Gemini 12, Apollo 11</td>\n",
       "      <td>NaN</td>\n",
       "      <td>NaN</td>\n",
       "    </tr>\n",
       "    <tr>\n",
       "      <th>...</th>\n",
       "      <td>...</td>\n",
       "      <td>...</td>\n",
       "      <td>...</td>\n",
       "      <td>...</td>\n",
       "      <td>...</td>\n",
       "      <td>...</td>\n",
       "      <td>...</td>\n",
       "      <td>...</td>\n",
       "      <td>...</td>\n",
       "      <td>...</td>\n",
       "      <td>...</td>\n",
       "      <td>...</td>\n",
       "      <td>...</td>\n",
       "      <td>...</td>\n",
       "      <td>...</td>\n",
       "      <td>...</td>\n",
       "      <td>...</td>\n",
       "      <td>...</td>\n",
       "      <td>...</td>\n",
       "    </tr>\n",
       "    <tr>\n",
       "      <th>352</th>\n",
       "      <td>David A. Wolf</td>\n",
       "      <td>1990.0</td>\n",
       "      <td>13.0</td>\n",
       "      <td>Retired</td>\n",
       "      <td>8/23/1956</td>\n",
       "      <td>Indianapolis, IN</td>\n",
       "      <td>Male</td>\n",
       "      <td>Purdue University; Indiana University</td>\n",
       "      <td>Electrical Engineering</td>\n",
       "      <td>Medicine</td>\n",
       "      <td>NaN</td>\n",
       "      <td>NaN</td>\n",
       "      <td>3</td>\n",
       "      <td>4044</td>\n",
       "      <td>7</td>\n",
       "      <td>41.0</td>\n",
       "      <td>STS-58 (Columbia). STS-86/89 (Atlantis/Endeavo...</td>\n",
       "      <td>NaN</td>\n",
       "      <td>NaN</td>\n",
       "    </tr>\n",
       "    <tr>\n",
       "      <th>353</th>\n",
       "      <td>Neil W. Woodward III</td>\n",
       "      <td>1998.0</td>\n",
       "      <td>17.0</td>\n",
       "      <td>Retired</td>\n",
       "      <td>7/26/1962</td>\n",
       "      <td>Chicago, IL</td>\n",
       "      <td>Male</td>\n",
       "      <td>MIT; University of Texas-Austin; George Washin...</td>\n",
       "      <td>Physics</td>\n",
       "      <td>Physics; Business Management</td>\n",
       "      <td>Commander</td>\n",
       "      <td>US Navy</td>\n",
       "      <td>0</td>\n",
       "      <td>0</td>\n",
       "      <td>0</td>\n",
       "      <td>0.0</td>\n",
       "      <td>NaN</td>\n",
       "      <td>NaN</td>\n",
       "      <td>NaN</td>\n",
       "    </tr>\n",
       "    <tr>\n",
       "      <th>354</th>\n",
       "      <td>Alfred M. Worden</td>\n",
       "      <td>1966.0</td>\n",
       "      <td>5.0</td>\n",
       "      <td>Retired</td>\n",
       "      <td>2/7/1932</td>\n",
       "      <td>Jackson, MI</td>\n",
       "      <td>Male</td>\n",
       "      <td>US Military Academy; University of Michigan</td>\n",
       "      <td>Military Science</td>\n",
       "      <td>Aeronautical &amp; Astronautical Engineering</td>\n",
       "      <td>Colonel</td>\n",
       "      <td>US Air Force (Retired)</td>\n",
       "      <td>1</td>\n",
       "      <td>295</td>\n",
       "      <td>1</td>\n",
       "      <td>0.5</td>\n",
       "      <td>Apollo 15</td>\n",
       "      <td>NaN</td>\n",
       "      <td>NaN</td>\n",
       "    </tr>\n",
       "    <tr>\n",
       "      <th>355</th>\n",
       "      <td>John W. Young</td>\n",
       "      <td>1962.0</td>\n",
       "      <td>2.0</td>\n",
       "      <td>Retired</td>\n",
       "      <td>9/24/1930</td>\n",
       "      <td>San Francisco, CA</td>\n",
       "      <td>Male</td>\n",
       "      <td>Georgia Institute of Technology</td>\n",
       "      <td>Aeronautical Engineering</td>\n",
       "      <td>NaN</td>\n",
       "      <td>Captain</td>\n",
       "      <td>US Navy (Retired)</td>\n",
       "      <td>6</td>\n",
       "      <td>835</td>\n",
       "      <td>3</td>\n",
       "      <td>20.0</td>\n",
       "      <td>Gemini 3, Gemini 10, Apollo 10, Apollo 16, STS...</td>\n",
       "      <td>NaN</td>\n",
       "      <td>NaN</td>\n",
       "    </tr>\n",
       "    <tr>\n",
       "      <th>356</th>\n",
       "      <td>George D. Zamka</td>\n",
       "      <td>1998.0</td>\n",
       "      <td>17.0</td>\n",
       "      <td>Retired</td>\n",
       "      <td>6/29/1962</td>\n",
       "      <td>Jersey City, NJ</td>\n",
       "      <td>Male</td>\n",
       "      <td>US Naval Academy; Florida Institute of Technology</td>\n",
       "      <td>Mathematics</td>\n",
       "      <td>Engineering Management</td>\n",
       "      <td>Colonel</td>\n",
       "      <td>US Marine Corps (Retired)</td>\n",
       "      <td>2</td>\n",
       "      <td>692</td>\n",
       "      <td>0</td>\n",
       "      <td>0.0</td>\n",
       "      <td>STS-120 (Discovery), STS-130 (Endeavor)</td>\n",
       "      <td>NaN</td>\n",
       "      <td>NaN</td>\n",
       "    </tr>\n",
       "  </tbody>\n",
       "</table>\n",
       "<p>357 rows × 19 columns</p>\n",
       "</div>"
      ],
      "text/plain": [
       "                      Name    Year  Group   Status Birth Date  \\\n",
       "0          Joseph M. Acaba  2004.0   19.0   Active  5/17/1967   \n",
       "1           Loren W. Acton     NaN    NaN  Retired   3/7/1936   \n",
       "2         James C. Adamson  1984.0   10.0  Retired   3/3/1946   \n",
       "3          Thomas D. Akers  1987.0   12.0  Retired  5/20/1951   \n",
       "4              Buzz Aldrin  1963.0    3.0  Retired  1/20/1930   \n",
       "..                     ...     ...    ...      ...        ...   \n",
       "352          David A. Wolf  1990.0   13.0  Retired  8/23/1956   \n",
       "353  Neil W. Woodward III   1998.0   17.0  Retired  7/26/1962   \n",
       "354       Alfred M. Worden  1966.0    5.0  Retired   2/7/1932   \n",
       "355          John W. Young  1962.0    2.0  Retired  9/24/1930   \n",
       "356        George D. Zamka  1998.0   17.0  Retired  6/29/1962   \n",
       "\n",
       "           Birth Place Gender  \\\n",
       "0        Inglewood, CA   Male   \n",
       "1         Lewiston, MT   Male   \n",
       "2           Warsaw, NY   Male   \n",
       "3        St. Louis, MO   Male   \n",
       "4        Montclair, NJ   Male   \n",
       "..                 ...    ...   \n",
       "352   Indianapolis, IN   Male   \n",
       "353        Chicago, IL   Male   \n",
       "354        Jackson, MI   Male   \n",
       "355  San Francisco, CA   Male   \n",
       "356    Jersey City, NJ   Male   \n",
       "\n",
       "                                            Alma Mater  \\\n",
       "0    University of California-Santa Barbara; Univer...   \n",
       "1     Montana State University; University of Colorado   \n",
       "2            US Military Academy; Princeton University   \n",
       "3                         University of Missouri-Rolla   \n",
       "4                             US Military Academy; MIT   \n",
       "..                                                 ...   \n",
       "352              Purdue University; Indiana University   \n",
       "353  MIT; University of Texas-Austin; George Washin...   \n",
       "354        US Military Academy; University of Michigan   \n",
       "355                    Georgia Institute of Technology   \n",
       "356  US Naval Academy; Florida Institute of Technology   \n",
       "\n",
       "          Undergraduate Major                            Graduate Major  \\\n",
       "0                     Geology                                   Geology   \n",
       "1         Engineering Physics                             Solar Physics   \n",
       "2                 Engineering                     Aerospace Engineering   \n",
       "3         Applied Mathematics                       Applied Mathematics   \n",
       "4      Mechanical Engineering                              Astronautics   \n",
       "..                        ...                                       ...   \n",
       "352    Electrical Engineering                                  Medicine   \n",
       "353                   Physics              Physics; Business Management   \n",
       "354          Military Science  Aeronautical & Astronautical Engineering   \n",
       "355  Aeronautical Engineering                                       NaN   \n",
       "356               Mathematics                    Engineering Management   \n",
       "\n",
       "    Military Rank            Military Branch  Space Flights  \\\n",
       "0             NaN                        NaN              2   \n",
       "1             NaN                        NaN              1   \n",
       "2         Colonel          US Army (Retired)              2   \n",
       "3         Colonel     US Air Force (Retired)              4   \n",
       "4         Colonel     US Air Force (Retired)              2   \n",
       "..            ...                        ...            ...   \n",
       "352           NaN                        NaN              3   \n",
       "353     Commander                    US Navy              0   \n",
       "354       Colonel     US Air Force (Retired)              1   \n",
       "355       Captain          US Navy (Retired)              6   \n",
       "356       Colonel  US Marine Corps (Retired)              2   \n",
       "\n",
       "     Space Flight (hr)  Space Walks  Space Walks (hr)  \\\n",
       "0                 3307            2              13.0   \n",
       "1                  190            0               0.0   \n",
       "2                  334            0               0.0   \n",
       "3                  814            4              29.0   \n",
       "4                  289            2               8.0   \n",
       "..                 ...          ...               ...   \n",
       "352               4044            7              41.0   \n",
       "353                  0            0               0.0   \n",
       "354                295            1               0.5   \n",
       "355                835            3              20.0   \n",
       "356                692            0               0.0   \n",
       "\n",
       "                                              Missions Death Date  \\\n",
       "0               STS-119 (Discovery), ISS-31/32 (Soyuz)        NaN   \n",
       "1                                STS 51-F (Challenger)        NaN   \n",
       "2                 STS-28 (Columbia), STS-43 (Atlantis)        NaN   \n",
       "3    STS-41 (Discovery), STS-49 (Endeavor), STS-61 ...        NaN   \n",
       "4                                 Gemini 12, Apollo 11        NaN   \n",
       "..                                                 ...        ...   \n",
       "352  STS-58 (Columbia). STS-86/89 (Atlantis/Endeavo...        NaN   \n",
       "353                                                NaN        NaN   \n",
       "354                                          Apollo 15        NaN   \n",
       "355  Gemini 3, Gemini 10, Apollo 10, Apollo 16, STS...        NaN   \n",
       "356            STS-120 (Discovery), STS-130 (Endeavor)        NaN   \n",
       "\n",
       "    Death Mission  \n",
       "0             NaN  \n",
       "1             NaN  \n",
       "2             NaN  \n",
       "3             NaN  \n",
       "4             NaN  \n",
       "..            ...  \n",
       "352           NaN  \n",
       "353           NaN  \n",
       "354           NaN  \n",
       "355           NaN  \n",
       "356           NaN  \n",
       "\n",
       "[357 rows x 19 columns]"
      ]
     },
     "execution_count": 180,
     "metadata": {},
     "output_type": "execute_result"
    }
   ],
   "source": [
    "data\n"
   ]
  },
  {
   "cell_type": "markdown",
   "id": "c45fdceb",
   "metadata": {},
   "source": [
    "# Live Recording 28 Jan"
   ]
  },
  {
   "cell_type": "code",
   "execution_count": 183,
   "id": "4e74c03e",
   "metadata": {},
   "outputs": [],
   "source": [
    "# Data Loading"
   ]
  },
  {
   "cell_type": "code",
   "execution_count": 184,
   "id": "8b994489",
   "metadata": {},
   "outputs": [],
   "source": [
    "data = pd.read_csv('astronauts.csv')\n",
    "\n",
    "# wite 'pd.read' press 'Tab' u'll see all the formats from which we can read the data\n",
    "# pd.read\n"
   ]
  },
  {
   "cell_type": "code",
   "execution_count": 185,
   "id": "5d04a182",
   "metadata": {},
   "outputs": [
    {
     "data": {
      "text/plain": [
       "(357, 19)"
      ]
     },
     "execution_count": 185,
     "metadata": {},
     "output_type": "execute_result"
    }
   ],
   "source": [
    "data.shape"
   ]
  },
  {
   "cell_type": "code",
   "execution_count": null,
   "id": "0e92d371",
   "metadata": {},
   "outputs": [],
   "source": [
    "# => 2d data and choota sa data\n"
   ]
  },
  {
   "cell_type": "code",
   "execution_count": 186,
   "id": "8fb000f7",
   "metadata": {},
   "outputs": [
    {
     "data": {
      "text/plain": [
       "2"
      ]
     },
     "execution_count": 186,
     "metadata": {},
     "output_type": "execute_result"
    }
   ],
   "source": [
    "data.ndim\n"
   ]
  },
  {
   "cell_type": "code",
   "execution_count": 188,
   "id": "7364dabf",
   "metadata": {},
   "outputs": [
    {
     "data": {
      "text/html": [
       "<div>\n",
       "<style scoped>\n",
       "    .dataframe tbody tr th:only-of-type {\n",
       "        vertical-align: middle;\n",
       "    }\n",
       "\n",
       "    .dataframe tbody tr th {\n",
       "        vertical-align: top;\n",
       "    }\n",
       "\n",
       "    .dataframe thead th {\n",
       "        text-align: right;\n",
       "    }\n",
       "</style>\n",
       "<table border=\"1\" class=\"dataframe\">\n",
       "  <thead>\n",
       "    <tr style=\"text-align: right;\">\n",
       "      <th></th>\n",
       "      <th>Name</th>\n",
       "      <th>Year</th>\n",
       "      <th>Group</th>\n",
       "      <th>Status</th>\n",
       "      <th>Birth Date</th>\n",
       "      <th>Birth Place</th>\n",
       "      <th>Gender</th>\n",
       "      <th>Alma Mater</th>\n",
       "      <th>Undergraduate Major</th>\n",
       "      <th>Graduate Major</th>\n",
       "      <th>Military Rank</th>\n",
       "      <th>Military Branch</th>\n",
       "      <th>Space Flights</th>\n",
       "      <th>Space Flight (hr)</th>\n",
       "      <th>Space Walks</th>\n",
       "      <th>Space Walks (hr)</th>\n",
       "      <th>Missions</th>\n",
       "      <th>Death Date</th>\n",
       "      <th>Death Mission</th>\n",
       "    </tr>\n",
       "  </thead>\n",
       "  <tbody>\n",
       "    <tr>\n",
       "      <th>0</th>\n",
       "      <td>Joseph M. Acaba</td>\n",
       "      <td>2004.0</td>\n",
       "      <td>19.0</td>\n",
       "      <td>Active</td>\n",
       "      <td>5/17/1967</td>\n",
       "      <td>Inglewood, CA</td>\n",
       "      <td>Male</td>\n",
       "      <td>University of California-Santa Barbara; Univer...</td>\n",
       "      <td>Geology</td>\n",
       "      <td>Geology</td>\n",
       "      <td>NaN</td>\n",
       "      <td>NaN</td>\n",
       "      <td>2</td>\n",
       "      <td>3307</td>\n",
       "      <td>2</td>\n",
       "      <td>13.0</td>\n",
       "      <td>STS-119 (Discovery), ISS-31/32 (Soyuz)</td>\n",
       "      <td>NaN</td>\n",
       "      <td>NaN</td>\n",
       "    </tr>\n",
       "  </tbody>\n",
       "</table>\n",
       "</div>"
      ],
      "text/plain": [
       "              Name    Year  Group  Status Birth Date    Birth Place Gender  \\\n",
       "0  Joseph M. Acaba  2004.0   19.0  Active  5/17/1967  Inglewood, CA   Male   \n",
       "\n",
       "                                          Alma Mater Undergraduate Major  \\\n",
       "0  University of California-Santa Barbara; Univer...             Geology   \n",
       "\n",
       "  Graduate Major Military Rank Military Branch  Space Flights  \\\n",
       "0        Geology           NaN             NaN              2   \n",
       "\n",
       "   Space Flight (hr)  Space Walks  Space Walks (hr)  \\\n",
       "0               3307            2              13.0   \n",
       "\n",
       "                                 Missions Death Date Death Mission  \n",
       "0  STS-119 (Discovery), ISS-31/32 (Soyuz)        NaN           NaN  "
      ]
     },
     "execution_count": 188,
     "metadata": {},
     "output_type": "execute_result"
    }
   ],
   "source": [
    "data.head(1)\n"
   ]
  },
  {
   "cell_type": "code",
   "execution_count": 192,
   "id": "f7faa386",
   "metadata": {},
   "outputs": [
    {
     "data": {
      "text/html": [
       "<div>\n",
       "<style scoped>\n",
       "    .dataframe tbody tr th:only-of-type {\n",
       "        vertical-align: middle;\n",
       "    }\n",
       "\n",
       "    .dataframe tbody tr th {\n",
       "        vertical-align: top;\n",
       "    }\n",
       "\n",
       "    .dataframe thead th {\n",
       "        text-align: right;\n",
       "    }\n",
       "</style>\n",
       "<table border=\"1\" class=\"dataframe\">\n",
       "  <thead>\n",
       "    <tr style=\"text-align: right;\">\n",
       "      <th></th>\n",
       "      <th>Name</th>\n",
       "      <th>Year</th>\n",
       "      <th>Group</th>\n",
       "      <th>Status</th>\n",
       "      <th>Birth Date</th>\n",
       "      <th>Birth Place</th>\n",
       "      <th>Gender</th>\n",
       "      <th>Alma Mater</th>\n",
       "      <th>Undergraduate Major</th>\n",
       "      <th>Graduate Major</th>\n",
       "      <th>Military Rank</th>\n",
       "      <th>Military Branch</th>\n",
       "      <th>Space Flights</th>\n",
       "      <th>Space Flight (hr)</th>\n",
       "      <th>Space Walks</th>\n",
       "      <th>Space Walks (hr)</th>\n",
       "      <th>Missions</th>\n",
       "      <th>Death Date</th>\n",
       "      <th>Death Mission</th>\n",
       "    </tr>\n",
       "  </thead>\n",
       "  <tbody>\n",
       "    <tr>\n",
       "      <th>354</th>\n",
       "      <td>Alfred M. Worden</td>\n",
       "      <td>1966.0</td>\n",
       "      <td>5.0</td>\n",
       "      <td>Retired</td>\n",
       "      <td>2/7/1932</td>\n",
       "      <td>Jackson, MI</td>\n",
       "      <td>Male</td>\n",
       "      <td>US Military Academy; University of Michigan</td>\n",
       "      <td>Military Science</td>\n",
       "      <td>Aeronautical &amp; Astronautical Engineering</td>\n",
       "      <td>Colonel</td>\n",
       "      <td>US Air Force (Retired)</td>\n",
       "      <td>1</td>\n",
       "      <td>295</td>\n",
       "      <td>1</td>\n",
       "      <td>0.5</td>\n",
       "      <td>Apollo 15</td>\n",
       "      <td>NaN</td>\n",
       "      <td>NaN</td>\n",
       "    </tr>\n",
       "    <tr>\n",
       "      <th>355</th>\n",
       "      <td>John W. Young</td>\n",
       "      <td>1962.0</td>\n",
       "      <td>2.0</td>\n",
       "      <td>Retired</td>\n",
       "      <td>9/24/1930</td>\n",
       "      <td>San Francisco, CA</td>\n",
       "      <td>Male</td>\n",
       "      <td>Georgia Institute of Technology</td>\n",
       "      <td>Aeronautical Engineering</td>\n",
       "      <td>NaN</td>\n",
       "      <td>Captain</td>\n",
       "      <td>US Navy (Retired)</td>\n",
       "      <td>6</td>\n",
       "      <td>835</td>\n",
       "      <td>3</td>\n",
       "      <td>20.0</td>\n",
       "      <td>Gemini 3, Gemini 10, Apollo 10, Apollo 16, STS...</td>\n",
       "      <td>NaN</td>\n",
       "      <td>NaN</td>\n",
       "    </tr>\n",
       "    <tr>\n",
       "      <th>356</th>\n",
       "      <td>George D. Zamka</td>\n",
       "      <td>1998.0</td>\n",
       "      <td>17.0</td>\n",
       "      <td>Retired</td>\n",
       "      <td>6/29/1962</td>\n",
       "      <td>Jersey City, NJ</td>\n",
       "      <td>Male</td>\n",
       "      <td>US Naval Academy; Florida Institute of Technology</td>\n",
       "      <td>Mathematics</td>\n",
       "      <td>Engineering Management</td>\n",
       "      <td>Colonel</td>\n",
       "      <td>US Marine Corps (Retired)</td>\n",
       "      <td>2</td>\n",
       "      <td>692</td>\n",
       "      <td>0</td>\n",
       "      <td>0.0</td>\n",
       "      <td>STS-120 (Discovery), STS-130 (Endeavor)</td>\n",
       "      <td>NaN</td>\n",
       "      <td>NaN</td>\n",
       "    </tr>\n",
       "  </tbody>\n",
       "</table>\n",
       "</div>"
      ],
      "text/plain": [
       "                 Name    Year  Group   Status Birth Date        Birth Place  \\\n",
       "354  Alfred M. Worden  1966.0    5.0  Retired   2/7/1932        Jackson, MI   \n",
       "355     John W. Young  1962.0    2.0  Retired  9/24/1930  San Francisco, CA   \n",
       "356   George D. Zamka  1998.0   17.0  Retired  6/29/1962    Jersey City, NJ   \n",
       "\n",
       "    Gender                                         Alma Mater  \\\n",
       "354   Male        US Military Academy; University of Michigan   \n",
       "355   Male                    Georgia Institute of Technology   \n",
       "356   Male  US Naval Academy; Florida Institute of Technology   \n",
       "\n",
       "          Undergraduate Major                            Graduate Major  \\\n",
       "354          Military Science  Aeronautical & Astronautical Engineering   \n",
       "355  Aeronautical Engineering                                       NaN   \n",
       "356               Mathematics                    Engineering Management   \n",
       "\n",
       "    Military Rank            Military Branch  Space Flights  \\\n",
       "354       Colonel     US Air Force (Retired)              1   \n",
       "355       Captain          US Navy (Retired)              6   \n",
       "356       Colonel  US Marine Corps (Retired)              2   \n",
       "\n",
       "     Space Flight (hr)  Space Walks  Space Walks (hr)  \\\n",
       "354                295            1               0.5   \n",
       "355                835            3              20.0   \n",
       "356                692            0               0.0   \n",
       "\n",
       "                                              Missions Death Date  \\\n",
       "354                                          Apollo 15        NaN   \n",
       "355  Gemini 3, Gemini 10, Apollo 10, Apollo 16, STS...        NaN   \n",
       "356            STS-120 (Discovery), STS-130 (Endeavor)        NaN   \n",
       "\n",
       "    Death Mission  \n",
       "354           NaN  \n",
       "355           NaN  \n",
       "356           NaN  "
      ]
     },
     "execution_count": 192,
     "metadata": {},
     "output_type": "execute_result"
    }
   ],
   "source": [
    "data.tail(3) # last three records\n"
   ]
  },
  {
   "cell_type": "code",
   "execution_count": 193,
   "id": "1be6f8b8",
   "metadata": {},
   "outputs": [
    {
     "data": {
      "text/html": [
       "<div>\n",
       "<style scoped>\n",
       "    .dataframe tbody tr th:only-of-type {\n",
       "        vertical-align: middle;\n",
       "    }\n",
       "\n",
       "    .dataframe tbody tr th {\n",
       "        vertical-align: top;\n",
       "    }\n",
       "\n",
       "    .dataframe thead th {\n",
       "        text-align: right;\n",
       "    }\n",
       "</style>\n",
       "<table border=\"1\" class=\"dataframe\">\n",
       "  <thead>\n",
       "    <tr style=\"text-align: right;\">\n",
       "      <th></th>\n",
       "      <th>Name</th>\n",
       "      <th>Year</th>\n",
       "      <th>Group</th>\n",
       "      <th>Status</th>\n",
       "      <th>Birth Date</th>\n",
       "      <th>Birth Place</th>\n",
       "      <th>Gender</th>\n",
       "      <th>Alma Mater</th>\n",
       "      <th>Undergraduate Major</th>\n",
       "      <th>Graduate Major</th>\n",
       "      <th>Military Rank</th>\n",
       "      <th>Military Branch</th>\n",
       "      <th>Space Flights</th>\n",
       "      <th>Space Flight (hr)</th>\n",
       "      <th>Space Walks</th>\n",
       "      <th>Space Walks (hr)</th>\n",
       "      <th>Missions</th>\n",
       "      <th>Death Date</th>\n",
       "      <th>Death Mission</th>\n",
       "    </tr>\n",
       "  </thead>\n",
       "  <tbody>\n",
       "    <tr>\n",
       "      <th>265</th>\n",
       "      <td>Mark L. Polansky</td>\n",
       "      <td>1996.0</td>\n",
       "      <td>16.0</td>\n",
       "      <td>Retired</td>\n",
       "      <td>6/2/1956</td>\n",
       "      <td>Paterson, NJ</td>\n",
       "      <td>Male</td>\n",
       "      <td>Purdue University</td>\n",
       "      <td>Aeronautical &amp; Astronautical Engineering</td>\n",
       "      <td>Aeronautical &amp; Astronautical Engineering</td>\n",
       "      <td>NaN</td>\n",
       "      <td>NaN</td>\n",
       "      <td>3</td>\n",
       "      <td>995</td>\n",
       "      <td>0</td>\n",
       "      <td>0.0</td>\n",
       "      <td>STS-98 (Atlantis), ST-116 (Discovery), STS-127...</td>\n",
       "      <td>NaN</td>\n",
       "      <td>NaN</td>\n",
       "    </tr>\n",
       "    <tr>\n",
       "      <th>41</th>\n",
       "      <td>Curtis L. Brown Jr.</td>\n",
       "      <td>1987.0</td>\n",
       "      <td>12.0</td>\n",
       "      <td>Retired</td>\n",
       "      <td>3/11/1956</td>\n",
       "      <td>Elizabethtown, NC</td>\n",
       "      <td>Male</td>\n",
       "      <td>US Air Force Academy</td>\n",
       "      <td>Electrical Engineering</td>\n",
       "      <td>NaN</td>\n",
       "      <td>Colonel</td>\n",
       "      <td>US Air Force (Retired)</td>\n",
       "      <td>6</td>\n",
       "      <td>1383</td>\n",
       "      <td>0</td>\n",
       "      <td>0.0</td>\n",
       "      <td>STS-47 (Endeavor), STS-66 (Atlantis), STS-77 (...</td>\n",
       "      <td>NaN</td>\n",
       "      <td>NaN</td>\n",
       "    </tr>\n",
       "    <tr>\n",
       "      <th>9</th>\n",
       "      <td>Clayton C. Anderson</td>\n",
       "      <td>1998.0</td>\n",
       "      <td>17.0</td>\n",
       "      <td>Retired</td>\n",
       "      <td>2/23/1959</td>\n",
       "      <td>Omaha, NE</td>\n",
       "      <td>Male</td>\n",
       "      <td>Hastings College; Iowa State University</td>\n",
       "      <td>Physics</td>\n",
       "      <td>Aerospace Engineering</td>\n",
       "      <td>NaN</td>\n",
       "      <td>NaN</td>\n",
       "      <td>2</td>\n",
       "      <td>4005</td>\n",
       "      <td>6</td>\n",
       "      <td>38.0</td>\n",
       "      <td>STS-117/120 (Atlantis/Discovery), STS-131 (Dis...</td>\n",
       "      <td>NaN</td>\n",
       "      <td>NaN</td>\n",
       "    </tr>\n",
       "    <tr>\n",
       "      <th>36</th>\n",
       "      <td>Charles E. Brady Jr.</td>\n",
       "      <td>1992.0</td>\n",
       "      <td>14.0</td>\n",
       "      <td>Deceased</td>\n",
       "      <td>8/12/1951</td>\n",
       "      <td>Pinehurst, NC</td>\n",
       "      <td>Male</td>\n",
       "      <td>University of North Carolina at Chapel Hill; D...</td>\n",
       "      <td>NaN</td>\n",
       "      <td>Medicine</td>\n",
       "      <td>Captain</td>\n",
       "      <td>US Navy</td>\n",
       "      <td>1</td>\n",
       "      <td>405</td>\n",
       "      <td>0</td>\n",
       "      <td>0.0</td>\n",
       "      <td>STS-78 (Columbia)</td>\n",
       "      <td>7/23/2006</td>\n",
       "      <td>NaN</td>\n",
       "    </tr>\n",
       "    <tr>\n",
       "      <th>65</th>\n",
       "      <td>Franklin R. Chang-Diaz</td>\n",
       "      <td>1980.0</td>\n",
       "      <td>9.0</td>\n",
       "      <td>Retired</td>\n",
       "      <td>4/5/1950</td>\n",
       "      <td>San Jose, Costa Rica</td>\n",
       "      <td>Male</td>\n",
       "      <td>University of Connecticut; MIT</td>\n",
       "      <td>Mechanical Engineering</td>\n",
       "      <td>Applied Plasma Physics</td>\n",
       "      <td>NaN</td>\n",
       "      <td>NaN</td>\n",
       "      <td>7</td>\n",
       "      <td>1602</td>\n",
       "      <td>3</td>\n",
       "      <td>19.0</td>\n",
       "      <td>STS 61-C (Columbia), STS-34 (Atlantis), STS-46...</td>\n",
       "      <td>NaN</td>\n",
       "      <td>NaN</td>\n",
       "    </tr>\n",
       "    <tr>\n",
       "      <th>350</th>\n",
       "      <td>G. Reid Wiseman</td>\n",
       "      <td>2009.0</td>\n",
       "      <td>20.0</td>\n",
       "      <td>Active</td>\n",
       "      <td>11/11/1975</td>\n",
       "      <td>Baltimore, MD</td>\n",
       "      <td>Male</td>\n",
       "      <td>Rensselaer Polytechnic Institute; Johns Hopkin...</td>\n",
       "      <td>Computer &amp; Systems Engineering</td>\n",
       "      <td>Systems Engineering</td>\n",
       "      <td>Commander</td>\n",
       "      <td>US Navy</td>\n",
       "      <td>1</td>\n",
       "      <td>3968</td>\n",
       "      <td>2</td>\n",
       "      <td>13.0</td>\n",
       "      <td>ISS-40/41 (Soyuz)</td>\n",
       "      <td>NaN</td>\n",
       "      <td>NaN</td>\n",
       "    </tr>\n",
       "    <tr>\n",
       "      <th>124</th>\n",
       "      <td>Owen K. Garriott</td>\n",
       "      <td>1965.0</td>\n",
       "      <td>4.0</td>\n",
       "      <td>Retired</td>\n",
       "      <td>11/22/1930</td>\n",
       "      <td>Enid, OK</td>\n",
       "      <td>Male</td>\n",
       "      <td>University of Oklahoma; Stanford University</td>\n",
       "      <td>Electrical Engineering</td>\n",
       "      <td>Electrical Engineering</td>\n",
       "      <td>NaN</td>\n",
       "      <td>NaN</td>\n",
       "      <td>2</td>\n",
       "      <td>1674</td>\n",
       "      <td>3</td>\n",
       "      <td>14.0</td>\n",
       "      <td>Skylab 3, STS-9 (Columbia)</td>\n",
       "      <td>NaN</td>\n",
       "      <td>NaN</td>\n",
       "    </tr>\n",
       "    <tr>\n",
       "      <th>56</th>\n",
       "      <td>M. Scott Carpenter</td>\n",
       "      <td>1959.0</td>\n",
       "      <td>1.0</td>\n",
       "      <td>Retired</td>\n",
       "      <td>5/1/1925</td>\n",
       "      <td>Boulder, CO</td>\n",
       "      <td>Male</td>\n",
       "      <td>University of Colorado</td>\n",
       "      <td>Aeronautical Engineering</td>\n",
       "      <td>NaN</td>\n",
       "      <td>Commander</td>\n",
       "      <td>US Navy (Retired)</td>\n",
       "      <td>1</td>\n",
       "      <td>4</td>\n",
       "      <td>0</td>\n",
       "      <td>0.0</td>\n",
       "      <td>Mercury 7</td>\n",
       "      <td>NaN</td>\n",
       "      <td>NaN</td>\n",
       "    </tr>\n",
       "    <tr>\n",
       "      <th>286</th>\n",
       "      <td>Russell L. Schweickart</td>\n",
       "      <td>1963.0</td>\n",
       "      <td>3.0</td>\n",
       "      <td>Retired</td>\n",
       "      <td>10/25/1935</td>\n",
       "      <td>Neptune, NJ</td>\n",
       "      <td>Male</td>\n",
       "      <td>MIT</td>\n",
       "      <td>Aeronautics &amp; Astronautics</td>\n",
       "      <td>Aeronautics &amp; Astronautics</td>\n",
       "      <td>NaN</td>\n",
       "      <td>NaN</td>\n",
       "      <td>1</td>\n",
       "      <td>241</td>\n",
       "      <td>1</td>\n",
       "      <td>1.0</td>\n",
       "      <td>Apollo 9</td>\n",
       "      <td>NaN</td>\n",
       "      <td>NaN</td>\n",
       "    </tr>\n",
       "    <tr>\n",
       "      <th>274</th>\n",
       "      <td>Sally K. Ride</td>\n",
       "      <td>1978.0</td>\n",
       "      <td>8.0</td>\n",
       "      <td>Deceased</td>\n",
       "      <td>5/26/1951</td>\n",
       "      <td>Los Angeles, CA</td>\n",
       "      <td>Female</td>\n",
       "      <td>Stanford University</td>\n",
       "      <td>Physics; English</td>\n",
       "      <td>Physics</td>\n",
       "      <td>NaN</td>\n",
       "      <td>NaN</td>\n",
       "      <td>2</td>\n",
       "      <td>343</td>\n",
       "      <td>0</td>\n",
       "      <td>0.0</td>\n",
       "      <td>STS-7 (Challenger), STS 41-G (Challenger)</td>\n",
       "      <td>7/23/2012</td>\n",
       "      <td>NaN</td>\n",
       "    </tr>\n",
       "  </tbody>\n",
       "</table>\n",
       "</div>"
      ],
      "text/plain": [
       "                       Name    Year  Group    Status  Birth Date  \\\n",
       "265        Mark L. Polansky  1996.0   16.0   Retired    6/2/1956   \n",
       "41     Curtis L. Brown Jr.   1987.0   12.0   Retired   3/11/1956   \n",
       "9       Clayton C. Anderson  1998.0   17.0   Retired   2/23/1959   \n",
       "36    Charles E. Brady Jr.   1992.0   14.0  Deceased   8/12/1951   \n",
       "65   Franklin R. Chang-Diaz  1980.0    9.0   Retired    4/5/1950   \n",
       "350         G. Reid Wiseman  2009.0   20.0    Active  11/11/1975   \n",
       "124        Owen K. Garriott  1965.0    4.0   Retired  11/22/1930   \n",
       "56       M. Scott Carpenter  1959.0    1.0   Retired    5/1/1925   \n",
       "286  Russell L. Schweickart  1963.0    3.0   Retired  10/25/1935   \n",
       "274           Sally K. Ride  1978.0    8.0  Deceased   5/26/1951   \n",
       "\n",
       "              Birth Place  Gender  \\\n",
       "265          Paterson, NJ    Male   \n",
       "41      Elizabethtown, NC    Male   \n",
       "9               Omaha, NE    Male   \n",
       "36          Pinehurst, NC    Male   \n",
       "65   San Jose, Costa Rica    Male   \n",
       "350         Baltimore, MD    Male   \n",
       "124              Enid, OK    Male   \n",
       "56            Boulder, CO    Male   \n",
       "286           Neptune, NJ    Male   \n",
       "274       Los Angeles, CA  Female   \n",
       "\n",
       "                                            Alma Mater  \\\n",
       "265                                  Purdue University   \n",
       "41                                US Air Force Academy   \n",
       "9              Hastings College; Iowa State University   \n",
       "36   University of North Carolina at Chapel Hill; D...   \n",
       "65                      University of Connecticut; MIT   \n",
       "350  Rensselaer Polytechnic Institute; Johns Hopkin...   \n",
       "124        University of Oklahoma; Stanford University   \n",
       "56                              University of Colorado   \n",
       "286                                                MIT   \n",
       "274                                Stanford University   \n",
       "\n",
       "                          Undergraduate Major  \\\n",
       "265  Aeronautical & Astronautical Engineering   \n",
       "41                     Electrical Engineering   \n",
       "9                                     Physics   \n",
       "36                                        NaN   \n",
       "65                     Mechanical Engineering   \n",
       "350            Computer & Systems Engineering   \n",
       "124                    Electrical Engineering   \n",
       "56                   Aeronautical Engineering   \n",
       "286                Aeronautics & Astronautics   \n",
       "274                          Physics; English   \n",
       "\n",
       "                               Graduate Major Military Rank  \\\n",
       "265  Aeronautical & Astronautical Engineering           NaN   \n",
       "41                                        NaN       Colonel   \n",
       "9                       Aerospace Engineering           NaN   \n",
       "36                                   Medicine       Captain   \n",
       "65                     Applied Plasma Physics           NaN   \n",
       "350                       Systems Engineering     Commander   \n",
       "124                    Electrical Engineering           NaN   \n",
       "56                                        NaN     Commander   \n",
       "286                Aeronautics & Astronautics           NaN   \n",
       "274                                   Physics           NaN   \n",
       "\n",
       "            Military Branch  Space Flights  Space Flight (hr)  Space Walks  \\\n",
       "265                     NaN              3                995            0   \n",
       "41   US Air Force (Retired)              6               1383            0   \n",
       "9                       NaN              2               4005            6   \n",
       "36                  US Navy              1                405            0   \n",
       "65                      NaN              7               1602            3   \n",
       "350                 US Navy              1               3968            2   \n",
       "124                     NaN              2               1674            3   \n",
       "56        US Navy (Retired)              1                  4            0   \n",
       "286                     NaN              1                241            1   \n",
       "274                     NaN              2                343            0   \n",
       "\n",
       "     Space Walks (hr)                                           Missions  \\\n",
       "265               0.0  STS-98 (Atlantis), ST-116 (Discovery), STS-127...   \n",
       "41                0.0  STS-47 (Endeavor), STS-66 (Atlantis), STS-77 (...   \n",
       "9                38.0  STS-117/120 (Atlantis/Discovery), STS-131 (Dis...   \n",
       "36                0.0                                  STS-78 (Columbia)   \n",
       "65               19.0  STS 61-C (Columbia), STS-34 (Atlantis), STS-46...   \n",
       "350              13.0                                  ISS-40/41 (Soyuz)   \n",
       "124              14.0                         Skylab 3, STS-9 (Columbia)   \n",
       "56                0.0                                          Mercury 7   \n",
       "286               1.0                                           Apollo 9   \n",
       "274               0.0          STS-7 (Challenger), STS 41-G (Challenger)   \n",
       "\n",
       "    Death Date Death Mission  \n",
       "265        NaN           NaN  \n",
       "41         NaN           NaN  \n",
       "9          NaN           NaN  \n",
       "36   7/23/2006           NaN  \n",
       "65         NaN           NaN  \n",
       "350        NaN           NaN  \n",
       "124        NaN           NaN  \n",
       "56         NaN           NaN  \n",
       "286        NaN           NaN  \n",
       "274  7/23/2012           NaN  "
      ]
     },
     "execution_count": 193,
     "metadata": {},
     "output_type": "execute_result"
    }
   ],
   "source": [
    "data.sample(10) # 10 random records\n"
   ]
  },
  {
   "cell_type": "code",
   "execution_count": 195,
   "id": "f47a5022",
   "metadata": {},
   "outputs": [
    {
     "data": {
      "text/plain": [
       "Index(['Name', 'Year', 'Group', 'Status', 'Birth Date', 'Birth Place',\n",
       "       'Gender', 'Alma Mater', 'Undergraduate Major', 'Graduate Major',\n",
       "       'Military Rank', 'Military Branch', 'Space Flights',\n",
       "       'Space Flight (hr)', 'Space Walks', 'Space Walks (hr)', 'Missions',\n",
       "       'Death Date', 'Death Mission'],\n",
       "      dtype='object')"
      ]
     },
     "execution_count": 195,
     "metadata": {},
     "output_type": "execute_result"
    }
   ],
   "source": [
    "data.columns\n"
   ]
  },
  {
   "cell_type": "code",
   "execution_count": 196,
   "id": "e8dc60d9",
   "metadata": {},
   "outputs": [],
   "source": [
    "# changing column names\n",
    "\n",
    "data.columns = [11,22,33,44,55,66,77,88,99,100,111,222,333,444,555,666,777,888,999]\n"
   ]
  },
  {
   "cell_type": "code",
   "execution_count": 197,
   "id": "6f34e110",
   "metadata": {},
   "outputs": [
    {
     "data": {
      "text/plain": [
       "Int64Index([ 11,  22,  33,  44,  55,  66,  77,  88,  99, 100, 111, 222, 333,\n",
       "            444, 555, 666, 777, 888, 999],\n",
       "           dtype='int64')"
      ]
     },
     "execution_count": 197,
     "metadata": {},
     "output_type": "execute_result"
    }
   ],
   "source": [
    "data.columns\n"
   ]
  },
  {
   "cell_type": "code",
   "execution_count": 200,
   "id": "3d5cde31",
   "metadata": {},
   "outputs": [],
   "source": [
    "# changing the name of specific column, e.g: 'Military Rank'\n",
    "\n",
    "data.columns = ['Name', 'Year', 'Group', 'Status', 'Birth Date', 'Birth Place',\n",
    "       'Gender', 'Alma Mater', 'Undergraduate Major', 'Graduate Major',\n",
    "       5, 'Military Branch', 'Space Flights',\n",
    "       'Space Flight (hr)', 'Space Walks', 'Space Walks (hr)', 'Missions',\n",
    "       'Death Date', 'Death Mission']\n"
   ]
  },
  {
   "cell_type": "code",
   "execution_count": 201,
   "id": "d5206025",
   "metadata": {},
   "outputs": [
    {
     "data": {
      "text/plain": [
       "Index([               'Name',                'Year',               'Group',\n",
       "                    'Status',          'Birth Date',         'Birth Place',\n",
       "                    'Gender',          'Alma Mater', 'Undergraduate Major',\n",
       "            'Graduate Major',                     5,     'Military Branch',\n",
       "             'Space Flights',   'Space Flight (hr)',         'Space Walks',\n",
       "          'Space Walks (hr)',            'Missions',          'Death Date',\n",
       "             'Death Mission'],\n",
       "      dtype='object')"
      ]
     },
     "execution_count": 201,
     "metadata": {},
     "output_type": "execute_result"
    }
   ],
   "source": [
    "data.columns\n"
   ]
  },
  {
   "cell_type": "code",
   "execution_count": null,
   "id": "a2a6672c",
   "metadata": {},
   "outputs": [],
   "source": []
  },
  {
   "cell_type": "code",
   "execution_count": null,
   "id": "93e26806",
   "metadata": {},
   "outputs": [],
   "source": [
    "# another way\n",
    "data.rename( columns = [] )\n"
   ]
  },
  {
   "cell_type": "code",
   "execution_count": 203,
   "id": "8a9be6ab",
   "metadata": {},
   "outputs": [],
   "source": [
    "# Resetting\n",
    "\n",
    "data.columns = ['Name', 'Year', 'Group', 'Status', 'Birth Date', 'Birth Place',\n",
    "       'Gender', 'Alma Mater', 'Undergraduate Major', 'Graduate Major',\n",
    "       'Military Rank', 'Military Branch', 'Space Flights',\n",
    "       'Space Flight (hr)', 'Space Walks', 'Space Walks (hr)', 'Missions',\n",
    "       'Death Date', 'Death Mission']\n"
   ]
  },
  {
   "cell_type": "code",
   "execution_count": 205,
   "id": "bd3c617a",
   "metadata": {},
   "outputs": [
    {
     "data": {
      "text/html": [
       "<div>\n",
       "<style scoped>\n",
       "    .dataframe tbody tr th:only-of-type {\n",
       "        vertical-align: middle;\n",
       "    }\n",
       "\n",
       "    .dataframe tbody tr th {\n",
       "        vertical-align: top;\n",
       "    }\n",
       "\n",
       "    .dataframe thead th {\n",
       "        text-align: right;\n",
       "    }\n",
       "</style>\n",
       "<table border=\"1\" class=\"dataframe\">\n",
       "  <thead>\n",
       "    <tr style=\"text-align: right;\">\n",
       "      <th></th>\n",
       "      <th>Name</th>\n",
       "      <th>Year</th>\n",
       "      <th>Group</th>\n",
       "      <th>Status</th>\n",
       "      <th>Birth Date</th>\n",
       "      <th>Birth Place</th>\n",
       "      <th>Gender</th>\n",
       "      <th>Alma Mater</th>\n",
       "      <th>Undergraduate Major</th>\n",
       "      <th>Graduate Major</th>\n",
       "      <th>Military Rank</th>\n",
       "      <th>Military Branch</th>\n",
       "      <th>Space Flights</th>\n",
       "      <th>Space Flight (hr)</th>\n",
       "      <th>Space Walks</th>\n",
       "      <th>Space Walks (hr)</th>\n",
       "      <th>Missions</th>\n",
       "      <th>Death Date</th>\n",
       "      <th>Death Mission</th>\n",
       "    </tr>\n",
       "  </thead>\n",
       "  <tbody>\n",
       "    <tr>\n",
       "      <th>0</th>\n",
       "      <td>Joseph M. Acaba</td>\n",
       "      <td>2004.0</td>\n",
       "      <td>19.0</td>\n",
       "      <td>Active</td>\n",
       "      <td>5/17/1967</td>\n",
       "      <td>Inglewood, CA</td>\n",
       "      <td>Male</td>\n",
       "      <td>University of California-Santa Barbara; Univer...</td>\n",
       "      <td>Geology</td>\n",
       "      <td>Geology</td>\n",
       "      <td>NaN</td>\n",
       "      <td>NaN</td>\n",
       "      <td>2</td>\n",
       "      <td>3307</td>\n",
       "      <td>2</td>\n",
       "      <td>13.0</td>\n",
       "      <td>STS-119 (Discovery), ISS-31/32 (Soyuz)</td>\n",
       "      <td>NaN</td>\n",
       "      <td>NaN</td>\n",
       "    </tr>\n",
       "  </tbody>\n",
       "</table>\n",
       "</div>"
      ],
      "text/plain": [
       "              Name    Year  Group  Status Birth Date    Birth Place Gender  \\\n",
       "0  Joseph M. Acaba  2004.0   19.0  Active  5/17/1967  Inglewood, CA   Male   \n",
       "\n",
       "                                          Alma Mater Undergraduate Major  \\\n",
       "0  University of California-Santa Barbara; Univer...             Geology   \n",
       "\n",
       "  Graduate Major Military Rank Military Branch  Space Flights  \\\n",
       "0        Geology           NaN             NaN              2   \n",
       "\n",
       "   Space Flight (hr)  Space Walks  Space Walks (hr)  \\\n",
       "0               3307            2              13.0   \n",
       "\n",
       "                                 Missions Death Date Death Mission  \n",
       "0  STS-119 (Discovery), ISS-31/32 (Soyuz)        NaN           NaN  "
      ]
     },
     "execution_count": 205,
     "metadata": {},
     "output_type": "execute_result"
    }
   ],
   "source": [
    "# removing spaces from the names of the columns\n",
    "\n",
    "data.rename( columns = {\n",
    "    'Birth Date' : 'birth_date',\n",
    "    'Birth Place': 'birth_place',\n",
    "    'Alma Mater':'alma_mater', 'Undergraduate Major': 'undergraduate_major', 'Graduate Major': 'graduate_major',\n",
    "       'Military Rank': 'military_rank', 'Military Branch': 'military_branch', 'Space Flights': 'space_flights',\n",
    "       'Space Flight (hr)': 'space_flight_(hr)', 'Space Walks': 'space_walks', 'Space Walks (hr)': 'space_walks_(hr)',\n",
    "       'Death Date': 'death_date', 'Death Mission': 'death_mission'\n",
    "    } )\n",
    "\n",
    "# Note: 'Missions': ye valay column ka naam hum chnage ni krna chhtay thay, so hum nay opar vli dictionary main isay likha hi nahi\n",
    "\n",
    "data.head(1)\n"
   ]
  },
  {
   "cell_type": "code",
   "execution_count": null,
   "id": "9ad040c6",
   "metadata": {},
   "outputs": [],
   "source": []
  },
  {
   "cell_type": "code",
   "execution_count": null,
   "id": "85429cc7",
   "metadata": {},
   "outputs": [],
   "source": []
  },
  {
   "cell_type": "code",
   "execution_count": null,
   "id": "ad970e8a",
   "metadata": {},
   "outputs": [],
   "source": []
  },
  {
   "cell_type": "code",
   "execution_count": null,
   "id": "7a402dc3",
   "metadata": {},
   "outputs": [],
   "source": []
  },
  {
   "cell_type": "code",
   "execution_count": null,
   "id": "da738bc6",
   "metadata": {},
   "outputs": [],
   "source": []
  },
  {
   "cell_type": "code",
   "execution_count": null,
   "id": "e24b18dc",
   "metadata": {},
   "outputs": [],
   "source": []
  },
  {
   "cell_type": "code",
   "execution_count": null,
   "id": "f5041c58",
   "metadata": {},
   "outputs": [],
   "source": []
  },
  {
   "cell_type": "code",
   "execution_count": null,
   "id": "df1414d6",
   "metadata": {},
   "outputs": [],
   "source": []
  },
  {
   "cell_type": "code",
   "execution_count": null,
   "id": "bfa8154d",
   "metadata": {},
   "outputs": [],
   "source": []
  },
  {
   "cell_type": "code",
   "execution_count": null,
   "id": "b3732d88",
   "metadata": {},
   "outputs": [],
   "source": []
  },
  {
   "cell_type": "code",
   "execution_count": null,
   "id": "3cf138f6",
   "metadata": {},
   "outputs": [],
   "source": []
  },
  {
   "cell_type": "code",
   "execution_count": null,
   "id": "cb4ce4cf",
   "metadata": {},
   "outputs": [],
   "source": []
  },
  {
   "cell_type": "code",
   "execution_count": null,
   "id": "67b07764",
   "metadata": {},
   "outputs": [],
   "source": []
  },
  {
   "cell_type": "code",
   "execution_count": null,
   "id": "a597057a",
   "metadata": {},
   "outputs": [],
   "source": []
  },
  {
   "cell_type": "code",
   "execution_count": null,
   "id": "a3484949",
   "metadata": {},
   "outputs": [],
   "source": []
  },
  {
   "cell_type": "code",
   "execution_count": null,
   "id": "3cb1b61f",
   "metadata": {},
   "outputs": [],
   "source": []
  },
  {
   "cell_type": "code",
   "execution_count": null,
   "id": "a8969916",
   "metadata": {},
   "outputs": [],
   "source": []
  },
  {
   "cell_type": "code",
   "execution_count": null,
   "id": "d0c98410",
   "metadata": {},
   "outputs": [],
   "source": []
  },
  {
   "cell_type": "code",
   "execution_count": null,
   "id": "32196d32",
   "metadata": {},
   "outputs": [],
   "source": []
  },
  {
   "cell_type": "code",
   "execution_count": null,
   "id": "95b19b9b",
   "metadata": {},
   "outputs": [],
   "source": []
  },
  {
   "cell_type": "code",
   "execution_count": null,
   "id": "ad3b5cd2",
   "metadata": {},
   "outputs": [],
   "source": []
  },
  {
   "cell_type": "code",
   "execution_count": null,
   "id": "4a15d646",
   "metadata": {},
   "outputs": [],
   "source": []
  },
  {
   "cell_type": "code",
   "execution_count": null,
   "id": "7e820903",
   "metadata": {},
   "outputs": [],
   "source": []
  },
  {
   "cell_type": "code",
   "execution_count": null,
   "id": "79777406",
   "metadata": {},
   "outputs": [],
   "source": []
  },
  {
   "cell_type": "code",
   "execution_count": null,
   "id": "4078604a",
   "metadata": {},
   "outputs": [],
   "source": []
  },
  {
   "cell_type": "code",
   "execution_count": null,
   "id": "156cbfc1",
   "metadata": {},
   "outputs": [],
   "source": []
  },
  {
   "cell_type": "code",
   "execution_count": null,
   "id": "e5fc5890",
   "metadata": {},
   "outputs": [],
   "source": []
  },
  {
   "cell_type": "code",
   "execution_count": null,
   "id": "f4480027",
   "metadata": {},
   "outputs": [],
   "source": []
  },
  {
   "cell_type": "code",
   "execution_count": null,
   "id": "3fd31b98",
   "metadata": {},
   "outputs": [],
   "source": []
  },
  {
   "cell_type": "code",
   "execution_count": null,
   "id": "5c2d0987",
   "metadata": {},
   "outputs": [],
   "source": []
  },
  {
   "cell_type": "code",
   "execution_count": null,
   "id": "d652975c",
   "metadata": {},
   "outputs": [],
   "source": []
  },
  {
   "cell_type": "code",
   "execution_count": null,
   "id": "c2420b69",
   "metadata": {},
   "outputs": [],
   "source": []
  }
 ],
 "metadata": {
  "kernelspec": {
   "display_name": "Python 3 (ipykernel)",
   "language": "python",
   "name": "python3"
  },
  "language_info": {
   "codemirror_mode": {
    "name": "ipython",
    "version": 3
   },
   "file_extension": ".py",
   "mimetype": "text/x-python",
   "name": "python",
   "nbconvert_exporter": "python",
   "pygments_lexer": "ipython3",
   "version": "3.10.0"
  }
 },
 "nbformat": 4,
 "nbformat_minor": 5
}
