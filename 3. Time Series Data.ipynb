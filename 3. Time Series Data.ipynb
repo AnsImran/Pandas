{
 "cells": [
  {
   "cell_type": "markdown",
   "id": "fbdf6623-54d7-400c-adf1-9ab1c5761f47",
   "metadata": {},
   "source": [
    "# Live Recording\n",
    "## 18 Feb, 2023\n",
    "### Sir Nasir Hussain\n",
    "#### Book = Learning pandas - Michael Heydt (Chapter = 10)\n",
    "\n",
    "\n",
    "Applied in Predictive Analysis\n",
    "Sales, weather, stock predictions etc...\n",
    "\n",
    "RNNs is data ko handle krtay hain. see quarter lectures\n",
    "\n",
    "\n"
   ]
  },
  {
   "cell_type": "code",
   "execution_count": 1,
   "id": "e98f296b",
   "metadata": {},
   "outputs": [],
   "source": [
    "import pandas as pd\n",
    "import numpy as np\n",
    "from datetime import datetime\n",
    "#    module          class\n",
    "\n",
    "# module k andar classes and functions hotay hain\n",
    "\n",
    "# Q1 k lecs sirf sun lena OOP par, sir nasir ya kisi or k ta k nomenclature oor clear ho gya\n"
   ]
  },
  {
   "cell_type": "code",
   "execution_count": 11,
   "id": "6c6c7552",
   "metadata": {},
   "outputs": [
    {
     "data": {
      "text/plain": [
       "datetime.datetime(2014, 12, 15, 0, 0)"
      ]
     },
     "execution_count": 11,
     "metadata": {},
     "output_type": "execute_result"
    }
   ],
   "source": [
    "# datetime object for Dec 15 2014\n",
    "date = datetime(2014, 12, 15)\n",
    "# constructor ko date pass ki.\n",
    "\n",
    "# date ka object ban gya\n",
    "date\n"
   ]
  },
  {
   "cell_type": "code",
   "execution_count": 12,
   "id": "43c70485",
   "metadata": {},
   "outputs": [
    {
     "data": {
      "text/plain": [
       "datetime.datetime(2014, 12, 15, 0, 0)"
      ]
     },
     "execution_count": 12,
     "metadata": {},
     "output_type": "execute_result"
    }
   ],
   "source": [
    "date\n"
   ]
  },
  {
   "cell_type": "code",
   "execution_count": 13,
   "id": "0fe0deba",
   "metadata": {},
   "outputs": [],
   "source": [
    "date_with_hour_minutes = datetime(2014, 12, 15, 17, 30)\n"
   ]
  },
  {
   "cell_type": "code",
   "execution_count": 14,
   "id": "7d11b2f6",
   "metadata": {},
   "outputs": [
    {
     "data": {
      "text/plain": [
       "datetime.datetime(2014, 12, 15, 17, 30)"
      ]
     },
     "execution_count": 14,
     "metadata": {},
     "output_type": "execute_result"
    }
   ],
   "source": [
    "date_with_hour_minutes\n"
   ]
  },
  {
   "cell_type": "code",
   "execution_count": 15,
   "id": "e41df685",
   "metadata": {},
   "outputs": [],
   "source": [
    "class dt:\n",
    "    \n",
    "    def __init__(self, y, m , d, h , mm):\n",
    "        self. year   = y\n",
    "        self.month   = m\n",
    "        self.day     = d\n",
    "        self.hour    = h\n",
    "        self. minute = mm\n"
   ]
  },
  {
   "cell_type": "code",
   "execution_count": 16,
   "id": "19d1b4cd",
   "metadata": {},
   "outputs": [],
   "source": [
    "dd = dt(2015,12,31,12,50)\n"
   ]
  },
  {
   "cell_type": "code",
   "execution_count": 17,
   "id": "b93f8026",
   "metadata": {},
   "outputs": [
    {
     "data": {
      "text/plain": [
       "2015"
      ]
     },
     "execution_count": 17,
     "metadata": {},
     "output_type": "execute_result"
    }
   ],
   "source": [
    "dd.year"
   ]
  },
  {
   "cell_type": "code",
   "execution_count": 18,
   "id": "b1b15761",
   "metadata": {},
   "outputs": [
    {
     "data": {
      "text/plain": [
       "50"
      ]
     },
     "execution_count": 18,
     "metadata": {},
     "output_type": "execute_result"
    }
   ],
   "source": [
    "dd.minute"
   ]
  },
  {
   "cell_type": "code",
   "execution_count": 19,
   "id": "929dc0b0",
   "metadata": {},
   "outputs": [],
   "source": [
    "date_today = datetime.now()"
   ]
  },
  {
   "cell_type": "code",
   "execution_count": 20,
   "id": "0d285236",
   "metadata": {},
   "outputs": [
    {
     "data": {
      "text/plain": [
       "datetime.datetime(2023, 9, 7, 14, 48, 39, 252182)"
      ]
     },
     "execution_count": 20,
     "metadata": {},
     "output_type": "execute_result"
    }
   ],
   "source": [
    "date_today"
   ]
  },
  {
   "cell_type": "markdown",
   "id": "32cd80c4",
   "metadata": {},
   "source": [
    "# Pandas TimeStamp Object\n",
    "Specific dates and times in pandas are represented using the pandas.tslib.\n",
    "Timestamp class. Timestamp is based on the datetime64 dtype and has higher \n",
    "precision than the Python datetime object. Timestamp objects are generally \n",
    "interchangeable with datetime objects, so you can typically use them wherever \n",
    "you may use datetime objects.\n"
   ]
  },
  {
   "cell_type": "code",
   "execution_count": 10,
   "id": "5e890717-c4eb-47aa-acee-d2d7d949edb4",
   "metadata": {},
   "outputs": [
    {
     "data": {
      "text/plain": [
       "Timedelta('26 days 00:23:40')"
      ]
     },
     "execution_count": 10,
     "metadata": {},
     "output_type": "execute_result"
    }
   ],
   "source": [
    "birth   = pd.Timestamp('1997-09-15')\n",
    "\n",
    "current = pd.Timestamp('2023-09-15')\n",
    "\n",
    "(current - birth)/365\n",
    "\n",
    "# years\n",
    "\n"
   ]
  },
  {
   "cell_type": "code",
   "execution_count": 21,
   "id": "5898c327",
   "metadata": {},
   "outputs": [],
   "source": [
    "# You can create a Timestamp object using pd.Timestamp (a shortcut for pandas.\n",
    "# tslib.Timestamp) and by passing a string representing a date, time, or date \n",
    "# and time:\n",
    "\n",
    "pandas_date = pd.Timestamp('2014-12-15')\n",
    "\n",
    "# yahan simple string day rahay hain\n"
   ]
  },
  {
   "cell_type": "code",
   "execution_count": 52,
   "id": "3bfbccc6",
   "metadata": {},
   "outputs": [
    {
     "data": {
      "text/plain": [
       "Timestamp('2014-12-15 00:00:00')"
      ]
     },
     "execution_count": 52,
     "metadata": {},
     "output_type": "execute_result"
    }
   ],
   "source": [
    "pandas_date"
   ]
  },
  {
   "cell_type": "code",
   "execution_count": 56,
   "id": "9f2c43e0",
   "metadata": {},
   "outputs": [],
   "source": [
    "# Adds time time to datenow\n",
    "\n",
    "pandas_time = pd.Timestamp('17:30')\n",
    "# ':' differentiates date VS time\n"
   ]
  },
  {
   "cell_type": "code",
   "execution_count": 57,
   "id": "852cb0a3",
   "metadata": {},
   "outputs": [
    {
     "data": {
      "text/plain": [
       "Timestamp('2023-02-19 17:30:00')"
      ]
     },
     "execution_count": 57,
     "metadata": {},
     "output_type": "execute_result"
    }
   ],
   "source": [
    "pandas_time\n",
    "# date-now automatic\n",
    "\n"
   ]
  },
  {
   "cell_type": "code",
   "execution_count": 59,
   "id": "a40bc185",
   "metadata": {},
   "outputs": [],
   "source": [
    "pandas_current_date_time  = pd.Timestamp(\"now\")\n"
   ]
  },
  {
   "cell_type": "code",
   "execution_count": 60,
   "id": "d9e8b79b",
   "metadata": {},
   "outputs": [
    {
     "data": {
      "text/plain": [
       "Timestamp('2023-02-19 15:38:32.892506')"
      ]
     },
     "execution_count": 60,
     "metadata": {},
     "output_type": "execute_result"
    }
   ],
   "source": [
    "pandas_current_date_time\n"
   ]
  },
  {
   "cell_type": "code",
   "execution_count": 61,
   "id": "df8aa3e5",
   "metadata": {},
   "outputs": [
    {
     "data": {
      "text/plain": [
       "Timestamp('2023-02-19 15:39:36.346641')"
      ]
     },
     "execution_count": 61,
     "metadata": {},
     "output_type": "execute_result"
    }
   ],
   "source": [
    "pd.Timestamp.now()\n"
   ]
  },
  {
   "cell_type": "markdown",
   "id": "6d9bfd5f",
   "metadata": {},
   "source": [
    "# Time Delta to create difference in two timestamps\n",
    "\n",
    "### pd.Timedelta()\n",
    "- aik time duration is k zariye say create kr sktay hain\n",
    "- can be +ive as well as -ive \n",
    "\n",
    "A difference between two pandas Timestamp objects is represented by a timedelta\n",
    "object, which is a representation of an exact difference in time. These are common as \n",
    "results of determining the duration between two dates or to calculate the date at a \n",
    "specific interval of time from another date and/or time.\n",
    "\n",
    "To demonstrate, the following uses a timedelta object to calculate a one-day \n",
    "increase in the time from the specified date:"
   ]
  },
  {
   "cell_type": "code",
   "execution_count": 3,
   "id": "0b1ead98",
   "metadata": {},
   "outputs": [
    {
     "data": {
      "text/plain": [
       "datetime.datetime(2014, 12, 1, 0, 0)"
      ]
     },
     "execution_count": 3,
     "metadata": {},
     "output_type": "execute_result"
    }
   ],
   "source": [
    "today = datetime(2014, 11, 30)\n",
    "\n",
    "tomorrow = today + pd.Timedelta(days=1)\n",
    "tomorrow\n",
    "\n",
    "# current date main aik din extra add kar dia\n"
   ]
  },
  {
   "cell_type": "code",
   "execution_count": 64,
   "id": "5bb135a1",
   "metadata": {},
   "outputs": [
    {
     "data": {
      "text/plain": [
       "datetime.datetime(2015, 1, 1, 0, 0)"
      ]
     },
     "execution_count": 64,
     "metadata": {},
     "output_type": "execute_result"
    }
   ],
   "source": [
    "today = datetime(2014, 12, 31)\n",
    "\n",
    "tomorrow = today + pd.Timedelta(days=1)\n",
    "tomorrow\n",
    "\n",
    "# current date main aik din extra add kar dia\n"
   ]
  },
  {
   "cell_type": "code",
   "execution_count": 75,
   "id": "a3231edf",
   "metadata": {},
   "outputs": [
    {
     "data": {
      "text/plain": [
       "datetime.timedelta(days=12)"
      ]
     },
     "execution_count": 75,
     "metadata": {},
     "output_type": "execute_result"
    }
   ],
   "source": [
    "date1 = datetime(2014, 12, 10)\n",
    "\n",
    "date2 = datetime(2014, 11, 28)\n",
    "\n",
    "date1 - date2\n",
    "\n",
    "# vao 2 objects ko minus kia hay, sir nasir k Q1 k lectures mn oop main objects ka difference\n",
    "# etc smjhaya hay\n"
   ]
  },
  {
   "cell_type": "code",
   "execution_count": 66,
   "id": "e9e2e61f",
   "metadata": {},
   "outputs": [
    {
     "data": {
      "text/plain": [
       "datetime.timedelta(days=-4)"
      ]
     },
     "execution_count": 66,
     "metadata": {},
     "output_type": "execute_result"
    }
   ],
   "source": [
    "date2 - date1\n",
    "\n",
    "# ab difference -4 days ka aaya\n"
   ]
  },
  {
   "cell_type": "code",
   "execution_count": 73,
   "id": "08b8be46",
   "metadata": {},
   "outputs": [],
   "source": [
    "days_7 = pd.Timedelta(weeks=1)\n",
    "\n",
    "# time duration negative bhi ho skti hay\n"
   ]
  },
  {
   "cell_type": "code",
   "execution_count": 74,
   "id": "350fc6b2",
   "metadata": {},
   "outputs": [
    {
     "data": {
      "text/plain": [
       "datetime.datetime(2014, 12, 9, 0, 0)"
      ]
     },
     "execution_count": 74,
     "metadata": {},
     "output_type": "execute_result"
    }
   ],
   "source": [
    "date1 + days_7"
   ]
  },
  {
   "cell_type": "code",
   "execution_count": 77,
   "id": "85a335a1",
   "metadata": {},
   "outputs": [
    {
     "data": {
      "text/plain": [
       "datetime.datetime(2014, 12, 3, 0, 0)"
      ]
     },
     "execution_count": 77,
     "metadata": {},
     "output_type": "execute_result"
    }
   ],
   "source": [
    "date1 - days_7"
   ]
  },
  {
   "cell_type": "code",
   "execution_count": 78,
   "id": "700d6c83",
   "metadata": {},
   "outputs": [],
   "source": [
    "days_7 = pd.Timedelta(weeks=-1)\n"
   ]
  },
  {
   "cell_type": "code",
   "execution_count": 80,
   "id": "3ab744e4",
   "metadata": {},
   "outputs": [
    {
     "data": {
      "text/plain": [
       "datetime.datetime(2014, 12, 17, 0, 0)"
      ]
     },
     "execution_count": 80,
     "metadata": {},
     "output_type": "execute_result"
    }
   ],
   "source": [
    "date1 - days_7"
   ]
  },
  {
   "cell_type": "code",
   "execution_count": null,
   "id": "b75d8f41-0b6f-427a-89db-fab6c82f4c6c",
   "metadata": {},
   "outputs": [],
   "source": [
    "# note: "
   ]
  },
  {
   "cell_type": "markdown",
   "id": "82c7e6a9-806c-4ae3-9a35-5b7b44daadd7",
   "metadata": {},
   "source": [
    "# Introducing time-series data\n",
    "Due to its roots in finance, pandas excels in manipulating time-series data. Its \n",
    "abilities have been continuously refined over all of its versions to progressively \n",
    "increase its capabilities for time-series manipulation. These capabilities are the \n",
    "core of pandas and do not require additional libraries, unlike R, which requires \n",
    "the inclusion of Zoo to provide this functionality.\n",
    "\n",
    "The core of the time-series functionality in pandas revolves around the use of \n",
    "specialized indexes that represent measurements of data at one or more timestamps. \n",
    "These indexes in pandas are referred to as DatetimeIndex objects. These are incredibly \n",
    "powerful objects, and their being core to pandas provides the ability to automatically \n",
    "align data based on dates and time, making working with sequences of data collected \n",
    "and time-stamped as easy as with any other type of indexes.\n",
    "\n",
    "We will now examine **how to create time-series data and DatetimeIndex objects \n",
    "both using explicit timestamp objects and using specific durations of time (referred \n",
    "to in pandas as frequencies).**\n"
   ]
  },
  {
   "cell_type": "markdown",
   "id": "01035f06",
   "metadata": {},
   "source": [
    "# DatetimeIndex\n",
    "Sequences of timestamp objects are represented by pandas as DatetimeIndex,\n",
    "which is a type of pandas index that is optimized for indexing by date and time.\n",
    "There are several ways to create DatetimeIndex objects in pandas. The following\n",
    "creates a DateTimeindex by passing a list of datetime objects as Series:"
   ]
  },
  {
   "cell_type": "code",
   "execution_count": 6,
   "id": "9fc12a6f",
   "metadata": {},
   "outputs": [],
   "source": [
    "# create a very simple time-series with two index labels\n",
    " # and random values\n",
    "\n",
    "dates = [datetime(2014, 8, 1), datetime(2014, 8, 2)]\n"
   ]
  },
  {
   "cell_type": "code",
   "execution_count": 7,
   "id": "96c165c6",
   "metadata": {},
   "outputs": [
    {
     "data": {
      "text/plain": [
       "2014-08-01   -0.080606\n",
       "2014-08-02    0.293301\n",
       "dtype: float64"
      ]
     },
     "execution_count": 7,
     "metadata": {},
     "output_type": "execute_result"
    }
   ],
   "source": [
    "ts = pd.Series(np.random.randn(2), dates)\n",
    "ts\n"
   ]
  },
  {
   "cell_type": "code",
   "execution_count": 9,
   "id": "a085136b",
   "metadata": {},
   "outputs": [
    {
     "data": {
      "text/plain": [
       "DatetimeIndex(['2014-08-01', '2014-08-02'], dtype='datetime64[ns]', freq=None)"
      ]
     },
     "execution_count": 9,
     "metadata": {},
     "output_type": "execute_result"
    }
   ],
   "source": [
    "ts.index\n",
    "# note is dfa, index jo hay vo aik date-time index hay\n"
   ]
  },
  {
   "cell_type": "code",
   "execution_count": 10,
   "id": "e12f8b97",
   "metadata": {},
   "outputs": [
    {
     "data": {
      "text/plain": [
       "array([-0.08060574,  0.29330098])"
      ]
     },
     "execution_count": 10,
     "metadata": {},
     "output_type": "execute_result"
    }
   ],
   "source": [
    "ts.values\n"
   ]
  },
  {
   "cell_type": "code",
   "execution_count": 14,
   "id": "03fdf1ce",
   "metadata": {},
   "outputs": [],
   "source": [
    "# yahan par ab index ki type date/time index nahi hogi, this was old way\n",
    "S = pd.Series([1,2,3,4],index=[22,33,44,55])\n"
   ]
  },
  {
   "cell_type": "code",
   "execution_count": 15,
   "id": "d709fa71",
   "metadata": {},
   "outputs": [
    {
     "data": {
      "text/plain": [
       "array([1, 2, 3, 4], dtype=int64)"
      ]
     },
     "execution_count": 15,
     "metadata": {},
     "output_type": "execute_result"
    }
   ],
   "source": [
    "S.values\n"
   ]
  },
  {
   "cell_type": "code",
   "execution_count": 17,
   "id": "da8f3ab7",
   "metadata": {},
   "outputs": [
    {
     "data": {
      "text/plain": [
       "Index([22, 33, 44, 55], dtype='int64')"
      ]
     },
     "execution_count": 17,
     "metadata": {},
     "output_type": "execute_result"
    }
   ],
   "source": [
    "S.index\n",
    "\n",
    "# daikha ye simple index hay\n"
   ]
  },
  {
   "cell_type": "code",
   "execution_count": 19,
   "id": "820659d7",
   "metadata": {},
   "outputs": [
    {
     "data": {
      "text/plain": [
       "RangeIndex(start=0, stop=4, step=1)"
      ]
     },
     "execution_count": 19,
     "metadata": {},
     "output_type": "execute_result"
    }
   ],
   "source": [
    "S = pd.Series([1,2,3,4])\n",
    "\n",
    "S.index\n",
    "# ye daikho, ye simply rangeindex hay\n"
   ]
  },
  {
   "cell_type": "code",
   "execution_count": 35,
   "id": "a1853cc8",
   "metadata": {},
   "outputs": [
    {
     "data": {
      "text/plain": [
       "DatetimeIndex(['2014-08-01', '2014-08-02', '2014-08-03', 'NaT'], dtype='datetime64[ns]', freq=None)"
      ]
     },
     "execution_count": 35,
     "metadata": {},
     "output_type": "execute_result"
    }
   ],
   "source": [
    "#convert a sequence of objects to a DatetimeIndex\n",
    "\n",
    "dti = pd.to_datetime(['Aug 1, 2014', '2014-08-02', '2014.8.3', None], format='mixed')\n",
    "# format='mixed': agar ye na likh tu error aaye ga\n",
    "dti\n",
    "\n",
    "\n",
    "# note ye aik list thi, so os nay \"DatetimeIndex\" return kia hay\n"
   ]
  },
  {
   "cell_type": "code",
   "execution_count": 41,
   "id": "152d965c",
   "metadata": {},
   "outputs": [
    {
     "data": {
      "text/plain": [
       "DatetimeIndex(['2014-08-01'], dtype='datetime64[ns]', freq=None)"
      ]
     },
     "execution_count": 41,
     "metadata": {},
     "output_type": "execute_result"
    }
   ],
   "source": [
    "pd.to_datetime(['Aug 1, 2014'])\n",
    "\n",
    "# sirf aik value hay list main\n",
    "# note ye aik list thi, so os nay \"DatetimeIndex\" return kia hay\n"
   ]
  },
  {
   "cell_type": "code",
   "execution_count": 40,
   "id": "5bbb9300-b8a1-4f81-bb6f-1b0bafd3d98a",
   "metadata": {},
   "outputs": [
    {
     "data": {
      "text/plain": [
       "Timestamp('2014-08-01 00:00:00')"
      ]
     },
     "execution_count": 40,
     "metadata": {},
     "output_type": "execute_result"
    }
   ],
   "source": [
    "pd.to_datetime('Aug 1, 2014')\n",
    "# is bar list pass ni ki tu TimeStamp bni simple\n"
   ]
  },
  {
   "cell_type": "code",
   "execution_count": 42,
   "id": "87a72513",
   "metadata": {},
   "outputs": [
    {
     "name": "stdout",
     "output_type": "stream",
     "text": [
      "2014-08-01 00:00:00\n",
      "2014-08-02 00:00:00\n",
      "2014-08-03 00:00:00\n",
      "NaT\n"
     ]
    }
   ],
   "source": [
    "for l in dti: \n",
    "    print (l)\n",
    "    "
   ]
  },
  {
   "cell_type": "code",
   "execution_count": 46,
   "id": "be92141c",
   "metadata": {},
   "outputs": [
    {
     "ename": "ValueError",
     "evalue": "time data \"foo\" doesn't match format \"%b %d, %Y\", at position 2. You might want to try:\n    - passing `format` if your strings have a consistent format;\n    - passing `format='ISO8601'` if your strings are all ISO8601 but not necessarily in exactly the same format;\n    - passing `format='mixed'`, and the format will be inferred for each element individually. You might want to use `dayfirst` alongside this.",
     "output_type": "error",
     "traceback": [
      "\u001b[1;31m---------------------------------------------------------------------------\u001b[0m",
      "\u001b[1;31mValueError\u001b[0m                                Traceback (most recent call last)",
      "Cell \u001b[1;32mIn[46], line 2\u001b[0m\n\u001b[0;32m      1\u001b[0m \u001b[38;5;66;03m# error expected in new pandas version\u001b[39;00m\n\u001b[1;32m----> 2\u001b[0m \u001b[43mpd\u001b[49m\u001b[38;5;241;43m.\u001b[39;49m\u001b[43mto_datetime\u001b[49m\u001b[43m(\u001b[49m\u001b[43m[\u001b[49m\u001b[38;5;124;43m'\u001b[39;49m\u001b[38;5;124;43mAug 1, 2014\u001b[39;49m\u001b[38;5;124;43m'\u001b[39;49m\u001b[43m,\u001b[49m\u001b[43m \u001b[49m\u001b[38;5;28;43;01mNone\u001b[39;49;00m\u001b[43m,\u001b[49m\u001b[43m \u001b[49m\u001b[38;5;124;43m'\u001b[39;49m\u001b[38;5;124;43mfoo\u001b[39;49m\u001b[38;5;124;43m'\u001b[39;49m\u001b[43m]\u001b[49m\u001b[43m)\u001b[49m\n",
      "File \u001b[1;32m~\\AppData\\Local\\Programs\\Python\\Python310\\lib\\site-packages\\pandas\\core\\tools\\datetimes.py:1082\u001b[0m, in \u001b[0;36mto_datetime\u001b[1;34m(arg, errors, dayfirst, yearfirst, utc, format, exact, unit, infer_datetime_format, origin, cache)\u001b[0m\n\u001b[0;32m   1080\u001b[0m         result \u001b[38;5;241m=\u001b[39m _convert_and_box_cache(argc, cache_array)\n\u001b[0;32m   1081\u001b[0m     \u001b[38;5;28;01melse\u001b[39;00m:\n\u001b[1;32m-> 1082\u001b[0m         result \u001b[38;5;241m=\u001b[39m \u001b[43mconvert_listlike\u001b[49m\u001b[43m(\u001b[49m\u001b[43margc\u001b[49m\u001b[43m,\u001b[49m\u001b[43m \u001b[49m\u001b[38;5;28;43mformat\u001b[39;49m\u001b[43m)\u001b[49m\n\u001b[0;32m   1083\u001b[0m \u001b[38;5;28;01melse\u001b[39;00m:\n\u001b[0;32m   1084\u001b[0m     result \u001b[38;5;241m=\u001b[39m convert_listlike(np\u001b[38;5;241m.\u001b[39marray([arg]), \u001b[38;5;28mformat\u001b[39m)[\u001b[38;5;241m0\u001b[39m]\n",
      "File \u001b[1;32m~\\AppData\\Local\\Programs\\Python\\Python310\\lib\\site-packages\\pandas\\core\\tools\\datetimes.py:453\u001b[0m, in \u001b[0;36m_convert_listlike_datetimes\u001b[1;34m(arg, format, name, utc, unit, errors, dayfirst, yearfirst, exact)\u001b[0m\n\u001b[0;32m    451\u001b[0m \u001b[38;5;66;03m# `format` could be inferred, or user didn't ask for mixed-format parsing.\u001b[39;00m\n\u001b[0;32m    452\u001b[0m \u001b[38;5;28;01mif\u001b[39;00m \u001b[38;5;28mformat\u001b[39m \u001b[38;5;129;01mis\u001b[39;00m \u001b[38;5;129;01mnot\u001b[39;00m \u001b[38;5;28;01mNone\u001b[39;00m \u001b[38;5;129;01mand\u001b[39;00m \u001b[38;5;28mformat\u001b[39m \u001b[38;5;241m!=\u001b[39m \u001b[38;5;124m\"\u001b[39m\u001b[38;5;124mmixed\u001b[39m\u001b[38;5;124m\"\u001b[39m:\n\u001b[1;32m--> 453\u001b[0m     \u001b[38;5;28;01mreturn\u001b[39;00m \u001b[43m_array_strptime_with_fallback\u001b[49m\u001b[43m(\u001b[49m\u001b[43marg\u001b[49m\u001b[43m,\u001b[49m\u001b[43m \u001b[49m\u001b[43mname\u001b[49m\u001b[43m,\u001b[49m\u001b[43m \u001b[49m\u001b[43mutc\u001b[49m\u001b[43m,\u001b[49m\u001b[43m \u001b[49m\u001b[38;5;28;43mformat\u001b[39;49m\u001b[43m,\u001b[49m\u001b[43m \u001b[49m\u001b[43mexact\u001b[49m\u001b[43m,\u001b[49m\u001b[43m \u001b[49m\u001b[43merrors\u001b[49m\u001b[43m)\u001b[49m\n\u001b[0;32m    455\u001b[0m result, tz_parsed \u001b[38;5;241m=\u001b[39m objects_to_datetime64ns(\n\u001b[0;32m    456\u001b[0m     arg,\n\u001b[0;32m    457\u001b[0m     dayfirst\u001b[38;5;241m=\u001b[39mdayfirst,\n\u001b[1;32m   (...)\u001b[0m\n\u001b[0;32m    461\u001b[0m     allow_object\u001b[38;5;241m=\u001b[39m\u001b[38;5;28;01mTrue\u001b[39;00m,\n\u001b[0;32m    462\u001b[0m )\n\u001b[0;32m    464\u001b[0m \u001b[38;5;28;01mif\u001b[39;00m tz_parsed \u001b[38;5;129;01mis\u001b[39;00m \u001b[38;5;129;01mnot\u001b[39;00m \u001b[38;5;28;01mNone\u001b[39;00m:\n\u001b[0;32m    465\u001b[0m     \u001b[38;5;66;03m# We can take a shortcut since the datetime64 numpy array\u001b[39;00m\n\u001b[0;32m    466\u001b[0m     \u001b[38;5;66;03m# is in UTC\u001b[39;00m\n",
      "File \u001b[1;32m~\\AppData\\Local\\Programs\\Python\\Python310\\lib\\site-packages\\pandas\\core\\tools\\datetimes.py:484\u001b[0m, in \u001b[0;36m_array_strptime_with_fallback\u001b[1;34m(arg, name, utc, fmt, exact, errors)\u001b[0m\n\u001b[0;32m    473\u001b[0m \u001b[38;5;28;01mdef\u001b[39;00m \u001b[38;5;21m_array_strptime_with_fallback\u001b[39m(\n\u001b[0;32m    474\u001b[0m     arg,\n\u001b[0;32m    475\u001b[0m     name,\n\u001b[1;32m   (...)\u001b[0m\n\u001b[0;32m    479\u001b[0m     errors: \u001b[38;5;28mstr\u001b[39m,\n\u001b[0;32m    480\u001b[0m ) \u001b[38;5;241m-\u001b[39m\u001b[38;5;241m>\u001b[39m Index:\n\u001b[0;32m    481\u001b[0m \u001b[38;5;250m    \u001b[39m\u001b[38;5;124;03m\"\"\"\u001b[39;00m\n\u001b[0;32m    482\u001b[0m \u001b[38;5;124;03m    Call array_strptime, with fallback behavior depending on 'errors'.\u001b[39;00m\n\u001b[0;32m    483\u001b[0m \u001b[38;5;124;03m    \"\"\"\u001b[39;00m\n\u001b[1;32m--> 484\u001b[0m     result, timezones \u001b[38;5;241m=\u001b[39m \u001b[43marray_strptime\u001b[49m\u001b[43m(\u001b[49m\u001b[43marg\u001b[49m\u001b[43m,\u001b[49m\u001b[43m \u001b[49m\u001b[43mfmt\u001b[49m\u001b[43m,\u001b[49m\u001b[43m \u001b[49m\u001b[43mexact\u001b[49m\u001b[38;5;241;43m=\u001b[39;49m\u001b[43mexact\u001b[49m\u001b[43m,\u001b[49m\u001b[43m \u001b[49m\u001b[43merrors\u001b[49m\u001b[38;5;241;43m=\u001b[39;49m\u001b[43merrors\u001b[49m\u001b[43m,\u001b[49m\u001b[43m \u001b[49m\u001b[43mutc\u001b[49m\u001b[38;5;241;43m=\u001b[39;49m\u001b[43mutc\u001b[49m\u001b[43m)\u001b[49m\n\u001b[0;32m    485\u001b[0m     \u001b[38;5;28;01mif\u001b[39;00m \u001b[38;5;28many\u001b[39m(tz \u001b[38;5;129;01mis\u001b[39;00m \u001b[38;5;129;01mnot\u001b[39;00m \u001b[38;5;28;01mNone\u001b[39;00m \u001b[38;5;28;01mfor\u001b[39;00m tz \u001b[38;5;129;01min\u001b[39;00m timezones):\n\u001b[0;32m    486\u001b[0m         \u001b[38;5;28;01mreturn\u001b[39;00m _return_parsed_timezone_results(result, timezones, utc, name)\n",
      "File \u001b[1;32m~\\AppData\\Local\\Programs\\Python\\Python310\\lib\\site-packages\\pandas\\_libs\\tslibs\\strptime.pyx:530\u001b[0m, in \u001b[0;36mpandas._libs.tslibs.strptime.array_strptime\u001b[1;34m()\u001b[0m\n",
      "File \u001b[1;32m~\\AppData\\Local\\Programs\\Python\\Python310\\lib\\site-packages\\pandas\\_libs\\tslibs\\strptime.pyx:351\u001b[0m, in \u001b[0;36mpandas._libs.tslibs.strptime.array_strptime\u001b[1;34m()\u001b[0m\n",
      "\u001b[1;31mValueError\u001b[0m: time data \"foo\" doesn't match format \"%b %d, %Y\", at position 2. You might want to try:\n    - passing `format` if your strings have a consistent format;\n    - passing `format='ISO8601'` if your strings are all ISO8601 but not necessarily in exactly the same format;\n    - passing `format='mixed'`, and the format will be inferred for each element individually. You might want to use `dayfirst` alongside this."
     ]
    }
   ],
   "source": [
    "# error expected in new pandas version\n",
    "pd.to_datetime(['Aug 1, 2014', None, 'foo'])\n",
    "\n"
   ]
  },
  {
   "cell_type": "code",
   "execution_count": 47,
   "id": "4acbfbeb-e036-4bea-ab78-e64504385c71",
   "metadata": {},
   "outputs": [
    {
     "data": {
      "text/plain": [
       "DatetimeIndex(['2014-08-01', 'NaT'], dtype='datetime64[ns]', freq=None)"
      ]
     },
     "execution_count": 47,
     "metadata": {},
     "output_type": "execute_result"
    }
   ],
   "source": [
    "pd.to_datetime(['Aug 1, 2014', None])\n",
    "# isay baad main further explore krain gay - sir nasir\n",
    "\n"
   ]
  },
  {
   "cell_type": "markdown",
   "id": "97609ffb",
   "metadata": {},
   "source": [
    "# Date Range"
   ]
  },
  {
   "cell_type": "code",
   "execution_count": 55,
   "id": "dd4a4de3",
   "metadata": {},
   "outputs": [],
   "source": [
    "periods = pd.date_range('8/1/2014', periods=10)\n",
    "# is ka output?\n",
    "# see next cell indices\n",
    "# by default freq = \"D\", so 10 days generate hoon gay, starting from the day passed\n"
   ]
  },
  {
   "cell_type": "code",
   "execution_count": 56,
   "id": "5ca8f5c8",
   "metadata": {},
   "outputs": [
    {
     "data": {
      "text/plain": [
       "2014-08-01    0.469112\n",
       "2014-08-02   -0.282863\n",
       "2014-08-03   -1.509059\n",
       "2014-08-04   -1.135632\n",
       "2014-08-05    1.212112\n",
       "2014-08-06   -0.173215\n",
       "2014-08-07    0.119209\n",
       "2014-08-08   -1.044236\n",
       "2014-08-09   -0.861849\n",
       "2014-08-10   -2.104569\n",
       "Freq: D, dtype: float64"
      ]
     },
     "execution_count": 56,
     "metadata": {},
     "output_type": "execute_result"
    }
   ],
   "source": [
    "np.random.seed(123456)\n",
    "\n",
    "date_series = pd.Series(np.random.randn(10), index=periods)\n",
    "date_series\n",
    "# so, is nay 10 days create kiye thay\n"
   ]
  },
  {
   "cell_type": "code",
   "execution_count": 57,
   "id": "bf5ed6dc",
   "metadata": {},
   "outputs": [
    {
     "data": {
      "text/plain": [
       "2014-08-03    0.469112\n",
       "2014-08-10   -0.282863\n",
       "2014-08-17   -1.509059\n",
       "2014-08-24   -1.135632\n",
       "2014-08-31    1.212112\n",
       "2014-09-07   -0.173215\n",
       "2014-09-14    0.119209\n",
       "2014-09-21   -1.044236\n",
       "2014-09-28   -0.861849\n",
       "2014-10-05   -2.104569\n",
       "Freq: W-SUN, dtype: float64"
      ]
     },
     "execution_count": 57,
     "metadata": {},
     "output_type": "execute_result"
    }
   ],
   "source": [
    "periods = pd.date_range('8/1/2014', periods=10, freq=\"W\") # week\n",
    "np.random.seed(123456)\n",
    "date_series = pd.Series(np.random.randn(10), index=periods)\n",
    "date_series\n"
   ]
  },
  {
   "cell_type": "code",
   "execution_count": 58,
   "id": "c16c94c1",
   "metadata": {},
   "outputs": [
    {
     "data": {
      "text/plain": [
       "2014-08-24   -1.135632\n",
       "2014-08-31    1.212112\n",
       "2014-09-07   -0.173215\n",
       "2014-09-14    0.119209\n",
       "Freq: W-SUN, dtype: float64"
      ]
     },
     "execution_count": 58,
     "metadata": {},
     "output_type": "execute_result"
    }
   ],
   "source": [
    "subset = date_series[3:7]\n",
    "subset\n"
   ]
  },
  {
   "cell_type": "code",
   "execution_count": 59,
   "id": "62666157",
   "metadata": {},
   "outputs": [
    {
     "data": {
      "text/plain": [
       "2014-08-24       10\n",
       "2014-08-31      100\n",
       "2014-09-07     1000\n",
       "2014-09-14    10000\n",
       "Freq: W-SUN, dtype: int64"
      ]
     },
     "execution_count": 59,
     "metadata": {},
     "output_type": "execute_result"
    }
   ],
   "source": [
    "s2 = pd.Series([10, 100, 1000, 10000], index=subset.index)\n",
    "s2\n"
   ]
  },
  {
   "cell_type": "code",
   "execution_count": 60,
   "id": "1e44c52b",
   "metadata": {},
   "outputs": [
    {
     "data": {
      "text/plain": [
       "2014-08-03             NaN\n",
       "2014-08-10             NaN\n",
       "2014-08-17             NaN\n",
       "2014-08-24        8.864368\n",
       "2014-08-31      101.212112\n",
       "2014-09-07      999.826785\n",
       "2014-09-14    10000.119209\n",
       "2014-09-21             NaN\n",
       "2014-09-28             NaN\n",
       "2014-10-05             NaN\n",
       "Freq: W-SUN, dtype: float64"
      ]
     },
     "execution_count": 60,
     "metadata": {},
     "output_type": "execute_result"
    }
   ],
   "source": [
    "date_series + s2\n"
   ]
  },
  {
   "cell_type": "code",
   "execution_count": 117,
   "id": "f6186da5",
   "metadata": {},
   "outputs": [
    {
     "data": {
      "text/plain": [
       "2014-08-10   -0.282863\n",
       "2014-08-17   -1.509059\n",
       "2014-08-24   -1.135632\n",
       "2014-08-31    1.212112\n",
       "2014-09-07   -0.173215\n",
       "2014-09-14    0.119209\n",
       "2014-09-21   -1.044236\n",
       "Freq: W-SUN, dtype: float64"
      ]
     },
     "execution_count": 117,
     "metadata": {},
     "output_type": "execute_result"
    }
   ],
   "source": [
    "date_series['2014-08-10': '2014-09-25']\n"
   ]
  },
  {
   "cell_type": "code",
   "execution_count": 61,
   "id": "7609c870",
   "metadata": {},
   "outputs": [
    {
     "data": {
      "text/plain": [
       "2013-01-01    -4.949293\n",
       "2013-01-02    10.718038\n",
       "2013-01-03     7.215552\n",
       "2013-01-04    -7.067711\n",
       "2013-01-05   -10.395750\n",
       "                ...    \n",
       "2014-12-27    -2.739551\n",
       "2014-12-28    -7.723693\n",
       "2014-12-29   -12.428066\n",
       "2014-12-30    -3.863363\n",
       "2014-12-31    -1.824856\n",
       "Freq: D, Length: 730, dtype: float64"
      ]
     },
     "execution_count": 61,
     "metadata": {},
     "output_type": "execute_result"
    }
   ],
   "source": [
    "s3 = pd.Series(np.random.randn(730)*10, pd.date_range('2013-01-01', '2014-12-31'))\n",
    "s3\n",
    "\n",
    "# start-date and end-date di bas\n",
    "# by defaulr freq = day\n"
   ]
  },
  {
   "cell_type": "code",
   "execution_count": 62,
   "id": "0e36e8fd",
   "metadata": {},
   "outputs": [
    {
     "data": {
      "text/plain": [
       "2014-05-01    -7.302549\n",
       "2014-05-02    -3.392505\n",
       "2014-05-03    16.087001\n",
       "2014-05-04    -6.856717\n",
       "2014-05-05     6.936703\n",
       "2014-05-06    17.778371\n",
       "2014-05-07     9.424523\n",
       "2014-05-08     1.318035\n",
       "2014-05-09    19.633491\n",
       "2014-05-10     5.683759\n",
       "2014-05-11     2.259349\n",
       "2014-05-12     3.679318\n",
       "2014-05-13    -4.637516\n",
       "2014-05-14    -0.552893\n",
       "2014-05-15    -3.608528\n",
       "2014-05-16     7.281973\n",
       "2014-05-17    13.267680\n",
       "2014-05-18     2.089269\n",
       "2014-05-19     2.920581\n",
       "2014-05-20   -20.196103\n",
       "2014-05-21    -0.217630\n",
       "2014-05-22    -0.471522\n",
       "2014-05-23     0.884721\n",
       "2014-05-24    -8.574355\n",
       "2014-05-25   -25.037857\n",
       "2014-05-26   -10.580412\n",
       "2014-05-27    -6.579812\n",
       "2014-05-28    24.615912\n",
       "2014-05-29     1.514118\n",
       "2014-05-30   -20.385679\n",
       "2014-05-31     1.429598\n",
       "Freq: D, dtype: float64"
      ]
     },
     "execution_count": 62,
     "metadata": {},
     "output_type": "execute_result"
    }
   ],
   "source": [
    "s3['2014-05']\n"
   ]
  },
  {
   "cell_type": "code",
   "execution_count": 124,
   "id": "61d435b0",
   "metadata": {},
   "outputs": [
    {
     "data": {
      "text/plain": [
       "2014-08-01     8.745707\n",
       "2014-08-02    -1.122823\n",
       "2014-08-03   -11.887646\n",
       "2014-08-04   -26.213766\n",
       "2014-08-05    -4.416824\n",
       "                ...    \n",
       "2014-09-26    -3.406652\n",
       "2014-09-27    -6.597429\n",
       "2014-09-28     6.654400\n",
       "2014-09-29     6.060540\n",
       "2014-09-30   -16.632087\n",
       "Freq: D, Length: 61, dtype: float64"
      ]
     },
     "execution_count": 124,
     "metadata": {},
     "output_type": "execute_result"
    }
   ],
   "source": [
    "s3['2014-08':'2014-09']"
   ]
  },
  {
   "cell_type": "markdown",
   "id": "4d174cc8",
   "metadata": {},
   "source": [
    "# Creating time-series data with specific frequencies\n",
    "\n",
    "Time-series data in pandas can be created on intervals other than daily frequency. \n",
    "Different frequencies can be generated with pd.date_range() by utilizing the freq\n",
    "parameter. This parameter defaults to a value of 'D', which represents daily frequency.\n",
    "\n",
    "\n",
    "To demonstrate alternative frequencies, the following creates a DatetimeIndex with \n",
    "1-minute intervals between the two specified dates by specifying freq='T':"
   ]
  },
  {
   "cell_type": "code",
   "execution_count": 63,
   "id": "6baf1a3c",
   "metadata": {},
   "outputs": [],
   "source": [
    "np.random.seed(123456)\n",
    "\n",
    "bymin = pd.Series(np.random.randn(129600),pd.date_range('2014-08-01','2014-10-29 23:59', freq='T'))\n",
    "# T: 1 minute\n"
   ]
  },
  {
   "cell_type": "code",
   "execution_count": 64,
   "id": "ad15da06",
   "metadata": {},
   "outputs": [
    {
     "data": {
      "text/plain": [
       "2014-08-01 00:00:00    0.469112\n",
       "2014-08-01 00:01:00   -0.282863\n",
       "2014-08-01 00:02:00   -1.509059\n",
       "2014-08-01 00:03:00   -1.135632\n",
       "2014-08-01 00:04:00    1.212112\n",
       "                         ...   \n",
       "2014-10-29 23:55:00   -0.563029\n",
       "2014-10-29 23:56:00    1.180497\n",
       "2014-10-29 23:57:00    1.850604\n",
       "2014-10-29 23:58:00   -1.589660\n",
       "2014-10-29 23:59:00    0.266429\n",
       "Freq: T, Length: 129600, dtype: float64"
      ]
     },
     "execution_count": 64,
     "metadata": {},
     "output_type": "execute_result"
    }
   ],
   "source": [
    "bymin"
   ]
  },
  {
   "cell_type": "code",
   "execution_count": 65,
   "id": "55e6dd26",
   "metadata": {},
   "outputs": [
    {
     "data": {
      "text/plain": [
       "129600"
      ]
     },
     "execution_count": 65,
     "metadata": {},
     "output_type": "execute_result"
    }
   ],
   "source": [
    "90*24*60\n"
   ]
  },
  {
   "cell_type": "code",
   "execution_count": 66,
   "id": "325d9e1a",
   "metadata": {},
   "outputs": [
    {
     "data": {
      "text/plain": [
       "2014-08-01 00:02:00   -1.509059\n",
       "2014-08-01 00:03:00   -1.135632\n",
       "2014-08-01 00:04:00    1.212112\n",
       "2014-08-01 00:05:00   -0.173215\n",
       "2014-08-01 00:06:00    0.119209\n",
       "2014-08-01 00:07:00   -1.044236\n",
       "2014-08-01 00:08:00   -0.861849\n",
       "2014-08-01 00:09:00   -2.104569\n",
       "2014-08-01 00:10:00   -0.494929\n",
       "Freq: T, dtype: float64"
      ]
     },
     "execution_count": 66,
     "metadata": {},
     "output_type": "execute_result"
    }
   ],
   "source": [
    "bymin['2014-08-01 00:02':'2014-08-01 00:10']\n",
    "\n",
    "# 2 min - 10 min tak ka slice nikala\n"
   ]
  },
  {
   "cell_type": "code",
   "execution_count": 138,
   "id": "3867d3c5",
   "metadata": {},
   "outputs": [
    {
     "name": "stdout",
     "output_type": "stream",
     "text": [
      "2023-01-02 00:00:00\n",
      "2023-01-03 00:00:00\n",
      "2023-01-04 00:00:00\n",
      "2023-01-05 00:00:00\n",
      "2023-01-06 00:00:00\n",
      "2023-01-09 00:00:00\n",
      "2023-01-10 00:00:00\n",
      "2023-01-11 00:00:00\n",
      "2023-01-12 00:00:00\n",
      "2023-01-13 00:00:00\n",
      "2023-01-16 00:00:00\n",
      "2023-01-17 00:00:00\n",
      "2023-01-18 00:00:00\n",
      "2023-01-19 00:00:00\n",
      "2023-01-20 00:00:00\n",
      "2023-01-23 00:00:00\n",
      "2023-01-24 00:00:00\n",
      "2023-01-25 00:00:00\n",
      "2023-01-26 00:00:00\n",
      "2023-01-27 00:00:00\n",
      "2023-01-30 00:00:00\n",
      "2023-01-31 00:00:00\n",
      "2023-02-01 00:00:00\n",
      "2023-02-02 00:00:00\n",
      "2023-02-03 00:00:00\n",
      "2023-02-06 00:00:00\n",
      "2023-02-07 00:00:00\n",
      "2023-02-08 00:00:00\n",
      "2023-02-09 00:00:00\n",
      "2023-02-10 00:00:00\n",
      "2023-02-13 00:00:00\n",
      "2023-02-14 00:00:00\n",
      "2023-02-15 00:00:00\n",
      "2023-02-16 00:00:00\n",
      "2023-02-17 00:00:00\n"
     ]
    }
   ],
   "source": [
    "days = pd.date_range('2023-01-1', '2023-02-18', freq='B')\n",
    "# B: buisness day frequency, non-buisness days is k andar create nahi hoon gay\n",
    "# mumkin hay k is k andar public-holidays (14 august type) bhi non-buisness days mnain\n",
    "# shumar htay hoon, so details daikh lena\n",
    "\n",
    "for d in days : print (d)\n",
    "\n",
    "# note 7 & 8 january ghaib hay cuz vo buisness days nahi hain, saturday sunday hain\n",
    "# and so on\n",
    "\n"
   ]
  },
  {
   "cell_type": "code",
   "execution_count": 139,
   "id": "7b1bf73e",
   "metadata": {},
   "outputs": [
    {
     "data": {
      "text/plain": [
       "DatetimeIndex(['2014-08-01 12:10:01', '2014-08-01 12:10:02',\n",
       "               '2014-08-01 12:10:03', '2014-08-01 12:10:04',\n",
       "               '2014-08-01 12:10:05', '2014-08-01 12:10:06',\n",
       "               '2014-08-01 12:10:07', '2014-08-01 12:10:08',\n",
       "               '2014-08-01 12:10:09', '2014-08-01 12:10:10'],\n",
       "              dtype='datetime64[ns]', freq='S')"
      ]
     },
     "execution_count": 139,
     "metadata": {},
     "output_type": "execute_result"
    }
   ],
   "source": [
    "# periods will use the frequency as the increment\n",
    "pd.date_range('2014-08-01 12:10:01', freq='S', periods=10)\n",
    "# start date and time dia\n",
    "# S: seconds frequency di\n",
    "# aik aik second ka increment hua\n"
   ]
  },
  {
   "cell_type": "code",
   "execution_count": 67,
   "id": "f36ded79-4c1e-4d31-b42f-442ca92d18fc",
   "metadata": {},
   "outputs": [],
   "source": [
    "# go to page = 358 for more frequencies and their details\n",
    "# Learning Pandas book - Michael Hyedet\n",
    "\n",
    "# Alias: Description\n",
    "# B: Business day frequency\n",
    "# C: Custom business day frequency\n",
    "# D: Calendar day frequency (the default)\n",
    "# W: Weekly frequency\n",
    "# M: Month end frequency\n",
    "# BM: Business month end frequency\n",
    "# CBM: Custom business month end frequency\n",
    "# MS: Month start frequency\n",
    "# BMS: Business month start frequency\n",
    "# CBMS: Custom business month start frequency\n",
    "# Q: Quarter end frequency\n",
    "# BQ: Business quarter frequency\n",
    "# QS: Quarter start frequency\n",
    "# BQS: Business quarter start frequency\n",
    "# A: Year end frequency\n",
    "# BA: Business year-end frequency\n",
    "# AS: Year start frequency\n",
    "# BAS: Business year start frequency\n",
    "# H: Hourly frequency\n",
    "# T: Minute-by-minute frequency\n",
    "# S: Second-by-second frequency\n",
    "# L: Milliseconds\n",
    "# U: Microseconds\n"
   ]
  },
  {
   "cell_type": "code",
   "execution_count": null,
   "id": "2d25bf9d-781c-4d31-ba14-149d69169f9a",
   "metadata": {},
   "outputs": [],
   "source": [
    "# tmaam ki tmaam frequencies ko aik bar khud sy kisi aik datset\n",
    "# pr zroor apply kr lena, is ka faida ye hta hay, k jab khud kia\n",
    "# hua ho tu acha yaad rehta hay\n"
   ]
  },
  {
   "cell_type": "markdown",
   "id": "d9aec393",
   "metadata": {},
   "source": [
    "# Calculating new dates using offsets\n",
    "\n",
    "Buisness intelligence par kaam krnay k liye ye bhht important hay\n",
    "\n",
    "\n",
    "pg = 360\n",
    "\n",
    "\n",
    "## Date offsets\n",
    "\n"
   ]
  },
  {
   "cell_type": "markdown",
   "id": "68497509-44e4-433b-a0ca-dff00c7c7827",
   "metadata": {},
   "source": [
    "Class Description\n",
    "DateOffset: Generic offset defaults to one calendar day\n",
    "BDay Business day\n",
    "CDay Custom business day\n",
    "Week One week, optionally anchored on a day of the week\n",
    "WeekOfMonth The x-th day of the y-th week of each month\n",
    "LastWeekOfMonth The x-th day of the last week of each month\n",
    "MonthEnd Calendar month end\n",
    "MonthBegin Calendar month start\n",
    "BMonthEnd Business month end\n",
    "BMonthBegin Business month start\n",
    "CBMonthEnd Custom business month end\n",
    "CBMonthBegin Custom business month start\n",
    "QuarterEnd Quarter end\n",
    "QuarterBegin Quarter start\n",
    "BQuarterEnd Business quarter end\n",
    "BQuarterBegin Business quarter start\n",
    "FYS253Quarter Retail (52-53 week) quarter\n",
    "YearEnd Calendar year end\n",
    "YearBegin Calendar year start\n",
    "BYearEnd Business quarter end\n",
    "BYearBegin Business quarter start\n",
    "FYS253 Retail (52-53 week) year\n",
    "Hour One hour\n",
    "Minute One minute\n",
    "Second One second\n",
    "Milli One millisecond\n",
    "Micro One microsecond\n"
   ]
  },
  {
   "cell_type": "code",
   "execution_count": 3,
   "id": "44943a1c",
   "metadata": {},
   "outputs": [
    {
     "data": {
      "text/plain": [
       "array(['2014-08-29T00:00:00.000000000', '2014-09-01T00:00:00.000000000',\n",
       "       '2014-09-02T00:00:00.000000000', '2014-09-03T00:00:00.000000000',\n",
       "       '2014-09-04T00:00:00.000000000', '2014-09-05T00:00:00.000000000'],\n",
       "      dtype='datetime64[ns]')"
      ]
     },
     "execution_count": 3,
     "metadata": {},
     "output_type": "execute_result"
    }
   ],
   "source": [
    "# get all business days between and inclusive of these two dates\n",
    "dti = pd.date_range('2014-08-29', '2014-09-05', freq='B')\n",
    "dti.values\n"
   ]
  },
  {
   "cell_type": "code",
   "execution_count": 4,
   "id": "d881e1d9",
   "metadata": {},
   "outputs": [
    {
     "data": {
      "text/plain": [
       "<BusinessDay>"
      ]
     },
     "execution_count": 4,
     "metadata": {},
     "output_type": "execute_result"
    }
   ],
   "source": [
    "dti.freq\n",
    "# is nay full-form bta di k ye buisness day frequency hay.\n",
    "# ye check kr lia kro, ho skta hay aap week ka end na daikho\n",
    "# or aap ko lgay k ye ti day-swise freq hay, but asal mn ho vo bi-monthly ya weekly \n",
    "# frequency\n"
   ]
  },
  {
   "cell_type": "markdown",
   "id": "a4c5df48-13ec-418d-b904-21d00858bda7",
   "metadata": {},
   "source": [
    "pandas takes this strategy of using DateOffset and its specializations to codify \n",
    "logic to calculate the next datetime from another datetime. This makes using these \n",
    "objects very flexible as well as powerful. DateOffset objects can be used in various \n",
    "scenarios, including the following:\n",
    "\n",
    "- They can be added/subtracted to/from a datetime object to obtain a \n",
    "shifted date\n",
    "\n",
    "- They can be multiplied by an integer (positive or negative) so that the \n",
    "increment will be applied multiple times\n",
    "\n",
    "- They have rollforward and rollback methods to move a date forward or \n",
    "backward to the next or previous \"offset date\"\n",
    "\n",
    "\n",
    "DateOffset objects can be created by passing them a datetime object that represents \n",
    "a fixed duration of time or using a number of keyword arguments. Keyword \n",
    "arguments fall into two general categories. The first category is keywords that \n",
    "represent absolute dates: year, month, day, hour, minute, second, and microsecond. \n",
    "The second category represents relative durations and can be negative values: years, \n",
    "months, weeks, day, hours, minutes, seconds, and microseconds.\n"
   ]
  },
  {
   "cell_type": "code",
   "execution_count": 142,
   "id": "c75cd725",
   "metadata": {},
   "outputs": [
    {
     "data": {
      "text/plain": [
       "Timestamp('2014-08-30 00:00:00')"
      ]
     },
     "execution_count": 142,
     "metadata": {},
     "output_type": "execute_result"
    }
   ],
   "source": [
    "# calculate a one day offset from 2014-8-29\n",
    "# The following creates a 1-day offset and adds it to datetime:\n",
    "\n",
    "d = datetime(2014, 8, 29)\n",
    "\n",
    "\n",
    "do = pd.DateOffset(days = 1)\n",
    "d + do\n",
    "\n",
    "# aik din offset ho gya\n"
   ]
  },
  {
   "cell_type": "code",
   "execution_count": 6,
   "id": "bb93a238",
   "metadata": {},
   "outputs": [
    {
     "data": {
      "text/plain": [
       "Timestamp('2014-08-28 00:00:00')"
      ]
     },
     "execution_count": 6,
     "metadata": {},
     "output_type": "execute_result"
    }
   ],
   "source": [
    "d = datetime(2014, 8, 25)\n",
    "\n",
    "\n",
    "do = pd.DateOffset(n=3)\n",
    "d + do\n",
    "\n",
    "\n"
   ]
  },
  {
   "cell_type": "code",
   "execution_count": 7,
   "id": "16a5f938-7ad1-46d4-a74f-51ad385fadf0",
   "metadata": {},
   "outputs": [
    {
     "data": {
      "text/plain": [
       "Timestamp('2014-08-26 00:00:00')"
      ]
     },
     "execution_count": 7,
     "metadata": {},
     "output_type": "execute_result"
    }
   ],
   "source": [
    "# The following calculates the next business day from a given date:\n",
    "\n",
    "# import the data offset types\n",
    "from pandas.tseries.offsets import *\n",
    "\n",
    "# calculate one business day from 2014-8-31\n",
    "d + BusinessDay()\n"
   ]
  },
  {
   "cell_type": "code",
   "execution_count": 8,
   "id": "f11a3189-39ad-4c69-a2f4-685f264ca033",
   "metadata": {},
   "outputs": [
    {
     "data": {
      "text/plain": [
       "Timestamp('2014-08-27 00:00:00')"
      ]
     },
     "execution_count": 8,
     "metadata": {},
     "output_type": "execute_result"
    }
   ],
   "source": [
    "# Multiple units of a specific DateOffset can be used using multiplication:\n",
    "\n",
    "# determine 2 business days from 2014-8-29\n",
    "d + 2 * BusinessDay()\n"
   ]
  },
  {
   "cell_type": "code",
   "execution_count": 150,
   "id": "cad370c1",
   "metadata": {},
   "outputs": [
    {
     "data": {
      "text/plain": [
       "Timestamp('2014-08-31 00:00:00')"
      ]
     },
     "execution_count": 150,
     "metadata": {},
     "output_type": "execute_result"
    }
   ],
   "source": [
    "d = datetime(2014, 8, 25)\n",
    "\n",
    "\n",
    "do = pd.offsets.MonthEnd()\n",
    "d + do\n"
   ]
  },
  {
   "cell_type": "code",
   "execution_count": 10,
   "id": "5e4e43e3",
   "metadata": {},
   "outputs": [
    {
     "data": {
      "text/plain": [
       "Timestamp('2014-08-29 00:00:00')"
      ]
     },
     "execution_count": 10,
     "metadata": {},
     "output_type": "execute_result"
    }
   ],
   "source": [
    "# The following demonstrates using a BMonthEnd object to calculate the last business \n",
    "# day of a month from a given date (in this case, 2014-09-02):\n",
    "\n",
    "# what is the next business month end\n",
    "# from a specific date?\n",
    "\n",
    "d + BMonthEnd()\n"
   ]
  },
  {
   "cell_type": "code",
   "execution_count": 15,
   "id": "cdd3c16b-6a87-4e0e-9c2d-6a018ae5c03f",
   "metadata": {},
   "outputs": [
    {
     "data": {
      "text/plain": [
       "Timestamp('2014-08-19 00:00:00')"
      ]
     },
     "execution_count": 15,
     "metadata": {},
     "output_type": "execute_result"
    }
   ],
   "source": [
    "# Several of the offset classes can be parameterized to provide finer control of the offset \n",
    "# behavior. As an example, the following calculates the date of the Tuesday (weekday \n",
    "# = 1) in the week prior to 2014-08-31:\n",
    "\n",
    "# calculate the date of the Tuesday previous\n",
    "# to a specified date \n",
    "\n",
    "d - Week(weekday = 1)\n",
    "\n",
    "# 0: to calculate date of monday \n"
   ]
  },
  {
   "cell_type": "markdown",
   "id": "83989bd6-cb0a-4d00-b508-5e6482e790ac",
   "metadata": {},
   "source": [
    "## Anchored offsets\n",
    "\n",
    "is chapter ko aagay khud parhnay ka kaha hay, next lec ki vid main daikhtay hain, shyd khud hi parha bhi dia ho\n"
   ]
  },
  {
   "cell_type": "code",
   "execution_count": null,
   "id": "ff02b4b8-2f52-4593-a5fc-449a5197d1a6",
   "metadata": {},
   "outputs": [],
   "source": [
    "# march main power BI ki workshop, data-visualization bhi hogi os mn, certificate bhi milay ga\n",
    "# current book ka current chapter or next visualization vla chapter khud say parhnay ka kaha hay\n",
    "# current book: Learning pandas - Michael Heydt\n",
    "\n",
    "# ye 2 books parhnay kaha hay\n",
    "# StatisticsMachineLearningPythonDraft\n",
    "# Matplotlib for Python Developers\n",
    "\n",
    "# see Q2 sir nasir data - datsets and books\n"
   ]
  },
  {
   "cell_type": "code",
   "execution_count": 16,
   "id": "38c4ea77-60a0-46aa-8c36-8d01f5d556f7",
   "metadata": {},
   "outputs": [],
   "source": [
    "# Aqsa Moiz k paas tmaam assignments k solutions hain\n"
   ]
  },
  {
   "cell_type": "code",
   "execution_count": 17,
   "id": "cbc0aebc-0e3e-44b3-afa0-0b8940e221ed",
   "metadata": {},
   "outputs": [],
   "source": [
    "# assignments zroor krna or jo practice datasets milay hoon on par bhi hath seedha zroor krna\n"
   ]
  },
  {
   "cell_type": "markdown",
   "id": "c8fa3689-901b-4ddb-8e57-52d78cbff009",
   "metadata": {},
   "source": [
    "# 25 Feb, 2023 Live Recording\n"
   ]
  },
  {
   "cell_type": "code",
   "execution_count": null,
   "id": "b1e01b36-9ac8-40fb-931e-c388bdc19060",
   "metadata": {},
   "outputs": [],
   "source": [
    "# assignemnts k muamlay aqsa k sath discuss krtay rahain. \n",
    "book -- notebook -- class work --\n"
   ]
  },
  {
   "cell_type": "markdown",
   "id": "dbddfcda-3203-4fec-bcdd-6f85345721b8",
   "metadata": {},
   "source": [
    "# Manipulating time-series data\n",
    "We will now examine several common operations that are performed on time-series \n",
    "data. These operations entail realigning data, changing the frequency of the samples \n",
    "and their values, and calculating aggregate results on continuously moving subsets \n",
    "of the data to determine the behavior of the values in the data as time changes. We \n",
    "will examine each of the following:\n",
    "- Shifting and lagging values to calculate percentage changes\n",
    "- Changing the frequency of the data in the time series\n",
    "- Up and down sampling of the intervals and values in the time series\n",
    "- Performing rolling-window calculations\n",
    "\n",
    "## Shifting and lagging\n",
    "A common operation on time-series data is to shift the values backward and forward \n",
    "in time. The pandas method for this is .shift(), which will shift values in Series or \n",
    "DataFrame a specified number of units of the index's frequency.\n",
    "\n",
    "To demonstrate shifting, we will use the following Series. This Series has five \n",
    "values, is indexed by date starting at 2014-08-01, and uses a daily frequency:\n"
   ]
  },
  {
   "cell_type": "code",
   "execution_count": 18,
   "id": "54f9e55b-b54f-44bb-9026-52ba692e11da",
   "metadata": {},
   "outputs": [],
   "source": [
    "# ye vala topic aagay krain gay Time Series Analysis k sath\n"
   ]
  },
  {
   "cell_type": "code",
   "execution_count": null,
   "id": "db48e677-2d8b-48ad-8870-57922e7fa949",
   "metadata": {},
   "outputs": [],
   "source": []
  },
  {
   "cell_type": "code",
   "execution_count": null,
   "id": "dc5f7c09-29e0-47ee-9b70-cc984d42969a",
   "metadata": {},
   "outputs": [],
   "source": []
  },
  {
   "cell_type": "code",
   "execution_count": null,
   "id": "31e1c006-e0d9-4135-ad64-2604c5642c07",
   "metadata": {},
   "outputs": [],
   "source": []
  },
  {
   "cell_type": "code",
   "execution_count": null,
   "id": "ea325bc7-1128-442c-a6b2-5282d48a677c",
   "metadata": {},
   "outputs": [],
   "source": []
  },
  {
   "cell_type": "code",
   "execution_count": null,
   "id": "ccfbe683-77f1-4a40-b4e5-8c8368f0a474",
   "metadata": {},
   "outputs": [],
   "source": []
  },
  {
   "cell_type": "code",
   "execution_count": null,
   "id": "eb0309e7-6641-4e28-a2c6-1f84601b8e85",
   "metadata": {},
   "outputs": [],
   "source": []
  },
  {
   "cell_type": "code",
   "execution_count": null,
   "id": "ce0ff5fd-b8ad-4540-9b1a-1076e97f1937",
   "metadata": {},
   "outputs": [],
   "source": []
  },
  {
   "cell_type": "code",
   "execution_count": null,
   "id": "65f00944-92b9-4b71-bbac-5c19d00bbda0",
   "metadata": {},
   "outputs": [],
   "source": []
  },
  {
   "cell_type": "code",
   "execution_count": null,
   "id": "4753fbbf-f802-49b1-9558-1fd69cf69aca",
   "metadata": {},
   "outputs": [],
   "source": []
  },
  {
   "cell_type": "code",
   "execution_count": null,
   "id": "3ac826b1-436b-4bc6-9137-541fb40be4e8",
   "metadata": {},
   "outputs": [],
   "source": []
  },
  {
   "cell_type": "code",
   "execution_count": null,
   "id": "a9d61ed7-20be-4d34-aff6-7455fca44a48",
   "metadata": {},
   "outputs": [],
   "source": []
  },
  {
   "cell_type": "code",
   "execution_count": null,
   "id": "41cf9c7e-a0cf-4d41-ad30-7a75f1265bba",
   "metadata": {},
   "outputs": [],
   "source": []
  }
 ],
 "metadata": {
  "kernelspec": {
   "display_name": "Python 3 (ipykernel)",
   "language": "python",
   "name": "python3"
  },
  "language_info": {
   "codemirror_mode": {
    "name": "ipython",
    "version": 3
   },
   "file_extension": ".py",
   "mimetype": "text/x-python",
   "name": "python",
   "nbconvert_exporter": "python",
   "pygments_lexer": "ipython3",
   "version": "3.10.0"
  }
 },
 "nbformat": 4,
 "nbformat_minor": 5
}
